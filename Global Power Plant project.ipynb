{
 "cells": [
  {
   "cell_type": "markdown",
   "id": "94fa2e92",
   "metadata": {},
   "source": [
    "# Dataset Description\n",
    "\n",
    "\n",
    "The Global Power Plant Database is a comprehensive, open source database of power plants around the world. It centralizes power plant data to make it easier to navigate, compare and draw insights for one’s own analysis. The database covers approximately 35,000 power plants from 167 countries and includes thermal plants (e.g. coal, gas, oil, nuclear, biomass, waste, geothermal) and renewables (e.g. hydro, wind, solar). Each power plant is geolocated and entries contain information on plant capacity, generation, ownership, and fuel type. It will be continuously updated as data becomes available.\n",
    "\n",
    "Key attributes of the database The database includes the following indicators:\n",
    "\n",
    "country (text): 3 character country code corresponding to the ISO 3166-1 alpha-3 specification\n",
    "\n",
    "country_long (text): longer form of the country\n",
    "\n",
    "designation name (text): name or title of the power plant, generally in Romanized form\n",
    "\n",
    "gppd_idnr (text): 10 or 12 character identifier for the power plant\n",
    "\n",
    "capacity_mw (number): electrical generating capacity in megawatts\n",
    "\n",
    "latitude (number): geolocation in decimal degrees; WGS84 (EPSG:4326)\n",
    "\n",
    "longitude (number): geolocation in decimal degrees; WGS84 (EPSG:4326)\n",
    "\n",
    "primary_fuel (text): energy source used in primary electricity generation or export\n",
    "\n",
    "other_fuel1 (text): energy source used in electricity generation or export\n",
    "\n",
    "other_fuel2 (text): energy source used in electricity generation or export\n",
    "\n",
    "other_fuel3 (text): energy source used in electricity generation or export\n",
    "\n",
    "commissioning_year (number): year of plant operation, weighted by unit-capacity when data is available\n",
    "\n",
    "owner (text): majority shareholder of the power plant, generally in Romanized form\n",
    "\n",
    "source (text): entity reporting the data; could be an organization, report, or document, generally in Romanized form\n",
    "\n",
    "url (text): web document corresponding to the source field\n",
    "\n",
    "geolocation_source (text): attribution for geolocation information\n",
    "\n",
    "wepp_id (text): a reference to a unique plant identifier in the widely-used PLATTS-WEPP database.\n",
    "\n",
    "year_of_capacity_data (number): year the capacity information was reported\n",
    "\n",
    "generation_gwh_2013 (number): electricity generation in gigawatt-hours reported for the year 2013\n",
    "\n",
    "generation_gwh_2014 (number): electricity generation in gigawatt-hours reported for the year 2014\n",
    "\n",
    "generation_gwh_2015 (number): electricity generation in gigawatt-hours reported for the year 2015\n",
    "\n",
    "generation_gwh_2016 (number): electricity generation in gigawatt-hours reported for the year 2016\n",
    "\n",
    "generation_gwh_2017 (number): electricity generation in gigawatt-hours reported for the year 2017\n",
    "\n",
    "generation_gwh_2018 (number): electricity generation in gigawatt-hours reported for the year 2018\n",
    "\n",
    "generation_gwh_2019 (number): electricity generation in gigawatt-hours reported for the year 2019\n",
    "\n",
    "generation_data_source (text): attribution for the reported generation information\n",
    "\n",
    "estimated_generation_gwh_2013 (number): estimated electricity generation in gigawatt-hours for the year 2013\n",
    "\n",
    "estimated_generation_gwh_2014 (number): estimated electricity generation in gigawatt-hours for the year 2014\n",
    "\n",
    "estimated_generation_gwh_2015 (number): estimated electricity generation in gigawatt-hours for the year 2015\n",
    "\n",
    "estimated_generation_gwh_2016 (number): estimated electricity generation in gigawatt-hours for the year 2016\n",
    "\n",
    "estimated_generation_gwh_2017 (number): estimated electricity generation in gigawatt-hours for the year 2017\n",
    "\n",
    "'estimated_generation_note_2013` (text): label of the model/method used to estimate generation for the year 2013\n",
    "\n",
    "estimated_generation_note_2014 (text): label of the model/method used to estimate generation for the year 2014\n",
    "\n",
    "estimated_generation_note_2015 (text): label of the model/method used to estimate generation for the year 2015\n",
    "\n",
    "estimated_generation_note_2016 (text): label of the model/method used to estimate generation for the year 2016\n",
    "\n",
    "estimated_generation_note_2017 (text): label of the model/method used to estimate generation for the year 2017\n",
    "\n",
    "We define the \"Fuel Type\" attribute of our database based on common fuel categories.\n",
    "\n",
    "\n",
    "\n",
    "# Prediction :\n",
    "\n",
    "Make two predictions: 1) Primary Fuel \n",
    "                      2) capacity_mw"
   ]
  },
  {
   "cell_type": "code",
   "execution_count": 1,
   "id": "da07fcac",
   "metadata": {},
   "outputs": [],
   "source": [
    "import pandas as pd\n",
    "import numpy as np\n",
    "import seaborn as sns\n",
    "import matplotlib.pyplot as plt\n",
    "import warnings\n",
    "warnings.filterwarnings('ignore')\n",
    "%matplotlib inline"
   ]
  },
  {
   "cell_type": "code",
   "execution_count": 2,
   "id": "46049f1d",
   "metadata": {},
   "outputs": [],
   "source": [
    "df = pd.read_csv(\"https://raw.githubusercontent.com/wri/global-power-plant-database/master/source_databases_csv/database_IND.csv\")"
   ]
  },
  {
   "cell_type": "code",
   "execution_count": 3,
   "id": "64d25feb",
   "metadata": {},
   "outputs": [
    {
     "data": {
      "text/html": [
       "<div>\n",
       "<style scoped>\n",
       "    .dataframe tbody tr th:only-of-type {\n",
       "        vertical-align: middle;\n",
       "    }\n",
       "\n",
       "    .dataframe tbody tr th {\n",
       "        vertical-align: top;\n",
       "    }\n",
       "\n",
       "    .dataframe thead th {\n",
       "        text-align: right;\n",
       "    }\n",
       "</style>\n",
       "<table border=\"1\" class=\"dataframe\">\n",
       "  <thead>\n",
       "    <tr style=\"text-align: right;\">\n",
       "      <th></th>\n",
       "      <th>country</th>\n",
       "      <th>country_long</th>\n",
       "      <th>name</th>\n",
       "      <th>gppd_idnr</th>\n",
       "      <th>capacity_mw</th>\n",
       "      <th>latitude</th>\n",
       "      <th>longitude</th>\n",
       "      <th>primary_fuel</th>\n",
       "      <th>other_fuel1</th>\n",
       "      <th>other_fuel2</th>\n",
       "      <th>...</th>\n",
       "      <th>geolocation_source</th>\n",
       "      <th>wepp_id</th>\n",
       "      <th>year_of_capacity_data</th>\n",
       "      <th>generation_gwh_2013</th>\n",
       "      <th>generation_gwh_2014</th>\n",
       "      <th>generation_gwh_2015</th>\n",
       "      <th>generation_gwh_2016</th>\n",
       "      <th>generation_gwh_2017</th>\n",
       "      <th>generation_data_source</th>\n",
       "      <th>estimated_generation_gwh</th>\n",
       "    </tr>\n",
       "  </thead>\n",
       "  <tbody>\n",
       "    <tr>\n",
       "      <th>0</th>\n",
       "      <td>IND</td>\n",
       "      <td>India</td>\n",
       "      <td>ACME Solar Tower</td>\n",
       "      <td>WRI1020239</td>\n",
       "      <td>2.5</td>\n",
       "      <td>28.1839</td>\n",
       "      <td>73.2407</td>\n",
       "      <td>Solar</td>\n",
       "      <td>NaN</td>\n",
       "      <td>NaN</td>\n",
       "      <td>...</td>\n",
       "      <td>National Renewable Energy Laboratory</td>\n",
       "      <td>NaN</td>\n",
       "      <td>NaN</td>\n",
       "      <td>NaN</td>\n",
       "      <td>NaN</td>\n",
       "      <td>NaN</td>\n",
       "      <td>NaN</td>\n",
       "      <td>NaN</td>\n",
       "      <td>NaN</td>\n",
       "      <td>NaN</td>\n",
       "    </tr>\n",
       "    <tr>\n",
       "      <th>1</th>\n",
       "      <td>IND</td>\n",
       "      <td>India</td>\n",
       "      <td>ADITYA CEMENT WORKS</td>\n",
       "      <td>WRI1019881</td>\n",
       "      <td>98.0</td>\n",
       "      <td>24.7663</td>\n",
       "      <td>74.6090</td>\n",
       "      <td>Coal</td>\n",
       "      <td>NaN</td>\n",
       "      <td>NaN</td>\n",
       "      <td>...</td>\n",
       "      <td>WRI</td>\n",
       "      <td>NaN</td>\n",
       "      <td>NaN</td>\n",
       "      <td>NaN</td>\n",
       "      <td>NaN</td>\n",
       "      <td>NaN</td>\n",
       "      <td>NaN</td>\n",
       "      <td>NaN</td>\n",
       "      <td>NaN</td>\n",
       "      <td>NaN</td>\n",
       "    </tr>\n",
       "    <tr>\n",
       "      <th>2</th>\n",
       "      <td>IND</td>\n",
       "      <td>India</td>\n",
       "      <td>AES Saurashtra Windfarms</td>\n",
       "      <td>WRI1026669</td>\n",
       "      <td>39.2</td>\n",
       "      <td>21.9038</td>\n",
       "      <td>69.3732</td>\n",
       "      <td>Wind</td>\n",
       "      <td>NaN</td>\n",
       "      <td>NaN</td>\n",
       "      <td>...</td>\n",
       "      <td>WRI</td>\n",
       "      <td>NaN</td>\n",
       "      <td>NaN</td>\n",
       "      <td>NaN</td>\n",
       "      <td>NaN</td>\n",
       "      <td>NaN</td>\n",
       "      <td>NaN</td>\n",
       "      <td>NaN</td>\n",
       "      <td>NaN</td>\n",
       "      <td>NaN</td>\n",
       "    </tr>\n",
       "    <tr>\n",
       "      <th>3</th>\n",
       "      <td>IND</td>\n",
       "      <td>India</td>\n",
       "      <td>AGARTALA GT</td>\n",
       "      <td>IND0000001</td>\n",
       "      <td>135.0</td>\n",
       "      <td>23.8712</td>\n",
       "      <td>91.3602</td>\n",
       "      <td>Gas</td>\n",
       "      <td>NaN</td>\n",
       "      <td>NaN</td>\n",
       "      <td>...</td>\n",
       "      <td>WRI</td>\n",
       "      <td>NaN</td>\n",
       "      <td>2018.0</td>\n",
       "      <td>631.777928</td>\n",
       "      <td>617.789264</td>\n",
       "      <td>843.747</td>\n",
       "      <td>886.004428</td>\n",
       "      <td>663.774500</td>\n",
       "      <td>Central Electricity Authority</td>\n",
       "      <td>NaN</td>\n",
       "    </tr>\n",
       "    <tr>\n",
       "      <th>4</th>\n",
       "      <td>IND</td>\n",
       "      <td>India</td>\n",
       "      <td>AKALTARA TPP</td>\n",
       "      <td>IND0000002</td>\n",
       "      <td>1800.0</td>\n",
       "      <td>21.9603</td>\n",
       "      <td>82.4091</td>\n",
       "      <td>Coal</td>\n",
       "      <td>Oil</td>\n",
       "      <td>NaN</td>\n",
       "      <td>...</td>\n",
       "      <td>WRI</td>\n",
       "      <td>NaN</td>\n",
       "      <td>2018.0</td>\n",
       "      <td>1668.290000</td>\n",
       "      <td>3035.550000</td>\n",
       "      <td>5916.370</td>\n",
       "      <td>6243.000000</td>\n",
       "      <td>5385.579736</td>\n",
       "      <td>Central Electricity Authority</td>\n",
       "      <td>NaN</td>\n",
       "    </tr>\n",
       "  </tbody>\n",
       "</table>\n",
       "<p>5 rows × 25 columns</p>\n",
       "</div>"
      ],
      "text/plain": [
       "  country country_long                      name   gppd_idnr  capacity_mw  \\\n",
       "0     IND        India          ACME Solar Tower  WRI1020239          2.5   \n",
       "1     IND        India       ADITYA CEMENT WORKS  WRI1019881         98.0   \n",
       "2     IND        India  AES Saurashtra Windfarms  WRI1026669         39.2   \n",
       "3     IND        India               AGARTALA GT  IND0000001        135.0   \n",
       "4     IND        India              AKALTARA TPP  IND0000002       1800.0   \n",
       "\n",
       "   latitude  longitude primary_fuel other_fuel1 other_fuel2  ...  \\\n",
       "0   28.1839    73.2407        Solar         NaN         NaN  ...   \n",
       "1   24.7663    74.6090         Coal         NaN         NaN  ...   \n",
       "2   21.9038    69.3732         Wind         NaN         NaN  ...   \n",
       "3   23.8712    91.3602          Gas         NaN         NaN  ...   \n",
       "4   21.9603    82.4091         Coal         Oil         NaN  ...   \n",
       "\n",
       "                     geolocation_source  wepp_id year_of_capacity_data  \\\n",
       "0  National Renewable Energy Laboratory      NaN                   NaN   \n",
       "1                                   WRI      NaN                   NaN   \n",
       "2                                   WRI      NaN                   NaN   \n",
       "3                                   WRI      NaN                2018.0   \n",
       "4                                   WRI      NaN                2018.0   \n",
       "\n",
       "  generation_gwh_2013 generation_gwh_2014 generation_gwh_2015  \\\n",
       "0                 NaN                 NaN                 NaN   \n",
       "1                 NaN                 NaN                 NaN   \n",
       "2                 NaN                 NaN                 NaN   \n",
       "3          631.777928          617.789264             843.747   \n",
       "4         1668.290000         3035.550000            5916.370   \n",
       "\n",
       "   generation_gwh_2016  generation_gwh_2017         generation_data_source  \\\n",
       "0                  NaN                  NaN                            NaN   \n",
       "1                  NaN                  NaN                            NaN   \n",
       "2                  NaN                  NaN                            NaN   \n",
       "3           886.004428           663.774500  Central Electricity Authority   \n",
       "4          6243.000000          5385.579736  Central Electricity Authority   \n",
       "\n",
       "   estimated_generation_gwh  \n",
       "0                       NaN  \n",
       "1                       NaN  \n",
       "2                       NaN  \n",
       "3                       NaN  \n",
       "4                       NaN  \n",
       "\n",
       "[5 rows x 25 columns]"
      ]
     },
     "execution_count": 3,
     "metadata": {},
     "output_type": "execute_result"
    }
   ],
   "source": [
    "df.head()"
   ]
  },
  {
   "cell_type": "markdown",
   "id": "c48ae66a",
   "metadata": {},
   "source": [
    "# Exploratory Data Analysis (EDA):"
   ]
  },
  {
   "cell_type": "code",
   "execution_count": 4,
   "id": "bdf7472f",
   "metadata": {},
   "outputs": [
    {
     "data": {
      "text/plain": [
       "(908, 25)"
      ]
     },
     "execution_count": 4,
     "metadata": {},
     "output_type": "execute_result"
    }
   ],
   "source": [
    "df.shape"
   ]
  },
  {
   "cell_type": "code",
   "execution_count": 5,
   "id": "e1791be8",
   "metadata": {},
   "outputs": [
    {
     "data": {
      "text/plain": [
       "country                       0\n",
       "country_long                  0\n",
       "name                          0\n",
       "gppd_idnr                     0\n",
       "capacity_mw                   0\n",
       "latitude                     46\n",
       "longitude                    46\n",
       "primary_fuel                  0\n",
       "other_fuel1                 709\n",
       "other_fuel2                 907\n",
       "other_fuel3                 908\n",
       "commissioning_year          380\n",
       "owner                       566\n",
       "source                        0\n",
       "url                           0\n",
       "geolocation_source           19\n",
       "wepp_id                     908\n",
       "year_of_capacity_data       388\n",
       "generation_gwh_2013         524\n",
       "generation_gwh_2014         507\n",
       "generation_gwh_2015         483\n",
       "generation_gwh_2016         471\n",
       "generation_gwh_2017         465\n",
       "generation_data_source      458\n",
       "estimated_generation_gwh    908\n",
       "dtype: int64"
      ]
     },
     "execution_count": 5,
     "metadata": {},
     "output_type": "execute_result"
    }
   ],
   "source": [
    "#checking for null values\n",
    "df.isnull().sum()"
   ]
  },
  {
   "cell_type": "markdown",
   "id": "cc0c42b1",
   "metadata": {},
   "source": [
    "#### columns 'other_fuel1','other_fuel2','other_fuel3','owner','wepp_id','estimated_generation_gwh' are having null values more than 60%"
   ]
  },
  {
   "cell_type": "code",
   "execution_count": 6,
   "id": "98e23123",
   "metadata": {},
   "outputs": [
    {
     "data": {
      "text/plain": [
       "country                      object\n",
       "country_long                 object\n",
       "name                         object\n",
       "gppd_idnr                    object\n",
       "capacity_mw                 float64\n",
       "latitude                    float64\n",
       "longitude                   float64\n",
       "primary_fuel                 object\n",
       "other_fuel1                  object\n",
       "other_fuel2                  object\n",
       "other_fuel3                 float64\n",
       "commissioning_year          float64\n",
       "owner                        object\n",
       "source                       object\n",
       "url                          object\n",
       "geolocation_source           object\n",
       "wepp_id                     float64\n",
       "year_of_capacity_data       float64\n",
       "generation_gwh_2013         float64\n",
       "generation_gwh_2014         float64\n",
       "generation_gwh_2015         float64\n",
       "generation_gwh_2016         float64\n",
       "generation_gwh_2017         float64\n",
       "generation_data_source       object\n",
       "estimated_generation_gwh    float64\n",
       "dtype: object"
      ]
     },
     "execution_count": 6,
     "metadata": {},
     "output_type": "execute_result"
    }
   ],
   "source": [
    "#checking data type\n",
    "df.dtypes"
   ]
  },
  {
   "cell_type": "code",
   "execution_count": 7,
   "id": "2a962734",
   "metadata": {},
   "outputs": [
    {
     "name": "stdout",
     "output_type": "stream",
     "text": [
      "<class 'pandas.core.frame.DataFrame'>\n",
      "RangeIndex: 908 entries, 0 to 907\n",
      "Data columns (total 25 columns):\n",
      " #   Column                    Non-Null Count  Dtype  \n",
      "---  ------                    --------------  -----  \n",
      " 0   country                   908 non-null    object \n",
      " 1   country_long              908 non-null    object \n",
      " 2   name                      908 non-null    object \n",
      " 3   gppd_idnr                 908 non-null    object \n",
      " 4   capacity_mw               908 non-null    float64\n",
      " 5   latitude                  862 non-null    float64\n",
      " 6   longitude                 862 non-null    float64\n",
      " 7   primary_fuel              908 non-null    object \n",
      " 8   other_fuel1               199 non-null    object \n",
      " 9   other_fuel2               1 non-null      object \n",
      " 10  other_fuel3               0 non-null      float64\n",
      " 11  commissioning_year        528 non-null    float64\n",
      " 12  owner                     342 non-null    object \n",
      " 13  source                    908 non-null    object \n",
      " 14  url                       908 non-null    object \n",
      " 15  geolocation_source        889 non-null    object \n",
      " 16  wepp_id                   0 non-null      float64\n",
      " 17  year_of_capacity_data     520 non-null    float64\n",
      " 18  generation_gwh_2013       384 non-null    float64\n",
      " 19  generation_gwh_2014       401 non-null    float64\n",
      " 20  generation_gwh_2015       425 non-null    float64\n",
      " 21  generation_gwh_2016       437 non-null    float64\n",
      " 22  generation_gwh_2017       443 non-null    float64\n",
      " 23  generation_data_source    450 non-null    object \n",
      " 24  estimated_generation_gwh  0 non-null      float64\n",
      "dtypes: float64(13), object(12)\n",
      "memory usage: 177.5+ KB\n"
     ]
    }
   ],
   "source": [
    "df.info()"
   ]
  },
  {
   "cell_type": "markdown",
   "id": "efeb520c",
   "metadata": {},
   "source": [
    "##### There are 12 object and 13 numerical columns in data"
   ]
  },
  {
   "cell_type": "markdown",
   "id": "3d38985a",
   "metadata": {},
   "source": [
    "# Data Preprocessing"
   ]
  },
  {
   "cell_type": "code",
   "execution_count": 8,
   "id": "ba39d9a5",
   "metadata": {},
   "outputs": [],
   "source": [
    "#Dropping the columns which are having null values more than 60% of the data\n",
    "df.drop(columns=['other_fuel1','other_fuel2','other_fuel3','owner','wepp_id','estimated_generation_gwh'],axis=1,inplace=True)"
   ]
  },
  {
   "cell_type": "code",
   "execution_count": 9,
   "id": "a3f8342b",
   "metadata": {},
   "outputs": [
    {
     "data": {
      "text/html": [
       "<div>\n",
       "<style scoped>\n",
       "    .dataframe tbody tr th:only-of-type {\n",
       "        vertical-align: middle;\n",
       "    }\n",
       "\n",
       "    .dataframe tbody tr th {\n",
       "        vertical-align: top;\n",
       "    }\n",
       "\n",
       "    .dataframe thead th {\n",
       "        text-align: right;\n",
       "    }\n",
       "</style>\n",
       "<table border=\"1\" class=\"dataframe\">\n",
       "  <thead>\n",
       "    <tr style=\"text-align: right;\">\n",
       "      <th></th>\n",
       "      <th>country</th>\n",
       "      <th>country_long</th>\n",
       "      <th>name</th>\n",
       "      <th>gppd_idnr</th>\n",
       "      <th>capacity_mw</th>\n",
       "      <th>latitude</th>\n",
       "      <th>longitude</th>\n",
       "      <th>primary_fuel</th>\n",
       "      <th>commissioning_year</th>\n",
       "      <th>source</th>\n",
       "      <th>url</th>\n",
       "      <th>geolocation_source</th>\n",
       "      <th>year_of_capacity_data</th>\n",
       "      <th>generation_gwh_2013</th>\n",
       "      <th>generation_gwh_2014</th>\n",
       "      <th>generation_gwh_2015</th>\n",
       "      <th>generation_gwh_2016</th>\n",
       "      <th>generation_gwh_2017</th>\n",
       "      <th>generation_data_source</th>\n",
       "    </tr>\n",
       "  </thead>\n",
       "  <tbody>\n",
       "    <tr>\n",
       "      <th>0</th>\n",
       "      <td>IND</td>\n",
       "      <td>India</td>\n",
       "      <td>ACME Solar Tower</td>\n",
       "      <td>WRI1020239</td>\n",
       "      <td>2.5</td>\n",
       "      <td>28.1839</td>\n",
       "      <td>73.2407</td>\n",
       "      <td>Solar</td>\n",
       "      <td>2011.0</td>\n",
       "      <td>National Renewable Energy Laboratory</td>\n",
       "      <td>http://www.nrel.gov/csp/solarpaces/project_det...</td>\n",
       "      <td>National Renewable Energy Laboratory</td>\n",
       "      <td>NaN</td>\n",
       "      <td>NaN</td>\n",
       "      <td>NaN</td>\n",
       "      <td>NaN</td>\n",
       "      <td>NaN</td>\n",
       "      <td>NaN</td>\n",
       "      <td>NaN</td>\n",
       "    </tr>\n",
       "    <tr>\n",
       "      <th>1</th>\n",
       "      <td>IND</td>\n",
       "      <td>India</td>\n",
       "      <td>ADITYA CEMENT WORKS</td>\n",
       "      <td>WRI1019881</td>\n",
       "      <td>98.0</td>\n",
       "      <td>24.7663</td>\n",
       "      <td>74.6090</td>\n",
       "      <td>Coal</td>\n",
       "      <td>NaN</td>\n",
       "      <td>Ultratech Cement ltd</td>\n",
       "      <td>http://www.ultratechcement.com/</td>\n",
       "      <td>WRI</td>\n",
       "      <td>NaN</td>\n",
       "      <td>NaN</td>\n",
       "      <td>NaN</td>\n",
       "      <td>NaN</td>\n",
       "      <td>NaN</td>\n",
       "      <td>NaN</td>\n",
       "      <td>NaN</td>\n",
       "    </tr>\n",
       "    <tr>\n",
       "      <th>2</th>\n",
       "      <td>IND</td>\n",
       "      <td>India</td>\n",
       "      <td>AES Saurashtra Windfarms</td>\n",
       "      <td>WRI1026669</td>\n",
       "      <td>39.2</td>\n",
       "      <td>21.9038</td>\n",
       "      <td>69.3732</td>\n",
       "      <td>Wind</td>\n",
       "      <td>NaN</td>\n",
       "      <td>CDM</td>\n",
       "      <td>https://cdm.unfccc.int/Projects/DB/DNV-CUK1328...</td>\n",
       "      <td>WRI</td>\n",
       "      <td>NaN</td>\n",
       "      <td>NaN</td>\n",
       "      <td>NaN</td>\n",
       "      <td>NaN</td>\n",
       "      <td>NaN</td>\n",
       "      <td>NaN</td>\n",
       "      <td>NaN</td>\n",
       "    </tr>\n",
       "    <tr>\n",
       "      <th>3</th>\n",
       "      <td>IND</td>\n",
       "      <td>India</td>\n",
       "      <td>AGARTALA GT</td>\n",
       "      <td>IND0000001</td>\n",
       "      <td>135.0</td>\n",
       "      <td>23.8712</td>\n",
       "      <td>91.3602</td>\n",
       "      <td>Gas</td>\n",
       "      <td>2004.0</td>\n",
       "      <td>Central Electricity Authority</td>\n",
       "      <td>http://www.cea.nic.in/</td>\n",
       "      <td>WRI</td>\n",
       "      <td>2018.0</td>\n",
       "      <td>631.777928</td>\n",
       "      <td>617.789264</td>\n",
       "      <td>843.747</td>\n",
       "      <td>886.004428</td>\n",
       "      <td>663.774500</td>\n",
       "      <td>Central Electricity Authority</td>\n",
       "    </tr>\n",
       "    <tr>\n",
       "      <th>4</th>\n",
       "      <td>IND</td>\n",
       "      <td>India</td>\n",
       "      <td>AKALTARA TPP</td>\n",
       "      <td>IND0000002</td>\n",
       "      <td>1800.0</td>\n",
       "      <td>21.9603</td>\n",
       "      <td>82.4091</td>\n",
       "      <td>Coal</td>\n",
       "      <td>2015.0</td>\n",
       "      <td>Central Electricity Authority</td>\n",
       "      <td>http://www.cea.nic.in/</td>\n",
       "      <td>WRI</td>\n",
       "      <td>2018.0</td>\n",
       "      <td>1668.290000</td>\n",
       "      <td>3035.550000</td>\n",
       "      <td>5916.370</td>\n",
       "      <td>6243.000000</td>\n",
       "      <td>5385.579736</td>\n",
       "      <td>Central Electricity Authority</td>\n",
       "    </tr>\n",
       "  </tbody>\n",
       "</table>\n",
       "</div>"
      ],
      "text/plain": [
       "  country country_long                      name   gppd_idnr  capacity_mw  \\\n",
       "0     IND        India          ACME Solar Tower  WRI1020239          2.5   \n",
       "1     IND        India       ADITYA CEMENT WORKS  WRI1019881         98.0   \n",
       "2     IND        India  AES Saurashtra Windfarms  WRI1026669         39.2   \n",
       "3     IND        India               AGARTALA GT  IND0000001        135.0   \n",
       "4     IND        India              AKALTARA TPP  IND0000002       1800.0   \n",
       "\n",
       "   latitude  longitude primary_fuel  commissioning_year  \\\n",
       "0   28.1839    73.2407        Solar              2011.0   \n",
       "1   24.7663    74.6090         Coal                 NaN   \n",
       "2   21.9038    69.3732         Wind                 NaN   \n",
       "3   23.8712    91.3602          Gas              2004.0   \n",
       "4   21.9603    82.4091         Coal              2015.0   \n",
       "\n",
       "                                 source  \\\n",
       "0  National Renewable Energy Laboratory   \n",
       "1                  Ultratech Cement ltd   \n",
       "2                                   CDM   \n",
       "3         Central Electricity Authority   \n",
       "4         Central Electricity Authority   \n",
       "\n",
       "                                                 url  \\\n",
       "0  http://www.nrel.gov/csp/solarpaces/project_det...   \n",
       "1                    http://www.ultratechcement.com/   \n",
       "2  https://cdm.unfccc.int/Projects/DB/DNV-CUK1328...   \n",
       "3                             http://www.cea.nic.in/   \n",
       "4                             http://www.cea.nic.in/   \n",
       "\n",
       "                     geolocation_source  year_of_capacity_data  \\\n",
       "0  National Renewable Energy Laboratory                    NaN   \n",
       "1                                   WRI                    NaN   \n",
       "2                                   WRI                    NaN   \n",
       "3                                   WRI                 2018.0   \n",
       "4                                   WRI                 2018.0   \n",
       "\n",
       "   generation_gwh_2013  generation_gwh_2014  generation_gwh_2015  \\\n",
       "0                  NaN                  NaN                  NaN   \n",
       "1                  NaN                  NaN                  NaN   \n",
       "2                  NaN                  NaN                  NaN   \n",
       "3           631.777928           617.789264              843.747   \n",
       "4          1668.290000          3035.550000             5916.370   \n",
       "\n",
       "   generation_gwh_2016  generation_gwh_2017         generation_data_source  \n",
       "0                  NaN                  NaN                            NaN  \n",
       "1                  NaN                  NaN                            NaN  \n",
       "2                  NaN                  NaN                            NaN  \n",
       "3           886.004428           663.774500  Central Electricity Authority  \n",
       "4          6243.000000          5385.579736  Central Electricity Authority  "
      ]
     },
     "execution_count": 9,
     "metadata": {},
     "output_type": "execute_result"
    }
   ],
   "source": [
    "df.head()"
   ]
  },
  {
   "cell_type": "code",
   "execution_count": 10,
   "id": "e0ab70c4",
   "metadata": {},
   "outputs": [
    {
     "data": {
      "text/plain": [
       "(908, 19)"
      ]
     },
     "execution_count": 10,
     "metadata": {},
     "output_type": "execute_result"
    }
   ],
   "source": [
    "df.shape"
   ]
  },
  {
   "cell_type": "code",
   "execution_count": 11,
   "id": "e0cf0dea",
   "metadata": {},
   "outputs": [
    {
     "data": {
      "text/plain": [
       "country                     0\n",
       "country_long                0\n",
       "name                        0\n",
       "gppd_idnr                   0\n",
       "capacity_mw                 0\n",
       "latitude                   46\n",
       "longitude                  46\n",
       "primary_fuel                0\n",
       "commissioning_year        380\n",
       "source                      0\n",
       "url                         0\n",
       "geolocation_source         19\n",
       "year_of_capacity_data     388\n",
       "generation_gwh_2013       524\n",
       "generation_gwh_2014       507\n",
       "generation_gwh_2015       483\n",
       "generation_gwh_2016       471\n",
       "generation_gwh_2017       465\n",
       "generation_data_source    458\n",
       "dtype: int64"
      ]
     },
     "execution_count": 11,
     "metadata": {},
     "output_type": "execute_result"
    }
   ],
   "source": [
    "df.isnull().sum()"
   ]
  },
  {
   "cell_type": "code",
   "execution_count": 12,
   "id": "2006649e",
   "metadata": {},
   "outputs": [
    {
     "data": {
      "text/html": [
       "<div>\n",
       "<style scoped>\n",
       "    .dataframe tbody tr th:only-of-type {\n",
       "        vertical-align: middle;\n",
       "    }\n",
       "\n",
       "    .dataframe tbody tr th {\n",
       "        vertical-align: top;\n",
       "    }\n",
       "\n",
       "    .dataframe thead th {\n",
       "        text-align: right;\n",
       "    }\n",
       "</style>\n",
       "<table border=\"1\" class=\"dataframe\">\n",
       "  <thead>\n",
       "    <tr style=\"text-align: right;\">\n",
       "      <th></th>\n",
       "      <th>capacity_mw</th>\n",
       "      <th>latitude</th>\n",
       "      <th>longitude</th>\n",
       "      <th>commissioning_year</th>\n",
       "      <th>year_of_capacity_data</th>\n",
       "      <th>generation_gwh_2013</th>\n",
       "      <th>generation_gwh_2014</th>\n",
       "      <th>generation_gwh_2015</th>\n",
       "      <th>generation_gwh_2016</th>\n",
       "      <th>generation_gwh_2017</th>\n",
       "    </tr>\n",
       "  </thead>\n",
       "  <tbody>\n",
       "    <tr>\n",
       "      <th>count</th>\n",
       "      <td>908.000000</td>\n",
       "      <td>862.000000</td>\n",
       "      <td>862.000000</td>\n",
       "      <td>528.000000</td>\n",
       "      <td>520.0</td>\n",
       "      <td>384.000000</td>\n",
       "      <td>401.000000</td>\n",
       "      <td>425.000000</td>\n",
       "      <td>437.000000</td>\n",
       "      <td>443.000000</td>\n",
       "    </tr>\n",
       "    <tr>\n",
       "      <th>mean</th>\n",
       "      <td>321.046378</td>\n",
       "      <td>21.196189</td>\n",
       "      <td>77.447848</td>\n",
       "      <td>1996.876894</td>\n",
       "      <td>2018.0</td>\n",
       "      <td>2304.059202</td>\n",
       "      <td>2420.393316</td>\n",
       "      <td>2414.072373</td>\n",
       "      <td>2453.936292</td>\n",
       "      <td>2531.754458</td>\n",
       "    </tr>\n",
       "    <tr>\n",
       "      <th>std</th>\n",
       "      <td>580.221767</td>\n",
       "      <td>6.248627</td>\n",
       "      <td>4.907260</td>\n",
       "      <td>17.047817</td>\n",
       "      <td>0.0</td>\n",
       "      <td>3794.767492</td>\n",
       "      <td>4013.558173</td>\n",
       "      <td>4183.203199</td>\n",
       "      <td>4152.038216</td>\n",
       "      <td>4187.236364</td>\n",
       "    </tr>\n",
       "    <tr>\n",
       "      <th>min</th>\n",
       "      <td>0.000000</td>\n",
       "      <td>8.168900</td>\n",
       "      <td>68.644700</td>\n",
       "      <td>1927.000000</td>\n",
       "      <td>2018.0</td>\n",
       "      <td>0.000000</td>\n",
       "      <td>0.000000</td>\n",
       "      <td>0.000000</td>\n",
       "      <td>0.000000</td>\n",
       "      <td>0.000000</td>\n",
       "    </tr>\n",
       "    <tr>\n",
       "      <th>25%</th>\n",
       "      <td>16.837500</td>\n",
       "      <td>16.771575</td>\n",
       "      <td>74.258975</td>\n",
       "      <td>1988.000000</td>\n",
       "      <td>2018.0</td>\n",
       "      <td>244.458088</td>\n",
       "      <td>223.650436</td>\n",
       "      <td>174.174750</td>\n",
       "      <td>187.193669</td>\n",
       "      <td>177.643170</td>\n",
       "    </tr>\n",
       "    <tr>\n",
       "      <th>50%</th>\n",
       "      <td>60.000000</td>\n",
       "      <td>21.778300</td>\n",
       "      <td>76.719250</td>\n",
       "      <td>2000.000000</td>\n",
       "      <td>2018.0</td>\n",
       "      <td>797.063475</td>\n",
       "      <td>805.760000</td>\n",
       "      <td>701.027250</td>\n",
       "      <td>716.728350</td>\n",
       "      <td>807.601700</td>\n",
       "    </tr>\n",
       "    <tr>\n",
       "      <th>75%</th>\n",
       "      <td>388.125000</td>\n",
       "      <td>25.516375</td>\n",
       "      <td>79.441475</td>\n",
       "      <td>2011.250000</td>\n",
       "      <td>2018.0</td>\n",
       "      <td>2795.021500</td>\n",
       "      <td>3034.575000</td>\n",
       "      <td>3080.000000</td>\n",
       "      <td>3263.483000</td>\n",
       "      <td>3258.785000</td>\n",
       "    </tr>\n",
       "    <tr>\n",
       "      <th>max</th>\n",
       "      <td>4760.000000</td>\n",
       "      <td>34.649000</td>\n",
       "      <td>95.408000</td>\n",
       "      <td>2018.000000</td>\n",
       "      <td>2018.0</td>\n",
       "      <td>27586.200000</td>\n",
       "      <td>28127.000000</td>\n",
       "      <td>30539.000000</td>\n",
       "      <td>30015.000000</td>\n",
       "      <td>35116.000000</td>\n",
       "    </tr>\n",
       "  </tbody>\n",
       "</table>\n",
       "</div>"
      ],
      "text/plain": [
       "       capacity_mw    latitude   longitude  commissioning_year  \\\n",
       "count   908.000000  862.000000  862.000000          528.000000   \n",
       "mean    321.046378   21.196189   77.447848         1996.876894   \n",
       "std     580.221767    6.248627    4.907260           17.047817   \n",
       "min       0.000000    8.168900   68.644700         1927.000000   \n",
       "25%      16.837500   16.771575   74.258975         1988.000000   \n",
       "50%      60.000000   21.778300   76.719250         2000.000000   \n",
       "75%     388.125000   25.516375   79.441475         2011.250000   \n",
       "max    4760.000000   34.649000   95.408000         2018.000000   \n",
       "\n",
       "       year_of_capacity_data  generation_gwh_2013  generation_gwh_2014  \\\n",
       "count                  520.0           384.000000           401.000000   \n",
       "mean                  2018.0          2304.059202          2420.393316   \n",
       "std                      0.0          3794.767492          4013.558173   \n",
       "min                   2018.0             0.000000             0.000000   \n",
       "25%                   2018.0           244.458088           223.650436   \n",
       "50%                   2018.0           797.063475           805.760000   \n",
       "75%                   2018.0          2795.021500          3034.575000   \n",
       "max                   2018.0         27586.200000         28127.000000   \n",
       "\n",
       "       generation_gwh_2015  generation_gwh_2016  generation_gwh_2017  \n",
       "count           425.000000           437.000000           443.000000  \n",
       "mean           2414.072373          2453.936292          2531.754458  \n",
       "std            4183.203199          4152.038216          4187.236364  \n",
       "min               0.000000             0.000000             0.000000  \n",
       "25%             174.174750           187.193669           177.643170  \n",
       "50%             701.027250           716.728350           807.601700  \n",
       "75%            3080.000000          3263.483000          3258.785000  \n",
       "max           30539.000000         30015.000000         35116.000000  "
      ]
     },
     "execution_count": 12,
     "metadata": {},
     "output_type": "execute_result"
    }
   ],
   "source": [
    "df.describe()"
   ]
  },
  {
   "cell_type": "code",
   "execution_count": 13,
   "id": "0aedbe69",
   "metadata": {},
   "outputs": [
    {
     "data": {
      "text/plain": [
       "1"
      ]
     },
     "execution_count": 13,
     "metadata": {},
     "output_type": "execute_result"
    }
   ],
   "source": [
    "df['year_of_capacity_data'].nunique()"
   ]
  },
  {
   "cell_type": "markdown",
   "id": "b1526b76",
   "metadata": {},
   "source": [
    "### Removing column \"year of capacity data because it having one unique value\""
   ]
  },
  {
   "cell_type": "code",
   "execution_count": 14,
   "id": "0f5c4ccf",
   "metadata": {},
   "outputs": [
    {
     "data": {
      "text/plain": [
       "array(['National Renewable Energy Laboratory', 'WRI', nan,\n",
       "       'Industry About'], dtype=object)"
      ]
     },
     "execution_count": 14,
     "metadata": {},
     "output_type": "execute_result"
    }
   ],
   "source": [
    "df['geolocation_source'].unique()"
   ]
  },
  {
   "cell_type": "code",
   "execution_count": 15,
   "id": "bf7da036",
   "metadata": {},
   "outputs": [],
   "source": [
    "# filling geolocation_source with mode because category data\n",
    "df['geolocation_source'].fillna(df['geolocation_source'].mode()[0], inplace=True)"
   ]
  },
  {
   "cell_type": "code",
   "execution_count": 16,
   "id": "0a9d4951",
   "metadata": {},
   "outputs": [],
   "source": [
    "# removing 'year_of_capacity_data' column\n",
    "df.drop('year_of_capacity_data',axis=1,inplace=True)"
   ]
  },
  {
   "cell_type": "code",
   "execution_count": 17,
   "id": "9c539e22",
   "metadata": {},
   "outputs": [],
   "source": [
    "# filling null values with median in numerical columns\n",
    "df.fillna(df.median()[0], inplace=True)"
   ]
  },
  {
   "cell_type": "code",
   "execution_count": 18,
   "id": "0d0f7c23",
   "metadata": {},
   "outputs": [],
   "source": [
    "# filling null values with median in numerical columns\n",
    "df.fillna(df.median()[0], inplace=True)"
   ]
  },
  {
   "cell_type": "code",
   "execution_count": 19,
   "id": "357e8859",
   "metadata": {},
   "outputs": [
    {
     "data": {
      "text/plain": [
       "country                   0\n",
       "country_long              0\n",
       "name                      0\n",
       "gppd_idnr                 0\n",
       "capacity_mw               0\n",
       "latitude                  0\n",
       "longitude                 0\n",
       "primary_fuel              0\n",
       "commissioning_year        0\n",
       "source                    0\n",
       "url                       0\n",
       "geolocation_source        0\n",
       "generation_gwh_2013       0\n",
       "generation_gwh_2014       0\n",
       "generation_gwh_2015       0\n",
       "generation_gwh_2016       0\n",
       "generation_gwh_2017       0\n",
       "generation_data_source    0\n",
       "dtype: int64"
      ]
     },
     "execution_count": 19,
     "metadata": {},
     "output_type": "execute_result"
    }
   ],
   "source": [
    "df.isnull().sum()"
   ]
  },
  {
   "cell_type": "markdown",
   "id": "82e8c409",
   "metadata": {},
   "source": [
    "#### Droping some columns which is not nessesory"
   ]
  },
  {
   "cell_type": "code",
   "execution_count": 75,
   "id": "50a4d4b8",
   "metadata": {},
   "outputs": [],
   "source": [
    "df.drop(columns=['country','country_long''url','gppd_idnr','name','commissioning_year','generation_data_source'],axis=1,inplace=True)"
   ]
  },
  {
   "cell_type": "code",
   "execution_count": 21,
   "id": "c83c0a56",
   "metadata": {},
   "outputs": [
    {
     "name": "stdout",
     "output_type": "stream",
     "text": [
      "<class 'pandas.core.frame.DataFrame'>\n",
      "RangeIndex: 908 entries, 0 to 907\n",
      "Data columns (total 16 columns):\n",
      " #   Column                  Non-Null Count  Dtype  \n",
      "---  ------                  --------------  -----  \n",
      " 0   name                    908 non-null    object \n",
      " 1   gppd_idnr               908 non-null    object \n",
      " 2   capacity_mw             908 non-null    float64\n",
      " 3   latitude                908 non-null    float64\n",
      " 4   longitude               908 non-null    float64\n",
      " 5   primary_fuel            908 non-null    object \n",
      " 6   commissioning_year      908 non-null    float64\n",
      " 7   source                  908 non-null    object \n",
      " 8   url                     908 non-null    object \n",
      " 9   geolocation_source      908 non-null    object \n",
      " 10  generation_gwh_2013     908 non-null    float64\n",
      " 11  generation_gwh_2014     908 non-null    float64\n",
      " 12  generation_gwh_2015     908 non-null    float64\n",
      " 13  generation_gwh_2016     908 non-null    float64\n",
      " 14  generation_gwh_2017     908 non-null    float64\n",
      " 15  generation_data_source  908 non-null    object \n",
      "dtypes: float64(9), object(7)\n",
      "memory usage: 113.6+ KB\n"
     ]
    }
   ],
   "source": [
    "df.info()"
   ]
  },
  {
   "cell_type": "code",
   "execution_count": 22,
   "id": "06362039",
   "metadata": {},
   "outputs": [
    {
     "data": {
      "text/plain": [
       "(908, 16)"
      ]
     },
     "execution_count": 22,
     "metadata": {},
     "output_type": "execute_result"
    }
   ],
   "source": [
    "df.shape"
   ]
  },
  {
   "cell_type": "code",
   "execution_count": 23,
   "id": "6de7e4ff",
   "metadata": {},
   "outputs": [
    {
     "data": {
      "text/plain": [
       "name                      0\n",
       "gppd_idnr                 0\n",
       "capacity_mw               0\n",
       "latitude                  0\n",
       "longitude                 0\n",
       "primary_fuel              0\n",
       "commissioning_year        0\n",
       "source                    0\n",
       "url                       0\n",
       "geolocation_source        0\n",
       "generation_gwh_2013       0\n",
       "generation_gwh_2014       0\n",
       "generation_gwh_2015       0\n",
       "generation_gwh_2016       0\n",
       "generation_gwh_2017       0\n",
       "generation_data_source    0\n",
       "dtype: int64"
      ]
     },
     "execution_count": 23,
     "metadata": {},
     "output_type": "execute_result"
    }
   ],
   "source": [
    "df.isnull().sum()"
   ]
  },
  {
   "cell_type": "markdown",
   "id": "a077ea48",
   "metadata": {},
   "source": [
    "## There are no more null values in the dataframe."
   ]
  },
  {
   "cell_type": "markdown",
   "id": "32776624",
   "metadata": {},
   "source": [
    "### Analyizing Target variable"
   ]
  },
  {
   "cell_type": "code",
   "execution_count": 24,
   "id": "047d5a54",
   "metadata": {},
   "outputs": [
    {
     "data": {
      "text/plain": [
       "array(['Solar', 'Coal', 'Wind', 'Gas', 'Hydro', 'Biomass', 'Oil',\n",
       "       'Nuclear'], dtype=object)"
      ]
     },
     "execution_count": 24,
     "metadata": {},
     "output_type": "execute_result"
    }
   ],
   "source": [
    "df.primary_fuel.unique()"
   ]
  },
  {
   "cell_type": "code",
   "execution_count": 25,
   "id": "b484e256",
   "metadata": {},
   "outputs": [
    {
     "data": {
      "image/png": "[encoded data removed]",
      "text/plain": [
       "<Figure size 720x432 with 1 Axes>"
      ]
     },
     "metadata": {
      "needs_background": "light"
     },
     "output_type": "display_data"
    }
   ],
   "source": [
    "plt.figure(figsize=(10,6))\n",
    "sns.set_style(\"whitegrid\")\n",
    "sns.countplot(x=\"primary_fuel\", data=df)\n",
    "plt.show()"
   ]
  },
  {
   "cell_type": "markdown",
   "id": "b1968b89",
   "metadata": {},
   "source": [
    "#### There are 8 unique categories in primary_fuel,Out of which 'Coal' and 'Hydro' are maximum"
   ]
  },
  {
   "cell_type": "code",
   "execution_count": 26,
   "id": "3e33d4c8",
   "metadata": {},
   "outputs": [
    {
     "data": {
      "text/plain": [
       "Coal       259\n",
       "Hydro      250\n",
       "Solar      127\n",
       "Wind       123\n",
       "Gas         69\n",
       "Biomass     50\n",
       "Oil         21\n",
       "Nuclear      9\n",
       "Name: primary_fuel, dtype: int64"
      ]
     },
     "execution_count": 26,
     "metadata": {},
     "output_type": "execute_result"
    }
   ],
   "source": [
    "df.primary_fuel.value_counts()"
   ]
  },
  {
   "cell_type": "code",
   "execution_count": 27,
   "id": "0223c019",
   "metadata": {},
   "outputs": [
    {
     "data": {
      "image/png": "[encoded data removed]",
      "text/plain": [
       "<Figure size 576x432 with 1 Axes>"
      ]
     },
     "metadata": {},
     "output_type": "display_data"
    }
   ],
   "source": [
    "plt.figure(figsize=(8,6))\n",
    "sns.barplot(x=\"primary_fuel\",y=\"capacity_mw\", data=df)\n",
    "plt.show()"
   ]
  },
  {
   "cell_type": "code",
   "execution_count": 28,
   "id": "132c0bb0",
   "metadata": {},
   "outputs": [
    {
     "data": {
      "image/png": "[encoded data removed]",
      "text/plain": [
       "<Figure size 576x432 with 1 Axes>"
      ]
     },
     "metadata": {},
     "output_type": "display_data"
    }
   ],
   "source": [
    "plt.figure(figsize=(8,6))\n",
    "sns.barplot(x=\"primary_fuel\",y=\"latitude\", data=df)\n",
    "plt.show()"
   ]
  },
  {
   "cell_type": "code",
   "execution_count": 29,
   "id": "4da9ef92",
   "metadata": {},
   "outputs": [
    {
     "data": {
      "image/png": "[encoded data removed]",
      "text/plain": [
       "<Figure size 576x432 with 1 Axes>"
      ]
     },
     "metadata": {},
     "output_type": "display_data"
    }
   ],
   "source": [
    "plt.figure(figsize=(8,6))\n",
    "sns.barplot(x=\"primary_fuel\",y=\"longitude\", data=df)\n",
    "plt.show()"
   ]
  },
  {
   "cell_type": "code",
   "execution_count": 30,
   "id": "41f3484b",
   "metadata": {},
   "outputs": [
    {
     "data": {
      "image/png": "[encoded data removed]",
      "text/plain": [
       "<Figure size 576x432 with 1 Axes>"
      ]
     },
     "metadata": {},
     "output_type": "display_data"
    }
   ],
   "source": [
    "plt.figure(figsize=(8,6))\n",
    "sns.barplot(x=\"primary_fuel\",y=\"generation_gwh_2013\", data=df)\n",
    "plt.show()"
   ]
  },
  {
   "cell_type": "markdown",
   "id": "ba17105d",
   "metadata": {},
   "source": [
    "####  Nuclear is most used fuel in 2013 and coal,Gas and hydro on average use and Solar,Wind Bomass nad oil was very less used"
   ]
  },
  {
   "cell_type": "code",
   "execution_count": 31,
   "id": "ed1e7839",
   "metadata": {},
   "outputs": [
    {
     "data": {
      "image/png": "[encoded data removed]",
      "text/plain": [
       "<Figure size 576x432 with 1 Axes>"
      ]
     },
     "metadata": {},
     "output_type": "display_data"
    }
   ],
   "source": [
    "plt.figure(figsize=(8,6))\n",
    "sns.barplot(x=\"primary_fuel\",y=\"generation_gwh_2014\", data=df)\n",
    "plt.show()"
   ]
  },
  {
   "cell_type": "code",
   "execution_count": 32,
   "id": "0bd970f4",
   "metadata": {},
   "outputs": [
    {
     "data": {
      "image/png": "[encoded data removed]",
      "text/plain": [
       "<Figure size 576x432 with 1 Axes>"
      ]
     },
     "metadata": {},
     "output_type": "display_data"
    }
   ],
   "source": [
    "plt.figure(figsize=(8,6))\n",
    "sns.barplot(x=\"primary_fuel\",y=\"generation_gwh_2015\", data=df)\n",
    "plt.show()"
   ]
  },
  {
   "cell_type": "code",
   "execution_count": 33,
   "id": "63947683",
   "metadata": {},
   "outputs": [
    {
     "data": {
      "image/png": "[encoded data removed]",
      "text/plain": [
       "<Figure size 576x432 with 1 Axes>"
      ]
     },
     "metadata": {},
     "output_type": "display_data"
    }
   ],
   "source": [
    "plt.figure(figsize=(8,6))\n",
    "sns.barplot(x=\"primary_fuel\",y=\"generation_gwh_2016\", data=df)\n",
    "plt.show()"
   ]
  },
  {
   "cell_type": "code",
   "execution_count": 34,
   "id": "031ef21d",
   "metadata": {},
   "outputs": [
    {
     "data": {
      "image/png": "[encoded data removed]",
      "text/plain": [
       "<Figure size 576x432 with 1 Axes>"
      ]
     },
     "metadata": {},
     "output_type": "display_data"
    }
   ],
   "source": [
    "plt.figure(figsize=(8,6))\n",
    "sns.barplot(x=\"primary_fuel\",y=\"generation_gwh_2017\", data=df)\n",
    "plt.show()"
   ]
  },
  {
   "cell_type": "markdown",
   "id": "4324f227",
   "metadata": {},
   "source": [
    "### Statistical Summary of Data:"
   ]
  },
  {
   "cell_type": "code",
   "execution_count": 36,
   "id": "a071ce98",
   "metadata": {},
   "outputs": [
    {
     "data": {
      "text/html": [
       "<div>\n",
       "<style scoped>\n",
       "    .dataframe tbody tr th:only-of-type {\n",
       "        vertical-align: middle;\n",
       "    }\n",
       "\n",
       "    .dataframe tbody tr th {\n",
       "        vertical-align: top;\n",
       "    }\n",
       "\n",
       "    .dataframe thead th {\n",
       "        text-align: right;\n",
       "    }\n",
       "</style>\n",
       "<table border=\"1\" class=\"dataframe\">\n",
       "  <thead>\n",
       "    <tr style=\"text-align: right;\">\n",
       "      <th></th>\n",
       "      <th>capacity_mw</th>\n",
       "      <th>latitude</th>\n",
       "      <th>longitude</th>\n",
       "      <th>commissioning_year</th>\n",
       "      <th>generation_gwh_2013</th>\n",
       "      <th>generation_gwh_2014</th>\n",
       "      <th>generation_gwh_2015</th>\n",
       "      <th>generation_gwh_2016</th>\n",
       "      <th>generation_gwh_2017</th>\n",
       "    </tr>\n",
       "  </thead>\n",
       "  <tbody>\n",
       "    <tr>\n",
       "      <th>count</th>\n",
       "      <td>908.000000</td>\n",
       "      <td>908.000000</td>\n",
       "      <td>908.000000</td>\n",
       "      <td>908.000000</td>\n",
       "      <td>908.000000</td>\n",
       "      <td>908.000000</td>\n",
       "      <td>908.000000</td>\n",
       "      <td>908.000000</td>\n",
       "      <td>908.000000</td>\n",
       "    </tr>\n",
       "    <tr>\n",
       "      <th>mean</th>\n",
       "      <td>321.046378</td>\n",
       "      <td>23.162021</td>\n",
       "      <td>76.563926</td>\n",
       "      <td>1186.289648</td>\n",
       "      <td>1009.029442</td>\n",
       "      <td>1102.420396</td>\n",
       "      <td>1161.851056</td>\n",
       "      <td>1212.147753</td>\n",
       "      <td>1265.933067</td>\n",
       "    </tr>\n",
       "    <tr>\n",
       "      <th>std</th>\n",
       "      <td>580.221767</td>\n",
       "      <td>10.467197</td>\n",
       "      <td>6.125132</td>\n",
       "      <td>956.102221</td>\n",
       "      <td>2703.921589</td>\n",
       "      <td>2911.965280</td>\n",
       "      <td>3092.202997</td>\n",
       "      <td>3117.593315</td>\n",
       "      <td>3173.696579</td>\n",
       "    </tr>\n",
       "    <tr>\n",
       "      <th>min</th>\n",
       "      <td>0.000000</td>\n",
       "      <td>8.168900</td>\n",
       "      <td>60.000000</td>\n",
       "      <td>60.000000</td>\n",
       "      <td>0.000000</td>\n",
       "      <td>0.000000</td>\n",
       "      <td>0.000000</td>\n",
       "      <td>0.000000</td>\n",
       "      <td>0.000000</td>\n",
       "    </tr>\n",
       "    <tr>\n",
       "      <th>25%</th>\n",
       "      <td>16.837500</td>\n",
       "      <td>17.057825</td>\n",
       "      <td>73.812975</td>\n",
       "      <td>60.000000</td>\n",
       "      <td>60.000000</td>\n",
       "      <td>60.000000</td>\n",
       "      <td>60.000000</td>\n",
       "      <td>60.000000</td>\n",
       "      <td>60.000000</td>\n",
       "    </tr>\n",
       "    <tr>\n",
       "      <th>50%</th>\n",
       "      <td>60.000000</td>\n",
       "      <td>22.137800</td>\n",
       "      <td>76.492900</td>\n",
       "      <td>1978.000000</td>\n",
       "      <td>60.000000</td>\n",
       "      <td>60.000000</td>\n",
       "      <td>60.000000</td>\n",
       "      <td>60.000000</td>\n",
       "      <td>60.000000</td>\n",
       "    </tr>\n",
       "    <tr>\n",
       "      <th>75%</th>\n",
       "      <td>388.125000</td>\n",
       "      <td>26.740475</td>\n",
       "      <td>79.211600</td>\n",
       "      <td>2003.000000</td>\n",
       "      <td>470.116200</td>\n",
       "      <td>570.095213</td>\n",
       "      <td>605.769975</td>\n",
       "      <td>669.808766</td>\n",
       "      <td>708.134037</td>\n",
       "    </tr>\n",
       "    <tr>\n",
       "      <th>max</th>\n",
       "      <td>4760.000000</td>\n",
       "      <td>60.000000</td>\n",
       "      <td>95.408000</td>\n",
       "      <td>2018.000000</td>\n",
       "      <td>27586.200000</td>\n",
       "      <td>28127.000000</td>\n",
       "      <td>30539.000000</td>\n",
       "      <td>30015.000000</td>\n",
       "      <td>35116.000000</td>\n",
       "    </tr>\n",
       "  </tbody>\n",
       "</table>\n",
       "</div>"
      ],
      "text/plain": [
       "       capacity_mw    latitude   longitude  commissioning_year  \\\n",
       "count   908.000000  908.000000  908.000000          908.000000   \n",
       "mean    321.046378   23.162021   76.563926         1186.289648   \n",
       "std     580.221767   10.467197    6.125132          956.102221   \n",
       "min       0.000000    8.168900   60.000000           60.000000   \n",
       "25%      16.837500   17.057825   73.812975           60.000000   \n",
       "50%      60.000000   22.137800   76.492900         1978.000000   \n",
       "75%     388.125000   26.740475   79.211600         2003.000000   \n",
       "max    4760.000000   60.000000   95.408000         2018.000000   \n",
       "\n",
       "       generation_gwh_2013  generation_gwh_2014  generation_gwh_2015  \\\n",
       "count           908.000000           908.000000           908.000000   \n",
       "mean           1009.029442          1102.420396          1161.851056   \n",
       "std            2703.921589          2911.965280          3092.202997   \n",
       "min               0.000000             0.000000             0.000000   \n",
       "25%              60.000000            60.000000            60.000000   \n",
       "50%              60.000000            60.000000            60.000000   \n",
       "75%             470.116200           570.095213           605.769975   \n",
       "max           27586.200000         28127.000000         30539.000000   \n",
       "\n",
       "       generation_gwh_2016  generation_gwh_2017  \n",
       "count           908.000000           908.000000  \n",
       "mean           1212.147753          1265.933067  \n",
       "std            3117.593315          3173.696579  \n",
       "min               0.000000             0.000000  \n",
       "25%              60.000000            60.000000  \n",
       "50%              60.000000            60.000000  \n",
       "75%             669.808766           708.134037  \n",
       "max           30015.000000         35116.000000  "
      ]
     },
     "execution_count": 36,
     "metadata": {},
     "output_type": "execute_result"
    }
   ],
   "source": [
    "df.describe()"
   ]
  },
  {
   "cell_type": "code",
   "execution_count": 37,
   "id": "6c864da7",
   "metadata": {},
   "outputs": [
    {
     "data": {
      "image/png": "[encoded data removed]",
      "text/plain": [
       "<Figure size 1440x720 with 2 Axes>"
      ]
     },
     "metadata": {},
     "output_type": "display_data"
    }
   ],
   "source": [
    "plt.figure(figsize=(20,10))\n",
    "sns.heatmap(df.describe(),linewidths=0.1,fmt='0.1f',annot=True)\n",
    "plt.show()"
   ]
  },
  {
   "cell_type": "markdown",
   "id": "17ec4228",
   "metadata": {},
   "source": [
    "# Relationship between Independent and Dependent Variables"
   ]
  },
  {
   "cell_type": "markdown",
   "id": "44a98a57",
   "metadata": {},
   "source": [
    "### Analyzing Target column"
   ]
  },
  {
   "cell_type": "code",
   "execution_count": 84,
   "id": "0d957bb4",
   "metadata": {},
   "outputs": [
    {
     "data": {
      "text/plain": [
       "0         2.5\n",
       "1        98.0\n",
       "2        39.2\n",
       "3       135.0\n",
       "4      1800.0\n",
       "        ...  \n",
       "903    1600.0\n",
       "904       3.0\n",
       "905      25.5\n",
       "906      80.0\n",
       "907      16.5\n",
       "Name: capacity_mw, Length: 908, dtype: float64"
      ]
     },
     "execution_count": 84,
     "metadata": {},
     "output_type": "execute_result"
    }
   ],
   "source": [
    "df.capacity_mw"
   ]
  },
  {
   "cell_type": "code",
   "execution_count": 85,
   "id": "6a7c1a2b",
   "metadata": {},
   "outputs": [
    {
     "data": {
      "text/plain": [
       "<AxesSubplot:xlabel='capacity_mw', ylabel='Density'>"
      ]
     },
     "execution_count": 85,
     "metadata": {},
     "output_type": "execute_result"
    },
    {
     "data": {
      "image/png": "[encoded data removed]",
      "text/plain": [
       "<Figure size 432x288 with 1 Axes>"
      ]
     },
     "metadata": {},
     "output_type": "display_data"
    }
   ],
   "source": [
    "sns.distplot(df.capacity_mw)"
   ]
  },
  {
   "cell_type": "code",
   "execution_count": 86,
   "id": "89e8ab0c",
   "metadata": {},
   "outputs": [
    {
     "data": {
      "text/plain": [
       "Series([], dtype: float64)"
      ]
     },
     "execution_count": 86,
     "metadata": {},
     "output_type": "execute_result"
    }
   ],
   "source": [
    "df.select_dtypes(include = object).isnull().sum()"
   ]
  },
  {
   "cell_type": "code",
   "execution_count": 87,
   "id": "0c3dc8bf",
   "metadata": {},
   "outputs": [
    {
     "data": {
      "text/plain": [
       "3.1932573023446458"
      ]
     },
     "execution_count": 87,
     "metadata": {},
     "output_type": "execute_result"
    }
   ],
   "source": [
    "df.capacity_mw.skew()"
   ]
  },
  {
   "cell_type": "markdown",
   "id": "5dd7346a",
   "metadata": {},
   "source": [
    "#### Distribution of data is right skewed."
   ]
  },
  {
   "cell_type": "code",
   "execution_count": 90,
   "id": "fabb5b34",
   "metadata": {},
   "outputs": [
    {
     "data": {
      "image/png": "[encoded data removed]",
      "text/plain": [
       "<Figure size 1080x1440 with 8 Axes>"
      ]
     },
     "metadata": {},
     "output_type": "display_data"
    }
   ],
   "source": [
    "plt.figure(figsize=(15,20))\n",
    "plotnum=1\n",
    "y = df['capacity_mw']\n",
    "X =  df.drop(columns=['capacity_mw','primary_fuel','geolocation_source'])\n",
    "for col in X:\n",
    "    if plotnum<=23:\n",
    "        plt.subplot(5,5,plotnum)\n",
    "        sns.scatterplot(X[col],y)\n",
    "        plt.xlabel(col,fontsize=20)\n",
    "        plt.ylabel('capacity_mw',fontsize=20)\n",
    "    plotnum+=1\n",
    "plt.tight_layout()"
   ]
  },
  {
   "cell_type": "markdown",
   "id": "41693894",
   "metadata": {},
   "source": [
    "##### From the above graph we can see there is an linear relationship between columns generation_gwh_2013, generation_gwh_2014, generation_gwh_2015, generation_gwh_2016, generation_gwh_2017"
   ]
  },
  {
   "cell_type": "code",
   "execution_count": 96,
   "id": "ae6610b7",
   "metadata": {},
   "outputs": [
    {
     "data": {
      "text/plain": [
       "<Figure size 576x432 with 0 Axes>"
      ]
     },
     "metadata": {},
     "output_type": "display_data"
    },
    {
     "data": {
      "image/png": "[encoded data removed]",
      "text/plain": [
       "<Figure size 360x360 with 1 Axes>"
      ]
     },
     "metadata": {},
     "output_type": "display_data"
    }
   ],
   "source": [
    "plt.figure(figsize=(8,6))\n",
    "sns.lmplot(x=\"generation_gwh_2013\",y=\"capacity_mw\",data=df)\n",
    "plt.show()"
   ]
  },
  {
   "cell_type": "code",
   "execution_count": 97,
   "id": "9828126b",
   "metadata": {},
   "outputs": [
    {
     "data": {
      "text/plain": [
       "<Figure size 576x432 with 0 Axes>"
      ]
     },
     "metadata": {},
     "output_type": "display_data"
    },
    {
     "data": {
      "image/png": "[encoded data removed]",
      "text/plain": [
       "<Figure size 360x360 with 1 Axes>"
      ]
     },
     "metadata": {},
     "output_type": "display_data"
    }
   ],
   "source": [
    "plt.figure(figsize=(8,6))\n",
    "sns.lmplot(x=\"generation_gwh_2014\",y=\"capacity_mw\",data=df)\n",
    "plt.show()"
   ]
  },
  {
   "cell_type": "code",
   "execution_count": 98,
   "id": "c322f8f4",
   "metadata": {},
   "outputs": [
    {
     "data": {
      "text/plain": [
       "<Figure size 576x432 with 0 Axes>"
      ]
     },
     "metadata": {},
     "output_type": "display_data"
    },
    {
     "data": {
      "image/png": "[encoded data removed]",
      "text/plain": [
       "<Figure size 360x360 with 1 Axes>"
      ]
     },
     "metadata": {},
     "output_type": "display_data"
    }
   ],
   "source": [
    "plt.figure(figsize=(8,6))\n",
    "sns.lmplot(x=\"generation_gwh_2015\",y=\"capacity_mw\",data=df)\n",
    "plt.show()"
   ]
  },
  {
   "cell_type": "code",
   "execution_count": 99,
   "id": "c43b8a53",
   "metadata": {},
   "outputs": [
    {
     "data": {
      "text/plain": [
       "<Figure size 576x432 with 0 Axes>"
      ]
     },
     "metadata": {},
     "output_type": "display_data"
    },
    {
     "data": {
      "image/png": "[encoded data removed]",
      "text/plain": [
       "<Figure size 360x360 with 1 Axes>"
      ]
     },
     "metadata": {},
     "output_type": "display_data"
    }
   ],
   "source": [
    "plt.figure(figsize=(8,6))\n",
    "sns.lmplot(x=\"generation_gwh_2016\",y=\"capacity_mw\",data=df)\n",
    "plt.show()"
   ]
  },
  {
   "cell_type": "code",
   "execution_count": 100,
   "id": "cb3e5ba2",
   "metadata": {},
   "outputs": [
    {
     "data": {
      "text/plain": [
       "<Figure size 576x432 with 0 Axes>"
      ]
     },
     "metadata": {},
     "output_type": "display_data"
    },
    {
     "data": {
      "image/png": "[encoded data removed]",
      "text/plain": [
       "<Figure size 360x360 with 1 Axes>"
      ]
     },
     "metadata": {},
     "output_type": "display_data"
    }
   ],
   "source": [
    "plt.figure(figsize=(8,6))\n",
    "sns.lmplot(x=\"generation_gwh_2016\",y=\"capacity_mw\",data=df)\n",
    "plt.show()"
   ]
  },
  {
   "cell_type": "code",
   "execution_count": 101,
   "id": "87a2b5c6",
   "metadata": {},
   "outputs": [
    {
     "data": {
      "text/plain": [
       "<Figure size 576x432 with 0 Axes>"
      ]
     },
     "metadata": {},
     "output_type": "display_data"
    },
    {
     "data": {
      "image/png": "[encoded data removed]",
      "text/plain": [
       "<Figure size 360x360 with 1 Axes>"
      ]
     },
     "metadata": {},
     "output_type": "display_data"
    }
   ],
   "source": [
    "plt.figure(figsize=(8,6))\n",
    "sns.lmplot(x=\"generation_gwh_2017\",y=\"capacity_mw\",data=df)\n",
    "plt.show()"
   ]
  },
  {
   "cell_type": "markdown",
   "id": "a52d6505",
   "metadata": {},
   "source": [
    "# Using LabelEncoder for convering categorical to numerical"
   ]
  },
  {
   "cell_type": "code",
   "execution_count": 102,
   "id": "301277d5",
   "metadata": {},
   "outputs": [],
   "source": [
    "from sklearn.preprocessing import LabelEncoder"
   ]
  },
  {
   "cell_type": "code",
   "execution_count": 103,
   "id": "ef2238cf",
   "metadata": {},
   "outputs": [
    {
     "data": {
      "text/plain": [
       "array([6, 1, 7, 2, 3, 0, 5, 4])"
      ]
     },
     "execution_count": 103,
     "metadata": {},
     "output_type": "execute_result"
    }
   ],
   "source": [
    "df['primary_fuel'].unique()"
   ]
  },
  {
   "cell_type": "code",
   "execution_count": 104,
   "id": "c2c988e5",
   "metadata": {},
   "outputs": [
    {
     "data": {
      "text/plain": [
       "array([1, 2, 0])"
      ]
     },
     "execution_count": 104,
     "metadata": {},
     "output_type": "execute_result"
    }
   ],
   "source": [
    "df['geolocation_source'].unique()"
   ]
  },
  {
   "cell_type": "code",
   "execution_count": 105,
   "id": "91ceb4e4",
   "metadata": {},
   "outputs": [],
   "source": [
    "encoder = LabelEncoder()\n",
    "df['primary_fuel'] = encoder.fit_transform(df['primary_fuel'])\n",
    "df['geolocation_source'] = encoder.fit_transform(df['geolocation_source'])\n",
    "df['source'] = encoder.fit_transform(df['source'])"
   ]
  },
  {
   "cell_type": "code",
   "execution_count": 106,
   "id": "baa48afd",
   "metadata": {},
   "outputs": [
    {
     "data": {
      "text/plain": [
       "array([1, 2, 0], dtype=int64)"
      ]
     },
     "execution_count": 106,
     "metadata": {},
     "output_type": "execute_result"
    }
   ],
   "source": [
    "df['geolocation_source'].unique()"
   ]
  },
  {
   "cell_type": "code",
   "execution_count": 107,
   "id": "a2a74632",
   "metadata": {},
   "outputs": [
    {
     "name": "stdout",
     "output_type": "stream",
     "text": [
      "<class 'pandas.core.frame.DataFrame'>\n",
      "RangeIndex: 908 entries, 0 to 907\n",
      "Data columns (total 11 columns):\n",
      " #   Column               Non-Null Count  Dtype  \n",
      "---  ------               --------------  -----  \n",
      " 0   capacity_mw          908 non-null    float64\n",
      " 1   latitude             908 non-null    float64\n",
      " 2   longitude            908 non-null    float64\n",
      " 3   primary_fuel         908 non-null    int64  \n",
      " 4   source               908 non-null    int64  \n",
      " 5   geolocation_source   908 non-null    int64  \n",
      " 6   generation_gwh_2013  908 non-null    float64\n",
      " 7   generation_gwh_2014  908 non-null    float64\n",
      " 8   generation_gwh_2015  908 non-null    float64\n",
      " 9   generation_gwh_2016  908 non-null    float64\n",
      " 10  generation_gwh_2017  908 non-null    float64\n",
      "dtypes: float64(8), int64(3)\n",
      "memory usage: 78.2 KB\n"
     ]
    }
   ],
   "source": [
    "df.info()"
   ]
  },
  {
   "cell_type": "markdown",
   "id": "3b35cf6e",
   "metadata": {},
   "source": [
    "# Checking for Outliers :"
   ]
  },
  {
   "cell_type": "code",
   "execution_count": 108,
   "id": "78eb4b9a",
   "metadata": {},
   "outputs": [
    {
     "data": {
      "image/png": "[encoded data removed]",
      "text/plain": [
       "<Figure size 720x432 with 1 Axes>"
      ]
     },
     "metadata": {},
     "output_type": "display_data"
    }
   ],
   "source": [
    "plt.figure(figsize=(10,6))\n",
    "sns.boxplot(df['capacity_mw'])\n",
    "plt.show()"
   ]
  },
  {
   "cell_type": "code",
   "execution_count": 109,
   "id": "f78dd69f",
   "metadata": {},
   "outputs": [
    {
     "data": {
      "image/png": "[encoded data removed]",
      "text/plain": [
       "<Figure size 720x432 with 1 Axes>"
      ]
     },
     "metadata": {},
     "output_type": "display_data"
    }
   ],
   "source": [
    "plt.figure(figsize=(10,6))\n",
    "sns.boxplot(df['generation_gwh_2013'])\n",
    "plt.show()"
   ]
  },
  {
   "cell_type": "code",
   "execution_count": 110,
   "id": "50879ec0",
   "metadata": {},
   "outputs": [
    {
     "data": {
      "image/png": "[encoded data removed]",
      "text/plain": [
       "<Figure size 720x432 with 1 Axes>"
      ]
     },
     "metadata": {},
     "output_type": "display_data"
    }
   ],
   "source": [
    "plt.figure(figsize=(10,6))\n",
    "sns.boxplot(df['generation_gwh_2014'])\n",
    "plt.show()"
   ]
  },
  {
   "cell_type": "code",
   "execution_count": 111,
   "id": "ea988f81",
   "metadata": {},
   "outputs": [
    {
     "data": {
      "image/png": "[encoded data removed]",
      "text/plain": [
       "<Figure size 720x432 with 1 Axes>"
      ]
     },
     "metadata": {},
     "output_type": "display_data"
    }
   ],
   "source": [
    "plt.figure(figsize=(10,6))\n",
    "sns.boxplot(df['generation_gwh_2015'])\n",
    "plt.show()"
   ]
  },
  {
   "cell_type": "code",
   "execution_count": 112,
   "id": "b36dd979",
   "metadata": {},
   "outputs": [
    {
     "data": {
      "image/png": "[encoded data removed]",
      "text/plain": [
       "<Figure size 720x432 with 1 Axes>"
      ]
     },
     "metadata": {},
     "output_type": "display_data"
    }
   ],
   "source": [
    "plt.figure(figsize=(10,6))\n",
    "sns.boxplot(df['generation_gwh_2016'])\n",
    "plt.show()"
   ]
  },
  {
   "cell_type": "code",
   "execution_count": 113,
   "id": "57646ebf",
   "metadata": {},
   "outputs": [
    {
     "data": {
      "image/png": "[encoded data removed]",
      "text/plain": [
       "<Figure size 720x432 with 1 Axes>"
      ]
     },
     "metadata": {},
     "output_type": "display_data"
    }
   ],
   "source": [
    "plt.figure(figsize=(10,6))\n",
    "sns.boxplot(df['generation_gwh_2017'])\n",
    "plt.show()"
   ]
  },
  {
   "cell_type": "markdown",
   "id": "521d9368",
   "metadata": {},
   "source": [
    "## All columns have a lot of outliers."
   ]
  },
  {
   "cell_type": "markdown",
   "id": "10bd1f31",
   "metadata": {},
   "source": [
    "## Zscore for removing Outliers:"
   ]
  },
  {
   "cell_type": "code",
   "execution_count": 114,
   "id": "6e7a94cc",
   "metadata": {},
   "outputs": [],
   "source": [
    "from scipy.stats import zscore"
   ]
  },
  {
   "cell_type": "code",
   "execution_count": 115,
   "id": "58c8e731",
   "metadata": {},
   "outputs": [
    {
     "data": {
      "text/html": [
       "<div>\n",
       "<style scoped>\n",
       "    .dataframe tbody tr th:only-of-type {\n",
       "        vertical-align: middle;\n",
       "    }\n",
       "\n",
       "    .dataframe tbody tr th {\n",
       "        vertical-align: top;\n",
       "    }\n",
       "\n",
       "    .dataframe thead th {\n",
       "        text-align: right;\n",
       "    }\n",
       "</style>\n",
       "<table border=\"1\" class=\"dataframe\">\n",
       "  <thead>\n",
       "    <tr style=\"text-align: right;\">\n",
       "      <th></th>\n",
       "      <th>capacity_mw</th>\n",
       "      <th>latitude</th>\n",
       "      <th>longitude</th>\n",
       "      <th>primary_fuel</th>\n",
       "      <th>source</th>\n",
       "      <th>geolocation_source</th>\n",
       "      <th>generation_gwh_2013</th>\n",
       "      <th>generation_gwh_2014</th>\n",
       "      <th>generation_gwh_2015</th>\n",
       "      <th>generation_gwh_2016</th>\n",
       "      <th>generation_gwh_2017</th>\n",
       "    </tr>\n",
       "  </thead>\n",
       "  <tbody>\n",
       "    <tr>\n",
       "      <th>0</th>\n",
       "      <td>2.5</td>\n",
       "      <td>28.1839</td>\n",
       "      <td>73.2407</td>\n",
       "      <td>6</td>\n",
       "      <td>109</td>\n",
       "      <td>1</td>\n",
       "      <td>60.000000</td>\n",
       "      <td>60.000000</td>\n",
       "      <td>60.000</td>\n",
       "      <td>60.000000</td>\n",
       "      <td>60.000000</td>\n",
       "    </tr>\n",
       "    <tr>\n",
       "      <th>1</th>\n",
       "      <td>98.0</td>\n",
       "      <td>24.7663</td>\n",
       "      <td>74.6090</td>\n",
       "      <td>1</td>\n",
       "      <td>174</td>\n",
       "      <td>2</td>\n",
       "      <td>60.000000</td>\n",
       "      <td>60.000000</td>\n",
       "      <td>60.000</td>\n",
       "      <td>60.000000</td>\n",
       "      <td>60.000000</td>\n",
       "    </tr>\n",
       "    <tr>\n",
       "      <th>2</th>\n",
       "      <td>39.2</td>\n",
       "      <td>21.9038</td>\n",
       "      <td>69.3732</td>\n",
       "      <td>7</td>\n",
       "      <td>21</td>\n",
       "      <td>2</td>\n",
       "      <td>60.000000</td>\n",
       "      <td>60.000000</td>\n",
       "      <td>60.000</td>\n",
       "      <td>60.000000</td>\n",
       "      <td>60.000000</td>\n",
       "    </tr>\n",
       "    <tr>\n",
       "      <th>3</th>\n",
       "      <td>135.0</td>\n",
       "      <td>23.8712</td>\n",
       "      <td>91.3602</td>\n",
       "      <td>2</td>\n",
       "      <td>22</td>\n",
       "      <td>2</td>\n",
       "      <td>631.777928</td>\n",
       "      <td>617.789264</td>\n",
       "      <td>843.747</td>\n",
       "      <td>886.004428</td>\n",
       "      <td>663.774500</td>\n",
       "    </tr>\n",
       "    <tr>\n",
       "      <th>4</th>\n",
       "      <td>1800.0</td>\n",
       "      <td>21.9603</td>\n",
       "      <td>82.4091</td>\n",
       "      <td>1</td>\n",
       "      <td>22</td>\n",
       "      <td>2</td>\n",
       "      <td>1668.290000</td>\n",
       "      <td>3035.550000</td>\n",
       "      <td>5916.370</td>\n",
       "      <td>6243.000000</td>\n",
       "      <td>5385.579736</td>\n",
       "    </tr>\n",
       "  </tbody>\n",
       "</table>\n",
       "</div>"
      ],
      "text/plain": [
       "   capacity_mw  latitude  longitude  primary_fuel  source  geolocation_source  \\\n",
       "0          2.5   28.1839    73.2407             6     109                   1   \n",
       "1         98.0   24.7663    74.6090             1     174                   2   \n",
       "2         39.2   21.9038    69.3732             7      21                   2   \n",
       "3        135.0   23.8712    91.3602             2      22                   2   \n",
       "4       1800.0   21.9603    82.4091             1      22                   2   \n",
       "\n",
       "   generation_gwh_2013  generation_gwh_2014  generation_gwh_2015  \\\n",
       "0            60.000000            60.000000               60.000   \n",
       "1            60.000000            60.000000               60.000   \n",
       "2            60.000000            60.000000               60.000   \n",
       "3           631.777928           617.789264              843.747   \n",
       "4          1668.290000          3035.550000             5916.370   \n",
       "\n",
       "   generation_gwh_2016  generation_gwh_2017  \n",
       "0            60.000000            60.000000  \n",
       "1            60.000000            60.000000  \n",
       "2            60.000000            60.000000  \n",
       "3           886.004428           663.774500  \n",
       "4          6243.000000          5385.579736  "
      ]
     },
     "execution_count": 115,
     "metadata": {},
     "output_type": "execute_result"
    }
   ],
   "source": [
    "df.head()"
   ]
  },
  {
   "cell_type": "code",
   "execution_count": 116,
   "id": "fb0e4c86",
   "metadata": {},
   "outputs": [],
   "source": [
    "DF = df.drop(columns=['latitude','longitude','primary_fuel','source','geolocation_source'])"
   ]
  },
  {
   "cell_type": "code",
   "execution_count": 117,
   "id": "a054f98c",
   "metadata": {},
   "outputs": [],
   "source": [
    "zscor = zscore(DF)\n",
    "z_score_abs = np.abs(zscor)\n",
    "\n",
    "df1 = df[(z_score_abs < 3).all(axis=1)] #taking 3 as threshold value"
   ]
  },
  {
   "cell_type": "code",
   "execution_count": 118,
   "id": "9c017336",
   "metadata": {},
   "outputs": [
    {
     "data": {
      "text/plain": [
       "(885, 11)"
      ]
     },
     "execution_count": 118,
     "metadata": {},
     "output_type": "execute_result"
    }
   ],
   "source": [
    "df1.shape"
   ]
  },
  {
   "cell_type": "code",
   "execution_count": 119,
   "id": "b03566eb",
   "metadata": {},
   "outputs": [
    {
     "data": {
      "text/plain": [
       "(908, 11)"
      ]
     },
     "execution_count": 119,
     "metadata": {},
     "output_type": "execute_result"
    }
   ],
   "source": [
    "df.shape"
   ]
  },
  {
   "cell_type": "markdown",
   "id": "d85b344b",
   "metadata": {},
   "source": [
    "# Percentage of Dataloss:"
   ]
  },
  {
   "cell_type": "code",
   "execution_count": 120,
   "id": "1e1ce581",
   "metadata": {},
   "outputs": [
    {
     "data": {
      "text/plain": [
       "2.5330396475770924"
      ]
     },
     "execution_count": 120,
     "metadata": {},
     "output_type": "execute_result"
    }
   ],
   "source": [
    "data_loss=(908-885)/908 * 100\n",
    "data_loss"
   ]
  },
  {
   "cell_type": "markdown",
   "id": "c0a12dbc",
   "metadata": {},
   "source": [
    "### 2.53% is acceptable"
   ]
  },
  {
   "cell_type": "markdown",
   "id": "a0283fa2",
   "metadata": {},
   "source": [
    "# skewness:"
   ]
  },
  {
   "cell_type": "code",
   "execution_count": 224,
   "id": "b581ad5c",
   "metadata": {},
   "outputs": [
    {
     "data": {
      "text/plain": [
       "capacity_mw            2.052718\n",
       "latitude               1.965094\n",
       "longitude             -0.179399\n",
       "primary_fuel           0.430662\n",
       "source                 1.788010\n",
       "geolocation_source    -2.118329\n",
       "generation_gwh_2013    2.994575\n",
       "generation_gwh_2014    2.867788\n",
       "generation_gwh_2015    2.684811\n",
       "generation_gwh_2016    2.630710\n",
       "generation_gwh_2017    2.540274\n",
       "dtype: float64"
      ]
     },
     "execution_count": 224,
     "metadata": {},
     "output_type": "execute_result"
    }
   ],
   "source": [
    "df1.skew()"
   ]
  },
  {
   "cell_type": "code",
   "execution_count": 225,
   "id": "860e70e6",
   "metadata": {},
   "outputs": [
    {
     "data": {
      "image/png": "[encoded data removed]",
      "text/plain": [
       "<Figure size 1296x1800 with 11 Axes>"
      ]
     },
     "metadata": {},
     "output_type": "display_data"
    }
   ],
   "source": [
    "plt.figure(figsize=(18,25))\n",
    "for i in enumerate(df):\n",
    "    plt.subplot(8,4,i[0]+1)\n",
    "    sns.distplot(df1[i[1]],color='g')"
   ]
  },
  {
   "cell_type": "markdown",
   "id": "c9b11603",
   "metadata": {},
   "source": [
    "# Removing Skewness using yeo-johnson method"
   ]
  },
  {
   "cell_type": "code",
   "execution_count": 226,
   "id": "0a2cc3cc",
   "metadata": {},
   "outputs": [],
   "source": [
    "from sklearn.preprocessing import PowerTransformer\n",
    "scaler = PowerTransformer(method='yeo-johnson')"
   ]
  },
  {
   "cell_type": "code",
   "execution_count": 227,
   "id": "7a16ef5d",
   "metadata": {},
   "outputs": [],
   "source": [
    "skewd = ['capacity_mw',\"generation_gwh_2013\",'generation_gwh_2014','generation_gwh_2015','generation_gwh_2016','generation_gwh_2017']"
   ]
  },
  {
   "cell_type": "code",
   "execution_count": 228,
   "id": "80c75a12",
   "metadata": {},
   "outputs": [
    {
     "data": {
      "text/html": [
       "<div>\n",
       "<style scoped>\n",
       "    .dataframe tbody tr th:only-of-type {\n",
       "        vertical-align: middle;\n",
       "    }\n",
       "\n",
       "    .dataframe tbody tr th {\n",
       "        vertical-align: top;\n",
       "    }\n",
       "\n",
       "    .dataframe thead th {\n",
       "        text-align: right;\n",
       "    }\n",
       "</style>\n",
       "<table border=\"1\" class=\"dataframe\">\n",
       "  <thead>\n",
       "    <tr style=\"text-align: right;\">\n",
       "      <th></th>\n",
       "      <th>capacity_mw</th>\n",
       "      <th>generation_gwh_2013</th>\n",
       "      <th>generation_gwh_2014</th>\n",
       "      <th>generation_gwh_2015</th>\n",
       "      <th>generation_gwh_2016</th>\n",
       "      <th>generation_gwh_2017</th>\n",
       "    </tr>\n",
       "  </thead>\n",
       "  <tbody>\n",
       "    <tr>\n",
       "      <th>0</th>\n",
       "      <td>-1.689076</td>\n",
       "      <td>-0.471309</td>\n",
       "      <td>-0.460040</td>\n",
       "      <td>-0.458744</td>\n",
       "      <td>-0.474560</td>\n",
       "      <td>-0.475528</td>\n",
       "    </tr>\n",
       "    <tr>\n",
       "      <th>1</th>\n",
       "      <td>0.240873</td>\n",
       "      <td>-0.471309</td>\n",
       "      <td>-0.460040</td>\n",
       "      <td>-0.458744</td>\n",
       "      <td>-0.474560</td>\n",
       "      <td>-0.475528</td>\n",
       "    </tr>\n",
       "    <tr>\n",
       "      <th>2</th>\n",
       "      <td>-0.262967</td>\n",
       "      <td>-0.471309</td>\n",
       "      <td>-0.460040</td>\n",
       "      <td>-0.458744</td>\n",
       "      <td>-0.474560</td>\n",
       "      <td>-0.475528</td>\n",
       "    </tr>\n",
       "    <tr>\n",
       "      <th>3</th>\n",
       "      <td>0.415568</td>\n",
       "      <td>0.870681</td>\n",
       "      <td>0.804080</td>\n",
       "      <td>0.942469</td>\n",
       "      <td>0.933082</td>\n",
       "      <td>0.755537</td>\n",
       "    </tr>\n",
       "    <tr>\n",
       "      <th>4</th>\n",
       "      <td>1.784019</td>\n",
       "      <td>1.385431</td>\n",
       "      <td>1.630555</td>\n",
       "      <td>1.923335</td>\n",
       "      <td>1.911582</td>\n",
       "      <td>1.802226</td>\n",
       "    </tr>\n",
       "  </tbody>\n",
       "</table>\n",
       "</div>"
      ],
      "text/plain": [
       "   capacity_mw  generation_gwh_2013  generation_gwh_2014  generation_gwh_2015  \\\n",
       "0    -1.689076            -0.471309            -0.460040            -0.458744   \n",
       "1     0.240873            -0.471309            -0.460040            -0.458744   \n",
       "2    -0.262967            -0.471309            -0.460040            -0.458744   \n",
       "3     0.415568             0.870681             0.804080             0.942469   \n",
       "4     1.784019             1.385431             1.630555             1.923335   \n",
       "\n",
       "   generation_gwh_2016  generation_gwh_2017  \n",
       "0            -0.474560            -0.475528  \n",
       "1            -0.474560            -0.475528  \n",
       "2            -0.474560            -0.475528  \n",
       "3             0.933082             0.755537  \n",
       "4             1.911582             1.802226  "
      ]
     },
     "execution_count": 228,
     "metadata": {},
     "output_type": "execute_result"
    }
   ],
   "source": [
    "df1[skewd] = scaler.fit_transform(df1[skewd].values)\n",
    "df1[skewd].head()"
   ]
  },
  {
   "cell_type": "code",
   "execution_count": 229,
   "id": "7083a460",
   "metadata": {},
   "outputs": [
    {
     "data": {
      "text/plain": [
       "capacity_mw            0.014952\n",
       "latitude               1.965094\n",
       "longitude             -0.179399\n",
       "primary_fuel           0.430662\n",
       "source                 1.788010\n",
       "geolocation_source    -2.118329\n",
       "generation_gwh_2013   -0.034887\n",
       "generation_gwh_2014   -0.014669\n",
       "generation_gwh_2015   -0.012333\n",
       "generation_gwh_2016   -0.009262\n",
       "generation_gwh_2017   -0.005003\n",
       "dtype: float64"
      ]
     },
     "execution_count": 229,
     "metadata": {},
     "output_type": "execute_result"
    }
   ],
   "source": [
    "df1.skew()"
   ]
  },
  {
   "cell_type": "markdown",
   "id": "9f72b11a",
   "metadata": {},
   "source": [
    "# Feature Selection"
   ]
  },
  {
   "cell_type": "code",
   "execution_count": 230,
   "id": "86e5248f",
   "metadata": {},
   "outputs": [],
   "source": [
    "from sklearn.preprocessing import StandardScaler"
   ]
  },
  {
   "cell_type": "code",
   "execution_count": 231,
   "id": "cdabeaca",
   "metadata": {},
   "outputs": [],
   "source": [
    "X = df1.drop(['capacity_mw'],axis=1)\n",
    "y = df1['capacity_mw']"
   ]
  },
  {
   "cell_type": "code",
   "execution_count": 232,
   "id": "49df94fe",
   "metadata": {},
   "outputs": [],
   "source": [
    "scaler= StandardScaler()\n",
    "scaled_X = scaler.fit_transform(X)"
   ]
  },
  {
   "cell_type": "markdown",
   "id": "399bdc1f",
   "metadata": {},
   "source": [
    "# Principle Component Analysis"
   ]
  },
  {
   "cell_type": "code",
   "execution_count": 233,
   "id": "2f76a112",
   "metadata": {},
   "outputs": [],
   "source": [
    "from sklearn.decomposition import PCA\n",
    "pca = PCA()"
   ]
  },
  {
   "cell_type": "code",
   "execution_count": 234,
   "id": "1417630b",
   "metadata": {},
   "outputs": [],
   "source": [
    "pca_x = pca.fit_transform(scaled_X)"
   ]
  },
  {
   "cell_type": "code",
   "execution_count": 235,
   "id": "9ea84bf5",
   "metadata": {},
   "outputs": [
    {
     "data": {
      "image/png": "[encoded data removed]",
      "text/plain": [
       "<Figure size 432x288 with 1 Axes>"
      ]
     },
     "metadata": {},
     "output_type": "display_data"
    }
   ],
   "source": [
    "#visualize\n",
    "plt.figure()\n",
    "plt.plot(np.cumsum(pca.explained_variance_ratio_))\n",
    "plt.xlabel('Number of Components')\n",
    "plt.ylabel('Variance %')\n",
    "plt.title('Explained Variance')\n",
    "plt.show()"
   ]
  },
  {
   "cell_type": "markdown",
   "id": "b34d09ef",
   "metadata": {},
   "source": [
    "# Model Building:"
   ]
  },
  {
   "cell_type": "code",
   "execution_count": 236,
   "id": "3f4f7ae9",
   "metadata": {},
   "outputs": [],
   "source": [
    "from sklearn.metrics import mean_squared_error,mean_absolute_error\n",
    "from sklearn.metrics import r2_score\n",
    "from sklearn.model_selection import train_test_split\n",
    "from sklearn.model_selection import cross_val_score\n",
    "from sklearn.linear_model import LinearRegression\n",
    "from sklearn.linear_model import Ridge\n",
    "from sklearn.ensemble import RandomForestRegressor\n",
    "from sklearn.tree import DecisionTreeRegressor\n",
    "from sklearn.ensemble import GradientBoostingRegressor"
   ]
  },
  {
   "cell_type": "markdown",
   "id": "bca05d1f",
   "metadata": {},
   "source": [
    "# Finding Best Random state:"
   ]
  },
  {
   "cell_type": "markdown",
   "id": "5b9db3a8",
   "metadata": {},
   "source": [
    "# Linear Regression:"
   ]
  },
  {
   "cell_type": "code",
   "execution_count": 237,
   "id": "622e9197",
   "metadata": {},
   "outputs": [],
   "source": [
    "lr = LinearRegression()"
   ]
  },
  {
   "cell_type": "code",
   "execution_count": 239,
   "id": "6cc29f23",
   "metadata": {},
   "outputs": [
    {
     "name": "stdout",
     "output_type": "stream",
     "text": [
      "At random state 0, The training accuracy is: 0.5706282758268091\n",
      "At random state 0, The test accuracy is: 0.6009379836512982\n",
      "\n",
      "\n",
      "At random state 1, The training accuracy is: 0.5764546400215658\n",
      "At random state 1, The test accuracy is: 0.5758673500328731\n",
      "\n",
      "\n",
      "At random state 2, The training accuracy is: 0.6087565878291337\n",
      "At random state 2, The test accuracy is: 0.42020046550349954\n",
      "\n",
      "\n",
      "At random state 3, The training accuracy is: 0.5730111229777102\n",
      "At random state 3, The test accuracy is: 0.5866077756857903\n",
      "\n",
      "\n",
      "At random state 4, The training accuracy is: 0.5842019405390357\n",
      "At random state 4, The test accuracy is: 0.5391679370409586\n",
      "\n",
      "\n",
      "At random state 5, The training accuracy is: 0.5757488153177001\n",
      "At random state 5, The test accuracy is: 0.567343921589064\n",
      "\n",
      "\n",
      "At random state 6, The training accuracy is: 0.5915401653859658\n",
      "At random state 6, The test accuracy is: 0.49644325121753186\n",
      "\n",
      "\n",
      "At random state 7, The training accuracy is: 0.5764850685761391\n",
      "At random state 7, The test accuracy is: 0.5719949787571013\n",
      "\n",
      "\n",
      "At random state 8, The training accuracy is: 0.5751673031924642\n",
      "At random state 8, The test accuracy is: 0.5810368967206515\n",
      "\n",
      "\n",
      "At random state 9, The training accuracy is: 0.5508568846904935\n",
      "At random state 9, The test accuracy is: 0.671765675147099\n",
      "\n",
      "\n",
      "At random state 10, The training accuracy is: 0.5857041954428008\n",
      "At random state 10, The test accuracy is: 0.5335260104683655\n",
      "\n",
      "\n",
      "At random state 11, The training accuracy is: 0.5711648456006204\n",
      "At random state 11, The test accuracy is: 0.5962049560619569\n",
      "\n",
      "\n",
      "At random state 12, The training accuracy is: 0.5804091511888865\n",
      "At random state 12, The test accuracy is: 0.5555149980256002\n",
      "\n",
      "\n",
      "At random state 13, The training accuracy is: 0.569299945540209\n",
      "At random state 13, The test accuracy is: 0.5954345836344536\n",
      "\n",
      "\n",
      "At random state 14, The training accuracy is: 0.5741867096165838\n",
      "At random state 14, The test accuracy is: 0.5863935451382107\n",
      "\n",
      "\n",
      "At random state 15, The training accuracy is: 0.5935788351563087\n",
      "At random state 15, The test accuracy is: 0.504083696260641\n",
      "\n",
      "\n",
      "At random state 16, The training accuracy is: 0.567912215107432\n",
      "At random state 16, The test accuracy is: 0.6118760270703143\n",
      "\n",
      "\n",
      "At random state 17, The training accuracy is: 0.5594087785437059\n",
      "At random state 17, The test accuracy is: 0.6388097395997605\n",
      "\n",
      "\n",
      "At random state 18, The training accuracy is: 0.5872372301316237\n",
      "At random state 18, The test accuracy is: 0.5281953477648045\n",
      "\n",
      "\n",
      "At random state 19, The training accuracy is: 0.5897194629130535\n",
      "At random state 19, The test accuracy is: 0.5319614886635584\n",
      "\n",
      "\n",
      "At random state 20, The training accuracy is: 0.5986318873665863\n",
      "At random state 20, The test accuracy is: 0.4685899416193635\n",
      "\n",
      "\n",
      "At random state 21, The training accuracy is: 0.5625502235114945\n",
      "At random state 21, The test accuracy is: 0.6025226207643993\n",
      "\n",
      "\n",
      "At random state 22, The training accuracy is: 0.6047965142038316\n",
      "At random state 22, The test accuracy is: 0.44654638266307833\n",
      "\n",
      "\n",
      "At random state 23, The training accuracy is: 0.5822873597448985\n",
      "At random state 23, The test accuracy is: 0.5531076126099909\n",
      "\n",
      "\n",
      "At random state 24, The training accuracy is: 0.5900423184650698\n",
      "At random state 24, The test accuracy is: 0.49658064378509315\n",
      "\n",
      "\n",
      "At random state 25, The training accuracy is: 0.5878094689515148\n",
      "At random state 25, The test accuracy is: 0.5291872591958879\n",
      "\n",
      "\n",
      "At random state 26, The training accuracy is: 0.5885190485290444\n",
      "At random state 26, The test accuracy is: 0.5151169124269293\n",
      "\n",
      "\n",
      "At random state 27, The training accuracy is: 0.581874434346503\n",
      "At random state 27, The test accuracy is: 0.5592907248565706\n",
      "\n",
      "\n",
      "At random state 28, The training accuracy is: 0.5886836166151679\n",
      "At random state 28, The test accuracy is: 0.5141103542423986\n",
      "\n",
      "\n",
      "At random state 29, The training accuracy is: 0.5750605803193753\n",
      "At random state 29, The test accuracy is: 0.5678094614182105\n",
      "\n",
      "\n",
      "At random state 30, The training accuracy is: 0.5768205256379888\n",
      "At random state 30, The test accuracy is: 0.5686696552295001\n",
      "\n",
      "\n",
      "At random state 31, The training accuracy is: 0.5830635998885527\n",
      "At random state 31, The test accuracy is: 0.539424007211549\n",
      "\n",
      "\n",
      "At random state 32, The training accuracy is: 0.5848562451362986\n",
      "At random state 32, The test accuracy is: 0.5301992432332151\n",
      "\n",
      "\n",
      "At random state 33, The training accuracy is: 0.5673122415990786\n",
      "At random state 33, The test accuracy is: 0.5968609683759369\n",
      "\n",
      "\n",
      "At random state 34, The training accuracy is: 0.5648452974037188\n",
      "At random state 34, The test accuracy is: 0.6165417086761213\n",
      "\n",
      "\n",
      "At random state 35, The training accuracy is: 0.5727175696369442\n",
      "At random state 35, The test accuracy is: 0.5911067771848755\n",
      "\n",
      "\n",
      "At random state 36, The training accuracy is: 0.563191496175612\n",
      "At random state 36, The test accuracy is: 0.6242763663679068\n",
      "\n",
      "\n",
      "At random state 37, The training accuracy is: 0.5735281294511763\n",
      "At random state 37, The test accuracy is: 0.5897850832686216\n",
      "\n",
      "\n",
      "At random state 38, The training accuracy is: 0.5936451554894038\n",
      "At random state 38, The test accuracy is: 0.4713261809156172\n",
      "\n",
      "\n",
      "At random state 39, The training accuracy is: 0.5708876805053695\n",
      "At random state 39, The test accuracy is: 0.6000863837113425\n",
      "\n",
      "\n",
      "At random state 40, The training accuracy is: 0.5811513190407676\n",
      "At random state 40, The test accuracy is: 0.5554714127430002\n",
      "\n",
      "\n",
      "At random state 41, The training accuracy is: 0.5832375003377793\n",
      "At random state 41, The test accuracy is: 0.5418402220126216\n",
      "\n",
      "\n",
      "At random state 42, The training accuracy is: 0.5701162560013304\n",
      "At random state 42, The test accuracy is: 0.6003511830214521\n",
      "\n",
      "\n",
      "At random state 43, The training accuracy is: 0.5719462740371171\n",
      "At random state 43, The test accuracy is: 0.5925641887761551\n",
      "\n",
      "\n",
      "At random state 44, The training accuracy is: 0.5886195254406181\n",
      "At random state 44, The test accuracy is: 0.5214515614975976\n",
      "\n",
      "\n",
      "At random state 45, The training accuracy is: 0.5822131533332161\n",
      "At random state 45, The test accuracy is: 0.5535649054122\n",
      "\n",
      "\n",
      "At random state 46, The training accuracy is: 0.6045632480990116\n",
      "At random state 46, The test accuracy is: 0.45269581030239303\n",
      "\n",
      "\n",
      "At random state 47, The training accuracy is: 0.6006086026783797\n",
      "At random state 47, The test accuracy is: 0.4502228144626278\n",
      "\n",
      "\n",
      "At random state 48, The training accuracy is: 0.5879936517479176\n",
      "At random state 48, The test accuracy is: 0.5256917655712126\n",
      "\n",
      "\n",
      "At random state 49, The training accuracy is: 0.6000619729624102\n",
      "At random state 49, The test accuracy is: 0.47419316029746206\n",
      "\n",
      "\n",
      "At random state 50, The training accuracy is: 0.6087088135839598\n",
      "At random state 50, The test accuracy is: 0.4430427284176075\n",
      "\n",
      "\n",
      "At random state 51, The training accuracy is: 0.5991096755303816\n",
      "At random state 51, The test accuracy is: 0.4908119271392535\n",
      "\n",
      "\n",
      "At random state 52, The training accuracy is: 0.5769092343423526\n",
      "At random state 52, The test accuracy is: 0.5679527288080382\n",
      "\n",
      "\n",
      "At random state 53, The training accuracy is: 0.5559306656885652\n",
      "At random state 53, The test accuracy is: 0.633189411164772\n",
      "\n",
      "\n",
      "At random state 54, The training accuracy is: 0.6046374798424117\n",
      "At random state 54, The test accuracy is: 0.4614973187596554\n",
      "\n",
      "\n",
      "At random state 55, The training accuracy is: 0.5785877630635136\n",
      "At random state 55, The test accuracy is: 0.5639444528465019\n",
      "\n",
      "\n",
      "At random state 56, The training accuracy is: 0.5781221430458547\n",
      "At random state 56, The test accuracy is: 0.5690621936182887\n",
      "\n",
      "\n",
      "At random state 57, The training accuracy is: 0.5692643744256785\n",
      "At random state 57, The test accuracy is: 0.6028834686042495\n",
      "\n",
      "\n",
      "At random state 58, The training accuracy is: 0.5494052577320989\n",
      "At random state 58, The test accuracy is: 0.6766502172900617\n",
      "\n",
      "\n",
      "At random state 59, The training accuracy is: 0.5913670133052134\n",
      "At random state 59, The test accuracy is: 0.5254358743384032\n",
      "\n",
      "\n",
      "At random state 60, The training accuracy is: 0.5613422246732606\n",
      "At random state 60, The test accuracy is: 0.6357116778693237\n",
      "\n",
      "\n",
      "At random state 61, The training accuracy is: 0.5634050213988636\n",
      "At random state 61, The test accuracy is: 0.6247130106441092\n",
      "\n",
      "\n",
      "At random state 62, The training accuracy is: 0.5723803437579622\n",
      "At random state 62, The test accuracy is: 0.5891687630314159\n",
      "\n",
      "\n",
      "At random state 63, The training accuracy is: 0.5753214433074962\n",
      "At random state 63, The test accuracy is: 0.5597581290280403\n",
      "\n",
      "\n",
      "At random state 64, The training accuracy is: 0.587367309630148\n",
      "At random state 64, The test accuracy is: 0.5181189598381941\n",
      "\n",
      "\n",
      "At random state 65, The training accuracy is: 0.5863858642132155\n",
      "At random state 65, The test accuracy is: 0.5288843011504204\n",
      "\n",
      "\n",
      "At random state 66, The training accuracy is: 0.5916068717731338\n",
      "At random state 66, The test accuracy is: 0.514543287768026\n",
      "\n",
      "\n",
      "At random state 67, The training accuracy is: 0.5562814022589222\n",
      "At random state 67, The test accuracy is: 0.6486632857790994\n",
      "\n",
      "\n",
      "At random state 68, The training accuracy is: 0.5710726455938877\n",
      "At random state 68, The test accuracy is: 0.5927511737877185\n",
      "\n",
      "\n",
      "At random state 69, The training accuracy is: 0.5688832307106455\n",
      "At random state 69, The test accuracy is: 0.5866333192173324\n",
      "\n",
      "\n",
      "At random state 70, The training accuracy is: 0.5787161219326356\n",
      "At random state 70, The test accuracy is: 0.5691729298503728\n",
      "\n",
      "\n",
      "At random state 71, The training accuracy is: 0.562030542328448\n",
      "At random state 71, The test accuracy is: 0.6276689089900828\n",
      "\n",
      "\n",
      "At random state 72, The training accuracy is: 0.5847991642411842\n",
      "At random state 72, The test accuracy is: 0.5431542754700205\n",
      "\n",
      "\n",
      "At random state 73, The training accuracy is: 0.5617393037532759\n",
      "At random state 73, The test accuracy is: 0.624301919504056\n",
      "\n",
      "\n",
      "At random state 74, The training accuracy is: 0.6035908188007333\n",
      "At random state 74, The test accuracy is: 0.44923499958068525\n",
      "\n",
      "\n",
      "At random state 75, The training accuracy is: 0.5976043120943334\n",
      "At random state 75, The test accuracy is: 0.4854076248399549\n",
      "\n",
      "\n",
      "At random state 76, The training accuracy is: 0.5986712111359795\n",
      "At random state 76, The test accuracy is: 0.4823586124896967\n",
      "\n",
      "\n",
      "At random state 77, The training accuracy is: 0.5831126011138461\n",
      "At random state 77, The test accuracy is: 0.5334211550214311\n",
      "\n",
      "\n",
      "At random state 78, The training accuracy is: 0.5693828756736737\n",
      "At random state 78, The test accuracy is: 0.6023903884183117\n",
      "\n",
      "\n",
      "At random state 79, The training accuracy is: 0.591860964255531\n",
      "At random state 79, The test accuracy is: 0.5079846901193127\n",
      "\n",
      "\n",
      "At random state 80, The training accuracy is: 0.588318335223958\n",
      "At random state 80, The test accuracy is: 0.5040218553728243\n",
      "\n",
      "\n",
      "At random state 81, The training accuracy is: 0.5671873343438181\n",
      "At random state 81, The test accuracy is: 0.6047551619365032\n",
      "\n",
      "\n",
      "At random state 82, The training accuracy is: 0.6048005952524729\n",
      "At random state 82, The test accuracy is: 0.43246449049404223\n",
      "\n",
      "\n",
      "At random state 83, The training accuracy is: 0.5773919609338012\n",
      "At random state 83, The test accuracy is: 0.573852613345921\n",
      "\n",
      "\n",
      "At random state 84, The training accuracy is: 0.5803570639407849\n",
      "At random state 84, The test accuracy is: 0.5561598350338554\n",
      "\n",
      "\n",
      "At random state 85, The training accuracy is: 0.5907101950046788\n",
      "At random state 85, The test accuracy is: 0.5074418181170617\n",
      "\n",
      "\n",
      "At random state 86, The training accuracy is: 0.5703844918509984\n",
      "At random state 86, The test accuracy is: 0.6022437880288446\n",
      "\n",
      "\n",
      "At random state 87, The training accuracy is: 0.5951793993672654\n",
      "At random state 87, The test accuracy is: 0.482236680284604\n",
      "\n",
      "\n",
      "At random state 88, The training accuracy is: 0.5749412083958272\n",
      "At random state 88, The test accuracy is: 0.5787325986452609\n",
      "\n",
      "\n",
      "At random state 89, The training accuracy is: 0.5836947456478588\n",
      "At random state 89, The test accuracy is: 0.5485977401064949\n",
      "\n",
      "\n",
      "At random state 90, The training accuracy is: 0.5859700538999892\n",
      "At random state 90, The test accuracy is: 0.5380437392413429\n",
      "\n",
      "\n",
      "At random state 91, The training accuracy is: 0.5753907769284483\n",
      "At random state 91, The test accuracy is: 0.583355801186972\n",
      "\n",
      "\n",
      "At random state 92, The training accuracy is: 0.5774471602576581\n",
      "At random state 92, The test accuracy is: 0.5694282593681572\n",
      "\n",
      "\n",
      "At random state 93, The training accuracy is: 0.6076765987361361\n",
      "At random state 93, The test accuracy is: 0.4331819512088595\n",
      "\n",
      "\n",
      "At random state 94, The training accuracy is: 0.5668483526178527\n",
      "At random state 94, The test accuracy is: 0.6108603829645709\n",
      "\n",
      "\n",
      "At random state 95, The training accuracy is: 0.5622269252799598\n",
      "At random state 95, The test accuracy is: 0.6269953425820587\n",
      "\n",
      "\n",
      "At random state 96, The training accuracy is: 0.5935367921924182\n",
      "At random state 96, The test accuracy is: 0.4984071641655091\n",
      "\n",
      "\n",
      "At random state 97, The training accuracy is: 0.562287868439385\n",
      "At random state 97, The test accuracy is: 0.6240102836915185\n",
      "\n",
      "\n",
      "At random state 98, The training accuracy is: 0.5516664377816183\n",
      "At random state 98, The test accuracy is: 0.6673093046218175\n",
      "\n",
      "\n",
      "At random state 99, The training accuracy is: 0.5849262471339967\n",
      "At random state 99, The test accuracy is: 0.5332863944532116\n",
      "\n",
      "\n"
     ]
    }
   ],
   "source": [
    "for i in range(0,100):\n",
    "    X_train,X_test,y_train,y_test=train_test_split(scaled_X,y,test_size=0.2,random_state=i)\n",
    "    lr.fit(X_train,y_train)\n",
    "    lr_predict_train=lr.predict(X_train)\n",
    "    lr_predict_test=lr.predict(X_test)\n",
    "    print(f'At random state {i}, The training accuracy is: {r2_score(y_train,lr_predict_train)}')\n",
    "    print(f'At random state {i}, The test accuracy is: {r2_score(y_test,lr_predict_test)}')\n",
    "    print('\\n')"
   ]
  },
  {
   "cell_type": "markdown",
   "id": "3139ffe8",
   "metadata": {},
   "source": [
    "#### Random state = 9,  giving highest accuracy."
   ]
  },
  {
   "cell_type": "markdown",
   "id": "c35246b9",
   "metadata": {},
   "source": [
    "## Spliting Data :"
   ]
  },
  {
   "cell_type": "code",
   "execution_count": 240,
   "id": "e45bebc6",
   "metadata": {},
   "outputs": [],
   "source": [
    "X_train,X_test,y_train,y_test = train_test_split(scaled_X,y,test_size=.27,random_state=5)"
   ]
  },
  {
   "cell_type": "markdown",
   "id": "d9e58ce7",
   "metadata": {},
   "source": [
    "## Linear Regression:"
   ]
  },
  {
   "cell_type": "code",
   "execution_count": 241,
   "id": "2fcb09b2",
   "metadata": {},
   "outputs": [],
   "source": [
    "lr = LinearRegression()"
   ]
  },
  {
   "cell_type": "code",
   "execution_count": 242,
   "id": "70b15929",
   "metadata": {},
   "outputs": [
    {
     "data": {
      "text/plain": [
       "LinearRegression()"
      ]
     },
     "execution_count": 242,
     "metadata": {},
     "output_type": "execute_result"
    }
   ],
   "source": [
    "lr.fit(X_train,y_train)"
   ]
  },
  {
   "cell_type": "code",
   "execution_count": 243,
   "id": "d3fe8a36",
   "metadata": {},
   "outputs": [
    {
     "data": {
      "text/plain": [
       "0.5874585449074907"
      ]
     },
     "execution_count": 243,
     "metadata": {},
     "output_type": "execute_result"
    }
   ],
   "source": [
    "lr.score(X_train,y_train)"
   ]
  },
  {
   "cell_type": "code",
   "execution_count": 244,
   "id": "299f1c0a",
   "metadata": {},
   "outputs": [],
   "source": [
    "lr_pred = lr.predict(X_test)"
   ]
  },
  {
   "cell_type": "code",
   "execution_count": 245,
   "id": "8cf7046f",
   "metadata": {},
   "outputs": [
    {
     "name": "stdout",
     "output_type": "stream",
     "text": [
      "MSE: 0.4910717608077092\n",
      "MAE: 0.5484850108374516\n",
      "r2_score: 0.5415938531409746\n"
     ]
    }
   ],
   "source": [
    "print('MSE:',mean_squared_error(y_test,lr_pred))\n",
    "print('MAE:',mean_absolute_error(y_test,lr_pred))\n",
    "print('r2_score:',r2_score(y_test,lr_pred))"
   ]
  },
  {
   "cell_type": "markdown",
   "id": "2ff5b60e",
   "metadata": {},
   "source": [
    "## RandomForestRegressor"
   ]
  },
  {
   "cell_type": "code",
   "execution_count": 246,
   "id": "51f64448",
   "metadata": {},
   "outputs": [
    {
     "data": {
      "text/plain": [
       "RandomForestRegressor()"
      ]
     },
     "execution_count": 246,
     "metadata": {},
     "output_type": "execute_result"
    }
   ],
   "source": [
    "rf = RandomForestRegressor()\n",
    "rf.fit(X_train,y_train)"
   ]
  },
  {
   "cell_type": "code",
   "execution_count": 247,
   "id": "00dcb6d2",
   "metadata": {},
   "outputs": [
    {
     "data": {
      "text/plain": [
       "0.9680205771444197"
      ]
     },
     "execution_count": 247,
     "metadata": {},
     "output_type": "execute_result"
    }
   ],
   "source": [
    "rf.score(X_train,y_train)"
   ]
  },
  {
   "cell_type": "code",
   "execution_count": 248,
   "id": "44f6e8ce",
   "metadata": {},
   "outputs": [],
   "source": [
    "rf_pred = rf.predict(X_test)"
   ]
  },
  {
   "cell_type": "code",
   "execution_count": 249,
   "id": "f808be5f",
   "metadata": {},
   "outputs": [
    {
     "name": "stdout",
     "output_type": "stream",
     "text": [
      "MSE: 0.2716750950526656\n",
      "MAE: 0.3617664895997645\n",
      "r2_score: 0.7463964669525813\n"
     ]
    }
   ],
   "source": [
    "print('MSE:',mean_squared_error(y_test,rf_pred))\n",
    "print('MAE:',mean_absolute_error(y_test,rf_pred))\n",
    "print('r2_score:',r2_score(y_test,rf_pred))"
   ]
  },
  {
   "cell_type": "markdown",
   "id": "fcc54e17",
   "metadata": {},
   "source": [
    "## DecisionTreeRegressor"
   ]
  },
  {
   "cell_type": "code",
   "execution_count": 250,
   "id": "c14b0304",
   "metadata": {},
   "outputs": [
    {
     "data": {
      "text/plain": [
       "DecisionTreeRegressor()"
      ]
     },
     "execution_count": 250,
     "metadata": {},
     "output_type": "execute_result"
    }
   ],
   "source": [
    "dtc = DecisionTreeRegressor()\n",
    "dtc.fit(X_train,y_train)"
   ]
  },
  {
   "cell_type": "code",
   "execution_count": 251,
   "id": "aaee0d0a",
   "metadata": {},
   "outputs": [
    {
     "data": {
      "text/plain": [
       "0.9920716813704553"
      ]
     },
     "execution_count": 251,
     "metadata": {},
     "output_type": "execute_result"
    }
   ],
   "source": [
    "dtc.score(X_train,y_train)"
   ]
  },
  {
   "cell_type": "code",
   "execution_count": 252,
   "id": "b5d7678e",
   "metadata": {},
   "outputs": [],
   "source": [
    "dtc_pred = dtc.predict(X_test)"
   ]
  },
  {
   "cell_type": "code",
   "execution_count": 253,
   "id": "cc3b9f5a",
   "metadata": {},
   "outputs": [
    {
     "name": "stdout",
     "output_type": "stream",
     "text": [
      "MSE: 0.42548189826757565\n",
      "MAE: 0.45194495723404926\n",
      "r2_score: 0.6028207420799399\n"
     ]
    }
   ],
   "source": [
    "print('MSE:',mean_squared_error(y_test,dtc_pred))\n",
    "print('MAE:',mean_absolute_error(y_test,dtc_pred))\n",
    "print('r2_score:',r2_score(y_test,dtc_pred))"
   ]
  },
  {
   "cell_type": "markdown",
   "id": "afcad5fd",
   "metadata": {},
   "source": [
    "## GradientBoostingRegressor"
   ]
  },
  {
   "cell_type": "code",
   "execution_count": 254,
   "id": "cfb88fe5",
   "metadata": {},
   "outputs": [
    {
     "data": {
      "text/plain": [
       "GradientBoostingRegressor()"
      ]
     },
     "execution_count": 254,
     "metadata": {},
     "output_type": "execute_result"
    }
   ],
   "source": [
    "gbr = GradientBoostingRegressor()\n",
    "gbr.fit(X_train,y_train)"
   ]
  },
  {
   "cell_type": "code",
   "execution_count": 255,
   "id": "848af890",
   "metadata": {},
   "outputs": [
    {
     "data": {
      "text/plain": [
       "0.8972034478296442"
      ]
     },
     "execution_count": 255,
     "metadata": {},
     "output_type": "execute_result"
    }
   ],
   "source": [
    "gbr.score(X_train,y_train)"
   ]
  },
  {
   "cell_type": "code",
   "execution_count": 256,
   "id": "b82af555",
   "metadata": {},
   "outputs": [],
   "source": [
    "gbr_pred = gbr.predict(X_test)"
   ]
  },
  {
   "cell_type": "code",
   "execution_count": 257,
   "id": "8d5dd13e",
   "metadata": {},
   "outputs": [
    {
     "name": "stdout",
     "output_type": "stream",
     "text": [
      "MSE: 0.2697326129100231\n",
      "MAE: 0.3733303508246885\n",
      "r2_score: 0.7482097370801217\n"
     ]
    }
   ],
   "source": [
    "print('MSE:',mean_squared_error(y_test,gbr_pred))\n",
    "print('MAE:',mean_absolute_error(y_test,gbr_pred))\n",
    "print('r2_score:',r2_score(y_test,gbr_pred))"
   ]
  },
  {
   "cell_type": "markdown",
   "id": "a08f0d90",
   "metadata": {},
   "source": [
    "## Ridge:"
   ]
  },
  {
   "cell_type": "code",
   "execution_count": 258,
   "id": "f1c8a177",
   "metadata": {},
   "outputs": [
    {
     "data": {
      "text/plain": [
       "Ridge()"
      ]
     },
     "execution_count": 258,
     "metadata": {},
     "output_type": "execute_result"
    }
   ],
   "source": [
    "R = Ridge()\n",
    "R.fit(X_train,y_train)"
   ]
  },
  {
   "cell_type": "code",
   "execution_count": 259,
   "id": "c9c5da5a",
   "metadata": {},
   "outputs": [
    {
     "data": {
      "text/plain": [
       "0.5874581885152659"
      ]
     },
     "execution_count": 259,
     "metadata": {},
     "output_type": "execute_result"
    }
   ],
   "source": [
    "R.score(X_train,y_train)"
   ]
  },
  {
   "cell_type": "code",
   "execution_count": 260,
   "id": "3870abbf",
   "metadata": {},
   "outputs": [],
   "source": [
    "R_pred = R.predict(X_test)"
   ]
  },
  {
   "cell_type": "code",
   "execution_count": 261,
   "id": "05917ddc",
   "metadata": {},
   "outputs": [
    {
     "name": "stdout",
     "output_type": "stream",
     "text": [
      "MSE: 0.49107034209176365\n",
      "MAE: 0.5485188187422356\n",
      "r2_score: 0.5415951774853209\n"
     ]
    }
   ],
   "source": [
    "print('MSE:',mean_squared_error(y_test,R_pred))\n",
    "print('MAE:',mean_absolute_error(y_test,R_pred))\n",
    "print('r2_score:',r2_score(y_test,R_pred))"
   ]
  },
  {
   "cell_type": "markdown",
   "id": "75a97811",
   "metadata": {},
   "source": [
    "# Cross Validation:"
   ]
  },
  {
   "cell_type": "code",
   "execution_count": 262,
   "id": "a105d319",
   "metadata": {},
   "outputs": [],
   "source": [
    "from sklearn.model_selection import cross_val_score"
   ]
  },
  {
   "cell_type": "code",
   "execution_count": 263,
   "id": "4a97361e",
   "metadata": {},
   "outputs": [],
   "source": [
    "cvs = cross_val_score"
   ]
  },
  {
   "cell_type": "markdown",
   "id": "f2b67081",
   "metadata": {},
   "source": [
    "### LinearRegression"
   ]
  },
  {
   "cell_type": "code",
   "execution_count": 264,
   "id": "d37f5eea",
   "metadata": {},
   "outputs": [
    {
     "name": "stdout",
     "output_type": "stream",
     "text": [
      "0.5595233465199259\n"
     ]
    }
   ],
   "source": [
    "print(cvs(lr,X,y,cv=5).mean())"
   ]
  },
  {
   "cell_type": "markdown",
   "id": "39aef67c",
   "metadata": {},
   "source": [
    "### RandomForestRegressor"
   ]
  },
  {
   "cell_type": "code",
   "execution_count": 265,
   "id": "4692cf6e",
   "metadata": {},
   "outputs": [
    {
     "name": "stdout",
     "output_type": "stream",
     "text": [
      "0.7859756535794381\n"
     ]
    }
   ],
   "source": [
    "print(cvs(rf,X,y,cv=5).mean())"
   ]
  },
  {
   "cell_type": "markdown",
   "id": "d043e59a",
   "metadata": {},
   "source": [
    "### DecisionTreeRegressor"
   ]
  },
  {
   "cell_type": "code",
   "execution_count": 266,
   "id": "83190d91",
   "metadata": {},
   "outputs": [
    {
     "name": "stdout",
     "output_type": "stream",
     "text": [
      "0.6402566352627509\n"
     ]
    }
   ],
   "source": [
    "print(cvs(dtc,X,y,cv=5).mean())"
   ]
  },
  {
   "cell_type": "markdown",
   "id": "06913d07",
   "metadata": {},
   "source": [
    "### GradientBoostingRegressor"
   ]
  },
  {
   "cell_type": "code",
   "execution_count": 267,
   "id": "81503197",
   "metadata": {},
   "outputs": [
    {
     "name": "stdout",
     "output_type": "stream",
     "text": [
      "0.7930058559870492\n"
     ]
    }
   ],
   "source": [
    "print(cvs(gbr,X,y,cv=5).mean())"
   ]
  },
  {
   "cell_type": "markdown",
   "id": "3d5d9e81",
   "metadata": {},
   "source": [
    "### Ridge"
   ]
  },
  {
   "cell_type": "code",
   "execution_count": 268,
   "id": "21f82b69",
   "metadata": {},
   "outputs": [
    {
     "name": "stdout",
     "output_type": "stream",
     "text": [
      "0.5596552945910589\n"
     ]
    }
   ],
   "source": [
    "print(cvs(R,X,y,cv=5).mean())"
   ]
  },
  {
   "cell_type": "markdown",
   "id": "e56c1612",
   "metadata": {},
   "source": [
    " #### According  to   all   metrics   score   selecting   the   GradientBoostingRegressoras    AND    RandomForestRegressor   for GridSeachCV"
   ]
  },
  {
   "cell_type": "markdown",
   "id": "ddb3790f",
   "metadata": {},
   "source": [
    "# Hyper Parameter Tuning:"
   ]
  },
  {
   "cell_type": "code",
   "execution_count": 269,
   "id": "a7bb4a3a",
   "metadata": {},
   "outputs": [],
   "source": [
    "from sklearn.model_selection import GridSearchCV"
   ]
  },
  {
   "cell_type": "markdown",
   "id": "c43f87a2",
   "metadata": {},
   "source": [
    "### GradientBoostingRegressor"
   ]
  },
  {
   "cell_type": "code",
   "execution_count": 277,
   "id": "62092551",
   "metadata": {},
   "outputs": [],
   "source": [
    "GF=GradientBoostingRegressor()"
   ]
  },
  {
   "cell_type": "code",
   "execution_count": 278,
   "id": "f90d5a16",
   "metadata": {},
   "outputs": [],
   "source": [
    "parameter = {'criterion':['mse','mae'],'n_estimators':[100, 200],}"
   ]
  },
  {
   "cell_type": "code",
   "execution_count": 279,
   "id": "050650ec",
   "metadata": {},
   "outputs": [],
   "source": [
    "GCV = GridSearchCV(RandomForestRegressor(),param,cv=10,scoring='accuracy',n_jobs=-1,verbose=2)"
   ]
  },
  {
   "cell_type": "code",
   "execution_count": 280,
   "id": "ab8a6c68",
   "metadata": {},
   "outputs": [
    {
     "name": "stdout",
     "output_type": "stream",
     "text": [
      "Fitting 10 folds for each of 54 candidates, totalling 540 fits\n"
     ]
    }
   ],
   "source": [
    "GCV.fit(X_train,y_train)\n",
    "GCV_pred = GCV.best_estimator_.predict(X_test)"
   ]
  },
  {
   "cell_type": "code",
   "execution_count": 281,
   "id": "1b3efdd9",
   "metadata": {},
   "outputs": [
    {
     "data": {
      "text/plain": [
       "{'bootstrap': True, 'max_depth': 10, 'max_features': 1, 'n_estimators': 50}"
      ]
     },
     "execution_count": 281,
     "metadata": {},
     "output_type": "execute_result"
    }
   ],
   "source": [
    "GCV.best_params_"
   ]
  },
  {
   "cell_type": "code",
   "execution_count": 282,
   "id": "a9fb92f3",
   "metadata": {},
   "outputs": [
    {
     "name": "stdout",
     "output_type": "stream",
     "text": [
      "MSE: 0.2638643779015012\n",
      "MAE: 0.3752336227327886\n",
      "r2_score: 0.6472527746656215\n"
     ]
    }
   ],
   "source": [
    "print('MSE:',mean_squared_error(GCV_pred,y_test))\n",
    "print('MAE:',mean_absolute_error(GCV_pred,y_test))\n",
    "print('r2_score:',r2_score(GCV_pred,y_test))"
   ]
  },
  {
   "cell_type": "markdown",
   "id": "b3244c12",
   "metadata": {},
   "source": [
    "### RandomForestRegressor"
   ]
  },
  {
   "cell_type": "code",
   "execution_count": 283,
   "id": "746f44c8",
   "metadata": {},
   "outputs": [],
   "source": [
    "RF = RandomForestRegressor()"
   ]
  },
  {
   "cell_type": "code",
   "execution_count": 284,
   "id": "2b2bda4d",
   "metadata": {},
   "outputs": [],
   "source": [
    "param = {'n_estimators':[50,100,200],'max_depth':[10,50,None],'max_features': [1,2,3],'bootstrap': [True, False]}"
   ]
  },
  {
   "cell_type": "code",
   "execution_count": 285,
   "id": "27814b44",
   "metadata": {},
   "outputs": [],
   "source": [
    "glf = GridSearchCV(estimator=RF,param_grid=param,scoring='r2',n_jobs=-1)"
   ]
  },
  {
   "cell_type": "code",
   "execution_count": 286,
   "id": "98708bdf",
   "metadata": {},
   "outputs": [
    {
     "data": {
      "text/plain": [
       "GridSearchCV(estimator=RandomForestRegressor(), n_jobs=-1,\n",
       "             param_grid={'bootstrap': [True, False],\n",
       "                         'max_depth': [10, 50, None], 'max_features': [1, 2, 3],\n",
       "                         'n_estimators': [50, 100, 200]},\n",
       "             scoring='r2')"
      ]
     },
     "execution_count": 286,
     "metadata": {},
     "output_type": "execute_result"
    }
   ],
   "source": [
    "glf.fit(X_train,y_train)"
   ]
  },
  {
   "cell_type": "code",
   "execution_count": 287,
   "id": "78d51b86",
   "metadata": {},
   "outputs": [
    {
     "data": {
      "text/plain": [
       "{'bootstrap': False, 'max_depth': 10, 'max_features': 3, 'n_estimators': 50}"
      ]
     },
     "execution_count": 287,
     "metadata": {},
     "output_type": "execute_result"
    }
   ],
   "source": [
    "glf.best_params_"
   ]
  },
  {
   "cell_type": "code",
   "execution_count": 288,
   "id": "069fda6d",
   "metadata": {},
   "outputs": [],
   "source": [
    "RF = RandomForestRegressor(bootstrap=True,max_depth=10,max_features=3,n_estimators=50)"
   ]
  },
  {
   "cell_type": "code",
   "execution_count": 289,
   "id": "8f231a1b",
   "metadata": {},
   "outputs": [
    {
     "data": {
      "text/plain": [
       "RandomForestRegressor(max_depth=10, max_features=3, n_estimators=50)"
      ]
     },
     "execution_count": 289,
     "metadata": {},
     "output_type": "execute_result"
    }
   ],
   "source": [
    "RF.fit(X_train,y_train)"
   ]
  },
  {
   "cell_type": "code",
   "execution_count": 290,
   "id": "d73ff811",
   "metadata": {},
   "outputs": [],
   "source": [
    "RF_pred = RF.predict(X_test)"
   ]
  },
  {
   "cell_type": "code",
   "execution_count": 291,
   "id": "3970bed3",
   "metadata": {},
   "outputs": [
    {
     "name": "stdout",
     "output_type": "stream",
     "text": [
      "MSE: 0.2548937306543075\n",
      "MAE: 0.3596914727778813\n",
      "r2_score: 0.6754565830058703\n"
     ]
    }
   ],
   "source": [
    "print('MSE:',mean_squared_error(RF_pred,y_test))\n",
    "print('MAE:',mean_absolute_error(RF_pred,y_test))\n",
    "print('r2_score:',r2_score(RF_pred,y_test))"
   ]
  },
  {
   "cell_type": "markdown",
   "id": "f4335523",
   "metadata": {},
   "source": [
    "##### Visualize:"
   ]
  },
  {
   "cell_type": "code",
   "execution_count": 292,
   "id": "ad566f00",
   "metadata": {},
   "outputs": [
    {
     "data": {
      "text/plain": [
       "<AxesSubplot:xlabel='capacity_mw', ylabel='Density'>"
      ]
     },
     "execution_count": 292,
     "metadata": {},
     "output_type": "execute_result"
    },
    {
     "data": {
      "image/png": "[encoded data removed]",
      "text/plain": [
       "<Figure size 432x288 with 1 Axes>"
      ]
     },
     "metadata": {},
     "output_type": "display_data"
    }
   ],
   "source": [
    "#RandomForest\n",
    "sns.distplot(RF_pred-y_test)"
   ]
  },
  {
   "cell_type": "code",
   "execution_count": 293,
   "id": "5ad51827",
   "metadata": {},
   "outputs": [
    {
     "data": {
      "text/plain": [
       "[<matplotlib.lines.Line2D at 0x1f2af21e4f0>]"
      ]
     },
     "execution_count": 293,
     "metadata": {},
     "output_type": "execute_result"
    },
    {
     "data": {
      "image/png": "[encoded data removed]",
      "text/plain": [
       "<Figure size 432x288 with 1 Axes>"
      ]
     },
     "metadata": {},
     "output_type": "display_data"
    }
   ],
   "source": [
    "plt.scatter(RF_pred,y_test)\n",
    "plt.plot(y_test,y_test,linewidth=2,color='Red')"
   ]
  },
  {
   "cell_type": "code",
   "execution_count": 294,
   "id": "d29d8c75",
   "metadata": {},
   "outputs": [
    {
     "data": {
      "text/plain": [
       "<AxesSubplot:xlabel='capacity_mw', ylabel='Density'>"
      ]
     },
     "execution_count": 294,
     "metadata": {},
     "output_type": "execute_result"
    },
    {
     "data": {
      "image/png": "[encoded data removed]",
      "text/plain": [
       "<Figure size 432x288 with 1 Axes>"
      ]
     },
     "metadata": {},
     "output_type": "display_data"
    }
   ],
   "source": [
    "#GradientBoostingRegressor\n",
    "sns.distplot(GCV_pred-y_test)"
   ]
  },
  {
   "cell_type": "code",
   "execution_count": 295,
   "id": "9effd76f",
   "metadata": {},
   "outputs": [
    {
     "data": {
      "text/plain": [
       "[<matplotlib.lines.Line2D at 0x1f2af2e9fa0>]"
      ]
     },
     "execution_count": 295,
     "metadata": {},
     "output_type": "execute_result"
    },
    {
     "data": {
      "image/png": "[encoded data removed]",
      "text/plain": [
       "<Figure size 432x288 with 1 Axes>"
      ]
     },
     "metadata": {},
     "output_type": "display_data"
    }
   ],
   "source": [
    "plt.scatter(GCV_pred,y_test)\n",
    "plt.plot(y_test,y_test,linewidth=2,color='Red')"
   ]
  },
  {
   "cell_type": "markdown",
   "id": "c0166834",
   "metadata": {},
   "source": [
    "# Choosing   RandomForestRegressor   as the best model"
   ]
  },
  {
   "cell_type": "markdown",
   "id": "84146e04",
   "metadata": {},
   "source": [
    "# saving:"
   ]
  },
  {
   "cell_type": "code",
   "execution_count": 296,
   "id": "cb23118f",
   "metadata": {},
   "outputs": [],
   "source": [
    "import joblib"
   ]
  },
  {
   "cell_type": "code",
   "execution_count": 297,
   "id": "9c52ce15",
   "metadata": {},
   "outputs": [
    {
     "data": {
      "text/plain": [
       "['Global Power Plant Regression.pkl']"
      ]
     },
     "execution_count": 297,
     "metadata": {},
     "output_type": "execute_result"
    }
   ],
   "source": [
    "joblib.dump(RF,'Global Power Plant Regression.pkl')"
   ]
  },
  {
   "cell_type": "markdown",
   "id": "417b73ae",
   "metadata": {},
   "source": [
    "# !!!!!!!!!!!!!!!!!!!!!!!!!!!!!!!!!!!!!!!!!!!!!!!!"
   ]
  },
  {
   "cell_type": "markdown",
   "id": "4eedf072",
   "metadata": {},
   "source": [
    "# TAKING   'primary_fuel'   AS TARGET"
   ]
  },
  {
   "cell_type": "markdown",
   "id": "a6932e7b",
   "metadata": {},
   "source": [
    "### Spliting Data"
   ]
  },
  {
   "cell_type": "code",
   "execution_count": 301,
   "id": "9ab329cc",
   "metadata": {},
   "outputs": [],
   "source": [
    "X = df1.drop(['primary_fuel'],axis=1)\n",
    "y = df1['primary_fuel']"
   ]
  },
  {
   "cell_type": "code",
   "execution_count": 302,
   "id": "bb8a34a1",
   "metadata": {},
   "outputs": [
    {
     "data": {
      "text/plain": [
       "(885, 10)"
      ]
     },
     "execution_count": 302,
     "metadata": {},
     "output_type": "execute_result"
    }
   ],
   "source": [
    "X.shape"
   ]
  },
  {
   "cell_type": "code",
   "execution_count": 303,
   "id": "dd71256c",
   "metadata": {},
   "outputs": [
    {
     "data": {
      "text/plain": [
       "(885,)"
      ]
     },
     "execution_count": 303,
     "metadata": {},
     "output_type": "execute_result"
    }
   ],
   "source": [
    "y.shape"
   ]
  },
  {
   "cell_type": "markdown",
   "id": "29f208a7",
   "metadata": {},
   "source": [
    "# Spliting Data:"
   ]
  },
  {
   "cell_type": "code",
   "execution_count": 304,
   "id": "3b39a915",
   "metadata": {},
   "outputs": [],
   "source": [
    "X_train,X_test,y_train,y_test=train_test_split(X,y,test_size=.27,random_state=42)"
   ]
  },
  {
   "cell_type": "code",
   "execution_count": 305,
   "id": "34b4c0cb",
   "metadata": {},
   "outputs": [
    {
     "data": {
      "text/plain": [
       "(646, 10)"
      ]
     },
     "execution_count": 305,
     "metadata": {},
     "output_type": "execute_result"
    }
   ],
   "source": [
    "X_train.shape"
   ]
  },
  {
   "cell_type": "code",
   "execution_count": 306,
   "id": "fb7b3820",
   "metadata": {},
   "outputs": [
    {
     "data": {
      "text/plain": [
       "(239, 10)"
      ]
     },
     "execution_count": 306,
     "metadata": {},
     "output_type": "execute_result"
    }
   ],
   "source": [
    "X_test.shape"
   ]
  },
  {
   "cell_type": "code",
   "execution_count": 307,
   "id": "1702bdcc",
   "metadata": {},
   "outputs": [
    {
     "data": {
      "text/plain": [
       "(646,)"
      ]
     },
     "execution_count": 307,
     "metadata": {},
     "output_type": "execute_result"
    }
   ],
   "source": [
    "y_train.shape"
   ]
  },
  {
   "cell_type": "code",
   "execution_count": 308,
   "id": "2ea3a38f",
   "metadata": {},
   "outputs": [
    {
     "data": {
      "text/plain": [
       "(239,)"
      ]
     },
     "execution_count": 308,
     "metadata": {},
     "output_type": "execute_result"
    }
   ],
   "source": [
    "y_test.shape"
   ]
  },
  {
   "cell_type": "markdown",
   "id": "9ac30983",
   "metadata": {},
   "source": [
    "# MODEL BUILDING:"
   ]
  },
  {
   "cell_type": "code",
   "execution_count": 309,
   "id": "bc61d3ce",
   "metadata": {},
   "outputs": [],
   "source": [
    "from sklearn.linear_model import LogisticRegression\n",
    "from sklearn.tree import DecisionTreeClassifier\n",
    "from sklearn.neighbors import KNeighborsClassifier\n",
    "from sklearn.model_selection import train_test_split\n",
    "from sklearn.metrics import accuracy_score,confusion_matrix,classification_report\n",
    "from sklearn.ensemble import RandomForestClassifier\n",
    "from sklearn.ensemble import AdaBoostClassifier\n",
    "from sklearn.ensemble import GradientBoostingClassifier\n",
    "from sklearn.model_selection import GridSearchCV\n",
    "from sklearn.metrics import precision_score\n",
    "from sklearn.metrics import recall_score\n",
    "from sklearn.metrics import f1_score\n",
    "\n",
    "import warnings\n",
    "from sklearn.model_selection import cross_val_score\n",
    "warnings.filterwarnings('ignore')"
   ]
  },
  {
   "cell_type": "markdown",
   "id": "8f11f99f",
   "metadata": {},
   "source": [
    "# LogisticRegression:"
   ]
  },
  {
   "cell_type": "code",
   "execution_count": 311,
   "id": "f3f49adc",
   "metadata": {},
   "outputs": [
    {
     "name": "stdout",
     "output_type": "stream",
     "text": [
      "cross validation score: 0.5853107344632769\n"
     ]
    }
   ],
   "source": [
    "LR = LogisticRegression()\n",
    "LR_score = cross_val_score(LR , X, y, cv=5, scoring='accuracy')\n",
    "print(\"cross validation score:\",np.mean(LR_score))"
   ]
  },
  {
   "cell_type": "code",
   "execution_count": 312,
   "id": "714402cb",
   "metadata": {},
   "outputs": [
    {
     "data": {
      "text/plain": [
       "LogisticRegression()"
      ]
     },
     "execution_count": 312,
     "metadata": {},
     "output_type": "execute_result"
    }
   ],
   "source": [
    "LR.fit(X_train,y_train)"
   ]
  },
  {
   "cell_type": "code",
   "execution_count": 313,
   "id": "e3071e20",
   "metadata": {},
   "outputs": [],
   "source": [
    "LR_pred = LR.predict(X_test)"
   ]
  },
  {
   "cell_type": "code",
   "execution_count": 314,
   "id": "1bf98434",
   "metadata": {},
   "outputs": [
    {
     "name": "stdout",
     "output_type": "stream",
     "text": [
      "0.5774058577405857\n",
      "[[ 9  0  0  3  0  0  0  0]\n",
      " [ 6 44  1 12  0  0  0  5]\n",
      " [ 0 10  2  7  0  0  0  0]\n",
      " [ 0 11  0 42  0  0  0 15]\n",
      " [ 0  1  0  0  0  0  0  1]\n",
      " [ 2  1  0  0  0  0  0  2]\n",
      " [ 0  1  0  0  0  0 29  0]\n",
      " [ 0  0  0 23  0  0  0 12]]\n",
      "              precision    recall  f1-score   support\n",
      "\n",
      "           0       0.53      0.75      0.62        12\n",
      "           1       0.65      0.65      0.65        68\n",
      "           2       0.67      0.11      0.18        19\n",
      "           3       0.48      0.62      0.54        68\n",
      "           4       0.00      0.00      0.00         2\n",
      "           5       0.00      0.00      0.00         5\n",
      "           6       1.00      0.97      0.98        30\n",
      "           7       0.34      0.34      0.34        35\n",
      "\n",
      "    accuracy                           0.58       239\n",
      "   macro avg       0.46      0.43      0.41       239\n",
      "weighted avg       0.58      0.58      0.56       239\n",
      "\n",
      "Training accuracy:: 0.6160990712074303\n",
      "Test accuracy:: 0.5774058577405857\n"
     ]
    }
   ],
   "source": [
    "print(accuracy_score(y_test,LR_pred))\n",
    "print(confusion_matrix(y_test,LR_pred))\n",
    "print(classification_report(y_test,LR_pred))\n",
    "print(\"Training accuracy::\",LR.score(X_train,y_train))\n",
    "print(\"Test accuracy::\",LR.score(X_test,y_test))"
   ]
  },
  {
   "cell_type": "markdown",
   "id": "b47f49ab",
   "metadata": {},
   "source": [
    "# DECISION TREE CLASSIFIER"
   ]
  },
  {
   "cell_type": "code",
   "execution_count": 319,
   "id": "485e0514",
   "metadata": {},
   "outputs": [
    {
     "name": "stdout",
     "output_type": "stream",
     "text": [
      "cross validation score for DECISION TREE CLASSIFIER : 0.7819209039548023\n"
     ]
    }
   ],
   "source": [
    "dtc = DecisionTreeClassifier()\n",
    "dtc_score = cross_val_score(dtc,X,y,cv=5,scoring='accuracy')\n",
    "print(\"cross validation score for DECISION TREE CLASSIFIER :\",np.mean(dtc_score))"
   ]
  },
  {
   "cell_type": "code",
   "execution_count": 321,
   "id": "87f56225",
   "metadata": {},
   "outputs": [],
   "source": [
    "dtc.fit(X_train,y_train)\n",
    "dtc_pred = dtc.predict(X_test)"
   ]
  },
  {
   "cell_type": "code",
   "execution_count": 322,
   "id": "cd9a2132",
   "metadata": {},
   "outputs": [
    {
     "name": "stdout",
     "output_type": "stream",
     "text": [
      "0.7824267782426778\n",
      "[[11  1  0  0  0  0  0  0]\n",
      " [ 1 44  6 11  2  4  0  0]\n",
      " [ 0  4  7  7  0  1  0  0]\n",
      " [ 0  5  4 58  1  0  0  0]\n",
      " [ 0  1  1  0  0  0  0  0]\n",
      " [ 0  1  1  0  0  3  0  0]\n",
      " [ 0  1  0  0  0  0 29  0]\n",
      " [ 0  0  0  0  0  0  0 35]]\n",
      "              precision    recall  f1-score   support\n",
      "\n",
      "           0       0.92      0.92      0.92        12\n",
      "           1       0.77      0.65      0.70        68\n",
      "           2       0.37      0.37      0.37        19\n",
      "           3       0.76      0.85      0.81        68\n",
      "           4       0.00      0.00      0.00         2\n",
      "           5       0.38      0.60      0.46         5\n",
      "           6       1.00      0.97      0.98        30\n",
      "           7       1.00      1.00      1.00        35\n",
      "\n",
      "    accuracy                           0.78       239\n",
      "   macro avg       0.65      0.67      0.65       239\n",
      "weighted avg       0.79      0.78      0.78       239\n",
      "\n",
      "Training accuracy:: 1.0\n",
      "Test accuracy:: 0.7824267782426778\n"
     ]
    }
   ],
   "source": [
    "print(accuracy_score(y_test,dtc_pred))\n",
    "print(confusion_matrix(y_test,dtc_pred))\n",
    "print(classification_report(y_test,dtc_pred))\n",
    "print(\"Training accuracy::\",dtc.score(X_train,y_train))\n",
    "print(\"Test accuracy::\",dtc.score(X_test,y_test))"
   ]
  },
  {
   "cell_type": "markdown",
   "id": "952bb603",
   "metadata": {},
   "source": [
    "# KNeighborsClassifier:"
   ]
  },
  {
   "cell_type": "code",
   "execution_count": 323,
   "id": "b30fad97",
   "metadata": {},
   "outputs": [],
   "source": [
    "knn = KNeighborsClassifier()"
   ]
  },
  {
   "cell_type": "code",
   "execution_count": 324,
   "id": "7212075b",
   "metadata": {},
   "outputs": [
    {
     "name": "stdout",
     "output_type": "stream",
     "text": [
      "cross validation score for KNeighborsClassifier : 0.7401129943502824\n"
     ]
    }
   ],
   "source": [
    "knn_score = cross_val_score(knn,X,y,cv=5,scoring='accuracy')\n",
    "print(\"cross validation score for KNeighborsClassifier :\",np.mean(knn_score))"
   ]
  },
  {
   "cell_type": "code",
   "execution_count": 325,
   "id": "815648da",
   "metadata": {},
   "outputs": [],
   "source": [
    "knn.fit(X_train,y_train)\n",
    "knn_pred = knn.predict(X_test) "
   ]
  },
  {
   "cell_type": "code",
   "execution_count": 326,
   "id": "9f4cd51f",
   "metadata": {},
   "outputs": [
    {
     "name": "stdout",
     "output_type": "stream",
     "text": [
      "0.7405857740585774\n",
      "[[ 8  2  1  0  0  0  1  0]\n",
      " [ 2 49  5  6  0  0  5  1]\n",
      " [ 1  2  7  8  0  0  0  1]\n",
      " [ 0  6  0 57  0  0  0  5]\n",
      " [ 0  0  1  0  0  0  0  1]\n",
      " [ 1  1  1  1  0  0  1  0]\n",
      " [ 5  3  0  1  0  0 21  0]\n",
      " [ 0  0  0  0  0  0  0 35]]\n",
      "              precision    recall  f1-score   support\n",
      "\n",
      "           0       0.47      0.67      0.55        12\n",
      "           1       0.78      0.72      0.75        68\n",
      "           2       0.47      0.37      0.41        19\n",
      "           3       0.78      0.84      0.81        68\n",
      "           4       0.00      0.00      0.00         2\n",
      "           5       0.00      0.00      0.00         5\n",
      "           6       0.75      0.70      0.72        30\n",
      "           7       0.81      1.00      0.90        35\n",
      "\n",
      "    accuracy                           0.74       239\n",
      "   macro avg       0.51      0.54      0.52       239\n",
      "weighted avg       0.72      0.74      0.73       239\n",
      "\n",
      "Training accuracy:: 0.8173374613003096\n",
      "Test accuracy:: 0.7405857740585774\n"
     ]
    }
   ],
   "source": [
    "print(accuracy_score(y_test,knn_pred))\n",
    "print(confusion_matrix(y_test,knn_pred))\n",
    "print(classification_report(y_test,knn_pred))\n",
    "print(\"Training accuracy::\",knn.score(X_train,y_train))\n",
    "print(\"Test accuracy::\",knn.score(X_test,y_test))"
   ]
  },
  {
   "cell_type": "markdown",
   "id": "cf1bcbfb",
   "metadata": {},
   "source": [
    "# RandomForestClassifier"
   ]
  },
  {
   "cell_type": "code",
   "execution_count": 328,
   "id": "19df9333",
   "metadata": {},
   "outputs": [
    {
     "name": "stdout",
     "output_type": "stream",
     "text": [
      "cross validation score for rf: 0.8485875706214688\n"
     ]
    }
   ],
   "source": [
    "rf = RandomForestClassifier()\n",
    "rf_score = cross_val_score(rf,X,y,cv=5,scoring='accuracy')\n",
    "print(\"cross validation score for rf:\",np.mean(rf_score))"
   ]
  },
  {
   "cell_type": "code",
   "execution_count": 329,
   "id": "95ddee91",
   "metadata": {},
   "outputs": [],
   "source": [
    "rf.fit(X_train,y_train)\n",
    "rf_pred = rf.predict(X_test)"
   ]
  },
  {
   "cell_type": "code",
   "execution_count": 330,
   "id": "8f06ad1e",
   "metadata": {},
   "outputs": [
    {
     "name": "stdout",
     "output_type": "stream",
     "text": [
      "0.8284518828451883\n",
      "[[12  0  0  0  0  0  0  0]\n",
      " [ 6 51  1  8  0  2  0  0]\n",
      " [ 0  2  3 12  0  2  0  0]\n",
      " [ 0  4  0 64  0  0  0  0]\n",
      " [ 0  2  0  0  0  0  0  0]\n",
      " [ 0  1  1  0  0  3  0  0]\n",
      " [ 0  0  0  0  0  0 30  0]\n",
      " [ 0  0  0  0  0  0  0 35]]\n",
      "              precision    recall  f1-score   support\n",
      "\n",
      "           0       0.67      1.00      0.80        12\n",
      "           1       0.85      0.75      0.80        68\n",
      "           2       0.60      0.16      0.25        19\n",
      "           3       0.76      0.94      0.84        68\n",
      "           4       0.00      0.00      0.00         2\n",
      "           5       0.43      0.60      0.50         5\n",
      "           6       1.00      1.00      1.00        30\n",
      "           7       1.00      1.00      1.00        35\n",
      "\n",
      "    accuracy                           0.83       239\n",
      "   macro avg       0.66      0.68      0.65       239\n",
      "weighted avg       0.82      0.83      0.81       239\n",
      "\n",
      "Training accuracy:: 1.0\n",
      "Test accuracy:: 0.8284518828451883\n"
     ]
    }
   ],
   "source": [
    "print(accuracy_score(y_test,rf_pred))\n",
    "print(confusion_matrix(y_test,rf_pred))\n",
    "print(classification_report(y_test,rf_pred))\n",
    "print(\"Training accuracy::\",rf.score(X_train,y_train))\n",
    "print(\"Test accuracy::\",rf.score(X_test,y_test))"
   ]
  },
  {
   "cell_type": "markdown",
   "id": "ecd974c2",
   "metadata": {},
   "source": [
    "# Gradient Boosting classifier"
   ]
  },
  {
   "cell_type": "code",
   "execution_count": 331,
   "id": "9e2ca1df",
   "metadata": {},
   "outputs": [
    {
     "name": "stdout",
     "output_type": "stream",
     "text": [
      "cross validation score for Gradient Boosting Classifier: 0.8417900919305413\n"
     ]
    }
   ],
   "source": [
    "gb = GradientBoostingClassifier()\n",
    "gb_score = cross_val_score(gb,X,y,cv=10,scoring='accuracy')\n",
    "print(\"cross validation score for Gradient Boosting Classifier:\",np.mean(gb_score))"
   ]
  },
  {
   "cell_type": "code",
   "execution_count": 332,
   "id": "a2ed7557",
   "metadata": {},
   "outputs": [],
   "source": [
    "gb.fit(X_train,y_train)\n",
    "gb_pred = gb.predict(X_test)"
   ]
  },
  {
   "cell_type": "code",
   "execution_count": 333,
   "id": "8b3f6eba",
   "metadata": {},
   "outputs": [
    {
     "name": "stdout",
     "output_type": "stream",
     "text": [
      "0.8200836820083682\n",
      "[[12  0  0  0  0  0  0  0]\n",
      " [ 5 49  1  9  2  2  0  0]\n",
      " [ 0  5  8  5  0  1  0  0]\n",
      " [ 0  6  1 61  0  0  0  0]\n",
      " [ 0  2  0  0  0  0  0  0]\n",
      " [ 0  1  3  0  0  1  0  0]\n",
      " [ 0  0  0  0  0  0 30  0]\n",
      " [ 0  0  0  0  0  0  0 35]]\n",
      "              precision    recall  f1-score   support\n",
      "\n",
      "           0       0.71      1.00      0.83        12\n",
      "           1       0.78      0.72      0.75        68\n",
      "           2       0.62      0.42      0.50        19\n",
      "           3       0.81      0.90      0.85        68\n",
      "           4       0.00      0.00      0.00         2\n",
      "           5       0.25      0.20      0.22         5\n",
      "           6       1.00      1.00      1.00        30\n",
      "           7       1.00      1.00      1.00        35\n",
      "\n",
      "    accuracy                           0.82       239\n",
      "   macro avg       0.65      0.65      0.64       239\n",
      "weighted avg       0.81      0.82      0.81       239\n",
      "\n",
      "Training accuracy:: 1.0\n",
      "Test accuracy:: 0.8200836820083682\n"
     ]
    }
   ],
   "source": [
    "print(accuracy_score(y_test,gb_pred))\n",
    "print(confusion_matrix(y_test,gb_pred))\n",
    "print(classification_report(y_test,gb_pred))\n",
    "print(\"Training accuracy::\",gb.score(X_train,y_train))\n",
    "print(\"Test accuracy::\",gb.score(X_test,y_test))"
   ]
  },
  {
   "cell_type": "markdown",
   "id": "d28ca327",
   "metadata": {},
   "source": [
    "# RandomForestClassifier as Best model "
   ]
  },
  {
   "cell_type": "markdown",
   "id": "05a4136a",
   "metadata": {},
   "source": [
    "# HYPER PARAMETER TUNING:"
   ]
  },
  {
   "cell_type": "markdown",
   "id": "d728eb0e",
   "metadata": {},
   "source": [
    "### RandomForestRegressor"
   ]
  },
  {
   "cell_type": "code",
   "execution_count": 336,
   "id": "c9d0c4b5",
   "metadata": {},
   "outputs": [],
   "source": [
    "rfc = RandomForestRegressor()"
   ]
  },
  {
   "cell_type": "code",
   "execution_count": 337,
   "id": "9ee96893",
   "metadata": {},
   "outputs": [],
   "source": [
    "param = {'n_estimators':[50,100,200],'max_depth':[10,50,None],'max_features': [1,2,3],'bootstrap': [True, False]}"
   ]
  },
  {
   "cell_type": "code",
   "execution_count": 339,
   "id": "eef28665",
   "metadata": {},
   "outputs": [],
   "source": [
    "gcv = GridSearchCV(estimator=rfc,param_grid=param,scoring='r2',n_jobs=-1)"
   ]
  },
  {
   "cell_type": "code",
   "execution_count": 340,
   "id": "5d9fc6f6",
   "metadata": {},
   "outputs": [
    {
     "data": {
      "text/plain": [
       "GridSearchCV(estimator=RandomForestRegressor(), n_jobs=-1,\n",
       "             param_grid={'bootstrap': [True, False],\n",
       "                         'max_depth': [10, 50, None], 'max_features': [1, 2, 3],\n",
       "                         'n_estimators': [50, 100, 200]},\n",
       "             scoring='r2')"
      ]
     },
     "execution_count": 340,
     "metadata": {},
     "output_type": "execute_result"
    }
   ],
   "source": [
    "gcv.fit(X_train,y_train)"
   ]
  },
  {
   "cell_type": "code",
   "execution_count": 341,
   "id": "aedf33e2",
   "metadata": {},
   "outputs": [
    {
     "data": {
      "text/plain": [
       "{'bootstrap': False, 'max_depth': None, 'max_features': 3, 'n_estimators': 100}"
      ]
     },
     "execution_count": 341,
     "metadata": {},
     "output_type": "execute_result"
    }
   ],
   "source": [
    "gcv.best_params_"
   ]
  },
  {
   "cell_type": "code",
   "execution_count": 342,
   "id": "fe249db0",
   "metadata": {},
   "outputs": [],
   "source": [
    "rfc = RandomForestRegressor(bootstrap=True,max_depth=10,max_features=3,n_estimators=50)"
   ]
  },
  {
   "cell_type": "code",
   "execution_count": 343,
   "id": "3ed3a430",
   "metadata": {},
   "outputs": [
    {
     "data": {
      "text/plain": [
       "RandomForestRegressor(max_depth=10, max_features=3, n_estimators=50)"
      ]
     },
     "execution_count": 343,
     "metadata": {},
     "output_type": "execute_result"
    }
   ],
   "source": [
    "rfc.fit(X_train,y_train)"
   ]
  },
  {
   "cell_type": "code",
   "execution_count": 344,
   "id": "a126ccb7",
   "metadata": {},
   "outputs": [],
   "source": [
    "rfc_pred = rfc.predict(X_test)"
   ]
  },
  {
   "cell_type": "code",
   "execution_count": 347,
   "id": "93a85264",
   "metadata": {},
   "outputs": [
    {
     "name": "stdout",
     "output_type": "stream",
     "text": [
      "MSE: 0.5543700973165344\n",
      "MAE: 0.4481787339795863\n",
      "r2_score: 0.8699839023782606\n"
     ]
    }
   ],
   "source": [
    "print('MSE:',mean_squared_error(rfc_pred,y_test))\n",
    "print('MAE:',mean_absolute_error(rfc_pred,y_test))\n",
    "print('r2_score:',r2_score(rfc_pred,y_test))"
   ]
  },
  {
   "cell_type": "markdown",
   "id": "12f2fbe2",
   "metadata": {},
   "source": [
    "# RandomForestClassifier is best model with 86.99%"
   ]
  },
  {
   "cell_type": "markdown",
   "id": "ffeafce2",
   "metadata": {},
   "source": [
    "# Visualize:"
   ]
  },
  {
   "cell_type": "code",
   "execution_count": 349,
   "id": "acdada33",
   "metadata": {},
   "outputs": [
    {
     "data": {
      "text/plain": [
       "<AxesSubplot:xlabel='primary_fuel', ylabel='Density'>"
      ]
     },
     "execution_count": 349,
     "metadata": {},
     "output_type": "execute_result"
    },
    {
     "data": {
      "image/png": "[encoded data removed]",
      "text/plain": [
       "<Figure size 432x288 with 1 Axes>"
      ]
     },
     "metadata": {},
     "output_type": "display_data"
    }
   ],
   "source": [
    "#RandomForest\n",
    "sns.distplot(rfc_pred-y_test)"
   ]
  },
  {
   "cell_type": "code",
   "execution_count": 350,
   "id": "cf4bb909",
   "metadata": {},
   "outputs": [
    {
     "data": {
      "text/plain": [
       "[<matplotlib.lines.Line2D at 0x1f2af923e80>]"
      ]
     },
     "execution_count": 350,
     "metadata": {},
     "output_type": "execute_result"
    },
    {
     "data": {
      "image/png": "[encoded data removed]",
      "text/plain": [
       "<Figure size 432x288 with 1 Axes>"
      ]
     },
     "metadata": {},
     "output_type": "display_data"
    }
   ],
   "source": [
    "plt.scatter(rfc_pred,y_test)\n",
    "plt.plot(y_test,y_test,linewidth=2,color='Red')"
   ]
  },
  {
   "cell_type": "markdown",
   "id": "f3ea07f0",
   "metadata": {},
   "source": [
    "# Saving Model:"
   ]
  },
  {
   "cell_type": "code",
   "execution_count": 351,
   "id": "a047885f",
   "metadata": {},
   "outputs": [],
   "source": [
    "import joblib"
   ]
  },
  {
   "cell_type": "code",
   "execution_count": 352,
   "id": "c31cccbf",
   "metadata": {},
   "outputs": [
    {
     "data": {
      "text/plain": [
       "['GlobalPower Classification.pkl']"
      ]
     },
     "execution_count": 352,
     "metadata": {},
     "output_type": "execute_result"
    }
   ],
   "source": [
    "joblib.dump(rfc,'GlobalPower Classification.pkl')"
   ]
  },
  {
   "cell_type": "code",
   "execution_count": null,
   "id": "42a54d3b",
   "metadata": {},
   "outputs": [],
   "source": []
  }
 ],
 "metadata": {
  "kernelspec": {
   "display_name": "Python 3",
   "language": "python",
   "name": "python3"
  },
  "language_info": {
   "codemirror_mode": {
    "name": "ipython",
    "version": 3
   },
   "file_extension": ".py",
   "mimetype": "text/x-python",
   "name": "python",
   "nbconvert_exporter": "python",
   "pygments_lexer": "ipython3",
   "version": "3.8.8"
  }
 },
 "nbformat": 4,
 "nbformat_minor": 5
}
