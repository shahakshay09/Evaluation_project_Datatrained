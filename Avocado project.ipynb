{
 "cells": [
  {
   "cell_type": "markdown",
   "id": "4bff936e",
   "metadata": {},
   "source": [
    "# Dataframe Description:"
   ]
  },
  {
   "cell_type": "markdown",
   "id": "a212e90f",
   "metadata": {},
   "source": [
    " The table below represents weekly 2018 retail scan data for National retail volume (units) and price. Retail scan data comes directly from retailers’ cash registers based on actual retail sales of Hass avocados.\n",
    "\n",
    "Starting in 2013, the table below reflects an expanded, multi-outlet retail data set. Multi-outlet reporting includes an aggregation of the following channels: grocery, mass, club, drug, dollar and military. The Average Price (of avocados) in the table reflects a per unit (per avocado) cost, even when multiple units (avocados) are sold in bags.\n",
    "\n",
    "The Product Lookup codes (PLU’s) in the table are only for Hass avocados. Other varieties of avocados (e.g. greenskins) are not included in this table.\n",
    "\n",
    "Some relevant columns in the dataset:\n",
    "\n",
    "Date - The date of the observation\n",
    "\n",
    "AveragePrice - the average price of a single avocado\n",
    "\n",
    "type - conventional or organic\n",
    "\n",
    "year - the year\n",
    "\n",
    "Region - the city or region of the observation\n",
    "\n",
    "Total Volume - Total number of avocados sold\n",
    "\n",
    "4046 - Total number of avocados with PLU 4046 sold\n",
    "\n",
    "4225 - Total number of avocados with PLU 4225 sold\n",
    "\n",
    "4770 - Total number of avocados with PLU 4770 sold\n",
    "\n",
    "Inspiration /Label\n",
    "\n",
    "The task is to make a model that can consider the data provided and predict the Average Price."
   ]
  },
  {
   "cell_type": "code",
   "execution_count": 30,
   "id": "7fd9820f",
   "metadata": {},
   "outputs": [],
   "source": [
    "import pandas as pd\n",
    "import numpy as np\n",
    "import seaborn as sns\n",
    "import matplotlib.pyplot as plt\n",
    "import warnings\n",
    "warnings.filterwarnings('ignore')\n",
    "%matplotlib inline"
   ]
  },
  {
   "cell_type": "code",
   "execution_count": 2,
   "id": "c68eb4b7",
   "metadata": {},
   "outputs": [],
   "source": [
    "df = pd.read_csv(\"avocado.csv\")"
   ]
  },
  {
   "cell_type": "code",
   "execution_count": 3,
   "id": "a651d20d",
   "metadata": {},
   "outputs": [
    {
     "data": {
      "text/html": [
       "<div>\n",
       "<style scoped>\n",
       "    .dataframe tbody tr th:only-of-type {\n",
       "        vertical-align: middle;\n",
       "    }\n",
       "\n",
       "    .dataframe tbody tr th {\n",
       "        vertical-align: top;\n",
       "    }\n",
       "\n",
       "    .dataframe thead th {\n",
       "        text-align: right;\n",
       "    }\n",
       "</style>\n",
       "<table border=\"1\" class=\"dataframe\">\n",
       "  <thead>\n",
       "    <tr style=\"text-align: right;\">\n",
       "      <th></th>\n",
       "      <th>Unnamed: 0</th>\n",
       "      <th>Date</th>\n",
       "      <th>AveragePrice</th>\n",
       "      <th>Total Volume</th>\n",
       "      <th>4046</th>\n",
       "      <th>4225</th>\n",
       "      <th>4770</th>\n",
       "      <th>Total Bags</th>\n",
       "      <th>Small Bags</th>\n",
       "      <th>Large Bags</th>\n",
       "      <th>XLarge Bags</th>\n",
       "      <th>type</th>\n",
       "      <th>year</th>\n",
       "      <th>region</th>\n",
       "    </tr>\n",
       "  </thead>\n",
       "  <tbody>\n",
       "    <tr>\n",
       "      <th>0</th>\n",
       "      <td>0</td>\n",
       "      <td>2015-12-27</td>\n",
       "      <td>1.33</td>\n",
       "      <td>64236.62</td>\n",
       "      <td>1036.74</td>\n",
       "      <td>54454.85</td>\n",
       "      <td>48.16</td>\n",
       "      <td>8696.87</td>\n",
       "      <td>8603.62</td>\n",
       "      <td>93.25</td>\n",
       "      <td>0.0</td>\n",
       "      <td>conventional</td>\n",
       "      <td>2015</td>\n",
       "      <td>Albany</td>\n",
       "    </tr>\n",
       "    <tr>\n",
       "      <th>1</th>\n",
       "      <td>1</td>\n",
       "      <td>2015-12-20</td>\n",
       "      <td>1.35</td>\n",
       "      <td>54876.98</td>\n",
       "      <td>674.28</td>\n",
       "      <td>44638.81</td>\n",
       "      <td>58.33</td>\n",
       "      <td>9505.56</td>\n",
       "      <td>9408.07</td>\n",
       "      <td>97.49</td>\n",
       "      <td>0.0</td>\n",
       "      <td>conventional</td>\n",
       "      <td>2015</td>\n",
       "      <td>Albany</td>\n",
       "    </tr>\n",
       "    <tr>\n",
       "      <th>2</th>\n",
       "      <td>2</td>\n",
       "      <td>2015-12-13</td>\n",
       "      <td>0.93</td>\n",
       "      <td>118220.22</td>\n",
       "      <td>794.70</td>\n",
       "      <td>109149.67</td>\n",
       "      <td>130.50</td>\n",
       "      <td>8145.35</td>\n",
       "      <td>8042.21</td>\n",
       "      <td>103.14</td>\n",
       "      <td>0.0</td>\n",
       "      <td>conventional</td>\n",
       "      <td>2015</td>\n",
       "      <td>Albany</td>\n",
       "    </tr>\n",
       "    <tr>\n",
       "      <th>3</th>\n",
       "      <td>3</td>\n",
       "      <td>2015-12-06</td>\n",
       "      <td>1.08</td>\n",
       "      <td>78992.15</td>\n",
       "      <td>1132.00</td>\n",
       "      <td>71976.41</td>\n",
       "      <td>72.58</td>\n",
       "      <td>5811.16</td>\n",
       "      <td>5677.40</td>\n",
       "      <td>133.76</td>\n",
       "      <td>0.0</td>\n",
       "      <td>conventional</td>\n",
       "      <td>2015</td>\n",
       "      <td>Albany</td>\n",
       "    </tr>\n",
       "    <tr>\n",
       "      <th>4</th>\n",
       "      <td>4</td>\n",
       "      <td>2015-11-29</td>\n",
       "      <td>1.28</td>\n",
       "      <td>51039.60</td>\n",
       "      <td>941.48</td>\n",
       "      <td>43838.39</td>\n",
       "      <td>75.78</td>\n",
       "      <td>6183.95</td>\n",
       "      <td>5986.26</td>\n",
       "      <td>197.69</td>\n",
       "      <td>0.0</td>\n",
       "      <td>conventional</td>\n",
       "      <td>2015</td>\n",
       "      <td>Albany</td>\n",
       "    </tr>\n",
       "  </tbody>\n",
       "</table>\n",
       "</div>"
      ],
      "text/plain": [
       "   Unnamed: 0        Date  AveragePrice  Total Volume     4046       4225  \\\n",
       "0           0  2015-12-27          1.33      64236.62  1036.74   54454.85   \n",
       "1           1  2015-12-20          1.35      54876.98   674.28   44638.81   \n",
       "2           2  2015-12-13          0.93     118220.22   794.70  109149.67   \n",
       "3           3  2015-12-06          1.08      78992.15  1132.00   71976.41   \n",
       "4           4  2015-11-29          1.28      51039.60   941.48   43838.39   \n",
       "\n",
       "     4770  Total Bags  Small Bags  Large Bags  XLarge Bags          type  \\\n",
       "0   48.16     8696.87     8603.62       93.25          0.0  conventional   \n",
       "1   58.33     9505.56     9408.07       97.49          0.0  conventional   \n",
       "2  130.50     8145.35     8042.21      103.14          0.0  conventional   \n",
       "3   72.58     5811.16     5677.40      133.76          0.0  conventional   \n",
       "4   75.78     6183.95     5986.26      197.69          0.0  conventional   \n",
       "\n",
       "   year  region  \n",
       "0  2015  Albany  \n",
       "1  2015  Albany  \n",
       "2  2015  Albany  \n",
       "3  2015  Albany  \n",
       "4  2015  Albany  "
      ]
     },
     "execution_count": 3,
     "metadata": {},
     "output_type": "execute_result"
    }
   ],
   "source": [
    "df.head()"
   ]
  },
  {
   "cell_type": "markdown",
   "id": "6d2281f3",
   "metadata": {},
   "source": [
    "### Lets drop Unnamed: "
   ]
  },
  {
   "cell_type": "code",
   "execution_count": 17,
   "id": "8efb1e1f",
   "metadata": {},
   "outputs": [],
   "source": [
    "df.drop(['Unnamed: 0'],axis=1,inplace=True)"
   ]
  },
  {
   "cell_type": "markdown",
   "id": "7964ec2e",
   "metadata": {},
   "source": [
    "# Exploratory Data Analysis (EDA):"
   ]
  },
  {
   "cell_type": "code",
   "execution_count": 18,
   "id": "f1f8c23a",
   "metadata": {},
   "outputs": [
    {
     "data": {
      "text/plain": [
       "(18249, 13)"
      ]
     },
     "execution_count": 18,
     "metadata": {},
     "output_type": "execute_result"
    }
   ],
   "source": [
    "#checking shape of data\n",
    "df.shape"
   ]
  },
  {
   "cell_type": "code",
   "execution_count": 19,
   "id": "864ac7f5",
   "metadata": {},
   "outputs": [
    {
     "data": {
      "text/plain": [
       "Date             object\n",
       "AveragePrice    float64\n",
       "Total Volume    float64\n",
       "4046            float64\n",
       "4225            float64\n",
       "4770            float64\n",
       "Total Bags      float64\n",
       "Small Bags      float64\n",
       "Large Bags      float64\n",
       "XLarge Bags     float64\n",
       "type             object\n",
       "year              int64\n",
       "region           object\n",
       "dtype: object"
      ]
     },
     "execution_count": 19,
     "metadata": {},
     "output_type": "execute_result"
    }
   ],
   "source": [
    "#checking dtypes\n",
    "df.dtypes"
   ]
  },
  {
   "cell_type": "code",
   "execution_count": 20,
   "id": "7b7b7a50",
   "metadata": {},
   "outputs": [
    {
     "name": "stdout",
     "output_type": "stream",
     "text": [
      "<class 'pandas.core.frame.DataFrame'>\n",
      "RangeIndex: 18249 entries, 0 to 18248\n",
      "Data columns (total 13 columns):\n",
      " #   Column        Non-Null Count  Dtype  \n",
      "---  ------        --------------  -----  \n",
      " 0   Date          18249 non-null  object \n",
      " 1   AveragePrice  18249 non-null  float64\n",
      " 2   Total Volume  18249 non-null  float64\n",
      " 3   4046          18249 non-null  float64\n",
      " 4   4225          18249 non-null  float64\n",
      " 5   4770          18249 non-null  float64\n",
      " 6   Total Bags    18249 non-null  float64\n",
      " 7   Small Bags    18249 non-null  float64\n",
      " 8   Large Bags    18249 non-null  float64\n",
      " 9   XLarge Bags   18249 non-null  float64\n",
      " 10  type          18249 non-null  object \n",
      " 11  year          18249 non-null  int64  \n",
      " 12  region        18249 non-null  object \n",
      "dtypes: float64(9), int64(1), object(3)\n",
      "memory usage: 1.8+ MB\n"
     ]
    }
   ],
   "source": [
    "df.info()"
   ]
  },
  {
   "cell_type": "code",
   "execution_count": 21,
   "id": "1918890b",
   "metadata": {},
   "outputs": [
    {
     "data": {
      "text/plain": [
       "Date            0\n",
       "AveragePrice    0\n",
       "Total Volume    0\n",
       "4046            0\n",
       "4225            0\n",
       "4770            0\n",
       "Total Bags      0\n",
       "Small Bags      0\n",
       "Large Bags      0\n",
       "XLarge Bags     0\n",
       "type            0\n",
       "year            0\n",
       "region          0\n",
       "dtype: int64"
      ]
     },
     "execution_count": 21,
     "metadata": {},
     "output_type": "execute_result"
    }
   ],
   "source": [
    "#checking for nul values\n",
    "df.isnull().sum()"
   ]
  },
  {
   "cell_type": "code",
   "execution_count": 22,
   "id": "6412e5e6",
   "metadata": {},
   "outputs": [
    {
     "data": {
      "image/png": "[encoded data removed]",
      "text/plain": [
       "<Figure size 864x576 with 2 Axes>"
      ]
     },
     "metadata": {
      "needs_background": "light"
     },
     "output_type": "display_data"
    }
   ],
   "source": [
    "#visualize null value\n",
    "plt.figure(figsize=(12,8))\n",
    "sns.heatmap(df.isnull())\n",
    "plt.show()"
   ]
  },
  {
   "cell_type": "markdown",
   "id": "1a8d9390",
   "metadata": {},
   "source": [
    "## NO null values present in Dataset"
   ]
  },
  {
   "cell_type": "code",
   "execution_count": 23,
   "id": "5b5c0c2e",
   "metadata": {},
   "outputs": [
    {
     "data": {
      "text/plain": [
       "Index(['Date', 'AveragePrice', 'Total Volume', '4046', '4225', '4770',\n",
       "       'Total Bags', 'Small Bags', 'Large Bags', 'XLarge Bags', 'type', 'year',\n",
       "       'region'],\n",
       "      dtype='object')"
      ]
     },
     "execution_count": 23,
     "metadata": {},
     "output_type": "execute_result"
    }
   ],
   "source": [
    "df.columns"
   ]
  },
  {
   "cell_type": "code",
   "execution_count": 28,
   "id": "d88720df",
   "metadata": {},
   "outputs": [
    {
     "data": {
      "text/plain": [
       "Date              169\n",
       "AveragePrice      259\n",
       "Total Volume    18237\n",
       "4046            17702\n",
       "4225            18103\n",
       "4770            12071\n",
       "Total Bags      18097\n",
       "Small Bags      17321\n",
       "Large Bags      15082\n",
       "XLarge Bags      5588\n",
       "type                2\n",
       "year                4\n",
       "region             54\n",
       "dtype: int64"
      ]
     },
     "execution_count": 28,
     "metadata": {},
     "output_type": "execute_result"
    }
   ],
   "source": [
    "#checking for unique vales\n",
    "df.nunique()"
   ]
  },
  {
   "cell_type": "code",
   "execution_count": 31,
   "id": "311825e7",
   "metadata": {},
   "outputs": [
    {
     "data": {
      "text/html": [
       "<div>\n",
       "<style scoped>\n",
       "    .dataframe tbody tr th:only-of-type {\n",
       "        vertical-align: middle;\n",
       "    }\n",
       "\n",
       "    .dataframe tbody tr th {\n",
       "        vertical-align: top;\n",
       "    }\n",
       "\n",
       "    .dataframe thead th {\n",
       "        text-align: right;\n",
       "    }\n",
       "</style>\n",
       "<table border=\"1\" class=\"dataframe\">\n",
       "  <thead>\n",
       "    <tr style=\"text-align: right;\">\n",
       "      <th></th>\n",
       "      <th>AveragePrice</th>\n",
       "      <th>Total Volume</th>\n",
       "      <th>4046</th>\n",
       "      <th>4225</th>\n",
       "      <th>4770</th>\n",
       "      <th>Total Bags</th>\n",
       "      <th>Small Bags</th>\n",
       "      <th>Large Bags</th>\n",
       "      <th>XLarge Bags</th>\n",
       "      <th>year</th>\n",
       "    </tr>\n",
       "  </thead>\n",
       "  <tbody>\n",
       "    <tr>\n",
       "      <th>count</th>\n",
       "      <td>18249.000000</td>\n",
       "      <td>1.824900e+04</td>\n",
       "      <td>1.824900e+04</td>\n",
       "      <td>1.824900e+04</td>\n",
       "      <td>1.824900e+04</td>\n",
       "      <td>1.824900e+04</td>\n",
       "      <td>1.824900e+04</td>\n",
       "      <td>1.824900e+04</td>\n",
       "      <td>18249.000000</td>\n",
       "      <td>18249.000000</td>\n",
       "    </tr>\n",
       "    <tr>\n",
       "      <th>mean</th>\n",
       "      <td>1.405978</td>\n",
       "      <td>8.506440e+05</td>\n",
       "      <td>2.930084e+05</td>\n",
       "      <td>2.951546e+05</td>\n",
       "      <td>2.283974e+04</td>\n",
       "      <td>2.396392e+05</td>\n",
       "      <td>1.821947e+05</td>\n",
       "      <td>5.433809e+04</td>\n",
       "      <td>3106.426507</td>\n",
       "      <td>2016.147899</td>\n",
       "    </tr>\n",
       "    <tr>\n",
       "      <th>std</th>\n",
       "      <td>0.402677</td>\n",
       "      <td>3.453545e+06</td>\n",
       "      <td>1.264989e+06</td>\n",
       "      <td>1.204120e+06</td>\n",
       "      <td>1.074641e+05</td>\n",
       "      <td>9.862424e+05</td>\n",
       "      <td>7.461785e+05</td>\n",
       "      <td>2.439660e+05</td>\n",
       "      <td>17692.894652</td>\n",
       "      <td>0.939938</td>\n",
       "    </tr>\n",
       "    <tr>\n",
       "      <th>min</th>\n",
       "      <td>0.440000</td>\n",
       "      <td>8.456000e+01</td>\n",
       "      <td>0.000000e+00</td>\n",
       "      <td>0.000000e+00</td>\n",
       "      <td>0.000000e+00</td>\n",
       "      <td>0.000000e+00</td>\n",
       "      <td>0.000000e+00</td>\n",
       "      <td>0.000000e+00</td>\n",
       "      <td>0.000000</td>\n",
       "      <td>2015.000000</td>\n",
       "    </tr>\n",
       "    <tr>\n",
       "      <th>25%</th>\n",
       "      <td>1.100000</td>\n",
       "      <td>1.083858e+04</td>\n",
       "      <td>8.540700e+02</td>\n",
       "      <td>3.008780e+03</td>\n",
       "      <td>0.000000e+00</td>\n",
       "      <td>5.088640e+03</td>\n",
       "      <td>2.849420e+03</td>\n",
       "      <td>1.274700e+02</td>\n",
       "      <td>0.000000</td>\n",
       "      <td>2015.000000</td>\n",
       "    </tr>\n",
       "    <tr>\n",
       "      <th>50%</th>\n",
       "      <td>1.370000</td>\n",
       "      <td>1.073768e+05</td>\n",
       "      <td>8.645300e+03</td>\n",
       "      <td>2.906102e+04</td>\n",
       "      <td>1.849900e+02</td>\n",
       "      <td>3.974383e+04</td>\n",
       "      <td>2.636282e+04</td>\n",
       "      <td>2.647710e+03</td>\n",
       "      <td>0.000000</td>\n",
       "      <td>2016.000000</td>\n",
       "    </tr>\n",
       "    <tr>\n",
       "      <th>75%</th>\n",
       "      <td>1.660000</td>\n",
       "      <td>4.329623e+05</td>\n",
       "      <td>1.110202e+05</td>\n",
       "      <td>1.502069e+05</td>\n",
       "      <td>6.243420e+03</td>\n",
       "      <td>1.107834e+05</td>\n",
       "      <td>8.333767e+04</td>\n",
       "      <td>2.202925e+04</td>\n",
       "      <td>132.500000</td>\n",
       "      <td>2017.000000</td>\n",
       "    </tr>\n",
       "    <tr>\n",
       "      <th>max</th>\n",
       "      <td>3.250000</td>\n",
       "      <td>6.250565e+07</td>\n",
       "      <td>2.274362e+07</td>\n",
       "      <td>2.047057e+07</td>\n",
       "      <td>2.546439e+06</td>\n",
       "      <td>1.937313e+07</td>\n",
       "      <td>1.338459e+07</td>\n",
       "      <td>5.719097e+06</td>\n",
       "      <td>551693.650000</td>\n",
       "      <td>2018.000000</td>\n",
       "    </tr>\n",
       "  </tbody>\n",
       "</table>\n",
       "</div>"
      ],
      "text/plain": [
       "       AveragePrice  Total Volume          4046          4225          4770  \\\n",
       "count  18249.000000  1.824900e+04  1.824900e+04  1.824900e+04  1.824900e+04   \n",
       "mean       1.405978  8.506440e+05  2.930084e+05  2.951546e+05  2.283974e+04   \n",
       "std        0.402677  3.453545e+06  1.264989e+06  1.204120e+06  1.074641e+05   \n",
       "min        0.440000  8.456000e+01  0.000000e+00  0.000000e+00  0.000000e+00   \n",
       "25%        1.100000  1.083858e+04  8.540700e+02  3.008780e+03  0.000000e+00   \n",
       "50%        1.370000  1.073768e+05  8.645300e+03  2.906102e+04  1.849900e+02   \n",
       "75%        1.660000  4.329623e+05  1.110202e+05  1.502069e+05  6.243420e+03   \n",
       "max        3.250000  6.250565e+07  2.274362e+07  2.047057e+07  2.546439e+06   \n",
       "\n",
       "         Total Bags    Small Bags    Large Bags    XLarge Bags          year  \n",
       "count  1.824900e+04  1.824900e+04  1.824900e+04   18249.000000  18249.000000  \n",
       "mean   2.396392e+05  1.821947e+05  5.433809e+04    3106.426507   2016.147899  \n",
       "std    9.862424e+05  7.461785e+05  2.439660e+05   17692.894652      0.939938  \n",
       "min    0.000000e+00  0.000000e+00  0.000000e+00       0.000000   2015.000000  \n",
       "25%    5.088640e+03  2.849420e+03  1.274700e+02       0.000000   2015.000000  \n",
       "50%    3.974383e+04  2.636282e+04  2.647710e+03       0.000000   2016.000000  \n",
       "75%    1.107834e+05  8.333767e+04  2.202925e+04     132.500000   2017.000000  \n",
       "max    1.937313e+07  1.338459e+07  5.719097e+06  551693.650000   2018.000000  "
      ]
     },
     "execution_count": 31,
     "metadata": {},
     "output_type": "execute_result"
    }
   ],
   "source": [
    "df.describe()"
   ]
  },
  {
   "cell_type": "code",
   "execution_count": 32,
   "id": "84ccbba8",
   "metadata": {},
   "outputs": [
    {
     "data": {
      "image/png": "[encoded data removed]",
      "text/plain": [
       "<Figure size 1008x576 with 2 Axes>"
      ]
     },
     "metadata": {
      "needs_background": "light"
     },
     "output_type": "display_data"
    }
   ],
   "source": [
    "#visualize \n",
    "plt.figure(figsize=(14,8))\n",
    "sns.heatmap(df.describe(),linewidths=0.1,fmt='0.1f',annot=True)\n",
    "plt.show()"
   ]
  },
  {
   "cell_type": "markdown",
   "id": "39bfb8f8",
   "metadata": {},
   "source": [
    "# Now for target variable:"
   ]
  },
  {
   "cell_type": "code",
   "execution_count": 33,
   "id": "7cf07c1a",
   "metadata": {},
   "outputs": [
    {
     "data": {
      "text/plain": [
       "array([1.33, 1.35, 0.93, 1.08, 1.28, 1.26, 0.99, 0.98, 1.02, 1.07, 1.12,\n",
       "       1.31, 1.11, 1.34, 1.45, 1.05, 1.37, 1.27, 1.32, 1.23, 1.19, 1.43,\n",
       "       1.2 , 1.22, 1.13, 1.16, 1.06, 1.17, 1.24, 0.96, 1.  , 1.09, 0.95,\n",
       "       0.97, 1.15, 1.01, 1.14, 1.1 , 1.04, 1.03, 1.18, 1.29, 1.25, 0.71,\n",
       "       0.94, 0.91, 1.39, 1.4 , 1.36, 1.3 , 1.54, 1.59, 1.56, 1.38, 1.49,\n",
       "       1.5 , 1.47, 1.42, 1.41, 1.44, 1.52, 0.9 , 0.87, 0.78, 0.92, 0.83,\n",
       "       0.88, 0.84, 0.85, 1.21, 0.79, 0.89, 0.86, 0.8 , 0.82, 0.74, 0.81,\n",
       "       0.77, 0.75, 0.65, 0.73, 0.68, 0.72, 0.67, 0.76, 0.62, 0.7 , 0.66,\n",
       "       1.46, 0.49, 0.53, 0.56, 0.6 , 0.58, 0.54, 0.52, 0.51, 0.57, 0.63,\n",
       "       0.64, 0.61, 1.48, 1.55, 1.58, 1.53, 1.57, 1.51, 0.69, 1.62, 1.63,\n",
       "       1.61, 1.6 , 1.73, 1.8 , 1.86, 1.85, 1.69, 1.66, 1.65, 1.64, 1.67,\n",
       "       1.68, 1.82, 2.07, 1.84, 1.83, 1.7 , 1.72, 1.81, 1.78, 0.59, 1.9 ,\n",
       "       1.93, 1.99, 1.95, 1.89, 1.76, 1.71, 1.74, 0.55, 1.79, 1.75, 1.94,\n",
       "       2.2 , 1.87, 1.77, 2.06, 2.11, 2.22, 2.14, 2.15, 2.02, 2.  , 1.88,\n",
       "       1.96, 2.19, 2.09, 1.98, 1.97, 1.92, 2.04, 0.46, 2.01, 2.08, 2.03,\n",
       "       2.05, 2.28, 2.35, 2.29, 1.91, 2.18, 2.24, 2.12, 2.13, 2.16, 2.32,\n",
       "       2.34, 2.33, 2.31, 2.23, 2.27, 2.3 , 2.41, 2.36, 2.37, 2.39, 2.42,\n",
       "       2.45, 2.38, 2.4 , 2.25, 2.26, 2.17, 2.21, 2.1 , 2.58, 2.79, 2.66,\n",
       "       2.59, 2.74, 2.73, 2.77, 2.71, 2.72, 2.76, 2.75, 2.49, 2.54, 2.67,\n",
       "       2.68, 2.57, 2.85, 3.03, 2.91, 2.44, 2.65, 2.46, 2.62, 2.47, 2.55,\n",
       "       2.52, 2.61, 2.82, 2.51, 2.56, 2.88, 2.94, 2.99, 3.12, 3.25, 2.93,\n",
       "       2.64, 2.89, 2.83, 2.78, 2.63, 2.8 , 2.48, 2.5 , 2.53, 0.44, 0.48,\n",
       "       2.6 , 2.43, 2.81, 3.05, 2.87, 2.86, 2.84, 3.  , 2.92, 2.97, 3.04,\n",
       "       2.9 , 2.7 , 2.69, 2.96, 2.95, 3.17])"
      ]
     },
     "execution_count": 33,
     "metadata": {},
     "output_type": "execute_result"
    }
   ],
   "source": [
    "df['AveragePrice'].unique()"
   ]
  },
  {
   "cell_type": "code",
   "execution_count": 34,
   "id": "00162522",
   "metadata": {},
   "outputs": [
    {
     "data": {
      "text/plain": [
       "1.15    202\n",
       "1.18    199\n",
       "1.08    194\n",
       "1.26    193\n",
       "1.13    192\n",
       "       ... \n",
       "2.91      1\n",
       "2.68      1\n",
       "3.04      1\n",
       "3.17      1\n",
       "3.03      1\n",
       "Name: AveragePrice, Length: 259, dtype: int64"
      ]
     },
     "execution_count": 34,
     "metadata": {},
     "output_type": "execute_result"
    }
   ],
   "source": [
    "df['AveragePrice'].value_counts()"
   ]
  },
  {
   "cell_type": "code",
   "execution_count": 39,
   "id": "65bd39e8",
   "metadata": {},
   "outputs": [
    {
     "data": {
      "image/png": "[encoded data removed]",
      "text/plain": [
       "<Figure size 720x432 with 1 Axes>"
      ]
     },
     "metadata": {
      "needs_background": "light"
     },
     "output_type": "display_data"
    }
   ],
   "source": [
    "#visualize \n",
    "plt.figure(figsize=(10,6))\n",
    "sns.distplot(df['AveragePrice'])\n",
    "plt.show()"
   ]
  },
  {
   "cell_type": "markdown",
   "id": "866d39b4",
   "metadata": {},
   "source": [
    "### It has Continuous distribution"
   ]
  },
  {
   "cell_type": "markdown",
   "id": "28a5aa56",
   "metadata": {},
   "source": [
    "# Now for features variable"
   ]
  },
  {
   "cell_type": "code",
   "execution_count": 40,
   "id": "c6810683",
   "metadata": {},
   "outputs": [
    {
     "data": {
      "text/plain": [
       "array(['conventional', 'organic'], dtype=object)"
      ]
     },
     "execution_count": 40,
     "metadata": {},
     "output_type": "execute_result"
    }
   ],
   "source": [
    "df['type'].unique()"
   ]
  },
  {
   "cell_type": "code",
   "execution_count": 43,
   "id": "e0d590c3",
   "metadata": {},
   "outputs": [
    {
     "data": {
      "image/png": "[encoded data removed]",
      "text/plain": [
       "<Figure size 576x432 with 1 Axes>"
      ]
     },
     "metadata": {
      "needs_background": "light"
     },
     "output_type": "display_data"
    }
   ],
   "source": [
    "#visualize \n",
    "plt.figure(figsize=(8,6))\n",
    "sns.countplot(df['type'])\n",
    "plt.show()"
   ]
  },
  {
   "cell_type": "markdown",
   "id": "28bcca94",
   "metadata": {},
   "source": [
    "##### Nearly equal numbers of conventional and organic avocados were produced."
   ]
  },
  {
   "cell_type": "code",
   "execution_count": 45,
   "id": "fd94f0b1",
   "metadata": {},
   "outputs": [
    {
     "data": {
      "text/plain": [
       "array([2015, 2016, 2017, 2018], dtype=int64)"
      ]
     },
     "execution_count": 45,
     "metadata": {},
     "output_type": "execute_result"
    }
   ],
   "source": [
    "df['year'].unique()"
   ]
  },
  {
   "cell_type": "code",
   "execution_count": 46,
   "id": "32678b8d",
   "metadata": {},
   "outputs": [
    {
     "data": {
      "image/png": "[encoded data removed]",
      "text/plain": [
       "<Figure size 576x432 with 1 Axes>"
      ]
     },
     "metadata": {
      "needs_background": "light"
     },
     "output_type": "display_data"
    }
   ],
   "source": [
    "#visualize \n",
    "plt.figure(figsize=(8,6))\n",
    "sns.countplot(df['year'])\n",
    "plt.show()"
   ]
  },
  {
   "cell_type": "code",
   "execution_count": 47,
   "id": "a382c978",
   "metadata": {},
   "outputs": [
    {
     "data": {
      "image/png": "[encoded data removed]",
      "text/plain": [
       "<Figure size 1440x1800 with 7 Axes>"
      ]
     },
     "metadata": {},
     "output_type": "display_data"
    }
   ],
   "source": [
    "plt.figure(figsize=(20,25),facecolor='white')\n",
    "plotnum=1\n",
    "for col in df[['Total Volume','4046','4225','Total Bags','Small Bags','Large Bags','XLarge Bags']]:\n",
    "    if plotnum<=10:\n",
    "        plt.subplot(4,4,plotnum)\n",
    "        sns.distplot(df[col])\n",
    "        plt.xlabel(col,fontsize=20)\n",
    "    plotnum+=1\n",
    "plt.show()"
   ]
  },
  {
   "cell_type": "markdown",
   "id": "15a90ef1",
   "metadata": {},
   "source": [
    "##### Total Bags, Large Bags,Small Bags and, XLarge Bags columns have skewed data distribution"
   ]
  },
  {
   "cell_type": "code",
   "execution_count": 51,
   "id": "5d391ac9",
   "metadata": {},
   "outputs": [
    {
     "data": {
      "image/png": "[encoded data removed]",
      "text/plain": [
       "<Figure size 720x432 with 1 Axes>"
      ]
     },
     "metadata": {
      "needs_background": "light"
     },
     "output_type": "display_data"
    }
   ],
   "source": [
    "plt.figure(figsize=(10,6))\n",
    "x = df['year']\n",
    "y = df['AveragePrice']\n",
    "sns.barplot(x,y)\n",
    "plt.xlabel('year')\n",
    "plt.ylabel('AveragePrice')\n",
    "plt.show()"
   ]
  },
  {
   "cell_type": "markdown",
   "id": "fe2f62c5",
   "metadata": {},
   "source": [
    "### Relationship between 'Date' and 'AveragePrice'"
   ]
  },
  {
   "cell_type": "code",
   "execution_count": 60,
   "id": "64ef5831",
   "metadata": {},
   "outputs": [
    {
     "data": {
      "image/png": "[encoded data removed]",
      "text/plain": [
       "<Figure size 720x576 with 1 Axes>"
      ]
     },
     "metadata": {
      "needs_background": "light"
     },
     "output_type": "display_data"
    }
   ],
   "source": [
    "plt.figure(figsize=(10,8))\n",
    "df.groupby('Date').mean()['AveragePrice'].plot()\n",
    "plt.show()"
   ]
  },
  {
   "cell_type": "code",
   "execution_count": 61,
   "id": "f7d91942",
   "metadata": {},
   "outputs": [
    {
     "data": {
      "image/png": "[encoded data removed]",
      "text/plain": [
       "<Figure size 576x432 with 1 Axes>"
      ]
     },
     "metadata": {
      "needs_background": "light"
     },
     "output_type": "display_data"
    }
   ],
   "source": [
    "plt.figure(figsize=(8,6))\n",
    "sns.barplot(x = 'type', y = 'AveragePrice', data =df )\n",
    "plt.show()"
   ]
  },
  {
   "cell_type": "markdown",
   "id": "c695a2a7",
   "metadata": {},
   "source": [
    "##### Average price of 'Organic' produce is higher than that of 'conventional' produce."
   ]
  },
  {
   "cell_type": "code",
   "execution_count": 65,
   "id": "1dfd0a1f",
   "metadata": {},
   "outputs": [
    {
     "data": {
      "image/png": "[encoded data removed]",
      "text/plain": [
       "<Figure size 1440x1800 with 3 Axes>"
      ]
     },
     "metadata": {},
     "output_type": "display_data"
    }
   ],
   "source": [
    "plt.figure(figsize=(20,25),facecolor='white')\n",
    "plotnum=1\n",
    "y = df[['4046','4225','4770']]\n",
    "X = df['type']\n",
    "for col in y:\n",
    "    if plotnum<=23:\n",
    "        plt.subplot(5,5,plotnum)\n",
    "        sns.barplot(X,y[col])\n",
    "        plt.xlabel('type',fontsize=20)\n",
    "        plt.ylabel(col,fontsize=20)\n",
    "    plotnum+=1\n",
    "plt.tight_layout()"
   ]
  },
  {
   "cell_type": "code",
   "execution_count": 66,
   "id": "21afe638",
   "metadata": {},
   "outputs": [
    {
     "data": {
      "image/png": "[encoded data removed]",
      "text/plain": [
       "<Figure size 1440x1800 with 3 Axes>"
      ]
     },
     "metadata": {},
     "output_type": "display_data"
    }
   ],
   "source": [
    "plt.figure(figsize=(20,25),facecolor='white')\n",
    "plotnum=1\n",
    "y = df[['4046','4225','4770']]\n",
    "X = df['year']\n",
    "for col in y:\n",
    "    if plotnum<=23:\n",
    "        plt.subplot(5,5,plotnum)\n",
    "        sns.barplot(X,y[col])\n",
    "        plt.xlabel('Year',fontsize=20)\n",
    "        plt.ylabel(col,fontsize=20)\n",
    "    plotnum+=1\n",
    "plt.tight_layout()"
   ]
  },
  {
   "cell_type": "code",
   "execution_count": 67,
   "id": "d4da99ac",
   "metadata": {},
   "outputs": [
    {
     "data": {
      "image/png": "[encoded data removed]",
      "text/plain": [
       "<Figure size 1440x1800 with 3 Axes>"
      ]
     },
     "metadata": {},
     "output_type": "display_data"
    }
   ],
   "source": [
    "plt.figure(figsize=(20,25),facecolor='white')\n",
    "plotnum=1\n",
    "y = df[['Small Bags','Large Bags','XLarge Bags']]\n",
    "X = df['year']\n",
    "for col in y:\n",
    "    if plotnum<=23:\n",
    "        plt.subplot(5,5,plotnum)\n",
    "        sns.barplot(X,y[col])\n",
    "        plt.xlabel('Year',fontsize=20)\n",
    "        plt.ylabel(col,fontsize=20)\n",
    "    plotnum+=1\n",
    "plt.tight_layout()"
   ]
  },
  {
   "cell_type": "markdown",
   "id": "df269984",
   "metadata": {},
   "source": [
    "##### Creating 'Day' and 'Month' columns from 'Date' Columnn"
   ]
  },
  {
   "cell_type": "code",
   "execution_count": 68,
   "id": "0b8d455b",
   "metadata": {},
   "outputs": [],
   "source": [
    "df['Date']=pd.to_datetime(df['Date'])"
   ]
  },
  {
   "cell_type": "code",
   "execution_count": 70,
   "id": "c67fb29b",
   "metadata": {},
   "outputs": [],
   "source": [
    "df['Day']=df['Date'].apply(lambda d:d.day)"
   ]
  },
  {
   "cell_type": "code",
   "execution_count": 71,
   "id": "82e714f0",
   "metadata": {},
   "outputs": [],
   "source": [
    "df['Month']=df['Date'].apply(lambda m:m.month)"
   ]
  },
  {
   "cell_type": "code",
   "execution_count": 72,
   "id": "71b256a4",
   "metadata": {},
   "outputs": [
    {
     "data": {
      "text/html": [
       "<div>\n",
       "<style scoped>\n",
       "    .dataframe tbody tr th:only-of-type {\n",
       "        vertical-align: middle;\n",
       "    }\n",
       "\n",
       "    .dataframe tbody tr th {\n",
       "        vertical-align: top;\n",
       "    }\n",
       "\n",
       "    .dataframe thead th {\n",
       "        text-align: right;\n",
       "    }\n",
       "</style>\n",
       "<table border=\"1\" class=\"dataframe\">\n",
       "  <thead>\n",
       "    <tr style=\"text-align: right;\">\n",
       "      <th></th>\n",
       "      <th>Date</th>\n",
       "      <th>AveragePrice</th>\n",
       "      <th>Total Volume</th>\n",
       "      <th>4046</th>\n",
       "      <th>4225</th>\n",
       "      <th>4770</th>\n",
       "      <th>Total Bags</th>\n",
       "      <th>Small Bags</th>\n",
       "      <th>Large Bags</th>\n",
       "      <th>XLarge Bags</th>\n",
       "      <th>type</th>\n",
       "      <th>year</th>\n",
       "      <th>region</th>\n",
       "      <th>Day</th>\n",
       "      <th>Month</th>\n",
       "    </tr>\n",
       "  </thead>\n",
       "  <tbody>\n",
       "    <tr>\n",
       "      <th>0</th>\n",
       "      <td>2015-12-27</td>\n",
       "      <td>1.33</td>\n",
       "      <td>64236.62</td>\n",
       "      <td>1036.74</td>\n",
       "      <td>54454.85</td>\n",
       "      <td>48.16</td>\n",
       "      <td>8696.87</td>\n",
       "      <td>8603.62</td>\n",
       "      <td>93.25</td>\n",
       "      <td>0.0</td>\n",
       "      <td>conventional</td>\n",
       "      <td>2015</td>\n",
       "      <td>Albany</td>\n",
       "      <td>27</td>\n",
       "      <td>12</td>\n",
       "    </tr>\n",
       "    <tr>\n",
       "      <th>1</th>\n",
       "      <td>2015-12-20</td>\n",
       "      <td>1.35</td>\n",
       "      <td>54876.98</td>\n",
       "      <td>674.28</td>\n",
       "      <td>44638.81</td>\n",
       "      <td>58.33</td>\n",
       "      <td>9505.56</td>\n",
       "      <td>9408.07</td>\n",
       "      <td>97.49</td>\n",
       "      <td>0.0</td>\n",
       "      <td>conventional</td>\n",
       "      <td>2015</td>\n",
       "      <td>Albany</td>\n",
       "      <td>20</td>\n",
       "      <td>12</td>\n",
       "    </tr>\n",
       "    <tr>\n",
       "      <th>2</th>\n",
       "      <td>2015-12-13</td>\n",
       "      <td>0.93</td>\n",
       "      <td>118220.22</td>\n",
       "      <td>794.70</td>\n",
       "      <td>109149.67</td>\n",
       "      <td>130.50</td>\n",
       "      <td>8145.35</td>\n",
       "      <td>8042.21</td>\n",
       "      <td>103.14</td>\n",
       "      <td>0.0</td>\n",
       "      <td>conventional</td>\n",
       "      <td>2015</td>\n",
       "      <td>Albany</td>\n",
       "      <td>13</td>\n",
       "      <td>12</td>\n",
       "    </tr>\n",
       "    <tr>\n",
       "      <th>3</th>\n",
       "      <td>2015-12-06</td>\n",
       "      <td>1.08</td>\n",
       "      <td>78992.15</td>\n",
       "      <td>1132.00</td>\n",
       "      <td>71976.41</td>\n",
       "      <td>72.58</td>\n",
       "      <td>5811.16</td>\n",
       "      <td>5677.40</td>\n",
       "      <td>133.76</td>\n",
       "      <td>0.0</td>\n",
       "      <td>conventional</td>\n",
       "      <td>2015</td>\n",
       "      <td>Albany</td>\n",
       "      <td>6</td>\n",
       "      <td>12</td>\n",
       "    </tr>\n",
       "    <tr>\n",
       "      <th>4</th>\n",
       "      <td>2015-11-29</td>\n",
       "      <td>1.28</td>\n",
       "      <td>51039.60</td>\n",
       "      <td>941.48</td>\n",
       "      <td>43838.39</td>\n",
       "      <td>75.78</td>\n",
       "      <td>6183.95</td>\n",
       "      <td>5986.26</td>\n",
       "      <td>197.69</td>\n",
       "      <td>0.0</td>\n",
       "      <td>conventional</td>\n",
       "      <td>2015</td>\n",
       "      <td>Albany</td>\n",
       "      <td>29</td>\n",
       "      <td>11</td>\n",
       "    </tr>\n",
       "  </tbody>\n",
       "</table>\n",
       "</div>"
      ],
      "text/plain": [
       "        Date  AveragePrice  Total Volume     4046       4225    4770  \\\n",
       "0 2015-12-27          1.33      64236.62  1036.74   54454.85   48.16   \n",
       "1 2015-12-20          1.35      54876.98   674.28   44638.81   58.33   \n",
       "2 2015-12-13          0.93     118220.22   794.70  109149.67  130.50   \n",
       "3 2015-12-06          1.08      78992.15  1132.00   71976.41   72.58   \n",
       "4 2015-11-29          1.28      51039.60   941.48   43838.39   75.78   \n",
       "\n",
       "   Total Bags  Small Bags  Large Bags  XLarge Bags          type  year  \\\n",
       "0     8696.87     8603.62       93.25          0.0  conventional  2015   \n",
       "1     9505.56     9408.07       97.49          0.0  conventional  2015   \n",
       "2     8145.35     8042.21      103.14          0.0  conventional  2015   \n",
       "3     5811.16     5677.40      133.76          0.0  conventional  2015   \n",
       "4     6183.95     5986.26      197.69          0.0  conventional  2015   \n",
       "\n",
       "   region  Day  Month  \n",
       "0  Albany   27     12  \n",
       "1  Albany   20     12  \n",
       "2  Albany   13     12  \n",
       "3  Albany    6     12  \n",
       "4  Albany   29     11  "
      ]
     },
     "execution_count": 72,
     "metadata": {},
     "output_type": "execute_result"
    }
   ],
   "source": [
    "df.head()"
   ]
  },
  {
   "cell_type": "markdown",
   "id": "fb664420",
   "metadata": {},
   "source": [
    "### Dropping 'Date' column\n",
    "### Column 'Total Volume' is '4046'+'4225'+'4770'+'Total Bags'. Therefore dropping it as it is a highly dependent Feature.\n",
    "### Column 'Total Bags' is 'Small Bags' + 'Large Bags ' + 'XLarge Bags'. Therefore dropping it as it is a highly dependent Feature."
   ]
  },
  {
   "cell_type": "code",
   "execution_count": 73,
   "id": "6bd04498",
   "metadata": {},
   "outputs": [],
   "source": [
    "df.drop(columns = ['Date','Total Volume','Total Bags' ],inplace = True)"
   ]
  },
  {
   "cell_type": "code",
   "execution_count": 74,
   "id": "fb7df1c1",
   "metadata": {},
   "outputs": [
    {
     "data": {
      "text/html": [
       "<div>\n",
       "<style scoped>\n",
       "    .dataframe tbody tr th:only-of-type {\n",
       "        vertical-align: middle;\n",
       "    }\n",
       "\n",
       "    .dataframe tbody tr th {\n",
       "        vertical-align: top;\n",
       "    }\n",
       "\n",
       "    .dataframe thead th {\n",
       "        text-align: right;\n",
       "    }\n",
       "</style>\n",
       "<table border=\"1\" class=\"dataframe\">\n",
       "  <thead>\n",
       "    <tr style=\"text-align: right;\">\n",
       "      <th></th>\n",
       "      <th>AveragePrice</th>\n",
       "      <th>4046</th>\n",
       "      <th>4225</th>\n",
       "      <th>4770</th>\n",
       "      <th>Small Bags</th>\n",
       "      <th>Large Bags</th>\n",
       "      <th>XLarge Bags</th>\n",
       "      <th>type</th>\n",
       "      <th>year</th>\n",
       "      <th>region</th>\n",
       "      <th>Day</th>\n",
       "      <th>Month</th>\n",
       "    </tr>\n",
       "  </thead>\n",
       "  <tbody>\n",
       "    <tr>\n",
       "      <th>0</th>\n",
       "      <td>1.33</td>\n",
       "      <td>1036.74</td>\n",
       "      <td>54454.85</td>\n",
       "      <td>48.16</td>\n",
       "      <td>8603.62</td>\n",
       "      <td>93.25</td>\n",
       "      <td>0.0</td>\n",
       "      <td>conventional</td>\n",
       "      <td>2015</td>\n",
       "      <td>Albany</td>\n",
       "      <td>27</td>\n",
       "      <td>12</td>\n",
       "    </tr>\n",
       "    <tr>\n",
       "      <th>1</th>\n",
       "      <td>1.35</td>\n",
       "      <td>674.28</td>\n",
       "      <td>44638.81</td>\n",
       "      <td>58.33</td>\n",
       "      <td>9408.07</td>\n",
       "      <td>97.49</td>\n",
       "      <td>0.0</td>\n",
       "      <td>conventional</td>\n",
       "      <td>2015</td>\n",
       "      <td>Albany</td>\n",
       "      <td>20</td>\n",
       "      <td>12</td>\n",
       "    </tr>\n",
       "    <tr>\n",
       "      <th>2</th>\n",
       "      <td>0.93</td>\n",
       "      <td>794.70</td>\n",
       "      <td>109149.67</td>\n",
       "      <td>130.50</td>\n",
       "      <td>8042.21</td>\n",
       "      <td>103.14</td>\n",
       "      <td>0.0</td>\n",
       "      <td>conventional</td>\n",
       "      <td>2015</td>\n",
       "      <td>Albany</td>\n",
       "      <td>13</td>\n",
       "      <td>12</td>\n",
       "    </tr>\n",
       "    <tr>\n",
       "      <th>3</th>\n",
       "      <td>1.08</td>\n",
       "      <td>1132.00</td>\n",
       "      <td>71976.41</td>\n",
       "      <td>72.58</td>\n",
       "      <td>5677.40</td>\n",
       "      <td>133.76</td>\n",
       "      <td>0.0</td>\n",
       "      <td>conventional</td>\n",
       "      <td>2015</td>\n",
       "      <td>Albany</td>\n",
       "      <td>6</td>\n",
       "      <td>12</td>\n",
       "    </tr>\n",
       "    <tr>\n",
       "      <th>4</th>\n",
       "      <td>1.28</td>\n",
       "      <td>941.48</td>\n",
       "      <td>43838.39</td>\n",
       "      <td>75.78</td>\n",
       "      <td>5986.26</td>\n",
       "      <td>197.69</td>\n",
       "      <td>0.0</td>\n",
       "      <td>conventional</td>\n",
       "      <td>2015</td>\n",
       "      <td>Albany</td>\n",
       "      <td>29</td>\n",
       "      <td>11</td>\n",
       "    </tr>\n",
       "    <tr>\n",
       "      <th>...</th>\n",
       "      <td>...</td>\n",
       "      <td>...</td>\n",
       "      <td>...</td>\n",
       "      <td>...</td>\n",
       "      <td>...</td>\n",
       "      <td>...</td>\n",
       "      <td>...</td>\n",
       "      <td>...</td>\n",
       "      <td>...</td>\n",
       "      <td>...</td>\n",
       "      <td>...</td>\n",
       "      <td>...</td>\n",
       "    </tr>\n",
       "    <tr>\n",
       "      <th>18244</th>\n",
       "      <td>1.63</td>\n",
       "      <td>2046.96</td>\n",
       "      <td>1529.20</td>\n",
       "      <td>0.00</td>\n",
       "      <td>13066.82</td>\n",
       "      <td>431.85</td>\n",
       "      <td>0.0</td>\n",
       "      <td>organic</td>\n",
       "      <td>2018</td>\n",
       "      <td>WestTexNewMexico</td>\n",
       "      <td>4</td>\n",
       "      <td>2</td>\n",
       "    </tr>\n",
       "    <tr>\n",
       "      <th>18245</th>\n",
       "      <td>1.71</td>\n",
       "      <td>1191.70</td>\n",
       "      <td>3431.50</td>\n",
       "      <td>0.00</td>\n",
       "      <td>8940.04</td>\n",
       "      <td>324.80</td>\n",
       "      <td>0.0</td>\n",
       "      <td>organic</td>\n",
       "      <td>2018</td>\n",
       "      <td>WestTexNewMexico</td>\n",
       "      <td>28</td>\n",
       "      <td>1</td>\n",
       "    </tr>\n",
       "    <tr>\n",
       "      <th>18246</th>\n",
       "      <td>1.87</td>\n",
       "      <td>1191.92</td>\n",
       "      <td>2452.79</td>\n",
       "      <td>727.94</td>\n",
       "      <td>9351.80</td>\n",
       "      <td>42.31</td>\n",
       "      <td>0.0</td>\n",
       "      <td>organic</td>\n",
       "      <td>2018</td>\n",
       "      <td>WestTexNewMexico</td>\n",
       "      <td>21</td>\n",
       "      <td>1</td>\n",
       "    </tr>\n",
       "    <tr>\n",
       "      <th>18247</th>\n",
       "      <td>1.93</td>\n",
       "      <td>1527.63</td>\n",
       "      <td>2981.04</td>\n",
       "      <td>727.01</td>\n",
       "      <td>10919.54</td>\n",
       "      <td>50.00</td>\n",
       "      <td>0.0</td>\n",
       "      <td>organic</td>\n",
       "      <td>2018</td>\n",
       "      <td>WestTexNewMexico</td>\n",
       "      <td>14</td>\n",
       "      <td>1</td>\n",
       "    </tr>\n",
       "    <tr>\n",
       "      <th>18248</th>\n",
       "      <td>1.62</td>\n",
       "      <td>2894.77</td>\n",
       "      <td>2356.13</td>\n",
       "      <td>224.53</td>\n",
       "      <td>11988.14</td>\n",
       "      <td>26.01</td>\n",
       "      <td>0.0</td>\n",
       "      <td>organic</td>\n",
       "      <td>2018</td>\n",
       "      <td>WestTexNewMexico</td>\n",
       "      <td>7</td>\n",
       "      <td>1</td>\n",
       "    </tr>\n",
       "  </tbody>\n",
       "</table>\n",
       "<p>18249 rows × 12 columns</p>\n",
       "</div>"
      ],
      "text/plain": [
       "       AveragePrice     4046       4225    4770  Small Bags  Large Bags  \\\n",
       "0              1.33  1036.74   54454.85   48.16     8603.62       93.25   \n",
       "1              1.35   674.28   44638.81   58.33     9408.07       97.49   \n",
       "2              0.93   794.70  109149.67  130.50     8042.21      103.14   \n",
       "3              1.08  1132.00   71976.41   72.58     5677.40      133.76   \n",
       "4              1.28   941.48   43838.39   75.78     5986.26      197.69   \n",
       "...             ...      ...        ...     ...         ...         ...   \n",
       "18244          1.63  2046.96    1529.20    0.00    13066.82      431.85   \n",
       "18245          1.71  1191.70    3431.50    0.00     8940.04      324.80   \n",
       "18246          1.87  1191.92    2452.79  727.94     9351.80       42.31   \n",
       "18247          1.93  1527.63    2981.04  727.01    10919.54       50.00   \n",
       "18248          1.62  2894.77    2356.13  224.53    11988.14       26.01   \n",
       "\n",
       "       XLarge Bags          type  year            region  Day  Month  \n",
       "0              0.0  conventional  2015            Albany   27     12  \n",
       "1              0.0  conventional  2015            Albany   20     12  \n",
       "2              0.0  conventional  2015            Albany   13     12  \n",
       "3              0.0  conventional  2015            Albany    6     12  \n",
       "4              0.0  conventional  2015            Albany   29     11  \n",
       "...            ...           ...   ...               ...  ...    ...  \n",
       "18244          0.0       organic  2018  WestTexNewMexico    4      2  \n",
       "18245          0.0       organic  2018  WestTexNewMexico   28      1  \n",
       "18246          0.0       organic  2018  WestTexNewMexico   21      1  \n",
       "18247          0.0       organic  2018  WestTexNewMexico   14      1  \n",
       "18248          0.0       organic  2018  WestTexNewMexico    7      1  \n",
       "\n",
       "[18249 rows x 12 columns]"
      ]
     },
     "execution_count": 74,
     "metadata": {},
     "output_type": "execute_result"
    }
   ],
   "source": [
    "df"
   ]
  },
  {
   "cell_type": "markdown",
   "id": "e3962db4",
   "metadata": {},
   "source": [
    "# Checking for Outliers"
   ]
  },
  {
   "cell_type": "code",
   "execution_count": 75,
   "id": "cabbdd71",
   "metadata": {},
   "outputs": [
    {
     "data": {
      "image/png": "[encoded data removed]",
      "text/plain": [
       "<Figure size 1440x1800 with 8 Axes>"
      ]
     },
     "metadata": {},
     "output_type": "display_data"
    }
   ],
   "source": [
    "plt.figure(figsize=(20,25),facecolor='white')\n",
    "plotnum=1\n",
    "for col in df.drop(columns = ['year','type','region','AveragePrice'],axis=1):\n",
    "    if plotnum<=11:\n",
    "        plt.subplot(5,5,plotnum)\n",
    "        sns.boxplot(df[col])\n",
    "        plt.xlabel(col,fontsize=20)\n",
    "    plotnum+=1\n",
    "plt.show()"
   ]
  },
  {
   "cell_type": "markdown",
   "id": "6dbca4bb",
   "metadata": {},
   "source": [
    "# Removing outliers using zscore method"
   ]
  },
  {
   "cell_type": "code",
   "execution_count": 76,
   "id": "16463e12",
   "metadata": {},
   "outputs": [],
   "source": [
    "DF =df.drop(columns = ['year','type','region','AveragePrice'],axis=1).copy()"
   ]
  },
  {
   "cell_type": "code",
   "execution_count": 77,
   "id": "44b0f1da",
   "metadata": {},
   "outputs": [
    {
     "data": {
      "text/html": [
       "<div>\n",
       "<style scoped>\n",
       "    .dataframe tbody tr th:only-of-type {\n",
       "        vertical-align: middle;\n",
       "    }\n",
       "\n",
       "    .dataframe tbody tr th {\n",
       "        vertical-align: top;\n",
       "    }\n",
       "\n",
       "    .dataframe thead th {\n",
       "        text-align: right;\n",
       "    }\n",
       "</style>\n",
       "<table border=\"1\" class=\"dataframe\">\n",
       "  <thead>\n",
       "    <tr style=\"text-align: right;\">\n",
       "      <th></th>\n",
       "      <th>4046</th>\n",
       "      <th>4225</th>\n",
       "      <th>4770</th>\n",
       "      <th>Small Bags</th>\n",
       "      <th>Large Bags</th>\n",
       "      <th>XLarge Bags</th>\n",
       "      <th>Day</th>\n",
       "      <th>Month</th>\n",
       "    </tr>\n",
       "  </thead>\n",
       "  <tbody>\n",
       "    <tr>\n",
       "      <th>0</th>\n",
       "      <td>1036.74</td>\n",
       "      <td>54454.85</td>\n",
       "      <td>48.16</td>\n",
       "      <td>8603.62</td>\n",
       "      <td>93.25</td>\n",
       "      <td>0.0</td>\n",
       "      <td>27</td>\n",
       "      <td>12</td>\n",
       "    </tr>\n",
       "    <tr>\n",
       "      <th>1</th>\n",
       "      <td>674.28</td>\n",
       "      <td>44638.81</td>\n",
       "      <td>58.33</td>\n",
       "      <td>9408.07</td>\n",
       "      <td>97.49</td>\n",
       "      <td>0.0</td>\n",
       "      <td>20</td>\n",
       "      <td>12</td>\n",
       "    </tr>\n",
       "    <tr>\n",
       "      <th>2</th>\n",
       "      <td>794.70</td>\n",
       "      <td>109149.67</td>\n",
       "      <td>130.50</td>\n",
       "      <td>8042.21</td>\n",
       "      <td>103.14</td>\n",
       "      <td>0.0</td>\n",
       "      <td>13</td>\n",
       "      <td>12</td>\n",
       "    </tr>\n",
       "    <tr>\n",
       "      <th>3</th>\n",
       "      <td>1132.00</td>\n",
       "      <td>71976.41</td>\n",
       "      <td>72.58</td>\n",
       "      <td>5677.40</td>\n",
       "      <td>133.76</td>\n",
       "      <td>0.0</td>\n",
       "      <td>6</td>\n",
       "      <td>12</td>\n",
       "    </tr>\n",
       "    <tr>\n",
       "      <th>4</th>\n",
       "      <td>941.48</td>\n",
       "      <td>43838.39</td>\n",
       "      <td>75.78</td>\n",
       "      <td>5986.26</td>\n",
       "      <td>197.69</td>\n",
       "      <td>0.0</td>\n",
       "      <td>29</td>\n",
       "      <td>11</td>\n",
       "    </tr>\n",
       "    <tr>\n",
       "      <th>...</th>\n",
       "      <td>...</td>\n",
       "      <td>...</td>\n",
       "      <td>...</td>\n",
       "      <td>...</td>\n",
       "      <td>...</td>\n",
       "      <td>...</td>\n",
       "      <td>...</td>\n",
       "      <td>...</td>\n",
       "    </tr>\n",
       "    <tr>\n",
       "      <th>18244</th>\n",
       "      <td>2046.96</td>\n",
       "      <td>1529.20</td>\n",
       "      <td>0.00</td>\n",
       "      <td>13066.82</td>\n",
       "      <td>431.85</td>\n",
       "      <td>0.0</td>\n",
       "      <td>4</td>\n",
       "      <td>2</td>\n",
       "    </tr>\n",
       "    <tr>\n",
       "      <th>18245</th>\n",
       "      <td>1191.70</td>\n",
       "      <td>3431.50</td>\n",
       "      <td>0.00</td>\n",
       "      <td>8940.04</td>\n",
       "      <td>324.80</td>\n",
       "      <td>0.0</td>\n",
       "      <td>28</td>\n",
       "      <td>1</td>\n",
       "    </tr>\n",
       "    <tr>\n",
       "      <th>18246</th>\n",
       "      <td>1191.92</td>\n",
       "      <td>2452.79</td>\n",
       "      <td>727.94</td>\n",
       "      <td>9351.80</td>\n",
       "      <td>42.31</td>\n",
       "      <td>0.0</td>\n",
       "      <td>21</td>\n",
       "      <td>1</td>\n",
       "    </tr>\n",
       "    <tr>\n",
       "      <th>18247</th>\n",
       "      <td>1527.63</td>\n",
       "      <td>2981.04</td>\n",
       "      <td>727.01</td>\n",
       "      <td>10919.54</td>\n",
       "      <td>50.00</td>\n",
       "      <td>0.0</td>\n",
       "      <td>14</td>\n",
       "      <td>1</td>\n",
       "    </tr>\n",
       "    <tr>\n",
       "      <th>18248</th>\n",
       "      <td>2894.77</td>\n",
       "      <td>2356.13</td>\n",
       "      <td>224.53</td>\n",
       "      <td>11988.14</td>\n",
       "      <td>26.01</td>\n",
       "      <td>0.0</td>\n",
       "      <td>7</td>\n",
       "      <td>1</td>\n",
       "    </tr>\n",
       "  </tbody>\n",
       "</table>\n",
       "<p>18249 rows × 8 columns</p>\n",
       "</div>"
      ],
      "text/plain": [
       "          4046       4225    4770  Small Bags  Large Bags  XLarge Bags  Day  \\\n",
       "0      1036.74   54454.85   48.16     8603.62       93.25          0.0   27   \n",
       "1       674.28   44638.81   58.33     9408.07       97.49          0.0   20   \n",
       "2       794.70  109149.67  130.50     8042.21      103.14          0.0   13   \n",
       "3      1132.00   71976.41   72.58     5677.40      133.76          0.0    6   \n",
       "4       941.48   43838.39   75.78     5986.26      197.69          0.0   29   \n",
       "...        ...        ...     ...         ...         ...          ...  ...   \n",
       "18244  2046.96    1529.20    0.00    13066.82      431.85          0.0    4   \n",
       "18245  1191.70    3431.50    0.00     8940.04      324.80          0.0   28   \n",
       "18246  1191.92    2452.79  727.94     9351.80       42.31          0.0   21   \n",
       "18247  1527.63    2981.04  727.01    10919.54       50.00          0.0   14   \n",
       "18248  2894.77    2356.13  224.53    11988.14       26.01          0.0    7   \n",
       "\n",
       "       Month  \n",
       "0         12  \n",
       "1         12  \n",
       "2         12  \n",
       "3         12  \n",
       "4         11  \n",
       "...      ...  \n",
       "18244      2  \n",
       "18245      1  \n",
       "18246      1  \n",
       "18247      1  \n",
       "18248      1  \n",
       "\n",
       "[18249 rows x 8 columns]"
      ]
     },
     "execution_count": 77,
     "metadata": {},
     "output_type": "execute_result"
    }
   ],
   "source": [
    "DF"
   ]
  },
  {
   "cell_type": "code",
   "execution_count": 78,
   "id": "c5b3fc54",
   "metadata": {},
   "outputs": [],
   "source": [
    "from scipy.stats import zscore"
   ]
  },
  {
   "cell_type": "code",
   "execution_count": 80,
   "id": "6aa2608b",
   "metadata": {},
   "outputs": [],
   "source": [
    "Z = zscore(DF)\n",
    "z_score_abs = np.abs(Z)"
   ]
  },
  {
   "cell_type": "code",
   "execution_count": 81,
   "id": "42526040",
   "metadata": {},
   "outputs": [],
   "source": [
    "DF1 = DF[(z_score_abs < 3).all(axis=1)] #taking 3 as threshold value"
   ]
  },
  {
   "cell_type": "code",
   "execution_count": 86,
   "id": "5cb91f9a",
   "metadata": {},
   "outputs": [
    {
     "data": {
      "text/html": [
       "<div>\n",
       "<style scoped>\n",
       "    .dataframe tbody tr th:only-of-type {\n",
       "        vertical-align: middle;\n",
       "    }\n",
       "\n",
       "    .dataframe tbody tr th {\n",
       "        vertical-align: top;\n",
       "    }\n",
       "\n",
       "    .dataframe thead th {\n",
       "        text-align: right;\n",
       "    }\n",
       "</style>\n",
       "<table border=\"1\" class=\"dataframe\">\n",
       "  <thead>\n",
       "    <tr style=\"text-align: right;\">\n",
       "      <th></th>\n",
       "      <th>4046</th>\n",
       "      <th>4225</th>\n",
       "      <th>4770</th>\n",
       "      <th>Small Bags</th>\n",
       "      <th>Large Bags</th>\n",
       "      <th>XLarge Bags</th>\n",
       "      <th>Day</th>\n",
       "      <th>Month</th>\n",
       "    </tr>\n",
       "  </thead>\n",
       "  <tbody>\n",
       "    <tr>\n",
       "      <th>0</th>\n",
       "      <td>1036.74</td>\n",
       "      <td>54454.85</td>\n",
       "      <td>48.16</td>\n",
       "      <td>8603.62</td>\n",
       "      <td>93.25</td>\n",
       "      <td>0.0</td>\n",
       "      <td>27</td>\n",
       "      <td>12</td>\n",
       "    </tr>\n",
       "    <tr>\n",
       "      <th>1</th>\n",
       "      <td>674.28</td>\n",
       "      <td>44638.81</td>\n",
       "      <td>58.33</td>\n",
       "      <td>9408.07</td>\n",
       "      <td>97.49</td>\n",
       "      <td>0.0</td>\n",
       "      <td>20</td>\n",
       "      <td>12</td>\n",
       "    </tr>\n",
       "    <tr>\n",
       "      <th>2</th>\n",
       "      <td>794.70</td>\n",
       "      <td>109149.67</td>\n",
       "      <td>130.50</td>\n",
       "      <td>8042.21</td>\n",
       "      <td>103.14</td>\n",
       "      <td>0.0</td>\n",
       "      <td>13</td>\n",
       "      <td>12</td>\n",
       "    </tr>\n",
       "    <tr>\n",
       "      <th>3</th>\n",
       "      <td>1132.00</td>\n",
       "      <td>71976.41</td>\n",
       "      <td>72.58</td>\n",
       "      <td>5677.40</td>\n",
       "      <td>133.76</td>\n",
       "      <td>0.0</td>\n",
       "      <td>6</td>\n",
       "      <td>12</td>\n",
       "    </tr>\n",
       "    <tr>\n",
       "      <th>4</th>\n",
       "      <td>941.48</td>\n",
       "      <td>43838.39</td>\n",
       "      <td>75.78</td>\n",
       "      <td>5986.26</td>\n",
       "      <td>197.69</td>\n",
       "      <td>0.0</td>\n",
       "      <td>29</td>\n",
       "      <td>11</td>\n",
       "    </tr>\n",
       "    <tr>\n",
       "      <th>...</th>\n",
       "      <td>...</td>\n",
       "      <td>...</td>\n",
       "      <td>...</td>\n",
       "      <td>...</td>\n",
       "      <td>...</td>\n",
       "      <td>...</td>\n",
       "      <td>...</td>\n",
       "      <td>...</td>\n",
       "    </tr>\n",
       "    <tr>\n",
       "      <th>18244</th>\n",
       "      <td>2046.96</td>\n",
       "      <td>1529.20</td>\n",
       "      <td>0.00</td>\n",
       "      <td>13066.82</td>\n",
       "      <td>431.85</td>\n",
       "      <td>0.0</td>\n",
       "      <td>4</td>\n",
       "      <td>2</td>\n",
       "    </tr>\n",
       "    <tr>\n",
       "      <th>18245</th>\n",
       "      <td>1191.70</td>\n",
       "      <td>3431.50</td>\n",
       "      <td>0.00</td>\n",
       "      <td>8940.04</td>\n",
       "      <td>324.80</td>\n",
       "      <td>0.0</td>\n",
       "      <td>28</td>\n",
       "      <td>1</td>\n",
       "    </tr>\n",
       "    <tr>\n",
       "      <th>18246</th>\n",
       "      <td>1191.92</td>\n",
       "      <td>2452.79</td>\n",
       "      <td>727.94</td>\n",
       "      <td>9351.80</td>\n",
       "      <td>42.31</td>\n",
       "      <td>0.0</td>\n",
       "      <td>21</td>\n",
       "      <td>1</td>\n",
       "    </tr>\n",
       "    <tr>\n",
       "      <th>18247</th>\n",
       "      <td>1527.63</td>\n",
       "      <td>2981.04</td>\n",
       "      <td>727.01</td>\n",
       "      <td>10919.54</td>\n",
       "      <td>50.00</td>\n",
       "      <td>0.0</td>\n",
       "      <td>14</td>\n",
       "      <td>1</td>\n",
       "    </tr>\n",
       "    <tr>\n",
       "      <th>18248</th>\n",
       "      <td>2894.77</td>\n",
       "      <td>2356.13</td>\n",
       "      <td>224.53</td>\n",
       "      <td>11988.14</td>\n",
       "      <td>26.01</td>\n",
       "      <td>0.0</td>\n",
       "      <td>7</td>\n",
       "      <td>1</td>\n",
       "    </tr>\n",
       "  </tbody>\n",
       "</table>\n",
       "<p>17782 rows × 8 columns</p>\n",
       "</div>"
      ],
      "text/plain": [
       "          4046       4225    4770  Small Bags  Large Bags  XLarge Bags  Day  \\\n",
       "0      1036.74   54454.85   48.16     8603.62       93.25          0.0   27   \n",
       "1       674.28   44638.81   58.33     9408.07       97.49          0.0   20   \n",
       "2       794.70  109149.67  130.50     8042.21      103.14          0.0   13   \n",
       "3      1132.00   71976.41   72.58     5677.40      133.76          0.0    6   \n",
       "4       941.48   43838.39   75.78     5986.26      197.69          0.0   29   \n",
       "...        ...        ...     ...         ...         ...          ...  ...   \n",
       "18244  2046.96    1529.20    0.00    13066.82      431.85          0.0    4   \n",
       "18245  1191.70    3431.50    0.00     8940.04      324.80          0.0   28   \n",
       "18246  1191.92    2452.79  727.94     9351.80       42.31          0.0   21   \n",
       "18247  1527.63    2981.04  727.01    10919.54       50.00          0.0   14   \n",
       "18248  2894.77    2356.13  224.53    11988.14       26.01          0.0    7   \n",
       "\n",
       "       Month  \n",
       "0         12  \n",
       "1         12  \n",
       "2         12  \n",
       "3         12  \n",
       "4         11  \n",
       "...      ...  \n",
       "18244      2  \n",
       "18245      1  \n",
       "18246      1  \n",
       "18247      1  \n",
       "18248      1  \n",
       "\n",
       "[17782 rows x 8 columns]"
      ]
     },
     "execution_count": 86,
     "metadata": {},
     "output_type": "execute_result"
    }
   ],
   "source": [
    "DF1"
   ]
  },
  {
   "cell_type": "code",
   "execution_count": 87,
   "id": "dbfd3a78",
   "metadata": {},
   "outputs": [
    {
     "data": {
      "text/plain": [
       "(17782, 8)"
      ]
     },
     "execution_count": 87,
     "metadata": {},
     "output_type": "execute_result"
    }
   ],
   "source": [
    "DF1.shape"
   ]
  },
  {
   "cell_type": "code",
   "execution_count": 88,
   "id": "95bf2aff",
   "metadata": {},
   "outputs": [
    {
     "data": {
      "text/plain": [
       "(18249, 8)"
      ]
     },
     "execution_count": 88,
     "metadata": {},
     "output_type": "execute_result"
    }
   ],
   "source": [
    "DF.shape"
   ]
  },
  {
   "cell_type": "markdown",
   "id": "37de3338",
   "metadata": {},
   "source": [
    "# Percentage of DataLoss"
   ]
  },
  {
   "cell_type": "code",
   "execution_count": 89,
   "id": "49c6e570",
   "metadata": {},
   "outputs": [
    {
     "data": {
      "text/plain": [
       "2.55904433119623"
      ]
     },
     "execution_count": 89,
     "metadata": {},
     "output_type": "execute_result"
    }
   ],
   "source": [
    "Data_loss =(18249-17782)/18249 * 100\n",
    "Data_loss"
   ]
  },
  {
   "cell_type": "markdown",
   "id": "a45cd6a7",
   "metadata": {},
   "source": [
    "### Percentage of DataLoss is 2.55% , which is acceptable"
   ]
  },
  {
   "cell_type": "code",
   "execution_count": 90,
   "id": "b626b10f",
   "metadata": {},
   "outputs": [],
   "source": [
    "dropindx = df.index.difference(DF1.index)"
   ]
  },
  {
   "cell_type": "code",
   "execution_count": 91,
   "id": "f13c99a0",
   "metadata": {},
   "outputs": [
    {
     "data": {
      "text/plain": [
       "Int64Index([ 346,  359,  780,  781,  783,  787,  788,  790,  791,  792,\n",
       "            ...\n",
       "            9104, 9105, 9106, 9107, 9108, 9109, 9110, 9111, 9112, 9113],\n",
       "           dtype='int64', length=467)"
      ]
     },
     "execution_count": 91,
     "metadata": {},
     "output_type": "execute_result"
    }
   ],
   "source": [
    "dropindx"
   ]
  },
  {
   "cell_type": "code",
   "execution_count": 92,
   "id": "d3892376",
   "metadata": {},
   "outputs": [],
   "source": [
    "df.drop(dropindx,inplace = True)"
   ]
  },
  {
   "cell_type": "code",
   "execution_count": 93,
   "id": "fe436ab6",
   "metadata": {},
   "outputs": [
    {
     "data": {
      "text/html": [
       "<div>\n",
       "<style scoped>\n",
       "    .dataframe tbody tr th:only-of-type {\n",
       "        vertical-align: middle;\n",
       "    }\n",
       "\n",
       "    .dataframe tbody tr th {\n",
       "        vertical-align: top;\n",
       "    }\n",
       "\n",
       "    .dataframe thead th {\n",
       "        text-align: right;\n",
       "    }\n",
       "</style>\n",
       "<table border=\"1\" class=\"dataframe\">\n",
       "  <thead>\n",
       "    <tr style=\"text-align: right;\">\n",
       "      <th></th>\n",
       "      <th>AveragePrice</th>\n",
       "      <th>4046</th>\n",
       "      <th>4225</th>\n",
       "      <th>4770</th>\n",
       "      <th>Small Bags</th>\n",
       "      <th>Large Bags</th>\n",
       "      <th>XLarge Bags</th>\n",
       "      <th>type</th>\n",
       "      <th>year</th>\n",
       "      <th>region</th>\n",
       "      <th>Day</th>\n",
       "      <th>Month</th>\n",
       "    </tr>\n",
       "  </thead>\n",
       "  <tbody>\n",
       "    <tr>\n",
       "      <th>0</th>\n",
       "      <td>1.33</td>\n",
       "      <td>1036.74</td>\n",
       "      <td>54454.85</td>\n",
       "      <td>48.16</td>\n",
       "      <td>8603.62</td>\n",
       "      <td>93.25</td>\n",
       "      <td>0.0</td>\n",
       "      <td>conventional</td>\n",
       "      <td>2015</td>\n",
       "      <td>Albany</td>\n",
       "      <td>27</td>\n",
       "      <td>12</td>\n",
       "    </tr>\n",
       "    <tr>\n",
       "      <th>1</th>\n",
       "      <td>1.35</td>\n",
       "      <td>674.28</td>\n",
       "      <td>44638.81</td>\n",
       "      <td>58.33</td>\n",
       "      <td>9408.07</td>\n",
       "      <td>97.49</td>\n",
       "      <td>0.0</td>\n",
       "      <td>conventional</td>\n",
       "      <td>2015</td>\n",
       "      <td>Albany</td>\n",
       "      <td>20</td>\n",
       "      <td>12</td>\n",
       "    </tr>\n",
       "    <tr>\n",
       "      <th>2</th>\n",
       "      <td>0.93</td>\n",
       "      <td>794.70</td>\n",
       "      <td>109149.67</td>\n",
       "      <td>130.50</td>\n",
       "      <td>8042.21</td>\n",
       "      <td>103.14</td>\n",
       "      <td>0.0</td>\n",
       "      <td>conventional</td>\n",
       "      <td>2015</td>\n",
       "      <td>Albany</td>\n",
       "      <td>13</td>\n",
       "      <td>12</td>\n",
       "    </tr>\n",
       "    <tr>\n",
       "      <th>3</th>\n",
       "      <td>1.08</td>\n",
       "      <td>1132.00</td>\n",
       "      <td>71976.41</td>\n",
       "      <td>72.58</td>\n",
       "      <td>5677.40</td>\n",
       "      <td>133.76</td>\n",
       "      <td>0.0</td>\n",
       "      <td>conventional</td>\n",
       "      <td>2015</td>\n",
       "      <td>Albany</td>\n",
       "      <td>6</td>\n",
       "      <td>12</td>\n",
       "    </tr>\n",
       "    <tr>\n",
       "      <th>4</th>\n",
       "      <td>1.28</td>\n",
       "      <td>941.48</td>\n",
       "      <td>43838.39</td>\n",
       "      <td>75.78</td>\n",
       "      <td>5986.26</td>\n",
       "      <td>197.69</td>\n",
       "      <td>0.0</td>\n",
       "      <td>conventional</td>\n",
       "      <td>2015</td>\n",
       "      <td>Albany</td>\n",
       "      <td>29</td>\n",
       "      <td>11</td>\n",
       "    </tr>\n",
       "    <tr>\n",
       "      <th>...</th>\n",
       "      <td>...</td>\n",
       "      <td>...</td>\n",
       "      <td>...</td>\n",
       "      <td>...</td>\n",
       "      <td>...</td>\n",
       "      <td>...</td>\n",
       "      <td>...</td>\n",
       "      <td>...</td>\n",
       "      <td>...</td>\n",
       "      <td>...</td>\n",
       "      <td>...</td>\n",
       "      <td>...</td>\n",
       "    </tr>\n",
       "    <tr>\n",
       "      <th>18244</th>\n",
       "      <td>1.63</td>\n",
       "      <td>2046.96</td>\n",
       "      <td>1529.20</td>\n",
       "      <td>0.00</td>\n",
       "      <td>13066.82</td>\n",
       "      <td>431.85</td>\n",
       "      <td>0.0</td>\n",
       "      <td>organic</td>\n",
       "      <td>2018</td>\n",
       "      <td>WestTexNewMexico</td>\n",
       "      <td>4</td>\n",
       "      <td>2</td>\n",
       "    </tr>\n",
       "    <tr>\n",
       "      <th>18245</th>\n",
       "      <td>1.71</td>\n",
       "      <td>1191.70</td>\n",
       "      <td>3431.50</td>\n",
       "      <td>0.00</td>\n",
       "      <td>8940.04</td>\n",
       "      <td>324.80</td>\n",
       "      <td>0.0</td>\n",
       "      <td>organic</td>\n",
       "      <td>2018</td>\n",
       "      <td>WestTexNewMexico</td>\n",
       "      <td>28</td>\n",
       "      <td>1</td>\n",
       "    </tr>\n",
       "    <tr>\n",
       "      <th>18246</th>\n",
       "      <td>1.87</td>\n",
       "      <td>1191.92</td>\n",
       "      <td>2452.79</td>\n",
       "      <td>727.94</td>\n",
       "      <td>9351.80</td>\n",
       "      <td>42.31</td>\n",
       "      <td>0.0</td>\n",
       "      <td>organic</td>\n",
       "      <td>2018</td>\n",
       "      <td>WestTexNewMexico</td>\n",
       "      <td>21</td>\n",
       "      <td>1</td>\n",
       "    </tr>\n",
       "    <tr>\n",
       "      <th>18247</th>\n",
       "      <td>1.93</td>\n",
       "      <td>1527.63</td>\n",
       "      <td>2981.04</td>\n",
       "      <td>727.01</td>\n",
       "      <td>10919.54</td>\n",
       "      <td>50.00</td>\n",
       "      <td>0.0</td>\n",
       "      <td>organic</td>\n",
       "      <td>2018</td>\n",
       "      <td>WestTexNewMexico</td>\n",
       "      <td>14</td>\n",
       "      <td>1</td>\n",
       "    </tr>\n",
       "    <tr>\n",
       "      <th>18248</th>\n",
       "      <td>1.62</td>\n",
       "      <td>2894.77</td>\n",
       "      <td>2356.13</td>\n",
       "      <td>224.53</td>\n",
       "      <td>11988.14</td>\n",
       "      <td>26.01</td>\n",
       "      <td>0.0</td>\n",
       "      <td>organic</td>\n",
       "      <td>2018</td>\n",
       "      <td>WestTexNewMexico</td>\n",
       "      <td>7</td>\n",
       "      <td>1</td>\n",
       "    </tr>\n",
       "  </tbody>\n",
       "</table>\n",
       "<p>17782 rows × 12 columns</p>\n",
       "</div>"
      ],
      "text/plain": [
       "       AveragePrice     4046       4225    4770  Small Bags  Large Bags  \\\n",
       "0              1.33  1036.74   54454.85   48.16     8603.62       93.25   \n",
       "1              1.35   674.28   44638.81   58.33     9408.07       97.49   \n",
       "2              0.93   794.70  109149.67  130.50     8042.21      103.14   \n",
       "3              1.08  1132.00   71976.41   72.58     5677.40      133.76   \n",
       "4              1.28   941.48   43838.39   75.78     5986.26      197.69   \n",
       "...             ...      ...        ...     ...         ...         ...   \n",
       "18244          1.63  2046.96    1529.20    0.00    13066.82      431.85   \n",
       "18245          1.71  1191.70    3431.50    0.00     8940.04      324.80   \n",
       "18246          1.87  1191.92    2452.79  727.94     9351.80       42.31   \n",
       "18247          1.93  1527.63    2981.04  727.01    10919.54       50.00   \n",
       "18248          1.62  2894.77    2356.13  224.53    11988.14       26.01   \n",
       "\n",
       "       XLarge Bags          type  year            region  Day  Month  \n",
       "0              0.0  conventional  2015            Albany   27     12  \n",
       "1              0.0  conventional  2015            Albany   20     12  \n",
       "2              0.0  conventional  2015            Albany   13     12  \n",
       "3              0.0  conventional  2015            Albany    6     12  \n",
       "4              0.0  conventional  2015            Albany   29     11  \n",
       "...            ...           ...   ...               ...  ...    ...  \n",
       "18244          0.0       organic  2018  WestTexNewMexico    4      2  \n",
       "18245          0.0       organic  2018  WestTexNewMexico   28      1  \n",
       "18246          0.0       organic  2018  WestTexNewMexico   21      1  \n",
       "18247          0.0       organic  2018  WestTexNewMexico   14      1  \n",
       "18248          0.0       organic  2018  WestTexNewMexico    7      1  \n",
       "\n",
       "[17782 rows x 12 columns]"
      ]
     },
     "execution_count": 93,
     "metadata": {},
     "output_type": "execute_result"
    }
   ],
   "source": [
    "df"
   ]
  },
  {
   "cell_type": "code",
   "execution_count": 94,
   "id": "5200f884",
   "metadata": {},
   "outputs": [],
   "source": [
    "#restart\n",
    "df.reset_index(drop=True,inplace = True) "
   ]
  },
  {
   "cell_type": "code",
   "execution_count": 95,
   "id": "8dd6a651",
   "metadata": {},
   "outputs": [
    {
     "data": {
      "image/png": "[encoded data removed]",
      "text/plain": [
       "<Figure size 1440x1800 with 8 Axes>"
      ]
     },
     "metadata": {},
     "output_type": "display_data"
    }
   ],
   "source": [
    "plt.figure(figsize=(20,25),facecolor='white')\n",
    "plotnum=1\n",
    "for col in df.drop(columns = ['year','type','region','AveragePrice'],axis=1):\n",
    "    if plotnum<=11:\n",
    "        plt.subplot(5,5,plotnum)\n",
    "        sns.boxplot(df[col])\n",
    "        plt.xlabel(col,fontsize=20)\n",
    "    plotnum+=1\n",
    "plt.show()"
   ]
  },
  {
   "cell_type": "markdown",
   "id": "ff0ab59d",
   "metadata": {},
   "source": [
    "# skewness:"
   ]
  },
  {
   "cell_type": "code",
   "execution_count": 96,
   "id": "3d058380",
   "metadata": {},
   "outputs": [
    {
     "data": {
      "text/plain": [
       "AveragePrice    0.560969\n",
       "4046            4.928850\n",
       "4225            4.472729\n",
       "4770            5.137120\n",
       "Small Bags      4.238647\n",
       "Large Bags      5.072468\n",
       "XLarge Bags     6.159391\n",
       "year            0.220792\n",
       "Day             0.011251\n",
       "Month           0.098217\n",
       "dtype: float64"
      ]
     },
     "execution_count": 96,
     "metadata": {},
     "output_type": "execute_result"
    }
   ],
   "source": [
    "df.skew()"
   ]
  },
  {
   "cell_type": "markdown",
   "id": "0627acb5",
   "metadata": {},
   "source": [
    "# Removing Skewness using yeo-johnson method"
   ]
  },
  {
   "cell_type": "code",
   "execution_count": 97,
   "id": "aaf42d5f",
   "metadata": {},
   "outputs": [],
   "source": [
    "from sklearn.preprocessing import PowerTransformer"
   ]
  },
  {
   "cell_type": "code",
   "execution_count": 98,
   "id": "7b33671a",
   "metadata": {},
   "outputs": [],
   "source": [
    "from sklearn.preprocessing import PowerTransformer\n",
    "power = PowerTransformer(method='yeo-johnson')"
   ]
  },
  {
   "cell_type": "code",
   "execution_count": 99,
   "id": "24a19872",
   "metadata": {},
   "outputs": [],
   "source": [
    "DF = df.drop(columns = ['year','type','region','AveragePrice'],axis=1)"
   ]
  },
  {
   "cell_type": "code",
   "execution_count": 113,
   "id": "4d1433c1",
   "metadata": {},
   "outputs": [],
   "source": [
    "transform  = power.fit_transform(DF)"
   ]
  },
  {
   "cell_type": "code",
   "execution_count": 114,
   "id": "be7a0824",
   "metadata": {},
   "outputs": [],
   "source": [
    "transform = pd.DataFrame(transfrom,columns=DF.columns)"
   ]
  },
  {
   "cell_type": "code",
   "execution_count": 115,
   "id": "b40f5b78",
   "metadata": {},
   "outputs": [
    {
     "data": {
      "text/plain": [
       "4046          -0.015818\n",
       "4225           0.004294\n",
       "4770           0.026169\n",
       "Small Bags     0.019905\n",
       "Large Bags     0.015587\n",
       "XLarge Bags    0.774360\n",
       "Day           -0.038844\n",
       "Month         -0.032311\n",
       "dtype: float64"
      ]
     },
     "execution_count": 115,
     "metadata": {},
     "output_type": "execute_result"
    }
   ],
   "source": [
    "transform.skew()"
   ]
  },
  {
   "cell_type": "code",
   "execution_count": 116,
   "id": "eda0686e",
   "metadata": {},
   "outputs": [],
   "source": [
    "transform.index = df.index"
   ]
  },
  {
   "cell_type": "code",
   "execution_count": 117,
   "id": "24b92819",
   "metadata": {},
   "outputs": [],
   "source": [
    "Skewed = ['4046','4225','4770','Small Bags','Large Bags','XLarge Bags']"
   ]
  },
  {
   "cell_type": "code",
   "execution_count": 119,
   "id": "03438fbf",
   "metadata": {},
   "outputs": [],
   "source": [
    "df[Skewed] = transform[Skewed]"
   ]
  },
  {
   "cell_type": "code",
   "execution_count": 120,
   "id": "f08f5374",
   "metadata": {},
   "outputs": [
    {
     "data": {
      "text/plain": [
       "AveragePrice    0.560969\n",
       "4046           -0.015818\n",
       "4225            0.004294\n",
       "4770            0.026169\n",
       "Small Bags      0.019905\n",
       "Large Bags      0.015587\n",
       "XLarge Bags     0.774360\n",
       "year            0.220792\n",
       "Day             0.011251\n",
       "Month           0.098217\n",
       "dtype: float64"
      ]
     },
     "execution_count": 120,
     "metadata": {},
     "output_type": "execute_result"
    }
   ],
   "source": [
    "df.skew()"
   ]
  },
  {
   "cell_type": "markdown",
   "id": "1a0f9662",
   "metadata": {},
   "source": [
    "#### Skewness has been removed from dataset"
   ]
  },
  {
   "cell_type": "markdown",
   "id": "687b575d",
   "metadata": {},
   "source": [
    "# Encoding:"
   ]
  },
  {
   "cell_type": "code",
   "execution_count": 121,
   "id": "5f544928",
   "metadata": {},
   "outputs": [],
   "source": [
    "type_dumm = pd.get_dummies(df[['type']],drop_first = False)"
   ]
  },
  {
   "cell_type": "code",
   "execution_count": 122,
   "id": "603c22ae",
   "metadata": {},
   "outputs": [
    {
     "data": {
      "text/html": [
       "<div>\n",
       "<style scoped>\n",
       "    .dataframe tbody tr th:only-of-type {\n",
       "        vertical-align: middle;\n",
       "    }\n",
       "\n",
       "    .dataframe tbody tr th {\n",
       "        vertical-align: top;\n",
       "    }\n",
       "\n",
       "    .dataframe thead th {\n",
       "        text-align: right;\n",
       "    }\n",
       "</style>\n",
       "<table border=\"1\" class=\"dataframe\">\n",
       "  <thead>\n",
       "    <tr style=\"text-align: right;\">\n",
       "      <th></th>\n",
       "      <th>type_conventional</th>\n",
       "      <th>type_organic</th>\n",
       "    </tr>\n",
       "  </thead>\n",
       "  <tbody>\n",
       "    <tr>\n",
       "      <th>0</th>\n",
       "      <td>1</td>\n",
       "      <td>0</td>\n",
       "    </tr>\n",
       "    <tr>\n",
       "      <th>1</th>\n",
       "      <td>1</td>\n",
       "      <td>0</td>\n",
       "    </tr>\n",
       "    <tr>\n",
       "      <th>2</th>\n",
       "      <td>1</td>\n",
       "      <td>0</td>\n",
       "    </tr>\n",
       "    <tr>\n",
       "      <th>3</th>\n",
       "      <td>1</td>\n",
       "      <td>0</td>\n",
       "    </tr>\n",
       "    <tr>\n",
       "      <th>4</th>\n",
       "      <td>1</td>\n",
       "      <td>0</td>\n",
       "    </tr>\n",
       "    <tr>\n",
       "      <th>...</th>\n",
       "      <td>...</td>\n",
       "      <td>...</td>\n",
       "    </tr>\n",
       "    <tr>\n",
       "      <th>17777</th>\n",
       "      <td>0</td>\n",
       "      <td>1</td>\n",
       "    </tr>\n",
       "    <tr>\n",
       "      <th>17778</th>\n",
       "      <td>0</td>\n",
       "      <td>1</td>\n",
       "    </tr>\n",
       "    <tr>\n",
       "      <th>17779</th>\n",
       "      <td>0</td>\n",
       "      <td>1</td>\n",
       "    </tr>\n",
       "    <tr>\n",
       "      <th>17780</th>\n",
       "      <td>0</td>\n",
       "      <td>1</td>\n",
       "    </tr>\n",
       "    <tr>\n",
       "      <th>17781</th>\n",
       "      <td>0</td>\n",
       "      <td>1</td>\n",
       "    </tr>\n",
       "  </tbody>\n",
       "</table>\n",
       "<p>17782 rows × 2 columns</p>\n",
       "</div>"
      ],
      "text/plain": [
       "       type_conventional  type_organic\n",
       "0                      1             0\n",
       "1                      1             0\n",
       "2                      1             0\n",
       "3                      1             0\n",
       "4                      1             0\n",
       "...                  ...           ...\n",
       "17777                  0             1\n",
       "17778                  0             1\n",
       "17779                  0             1\n",
       "17780                  0             1\n",
       "17781                  0             1\n",
       "\n",
       "[17782 rows x 2 columns]"
      ]
     },
     "execution_count": 122,
     "metadata": {},
     "output_type": "execute_result"
    }
   ],
   "source": [
    "type_dumm"
   ]
  },
  {
   "cell_type": "code",
   "execution_count": 123,
   "id": "20589f29",
   "metadata": {},
   "outputs": [],
   "source": [
    "#joining to main dataset\n",
    "df = df.join(type_dumm)"
   ]
  },
  {
   "cell_type": "code",
   "execution_count": 124,
   "id": "04567632",
   "metadata": {},
   "outputs": [],
   "source": [
    "df.drop(columns=['type'],inplace=True)"
   ]
  },
  {
   "cell_type": "code",
   "execution_count": 125,
   "id": "c1aba7ae",
   "metadata": {},
   "outputs": [
    {
     "data": {
      "text/html": [
       "<div>\n",
       "<style scoped>\n",
       "    .dataframe tbody tr th:only-of-type {\n",
       "        vertical-align: middle;\n",
       "    }\n",
       "\n",
       "    .dataframe tbody tr th {\n",
       "        vertical-align: top;\n",
       "    }\n",
       "\n",
       "    .dataframe thead th {\n",
       "        text-align: right;\n",
       "    }\n",
       "</style>\n",
       "<table border=\"1\" class=\"dataframe\">\n",
       "  <thead>\n",
       "    <tr style=\"text-align: right;\">\n",
       "      <th></th>\n",
       "      <th>AveragePrice</th>\n",
       "      <th>4046</th>\n",
       "      <th>4225</th>\n",
       "      <th>4770</th>\n",
       "      <th>Small Bags</th>\n",
       "      <th>Large Bags</th>\n",
       "      <th>XLarge Bags</th>\n",
       "      <th>year</th>\n",
       "      <th>region</th>\n",
       "      <th>Day</th>\n",
       "      <th>Month</th>\n",
       "      <th>type_conventional</th>\n",
       "      <th>type_organic</th>\n",
       "    </tr>\n",
       "  </thead>\n",
       "  <tbody>\n",
       "    <tr>\n",
       "      <th>0</th>\n",
       "      <td>1.33</td>\n",
       "      <td>-0.653168</td>\n",
       "      <td>0.348247</td>\n",
       "      <td>-0.211458</td>\n",
       "      <td>-0.345468</td>\n",
       "      <td>-0.789832</td>\n",
       "      <td>-0.688181</td>\n",
       "      <td>2015</td>\n",
       "      <td>Albany</td>\n",
       "      <td>27</td>\n",
       "      <td>12</td>\n",
       "      <td>1</td>\n",
       "      <td>0</td>\n",
       "    </tr>\n",
       "    <tr>\n",
       "      <th>1</th>\n",
       "      <td>1.35</td>\n",
       "      <td>-0.772216</td>\n",
       "      <td>0.265547</td>\n",
       "      <td>-0.163999</td>\n",
       "      <td>-0.309714</td>\n",
       "      <td>-0.780450</td>\n",
       "      <td>-0.688181</td>\n",
       "      <td>2015</td>\n",
       "      <td>Albany</td>\n",
       "      <td>20</td>\n",
       "      <td>12</td>\n",
       "      <td>1</td>\n",
       "      <td>0</td>\n",
       "    </tr>\n",
       "    <tr>\n",
       "      <th>2</th>\n",
       "      <td>0.93</td>\n",
       "      <td>-0.727091</td>\n",
       "      <td>0.650156</td>\n",
       "      <td>0.035375</td>\n",
       "      <td>-0.372226</td>\n",
       "      <td>-0.768495</td>\n",
       "      <td>-0.688181</td>\n",
       "      <td>2015</td>\n",
       "      <td>Albany</td>\n",
       "      <td>13</td>\n",
       "      <td>12</td>\n",
       "      <td>1</td>\n",
       "      <td>0</td>\n",
       "    </tr>\n",
       "    <tr>\n",
       "      <th>3</th>\n",
       "      <td>1.08</td>\n",
       "      <td>-0.628477</td>\n",
       "      <td>0.466989</td>\n",
       "      <td>-0.109835</td>\n",
       "      <td>-0.507188</td>\n",
       "      <td>-0.712352</td>\n",
       "      <td>-0.688181</td>\n",
       "      <td>2015</td>\n",
       "      <td>Albany</td>\n",
       "      <td>6</td>\n",
       "      <td>12</td>\n",
       "      <td>1</td>\n",
       "      <td>0</td>\n",
       "    </tr>\n",
       "    <tr>\n",
       "      <th>4</th>\n",
       "      <td>1.28</td>\n",
       "      <td>-0.680097</td>\n",
       "      <td>0.258097</td>\n",
       "      <td>-0.099145</td>\n",
       "      <td>-0.486987</td>\n",
       "      <td>-0.624897</td>\n",
       "      <td>-0.688181</td>\n",
       "      <td>2015</td>\n",
       "      <td>Albany</td>\n",
       "      <td>29</td>\n",
       "      <td>11</td>\n",
       "      <td>1</td>\n",
       "      <td>0</td>\n",
       "    </tr>\n",
       "    <tr>\n",
       "      <th>...</th>\n",
       "      <td>...</td>\n",
       "      <td>...</td>\n",
       "      <td>...</td>\n",
       "      <td>...</td>\n",
       "      <td>...</td>\n",
       "      <td>...</td>\n",
       "      <td>...</td>\n",
       "      <td>...</td>\n",
       "      <td>...</td>\n",
       "      <td>...</td>\n",
       "      <td>...</td>\n",
       "      <td>...</td>\n",
       "      <td>...</td>\n",
       "    </tr>\n",
       "    <tr>\n",
       "      <th>17777</th>\n",
       "      <td>1.63</td>\n",
       "      <td>-0.458796</td>\n",
       "      <td>-0.923266</td>\n",
       "      <td>-1.225582</td>\n",
       "      <td>-0.175213</td>\n",
       "      <td>-0.438299</td>\n",
       "      <td>-0.688181</td>\n",
       "      <td>2018</td>\n",
       "      <td>WestTexNewMexico</td>\n",
       "      <td>4</td>\n",
       "      <td>2</td>\n",
       "      <td>0</td>\n",
       "      <td>1</td>\n",
       "    </tr>\n",
       "    <tr>\n",
       "      <th>17778</th>\n",
       "      <td>1.71</td>\n",
       "      <td>-0.613983</td>\n",
       "      <td>-0.671633</td>\n",
       "      <td>-1.225582</td>\n",
       "      <td>-0.330168</td>\n",
       "      <td>-0.508192</td>\n",
       "      <td>-0.688181</td>\n",
       "      <td>2018</td>\n",
       "      <td>WestTexNewMexico</td>\n",
       "      <td>28</td>\n",
       "      <td>1</td>\n",
       "      <td>0</td>\n",
       "      <td>1</td>\n",
       "    </tr>\n",
       "    <tr>\n",
       "      <th>17779</th>\n",
       "      <td>1.87</td>\n",
       "      <td>-0.613931</td>\n",
       "      <td>-0.778430</td>\n",
       "      <td>0.456238</td>\n",
       "      <td>-0.312125</td>\n",
       "      <td>-0.948869</td>\n",
       "      <td>-0.688181</td>\n",
       "      <td>2018</td>\n",
       "      <td>WestTexNewMexico</td>\n",
       "      <td>21</td>\n",
       "      <td>1</td>\n",
       "      <td>0</td>\n",
       "      <td>1</td>\n",
       "    </tr>\n",
       "    <tr>\n",
       "      <th>17780</th>\n",
       "      <td>1.93</td>\n",
       "      <td>-0.543343</td>\n",
       "      <td>-0.716793</td>\n",
       "      <td>0.455928</td>\n",
       "      <td>-0.249325</td>\n",
       "      <td>-0.916472</td>\n",
       "      <td>-0.688181</td>\n",
       "      <td>2018</td>\n",
       "      <td>WestTexNewMexico</td>\n",
       "      <td>14</td>\n",
       "      <td>1</td>\n",
       "      <td>0</td>\n",
       "      <td>1</td>\n",
       "    </tr>\n",
       "    <tr>\n",
       "      <th>17781</th>\n",
       "      <td>1.62</td>\n",
       "      <td>-0.356812</td>\n",
       "      <td>-0.790999</td>\n",
       "      <td>0.169130</td>\n",
       "      <td>-0.210968</td>\n",
       "      <td>-1.039535</td>\n",
       "      <td>-0.688181</td>\n",
       "      <td>2018</td>\n",
       "      <td>WestTexNewMexico</td>\n",
       "      <td>7</td>\n",
       "      <td>1</td>\n",
       "      <td>0</td>\n",
       "      <td>1</td>\n",
       "    </tr>\n",
       "  </tbody>\n",
       "</table>\n",
       "<p>17782 rows × 13 columns</p>\n",
       "</div>"
      ],
      "text/plain": [
       "       AveragePrice      4046      4225      4770  Small Bags  Large Bags  \\\n",
       "0              1.33 -0.653168  0.348247 -0.211458   -0.345468   -0.789832   \n",
       "1              1.35 -0.772216  0.265547 -0.163999   -0.309714   -0.780450   \n",
       "2              0.93 -0.727091  0.650156  0.035375   -0.372226   -0.768495   \n",
       "3              1.08 -0.628477  0.466989 -0.109835   -0.507188   -0.712352   \n",
       "4              1.28 -0.680097  0.258097 -0.099145   -0.486987   -0.624897   \n",
       "...             ...       ...       ...       ...         ...         ...   \n",
       "17777          1.63 -0.458796 -0.923266 -1.225582   -0.175213   -0.438299   \n",
       "17778          1.71 -0.613983 -0.671633 -1.225582   -0.330168   -0.508192   \n",
       "17779          1.87 -0.613931 -0.778430  0.456238   -0.312125   -0.948869   \n",
       "17780          1.93 -0.543343 -0.716793  0.455928   -0.249325   -0.916472   \n",
       "17781          1.62 -0.356812 -0.790999  0.169130   -0.210968   -1.039535   \n",
       "\n",
       "       XLarge Bags  year            region  Day  Month  type_conventional  \\\n",
       "0        -0.688181  2015            Albany   27     12                  1   \n",
       "1        -0.688181  2015            Albany   20     12                  1   \n",
       "2        -0.688181  2015            Albany   13     12                  1   \n",
       "3        -0.688181  2015            Albany    6     12                  1   \n",
       "4        -0.688181  2015            Albany   29     11                  1   \n",
       "...            ...   ...               ...  ...    ...                ...   \n",
       "17777    -0.688181  2018  WestTexNewMexico    4      2                  0   \n",
       "17778    -0.688181  2018  WestTexNewMexico   28      1                  0   \n",
       "17779    -0.688181  2018  WestTexNewMexico   21      1                  0   \n",
       "17780    -0.688181  2018  WestTexNewMexico   14      1                  0   \n",
       "17781    -0.688181  2018  WestTexNewMexico    7      1                  0   \n",
       "\n",
       "       type_organic  \n",
       "0                 0  \n",
       "1                 0  \n",
       "2                 0  \n",
       "3                 0  \n",
       "4                 0  \n",
       "...             ...  \n",
       "17777             1  \n",
       "17778             1  \n",
       "17779             1  \n",
       "17780             1  \n",
       "17781             1  \n",
       "\n",
       "[17782 rows x 13 columns]"
      ]
     },
     "execution_count": 125,
     "metadata": {},
     "output_type": "execute_result"
    }
   ],
   "source": [
    "df"
   ]
  },
  {
   "cell_type": "markdown",
   "id": "bb341dc4",
   "metadata": {},
   "source": [
    "# Label Encoding :"
   ]
  },
  {
   "cell_type": "code",
   "execution_count": 126,
   "id": "fb6977ed",
   "metadata": {},
   "outputs": [],
   "source": [
    "from sklearn.preprocessing import LabelEncoder"
   ]
  },
  {
   "cell_type": "code",
   "execution_count": 128,
   "id": "a817294a",
   "metadata": {},
   "outputs": [],
   "source": [
    "le = LabelEncoder()"
   ]
  },
  {
   "cell_type": "code",
   "execution_count": 130,
   "id": "a677fd17",
   "metadata": {},
   "outputs": [],
   "source": [
    "df.region = le.fit_transform(df.region)"
   ]
  },
  {
   "cell_type": "code",
   "execution_count": 131,
   "id": "18e84781",
   "metadata": {},
   "outputs": [
    {
     "data": {
      "text/html": [
       "<div>\n",
       "<style scoped>\n",
       "    .dataframe tbody tr th:only-of-type {\n",
       "        vertical-align: middle;\n",
       "    }\n",
       "\n",
       "    .dataframe tbody tr th {\n",
       "        vertical-align: top;\n",
       "    }\n",
       "\n",
       "    .dataframe thead th {\n",
       "        text-align: right;\n",
       "    }\n",
       "</style>\n",
       "<table border=\"1\" class=\"dataframe\">\n",
       "  <thead>\n",
       "    <tr style=\"text-align: right;\">\n",
       "      <th></th>\n",
       "      <th>AveragePrice</th>\n",
       "      <th>4046</th>\n",
       "      <th>4225</th>\n",
       "      <th>4770</th>\n",
       "      <th>Small Bags</th>\n",
       "      <th>Large Bags</th>\n",
       "      <th>XLarge Bags</th>\n",
       "      <th>year</th>\n",
       "      <th>region</th>\n",
       "      <th>Day</th>\n",
       "      <th>Month</th>\n",
       "      <th>type_conventional</th>\n",
       "      <th>type_organic</th>\n",
       "    </tr>\n",
       "  </thead>\n",
       "  <tbody>\n",
       "    <tr>\n",
       "      <th>0</th>\n",
       "      <td>1.33</td>\n",
       "      <td>-0.653168</td>\n",
       "      <td>0.348247</td>\n",
       "      <td>-0.211458</td>\n",
       "      <td>-0.345468</td>\n",
       "      <td>-0.789832</td>\n",
       "      <td>-0.688181</td>\n",
       "      <td>2015</td>\n",
       "      <td>0</td>\n",
       "      <td>27</td>\n",
       "      <td>12</td>\n",
       "      <td>1</td>\n",
       "      <td>0</td>\n",
       "    </tr>\n",
       "    <tr>\n",
       "      <th>1</th>\n",
       "      <td>1.35</td>\n",
       "      <td>-0.772216</td>\n",
       "      <td>0.265547</td>\n",
       "      <td>-0.163999</td>\n",
       "      <td>-0.309714</td>\n",
       "      <td>-0.780450</td>\n",
       "      <td>-0.688181</td>\n",
       "      <td>2015</td>\n",
       "      <td>0</td>\n",
       "      <td>20</td>\n",
       "      <td>12</td>\n",
       "      <td>1</td>\n",
       "      <td>0</td>\n",
       "    </tr>\n",
       "    <tr>\n",
       "      <th>2</th>\n",
       "      <td>0.93</td>\n",
       "      <td>-0.727091</td>\n",
       "      <td>0.650156</td>\n",
       "      <td>0.035375</td>\n",
       "      <td>-0.372226</td>\n",
       "      <td>-0.768495</td>\n",
       "      <td>-0.688181</td>\n",
       "      <td>2015</td>\n",
       "      <td>0</td>\n",
       "      <td>13</td>\n",
       "      <td>12</td>\n",
       "      <td>1</td>\n",
       "      <td>0</td>\n",
       "    </tr>\n",
       "    <tr>\n",
       "      <th>3</th>\n",
       "      <td>1.08</td>\n",
       "      <td>-0.628477</td>\n",
       "      <td>0.466989</td>\n",
       "      <td>-0.109835</td>\n",
       "      <td>-0.507188</td>\n",
       "      <td>-0.712352</td>\n",
       "      <td>-0.688181</td>\n",
       "      <td>2015</td>\n",
       "      <td>0</td>\n",
       "      <td>6</td>\n",
       "      <td>12</td>\n",
       "      <td>1</td>\n",
       "      <td>0</td>\n",
       "    </tr>\n",
       "    <tr>\n",
       "      <th>4</th>\n",
       "      <td>1.28</td>\n",
       "      <td>-0.680097</td>\n",
       "      <td>0.258097</td>\n",
       "      <td>-0.099145</td>\n",
       "      <td>-0.486987</td>\n",
       "      <td>-0.624897</td>\n",
       "      <td>-0.688181</td>\n",
       "      <td>2015</td>\n",
       "      <td>0</td>\n",
       "      <td>29</td>\n",
       "      <td>11</td>\n",
       "      <td>1</td>\n",
       "      <td>0</td>\n",
       "    </tr>\n",
       "    <tr>\n",
       "      <th>...</th>\n",
       "      <td>...</td>\n",
       "      <td>...</td>\n",
       "      <td>...</td>\n",
       "      <td>...</td>\n",
       "      <td>...</td>\n",
       "      <td>...</td>\n",
       "      <td>...</td>\n",
       "      <td>...</td>\n",
       "      <td>...</td>\n",
       "      <td>...</td>\n",
       "      <td>...</td>\n",
       "      <td>...</td>\n",
       "      <td>...</td>\n",
       "    </tr>\n",
       "    <tr>\n",
       "      <th>17777</th>\n",
       "      <td>1.63</td>\n",
       "      <td>-0.458796</td>\n",
       "      <td>-0.923266</td>\n",
       "      <td>-1.225582</td>\n",
       "      <td>-0.175213</td>\n",
       "      <td>-0.438299</td>\n",
       "      <td>-0.688181</td>\n",
       "      <td>2018</td>\n",
       "      <td>53</td>\n",
       "      <td>4</td>\n",
       "      <td>2</td>\n",
       "      <td>0</td>\n",
       "      <td>1</td>\n",
       "    </tr>\n",
       "    <tr>\n",
       "      <th>17778</th>\n",
       "      <td>1.71</td>\n",
       "      <td>-0.613983</td>\n",
       "      <td>-0.671633</td>\n",
       "      <td>-1.225582</td>\n",
       "      <td>-0.330168</td>\n",
       "      <td>-0.508192</td>\n",
       "      <td>-0.688181</td>\n",
       "      <td>2018</td>\n",
       "      <td>53</td>\n",
       "      <td>28</td>\n",
       "      <td>1</td>\n",
       "      <td>0</td>\n",
       "      <td>1</td>\n",
       "    </tr>\n",
       "    <tr>\n",
       "      <th>17779</th>\n",
       "      <td>1.87</td>\n",
       "      <td>-0.613931</td>\n",
       "      <td>-0.778430</td>\n",
       "      <td>0.456238</td>\n",
       "      <td>-0.312125</td>\n",
       "      <td>-0.948869</td>\n",
       "      <td>-0.688181</td>\n",
       "      <td>2018</td>\n",
       "      <td>53</td>\n",
       "      <td>21</td>\n",
       "      <td>1</td>\n",
       "      <td>0</td>\n",
       "      <td>1</td>\n",
       "    </tr>\n",
       "    <tr>\n",
       "      <th>17780</th>\n",
       "      <td>1.93</td>\n",
       "      <td>-0.543343</td>\n",
       "      <td>-0.716793</td>\n",
       "      <td>0.455928</td>\n",
       "      <td>-0.249325</td>\n",
       "      <td>-0.916472</td>\n",
       "      <td>-0.688181</td>\n",
       "      <td>2018</td>\n",
       "      <td>53</td>\n",
       "      <td>14</td>\n",
       "      <td>1</td>\n",
       "      <td>0</td>\n",
       "      <td>1</td>\n",
       "    </tr>\n",
       "    <tr>\n",
       "      <th>17781</th>\n",
       "      <td>1.62</td>\n",
       "      <td>-0.356812</td>\n",
       "      <td>-0.790999</td>\n",
       "      <td>0.169130</td>\n",
       "      <td>-0.210968</td>\n",
       "      <td>-1.039535</td>\n",
       "      <td>-0.688181</td>\n",
       "      <td>2018</td>\n",
       "      <td>53</td>\n",
       "      <td>7</td>\n",
       "      <td>1</td>\n",
       "      <td>0</td>\n",
       "      <td>1</td>\n",
       "    </tr>\n",
       "  </tbody>\n",
       "</table>\n",
       "<p>17782 rows × 13 columns</p>\n",
       "</div>"
      ],
      "text/plain": [
       "       AveragePrice      4046      4225      4770  Small Bags  Large Bags  \\\n",
       "0              1.33 -0.653168  0.348247 -0.211458   -0.345468   -0.789832   \n",
       "1              1.35 -0.772216  0.265547 -0.163999   -0.309714   -0.780450   \n",
       "2              0.93 -0.727091  0.650156  0.035375   -0.372226   -0.768495   \n",
       "3              1.08 -0.628477  0.466989 -0.109835   -0.507188   -0.712352   \n",
       "4              1.28 -0.680097  0.258097 -0.099145   -0.486987   -0.624897   \n",
       "...             ...       ...       ...       ...         ...         ...   \n",
       "17777          1.63 -0.458796 -0.923266 -1.225582   -0.175213   -0.438299   \n",
       "17778          1.71 -0.613983 -0.671633 -1.225582   -0.330168   -0.508192   \n",
       "17779          1.87 -0.613931 -0.778430  0.456238   -0.312125   -0.948869   \n",
       "17780          1.93 -0.543343 -0.716793  0.455928   -0.249325   -0.916472   \n",
       "17781          1.62 -0.356812 -0.790999  0.169130   -0.210968   -1.039535   \n",
       "\n",
       "       XLarge Bags  year  region  Day  Month  type_conventional  type_organic  \n",
       "0        -0.688181  2015       0   27     12                  1             0  \n",
       "1        -0.688181  2015       0   20     12                  1             0  \n",
       "2        -0.688181  2015       0   13     12                  1             0  \n",
       "3        -0.688181  2015       0    6     12                  1             0  \n",
       "4        -0.688181  2015       0   29     11                  1             0  \n",
       "...            ...   ...     ...  ...    ...                ...           ...  \n",
       "17777    -0.688181  2018      53    4      2                  0             1  \n",
       "17778    -0.688181  2018      53   28      1                  0             1  \n",
       "17779    -0.688181  2018      53   21      1                  0             1  \n",
       "17780    -0.688181  2018      53   14      1                  0             1  \n",
       "17781    -0.688181  2018      53    7      1                  0             1  \n",
       "\n",
       "[17782 rows x 13 columns]"
      ]
     },
     "execution_count": 131,
     "metadata": {},
     "output_type": "execute_result"
    }
   ],
   "source": [
    "df"
   ]
  },
  {
   "cell_type": "markdown",
   "id": "4b68135c",
   "metadata": {},
   "source": [
    "# Correlation:"
   ]
  },
  {
   "cell_type": "code",
   "execution_count": 132,
   "id": "a10c7f9a",
   "metadata": {},
   "outputs": [
    {
     "data": {
      "text/html": [
       "<div>\n",
       "<style scoped>\n",
       "    .dataframe tbody tr th:only-of-type {\n",
       "        vertical-align: middle;\n",
       "    }\n",
       "\n",
       "    .dataframe tbody tr th {\n",
       "        vertical-align: top;\n",
       "    }\n",
       "\n",
       "    .dataframe thead th {\n",
       "        text-align: right;\n",
       "    }\n",
       "</style>\n",
       "<table border=\"1\" class=\"dataframe\">\n",
       "  <thead>\n",
       "    <tr style=\"text-align: right;\">\n",
       "      <th></th>\n",
       "      <th>AveragePrice</th>\n",
       "      <th>4046</th>\n",
       "      <th>4225</th>\n",
       "      <th>4770</th>\n",
       "      <th>Small Bags</th>\n",
       "      <th>Large Bags</th>\n",
       "      <th>XLarge Bags</th>\n",
       "      <th>year</th>\n",
       "      <th>region</th>\n",
       "      <th>Day</th>\n",
       "      <th>Month</th>\n",
       "      <th>type_conventional</th>\n",
       "      <th>type_organic</th>\n",
       "    </tr>\n",
       "  </thead>\n",
       "  <tbody>\n",
       "    <tr>\n",
       "      <th>AveragePrice</th>\n",
       "      <td>1.000000</td>\n",
       "      <td>-0.549381</td>\n",
       "      <td>-0.449289</td>\n",
       "      <td>-0.491253</td>\n",
       "      <td>-0.493478</td>\n",
       "      <td>-0.478812</td>\n",
       "      <td>-0.393183</td>\n",
       "      <td>0.099910</td>\n",
       "      <td>0.010428</td>\n",
       "      <td>0.024742</td>\n",
       "      <td>0.157900</td>\n",
       "      <td>-0.608447</td>\n",
       "      <td>0.608447</td>\n",
       "    </tr>\n",
       "    <tr>\n",
       "      <th>4046</th>\n",
       "      <td>-0.549381</td>\n",
       "      <td>1.000000</td>\n",
       "      <td>0.765481</td>\n",
       "      <td>0.736882</td>\n",
       "      <td>0.781315</td>\n",
       "      <td>0.610040</td>\n",
       "      <td>0.575155</td>\n",
       "      <td>-0.002437</td>\n",
       "      <td>0.159477</td>\n",
       "      <td>-0.004601</td>\n",
       "      <td>-0.025892</td>\n",
       "      <td>0.726093</td>\n",
       "      <td>-0.726093</td>\n",
       "    </tr>\n",
       "    <tr>\n",
       "      <th>4225</th>\n",
       "      <td>-0.449289</td>\n",
       "      <td>0.765481</td>\n",
       "      <td>1.000000</td>\n",
       "      <td>0.797414</td>\n",
       "      <td>0.789730</td>\n",
       "      <td>0.619739</td>\n",
       "      <td>0.583027</td>\n",
       "      <td>-0.005237</td>\n",
       "      <td>0.031981</td>\n",
       "      <td>-0.006019</td>\n",
       "      <td>-0.024771</td>\n",
       "      <td>0.747733</td>\n",
       "      <td>-0.747733</td>\n",
       "    </tr>\n",
       "    <tr>\n",
       "      <th>4770</th>\n",
       "      <td>-0.491253</td>\n",
       "      <td>0.736882</td>\n",
       "      <td>0.797414</td>\n",
       "      <td>1.000000</td>\n",
       "      <td>0.754806</td>\n",
       "      <td>0.551455</td>\n",
       "      <td>0.615959</td>\n",
       "      <td>-0.051580</td>\n",
       "      <td>0.037908</td>\n",
       "      <td>0.001389</td>\n",
       "      <td>-0.017353</td>\n",
       "      <td>0.781037</td>\n",
       "      <td>-0.781037</td>\n",
       "    </tr>\n",
       "    <tr>\n",
       "      <th>Small Bags</th>\n",
       "      <td>-0.493478</td>\n",
       "      <td>0.781315</td>\n",
       "      <td>0.789730</td>\n",
       "      <td>0.754806</td>\n",
       "      <td>1.000000</td>\n",
       "      <td>0.576183</td>\n",
       "      <td>0.600891</td>\n",
       "      <td>0.184804</td>\n",
       "      <td>0.052880</td>\n",
       "      <td>-0.000422</td>\n",
       "      <td>-0.010396</td>\n",
       "      <td>0.719922</td>\n",
       "      <td>-0.719922</td>\n",
       "    </tr>\n",
       "    <tr>\n",
       "      <th>Large Bags</th>\n",
       "      <td>-0.478812</td>\n",
       "      <td>0.610040</td>\n",
       "      <td>0.619739</td>\n",
       "      <td>0.551455</td>\n",
       "      <td>0.576183</td>\n",
       "      <td>1.000000</td>\n",
       "      <td>0.453637</td>\n",
       "      <td>0.189696</td>\n",
       "      <td>0.089791</td>\n",
       "      <td>-0.001218</td>\n",
       "      <td>-0.017231</td>\n",
       "      <td>0.501890</td>\n",
       "      <td>-0.501890</td>\n",
       "    </tr>\n",
       "    <tr>\n",
       "      <th>XLarge Bags</th>\n",
       "      <td>-0.393183</td>\n",
       "      <td>0.575155</td>\n",
       "      <td>0.583027</td>\n",
       "      <td>0.615959</td>\n",
       "      <td>0.600891</td>\n",
       "      <td>0.453637</td>\n",
       "      <td>1.000000</td>\n",
       "      <td>0.154530</td>\n",
       "      <td>-0.016357</td>\n",
       "      <td>0.011273</td>\n",
       "      <td>0.021642</td>\n",
       "      <td>0.673459</td>\n",
       "      <td>-0.673459</td>\n",
       "    </tr>\n",
       "    <tr>\n",
       "      <th>year</th>\n",
       "      <td>0.099910</td>\n",
       "      <td>-0.002437</td>\n",
       "      <td>-0.005237</td>\n",
       "      <td>-0.051580</td>\n",
       "      <td>0.184804</td>\n",
       "      <td>0.189696</td>\n",
       "      <td>0.154530</td>\n",
       "      <td>1.000000</td>\n",
       "      <td>-0.003610</td>\n",
       "      <td>0.004044</td>\n",
       "      <td>-0.173166</td>\n",
       "      <td>-0.007399</td>\n",
       "      <td>0.007399</td>\n",
       "    </tr>\n",
       "    <tr>\n",
       "      <th>region</th>\n",
       "      <td>0.010428</td>\n",
       "      <td>0.159477</td>\n",
       "      <td>0.031981</td>\n",
       "      <td>0.037908</td>\n",
       "      <td>0.052880</td>\n",
       "      <td>0.089791</td>\n",
       "      <td>-0.016357</td>\n",
       "      <td>-0.003610</td>\n",
       "      <td>1.000000</td>\n",
       "      <td>0.000751</td>\n",
       "      <td>0.002175</td>\n",
       "      <td>-0.021970</td>\n",
       "      <td>0.021970</td>\n",
       "    </tr>\n",
       "    <tr>\n",
       "      <th>Day</th>\n",
       "      <td>0.024742</td>\n",
       "      <td>-0.004601</td>\n",
       "      <td>-0.006019</td>\n",
       "      <td>0.001389</td>\n",
       "      <td>-0.000422</td>\n",
       "      <td>-0.001218</td>\n",
       "      <td>0.011273</td>\n",
       "      <td>0.004044</td>\n",
       "      <td>0.000751</td>\n",
       "      <td>1.000000</td>\n",
       "      <td>0.010456</td>\n",
       "      <td>0.002469</td>\n",
       "      <td>-0.002469</td>\n",
       "    </tr>\n",
       "    <tr>\n",
       "      <th>Month</th>\n",
       "      <td>0.157900</td>\n",
       "      <td>-0.025892</td>\n",
       "      <td>-0.024771</td>\n",
       "      <td>-0.017353</td>\n",
       "      <td>-0.010396</td>\n",
       "      <td>-0.017231</td>\n",
       "      <td>0.021642</td>\n",
       "      <td>-0.173166</td>\n",
       "      <td>0.002175</td>\n",
       "      <td>0.010456</td>\n",
       "      <td>1.000000</td>\n",
       "      <td>0.005044</td>\n",
       "      <td>-0.005044</td>\n",
       "    </tr>\n",
       "    <tr>\n",
       "      <th>type_conventional</th>\n",
       "      <td>-0.608447</td>\n",
       "      <td>0.726093</td>\n",
       "      <td>0.747733</td>\n",
       "      <td>0.781037</td>\n",
       "      <td>0.719922</td>\n",
       "      <td>0.501890</td>\n",
       "      <td>0.673459</td>\n",
       "      <td>-0.007399</td>\n",
       "      <td>-0.021970</td>\n",
       "      <td>0.002469</td>\n",
       "      <td>0.005044</td>\n",
       "      <td>1.000000</td>\n",
       "      <td>-1.000000</td>\n",
       "    </tr>\n",
       "    <tr>\n",
       "      <th>type_organic</th>\n",
       "      <td>0.608447</td>\n",
       "      <td>-0.726093</td>\n",
       "      <td>-0.747733</td>\n",
       "      <td>-0.781037</td>\n",
       "      <td>-0.719922</td>\n",
       "      <td>-0.501890</td>\n",
       "      <td>-0.673459</td>\n",
       "      <td>0.007399</td>\n",
       "      <td>0.021970</td>\n",
       "      <td>-0.002469</td>\n",
       "      <td>-0.005044</td>\n",
       "      <td>-1.000000</td>\n",
       "      <td>1.000000</td>\n",
       "    </tr>\n",
       "  </tbody>\n",
       "</table>\n",
       "</div>"
      ],
      "text/plain": [
       "                   AveragePrice      4046      4225      4770  Small Bags  \\\n",
       "AveragePrice           1.000000 -0.549381 -0.449289 -0.491253   -0.493478   \n",
       "4046                  -0.549381  1.000000  0.765481  0.736882    0.781315   \n",
       "4225                  -0.449289  0.765481  1.000000  0.797414    0.789730   \n",
       "4770                  -0.491253  0.736882  0.797414  1.000000    0.754806   \n",
       "Small Bags            -0.493478  0.781315  0.789730  0.754806    1.000000   \n",
       "Large Bags            -0.478812  0.610040  0.619739  0.551455    0.576183   \n",
       "XLarge Bags           -0.393183  0.575155  0.583027  0.615959    0.600891   \n",
       "year                   0.099910 -0.002437 -0.005237 -0.051580    0.184804   \n",
       "region                 0.010428  0.159477  0.031981  0.037908    0.052880   \n",
       "Day                    0.024742 -0.004601 -0.006019  0.001389   -0.000422   \n",
       "Month                  0.157900 -0.025892 -0.024771 -0.017353   -0.010396   \n",
       "type_conventional     -0.608447  0.726093  0.747733  0.781037    0.719922   \n",
       "type_organic           0.608447 -0.726093 -0.747733 -0.781037   -0.719922   \n",
       "\n",
       "                   Large Bags  XLarge Bags      year    region       Day  \\\n",
       "AveragePrice        -0.478812    -0.393183  0.099910  0.010428  0.024742   \n",
       "4046                 0.610040     0.575155 -0.002437  0.159477 -0.004601   \n",
       "4225                 0.619739     0.583027 -0.005237  0.031981 -0.006019   \n",
       "4770                 0.551455     0.615959 -0.051580  0.037908  0.001389   \n",
       "Small Bags           0.576183     0.600891  0.184804  0.052880 -0.000422   \n",
       "Large Bags           1.000000     0.453637  0.189696  0.089791 -0.001218   \n",
       "XLarge Bags          0.453637     1.000000  0.154530 -0.016357  0.011273   \n",
       "year                 0.189696     0.154530  1.000000 -0.003610  0.004044   \n",
       "region               0.089791    -0.016357 -0.003610  1.000000  0.000751   \n",
       "Day                 -0.001218     0.011273  0.004044  0.000751  1.000000   \n",
       "Month               -0.017231     0.021642 -0.173166  0.002175  0.010456   \n",
       "type_conventional    0.501890     0.673459 -0.007399 -0.021970  0.002469   \n",
       "type_organic        -0.501890    -0.673459  0.007399  0.021970 -0.002469   \n",
       "\n",
       "                      Month  type_conventional  type_organic  \n",
       "AveragePrice       0.157900          -0.608447      0.608447  \n",
       "4046              -0.025892           0.726093     -0.726093  \n",
       "4225              -0.024771           0.747733     -0.747733  \n",
       "4770              -0.017353           0.781037     -0.781037  \n",
       "Small Bags        -0.010396           0.719922     -0.719922  \n",
       "Large Bags        -0.017231           0.501890     -0.501890  \n",
       "XLarge Bags        0.021642           0.673459     -0.673459  \n",
       "year              -0.173166          -0.007399      0.007399  \n",
       "region             0.002175          -0.021970      0.021970  \n",
       "Day                0.010456           0.002469     -0.002469  \n",
       "Month              1.000000           0.005044     -0.005044  \n",
       "type_conventional  0.005044           1.000000     -1.000000  \n",
       "type_organic      -0.005044          -1.000000      1.000000  "
      ]
     },
     "execution_count": 132,
     "metadata": {},
     "output_type": "execute_result"
    }
   ],
   "source": [
    "df.corr()"
   ]
  },
  {
   "cell_type": "code",
   "execution_count": 135,
   "id": "8cf72bc0",
   "metadata": {},
   "outputs": [
    {
     "data": {
      "image/png": "[encoded data removed]",
      "text/plain": [
       "<Figure size 1008x576 with 2 Axes>"
      ]
     },
     "metadata": {
      "needs_background": "light"
     },
     "output_type": "display_data"
    }
   ],
   "source": [
    "#visualize correlation using heatmap\n",
    "plt.figure(figsize=(14,8))\n",
    "sns.heatmap(df.corr(), annot=True)\n",
    "plt.show()"
   ]
  },
  {
   "cell_type": "markdown",
   "id": "56314c76",
   "metadata": {},
   "source": [
    "##### From the above graph it is  observed that 'type_organic' has the highest positive correlation with 'AveragePrice'\n",
    "##### 'type_conventional has highest negative coorelation '"
   ]
  },
  {
   "cell_type": "markdown",
   "id": "568d9678",
   "metadata": {},
   "source": [
    "# Scaling:"
   ]
  },
  {
   "cell_type": "code",
   "execution_count": 136,
   "id": "e5078fd3",
   "metadata": {},
   "outputs": [],
   "source": [
    "from sklearn.preprocessing import StandardScaler"
   ]
  },
  {
   "cell_type": "code",
   "execution_count": 137,
   "id": "1788bd3f",
   "metadata": {},
   "outputs": [],
   "source": [
    "X = df.drop(columns=['AveragePrice'])\n",
    "y = df['AveragePrice']"
   ]
  },
  {
   "cell_type": "code",
   "execution_count": 138,
   "id": "42374f3e",
   "metadata": {},
   "outputs": [],
   "source": [
    "scaler= StandardScaler()"
   ]
  },
  {
   "cell_type": "code",
   "execution_count": 139,
   "id": "3d93d409",
   "metadata": {},
   "outputs": [],
   "source": [
    "scaled_X = scaler.fit_transform(X)"
   ]
  },
  {
   "cell_type": "markdown",
   "id": "ee98845c",
   "metadata": {},
   "source": [
    "# Selecting Features:"
   ]
  },
  {
   "cell_type": "code",
   "execution_count": 140,
   "id": "0ffddc08",
   "metadata": {},
   "outputs": [],
   "source": [
    "from sklearn.feature_selection import SelectKBest, f_classif"
   ]
  },
  {
   "cell_type": "code",
   "execution_count": 141,
   "id": "c4e83b1c",
   "metadata": {},
   "outputs": [],
   "source": [
    "bf = SelectKBest(score_func = f_classif, k = 12)\n",
    "fit = bf.fit(X,y)\n",
    "dfscores = pd.DataFrame(fit.scores_)\n",
    "dfcolumns = pd.DataFrame(X.columns)"
   ]
  },
  {
   "cell_type": "code",
   "execution_count": 142,
   "id": "86f415c3",
   "metadata": {},
   "outputs": [
    {
     "name": "stdout",
     "output_type": "stream",
     "text": [
      "              Feature      Score\n",
      "11       type_organic  49.966168\n",
      "10  type_conventional  49.966168\n",
      "0                4046  36.646433\n",
      "2                4770  27.640618\n",
      "3          Small Bags  25.029697\n",
      "4          Large Bags  23.501094\n",
      "1                4225  21.804561\n",
      "5         XLarge Bags  15.770087\n",
      "6                year   3.163539\n",
      "9               Month   2.850599\n",
      "7              region   1.291093\n",
      "8                 Day   1.249095\n"
     ]
    }
   ],
   "source": [
    "fit = bf.fit(X,y)\n",
    "dfscores = pd.DataFrame(fit.scores_)\n",
    "dfcolumns = pd.DataFrame(X.columns)\n",
    "dfcolumns.head()\n",
    "featureScores = pd.concat([dfcolumns,dfscores],axis = 1)\n",
    "featureScores.columns = ['Feature', 'Score']\n",
    "print(featureScores.nlargest(22,'Score'))"
   ]
  },
  {
   "cell_type": "code",
   "execution_count": 143,
   "id": "a922ec40",
   "metadata": {},
   "outputs": [],
   "source": [
    "best_data = X.drop(columns=['region','Day'])"
   ]
  },
  {
   "cell_type": "code",
   "execution_count": 144,
   "id": "baadee64",
   "metadata": {},
   "outputs": [
    {
     "data": {
      "text/html": [
       "<div>\n",
       "<style scoped>\n",
       "    .dataframe tbody tr th:only-of-type {\n",
       "        vertical-align: middle;\n",
       "    }\n",
       "\n",
       "    .dataframe tbody tr th {\n",
       "        vertical-align: top;\n",
       "    }\n",
       "\n",
       "    .dataframe thead th {\n",
       "        text-align: right;\n",
       "    }\n",
       "</style>\n",
       "<table border=\"1\" class=\"dataframe\">\n",
       "  <thead>\n",
       "    <tr style=\"text-align: right;\">\n",
       "      <th></th>\n",
       "      <th>4046</th>\n",
       "      <th>4225</th>\n",
       "      <th>4770</th>\n",
       "      <th>Small Bags</th>\n",
       "      <th>Large Bags</th>\n",
       "      <th>XLarge Bags</th>\n",
       "      <th>year</th>\n",
       "      <th>Month</th>\n",
       "      <th>type_conventional</th>\n",
       "      <th>type_organic</th>\n",
       "    </tr>\n",
       "  </thead>\n",
       "  <tbody>\n",
       "    <tr>\n",
       "      <th>0</th>\n",
       "      <td>-0.653168</td>\n",
       "      <td>0.348247</td>\n",
       "      <td>-0.211458</td>\n",
       "      <td>-0.345468</td>\n",
       "      <td>-0.789832</td>\n",
       "      <td>-0.688181</td>\n",
       "      <td>2015</td>\n",
       "      <td>12</td>\n",
       "      <td>1</td>\n",
       "      <td>0</td>\n",
       "    </tr>\n",
       "    <tr>\n",
       "      <th>1</th>\n",
       "      <td>-0.772216</td>\n",
       "      <td>0.265547</td>\n",
       "      <td>-0.163999</td>\n",
       "      <td>-0.309714</td>\n",
       "      <td>-0.780450</td>\n",
       "      <td>-0.688181</td>\n",
       "      <td>2015</td>\n",
       "      <td>12</td>\n",
       "      <td>1</td>\n",
       "      <td>0</td>\n",
       "    </tr>\n",
       "    <tr>\n",
       "      <th>2</th>\n",
       "      <td>-0.727091</td>\n",
       "      <td>0.650156</td>\n",
       "      <td>0.035375</td>\n",
       "      <td>-0.372226</td>\n",
       "      <td>-0.768495</td>\n",
       "      <td>-0.688181</td>\n",
       "      <td>2015</td>\n",
       "      <td>12</td>\n",
       "      <td>1</td>\n",
       "      <td>0</td>\n",
       "    </tr>\n",
       "    <tr>\n",
       "      <th>3</th>\n",
       "      <td>-0.628477</td>\n",
       "      <td>0.466989</td>\n",
       "      <td>-0.109835</td>\n",
       "      <td>-0.507188</td>\n",
       "      <td>-0.712352</td>\n",
       "      <td>-0.688181</td>\n",
       "      <td>2015</td>\n",
       "      <td>12</td>\n",
       "      <td>1</td>\n",
       "      <td>0</td>\n",
       "    </tr>\n",
       "    <tr>\n",
       "      <th>4</th>\n",
       "      <td>-0.680097</td>\n",
       "      <td>0.258097</td>\n",
       "      <td>-0.099145</td>\n",
       "      <td>-0.486987</td>\n",
       "      <td>-0.624897</td>\n",
       "      <td>-0.688181</td>\n",
       "      <td>2015</td>\n",
       "      <td>11</td>\n",
       "      <td>1</td>\n",
       "      <td>0</td>\n",
       "    </tr>\n",
       "    <tr>\n",
       "      <th>...</th>\n",
       "      <td>...</td>\n",
       "      <td>...</td>\n",
       "      <td>...</td>\n",
       "      <td>...</td>\n",
       "      <td>...</td>\n",
       "      <td>...</td>\n",
       "      <td>...</td>\n",
       "      <td>...</td>\n",
       "      <td>...</td>\n",
       "      <td>...</td>\n",
       "    </tr>\n",
       "    <tr>\n",
       "      <th>17777</th>\n",
       "      <td>-0.458796</td>\n",
       "      <td>-0.923266</td>\n",
       "      <td>-1.225582</td>\n",
       "      <td>-0.175213</td>\n",
       "      <td>-0.438299</td>\n",
       "      <td>-0.688181</td>\n",
       "      <td>2018</td>\n",
       "      <td>2</td>\n",
       "      <td>0</td>\n",
       "      <td>1</td>\n",
       "    </tr>\n",
       "    <tr>\n",
       "      <th>17778</th>\n",
       "      <td>-0.613983</td>\n",
       "      <td>-0.671633</td>\n",
       "      <td>-1.225582</td>\n",
       "      <td>-0.330168</td>\n",
       "      <td>-0.508192</td>\n",
       "      <td>-0.688181</td>\n",
       "      <td>2018</td>\n",
       "      <td>1</td>\n",
       "      <td>0</td>\n",
       "      <td>1</td>\n",
       "    </tr>\n",
       "    <tr>\n",
       "      <th>17779</th>\n",
       "      <td>-0.613931</td>\n",
       "      <td>-0.778430</td>\n",
       "      <td>0.456238</td>\n",
       "      <td>-0.312125</td>\n",
       "      <td>-0.948869</td>\n",
       "      <td>-0.688181</td>\n",
       "      <td>2018</td>\n",
       "      <td>1</td>\n",
       "      <td>0</td>\n",
       "      <td>1</td>\n",
       "    </tr>\n",
       "    <tr>\n",
       "      <th>17780</th>\n",
       "      <td>-0.543343</td>\n",
       "      <td>-0.716793</td>\n",
       "      <td>0.455928</td>\n",
       "      <td>-0.249325</td>\n",
       "      <td>-0.916472</td>\n",
       "      <td>-0.688181</td>\n",
       "      <td>2018</td>\n",
       "      <td>1</td>\n",
       "      <td>0</td>\n",
       "      <td>1</td>\n",
       "    </tr>\n",
       "    <tr>\n",
       "      <th>17781</th>\n",
       "      <td>-0.356812</td>\n",
       "      <td>-0.790999</td>\n",
       "      <td>0.169130</td>\n",
       "      <td>-0.210968</td>\n",
       "      <td>-1.039535</td>\n",
       "      <td>-0.688181</td>\n",
       "      <td>2018</td>\n",
       "      <td>1</td>\n",
       "      <td>0</td>\n",
       "      <td>1</td>\n",
       "    </tr>\n",
       "  </tbody>\n",
       "</table>\n",
       "<p>17782 rows × 10 columns</p>\n",
       "</div>"
      ],
      "text/plain": [
       "           4046      4225      4770  Small Bags  Large Bags  XLarge Bags  \\\n",
       "0     -0.653168  0.348247 -0.211458   -0.345468   -0.789832    -0.688181   \n",
       "1     -0.772216  0.265547 -0.163999   -0.309714   -0.780450    -0.688181   \n",
       "2     -0.727091  0.650156  0.035375   -0.372226   -0.768495    -0.688181   \n",
       "3     -0.628477  0.466989 -0.109835   -0.507188   -0.712352    -0.688181   \n",
       "4     -0.680097  0.258097 -0.099145   -0.486987   -0.624897    -0.688181   \n",
       "...         ...       ...       ...         ...         ...          ...   \n",
       "17777 -0.458796 -0.923266 -1.225582   -0.175213   -0.438299    -0.688181   \n",
       "17778 -0.613983 -0.671633 -1.225582   -0.330168   -0.508192    -0.688181   \n",
       "17779 -0.613931 -0.778430  0.456238   -0.312125   -0.948869    -0.688181   \n",
       "17780 -0.543343 -0.716793  0.455928   -0.249325   -0.916472    -0.688181   \n",
       "17781 -0.356812 -0.790999  0.169130   -0.210968   -1.039535    -0.688181   \n",
       "\n",
       "       year  Month  type_conventional  type_organic  \n",
       "0      2015     12                  1             0  \n",
       "1      2015     12                  1             0  \n",
       "2      2015     12                  1             0  \n",
       "3      2015     12                  1             0  \n",
       "4      2015     11                  1             0  \n",
       "...     ...    ...                ...           ...  \n",
       "17777  2018      2                  0             1  \n",
       "17778  2018      1                  0             1  \n",
       "17779  2018      1                  0             1  \n",
       "17780  2018      1                  0             1  \n",
       "17781  2018      1                  0             1  \n",
       "\n",
       "[17782 rows x 10 columns]"
      ]
     },
     "execution_count": 144,
     "metadata": {},
     "output_type": "execute_result"
    }
   ],
   "source": [
    "best_data"
   ]
  },
  {
   "cell_type": "code",
   "execution_count": 145,
   "id": "5fc37c23",
   "metadata": {},
   "outputs": [],
   "source": [
    "best_fea = scaler.fit_transform(best_data)"
   ]
  },
  {
   "cell_type": "markdown",
   "id": "2df44a3c",
   "metadata": {},
   "source": [
    "# Model Building:"
   ]
  },
  {
   "cell_type": "code",
   "execution_count": 146,
   "id": "d4e2c7e7",
   "metadata": {},
   "outputs": [],
   "source": [
    "from sklearn.model_selection import train_test_split\n",
    "from sklearn.metrics import accuracy_score\n",
    "from sklearn.ensemble import RandomForestRegressor\n",
    "from sklearn.model_selection import GridSearchCV\n",
    "from sklearn.linear_model import Ridge\n",
    "from sklearn.tree import DecisionTreeRegressor\n",
    "from sklearn.svm import SVR\n",
    "from sklearn.metrics import r2_score,mean_squared_error"
   ]
  },
  {
   "cell_type": "code",
   "execution_count": 148,
   "id": "de074566",
   "metadata": {},
   "outputs": [],
   "source": [
    "x_train,x_test,y_train,y_test = train_test_split(best_fea,y,test_size=.31,random_state=11)"
   ]
  },
  {
   "cell_type": "markdown",
   "id": "731eb3c3",
   "metadata": {},
   "source": [
    "# RandomForestRegressor"
   ]
  },
  {
   "cell_type": "code",
   "execution_count": 150,
   "id": "94ec881f",
   "metadata": {},
   "outputs": [
    {
     "data": {
      "text/plain": [
       "RandomForestRegressor()"
      ]
     },
     "execution_count": 150,
     "metadata": {},
     "output_type": "execute_result"
    }
   ],
   "source": [
    "rf =RandomForestRegressor()\n",
    "rf.fit(x_train,y_train)"
   ]
  },
  {
   "cell_type": "code",
   "execution_count": 151,
   "id": "aafb5684",
   "metadata": {},
   "outputs": [
    {
     "data": {
      "text/plain": [
       "0.9806073303813191"
      ]
     },
     "execution_count": 151,
     "metadata": {},
     "output_type": "execute_result"
    }
   ],
   "source": [
    "rf.score(x_train,y_train)"
   ]
  },
  {
   "cell_type": "code",
   "execution_count": 153,
   "id": "a1c6511f",
   "metadata": {},
   "outputs": [],
   "source": [
    "rf_pred = rf.predict(x_test)"
   ]
  },
  {
   "cell_type": "code",
   "execution_count": 156,
   "id": "e0f42a29",
   "metadata": {},
   "outputs": [
    {
     "name": "stdout",
     "output_type": "stream",
     "text": [
      "r2_score: 0.8747750290984108\n",
      "MSE : 0.02041281145292944\n",
      "RMSE : 0.1428734105875878\n"
     ]
    }
   ],
   "source": [
    "print(\"r2_score:\",r2_score(y_test,rf_pred))\n",
    "print(\"MSE :\",mean_squared_error(y_test,rf_pred))\n",
    "print(\"RMSE :\",np.sqrt(mean_squared_error(y_test,rf_pred)))"
   ]
  },
  {
   "cell_type": "markdown",
   "id": "52811c5d",
   "metadata": {},
   "source": [
    "# DecisionTreeRegressor:"
   ]
  },
  {
   "cell_type": "code",
   "execution_count": 158,
   "id": "e6ffac6a",
   "metadata": {},
   "outputs": [
    {
     "data": {
      "text/plain": [
       "DecisionTreeRegressor()"
      ]
     },
     "execution_count": 158,
     "metadata": {},
     "output_type": "execute_result"
    }
   ],
   "source": [
    "dtc = DecisionTreeRegressor()\n",
    "dtc.fit(x_train,y_train)"
   ]
  },
  {
   "cell_type": "code",
   "execution_count": 159,
   "id": "dde3a65b",
   "metadata": {},
   "outputs": [
    {
     "data": {
      "text/plain": [
       "1.0"
      ]
     },
     "execution_count": 159,
     "metadata": {},
     "output_type": "execute_result"
    }
   ],
   "source": [
    "dtc.score(x_train,y_train)"
   ]
  },
  {
   "cell_type": "code",
   "execution_count": 160,
   "id": "ed3b936f",
   "metadata": {},
   "outputs": [],
   "source": [
    "dtc_pred = dtc.predict(x_test)"
   ]
  },
  {
   "cell_type": "code",
   "execution_count": 161,
   "id": "ccccf044",
   "metadata": {},
   "outputs": [
    {
     "name": "stdout",
     "output_type": "stream",
     "text": [
      "r2_score: 0.7277927307726173\n",
      "MSE : 0.04437226555414475\n",
      "RMSE : 0.21064725384904678\n"
     ]
    }
   ],
   "source": [
    "print(\"r2_score:\",r2_score(y_test,dtc_pred))\n",
    "print(\"MSE :\",mean_squared_error(y_test,dtc_pred))\n",
    "print(\"RMSE :\",np.sqrt(mean_squared_error(y_test,dtc_pred)))"
   ]
  },
  {
   "cell_type": "markdown",
   "id": "41a4e344",
   "metadata": {},
   "source": [
    "# SVR:"
   ]
  },
  {
   "cell_type": "code",
   "execution_count": 165,
   "id": "25322fbc",
   "metadata": {},
   "outputs": [
    {
     "data": {
      "text/plain": [
       "SVR()"
      ]
     },
     "execution_count": 165,
     "metadata": {},
     "output_type": "execute_result"
    }
   ],
   "source": [
    "sv = SVR()\n",
    "sv.fit(x_train,y_train)"
   ]
  },
  {
   "cell_type": "code",
   "execution_count": 166,
   "id": "64e5ff2f",
   "metadata": {},
   "outputs": [
    {
     "data": {
      "text/plain": [
       "0.7738997176270968"
      ]
     },
     "execution_count": 166,
     "metadata": {},
     "output_type": "execute_result"
    }
   ],
   "source": [
    "sv.score(x_train,y_train)"
   ]
  },
  {
   "cell_type": "code",
   "execution_count": 167,
   "id": "acc3a0e1",
   "metadata": {},
   "outputs": [],
   "source": [
    "sv_pred = sv.predict(x_test)"
   ]
  },
  {
   "cell_type": "code",
   "execution_count": 168,
   "id": "7cdec15d",
   "metadata": {},
   "outputs": [
    {
     "name": "stdout",
     "output_type": "stream",
     "text": [
      "r2_score: 0.7760907566979658\n",
      "MSE : 0.03649924718037624\n",
      "RMSE : 0.1910477615162665\n"
     ]
    }
   ],
   "source": [
    "print(\"r2_score:\",r2_score(y_test,sv_pred))\n",
    "print(\"MSE :\",mean_squared_error(y_test,sv_pred))\n",
    "print(\"RMSE :\",np.sqrt(mean_squared_error(y_test,sv_pred)))"
   ]
  },
  {
   "cell_type": "markdown",
   "id": "45dd83c1",
   "metadata": {},
   "source": [
    "# Ridge:"
   ]
  },
  {
   "cell_type": "code",
   "execution_count": 170,
   "id": "3f98fbed",
   "metadata": {},
   "outputs": [
    {
     "data": {
      "text/plain": [
       "Ridge()"
      ]
     },
     "execution_count": 170,
     "metadata": {},
     "output_type": "execute_result"
    }
   ],
   "source": [
    "rd = Ridge()\n",
    "rd.fit(x_train,y_train)"
   ]
  },
  {
   "cell_type": "code",
   "execution_count": 171,
   "id": "48962513",
   "metadata": {},
   "outputs": [
    {
     "data": {
      "text/plain": [
       "0.502340521993505"
      ]
     },
     "execution_count": 171,
     "metadata": {},
     "output_type": "execute_result"
    }
   ],
   "source": [
    "rd.score(x_train,y_train)"
   ]
  },
  {
   "cell_type": "code",
   "execution_count": 172,
   "id": "fff8a570",
   "metadata": {},
   "outputs": [],
   "source": [
    "rd_pred = rd.predict(x_test)"
   ]
  },
  {
   "cell_type": "code",
   "execution_count": 173,
   "id": "334e9069",
   "metadata": {},
   "outputs": [
    {
     "name": "stdout",
     "output_type": "stream",
     "text": [
      "r2_score: 0.5140483550304833\n",
      "MSE : 0.07921454668812992\n",
      "RMSE : 0.28145078910553784\n"
     ]
    }
   ],
   "source": [
    "print(\"r2_score:\",r2_score(y_test,rd_pred))\n",
    "print(\"MSE :\",mean_squared_error(y_test,rd_pred))\n",
    "print(\"RMSE :\",np.sqrt(mean_squared_error(y_test,rd_pred)))"
   ]
  },
  {
   "cell_type": "markdown",
   "id": "f56e7dc7",
   "metadata": {},
   "source": [
    "# Cross Validation:"
   ]
  },
  {
   "cell_type": "code",
   "execution_count": 177,
   "id": "3cdcdaff",
   "metadata": {},
   "outputs": [],
   "source": [
    "from sklearn.model_selection import cross_val_score as cvs\n",
    "from sklearn.model_selection import ShuffleSplit"
   ]
  },
  {
   "cell_type": "markdown",
   "id": "a93a5387",
   "metadata": {},
   "source": [
    "### Random Forest Classifier"
   ]
  },
  {
   "cell_type": "code",
   "execution_count": 179,
   "id": "aed74d9b",
   "metadata": {},
   "outputs": [
    {
     "name": "stdout",
     "output_type": "stream",
     "text": [
      "0.8782638146378148\n"
     ]
    }
   ],
   "source": [
    "print(cvs(rf,best_fea,y,cv=ShuffleSplit(5)).mean()) "
   ]
  },
  {
   "cell_type": "markdown",
   "id": "68c49302",
   "metadata": {},
   "source": [
    "### DecisionTreeClassifier"
   ]
  },
  {
   "cell_type": "code",
   "execution_count": 180,
   "id": "fc352823",
   "metadata": {},
   "outputs": [
    {
     "name": "stdout",
     "output_type": "stream",
     "text": [
      "0.7346596935209071\n"
     ]
    }
   ],
   "source": [
    "print(cvs(dtc,best_fea,y,cv=ShuffleSplit(5)).mean()) "
   ]
  },
  {
   "cell_type": "markdown",
   "id": "88bfff96",
   "metadata": {},
   "source": [
    "# SVR:"
   ]
  },
  {
   "cell_type": "code",
   "execution_count": 181,
   "id": "ef7065be",
   "metadata": {},
   "outputs": [
    {
     "name": "stdout",
     "output_type": "stream",
     "text": [
      "0.7645263118616128\n"
     ]
    }
   ],
   "source": [
    "print(cvs(sv,best_fea,y,cv=ShuffleSplit(5)).mean()) "
   ]
  },
  {
   "cell_type": "markdown",
   "id": "c8e3d5cf",
   "metadata": {},
   "source": [
    "### Ridge"
   ]
  },
  {
   "cell_type": "code",
   "execution_count": 182,
   "id": "b1cd6273",
   "metadata": {},
   "outputs": [
    {
     "name": "stdout",
     "output_type": "stream",
     "text": [
      "0.5032629792714856\n"
     ]
    }
   ],
   "source": [
    "print(cvs(rd,best_fea,y,cv=ShuffleSplit(5)).mean()) "
   ]
  },
  {
   "cell_type": "markdown",
   "id": "42c7039c",
   "metadata": {},
   "source": [
    "# Based on r2 score and crossvalidation score  RandomForestClassifier is best model"
   ]
  },
  {
   "cell_type": "markdown",
   "id": "a3b7f29d",
   "metadata": {},
   "source": [
    "# Hyper parameter tuning"
   ]
  },
  {
   "cell_type": "markdown",
   "id": "67002ee1",
   "metadata": {},
   "source": [
    "# Random Forest Classifier"
   ]
  },
  {
   "cell_type": "code",
   "execution_count": 183,
   "id": "362a02ea",
   "metadata": {},
   "outputs": [],
   "source": [
    "parameter = {'n_estimators':[30,60,80],'max_depth': [10,20,40],'min_samples_leaf':[5,10,20],'min_samples_split':[5,10],'criterion':['mse','mae'],'max_features':[\"auto\",\"sqrt\",\"log2\"]}"
   ]
  },
  {
   "cell_type": "code",
   "execution_count": 184,
   "id": "2ede6fff",
   "metadata": {},
   "outputs": [],
   "source": [
    "GridCV = GridSearchCV(RandomForestRegressor(),parameter,cv=2,n_jobs = -1,verbose = 1)"
   ]
  },
  {
   "cell_type": "code",
   "execution_count": 185,
   "id": "3f418e92",
   "metadata": {},
   "outputs": [
    {
     "name": "stdout",
     "output_type": "stream",
     "text": [
      "Fitting 2 folds for each of 324 candidates, totalling 648 fits\n"
     ]
    },
    {
     "data": {
      "text/plain": [
       "GridSearchCV(cv=2, estimator=RandomForestRegressor(), n_jobs=-1,\n",
       "             param_grid={'criterion': ['mse', 'mae'], 'max_depth': [10, 20, 40],\n",
       "                         'max_features': ['auto', 'sqrt', 'log2'],\n",
       "                         'min_samples_leaf': [5, 10, 20],\n",
       "                         'min_samples_split': [5, 10],\n",
       "                         'n_estimators': [30, 60, 80]},\n",
       "             verbose=1)"
      ]
     },
     "execution_count": 185,
     "metadata": {},
     "output_type": "execute_result"
    }
   ],
   "source": [
    "GridCV.fit(x_train,y_train)"
   ]
  },
  {
   "cell_type": "code",
   "execution_count": 186,
   "id": "31375d2a",
   "metadata": {},
   "outputs": [
    {
     "data": {
      "text/plain": [
       "{'criterion': 'mse',\n",
       " 'max_depth': 20,\n",
       " 'max_features': 'auto',\n",
       " 'min_samples_leaf': 5,\n",
       " 'min_samples_split': 10,\n",
       " 'n_estimators': 80}"
      ]
     },
     "execution_count": 186,
     "metadata": {},
     "output_type": "execute_result"
    }
   ],
   "source": [
    "GridCV.best_params_"
   ]
  },
  {
   "cell_type": "code",
   "execution_count": 187,
   "id": "f4b3cf00",
   "metadata": {},
   "outputs": [],
   "source": [
    "ads_model = RandomForestRegressor(n_estimators = 60,criterion = 'mse', max_depth= 20, max_features = 'auto',min_samples_leaf = 5, min_samples_split = 5)"
   ]
  },
  {
   "cell_type": "code",
   "execution_count": 188,
   "id": "50123241",
   "metadata": {},
   "outputs": [
    {
     "data": {
      "text/plain": [
       "RandomForestRegressor(max_depth=20, min_samples_leaf=5, min_samples_split=5,\n",
       "                      n_estimators=60)"
      ]
     },
     "execution_count": 188,
     "metadata": {},
     "output_type": "execute_result"
    }
   ],
   "source": [
    "ads_model.fit(x_train,y_train)"
   ]
  },
  {
   "cell_type": "code",
   "execution_count": 190,
   "id": "319c7974",
   "metadata": {},
   "outputs": [
    {
     "name": "stdout",
     "output_type": "stream",
     "text": [
      "85.04906852484696\n"
     ]
    }
   ],
   "source": [
    "random_fc = ads_model.predict(x_test)\n",
    "acc = r2_score(y_test,random_fc)\n",
    "print(acc*100)"
   ]
  },
  {
   "cell_type": "markdown",
   "id": "17769112",
   "metadata": {},
   "source": [
    "## Random Forest Regressor has an accuracy of  84.88%"
   ]
  },
  {
   "cell_type": "markdown",
   "id": "044ebc1c",
   "metadata": {},
   "source": [
    "# Saving The Model"
   ]
  },
  {
   "cell_type": "code",
   "execution_count": 191,
   "id": "a3e43b1c",
   "metadata": {},
   "outputs": [],
   "source": [
    "import joblib"
   ]
  },
  {
   "cell_type": "code",
   "execution_count": 192,
   "id": "a23fa6ba",
   "metadata": {},
   "outputs": [
    {
     "data": {
      "text/plain": [
       "['ADS_Avocado_model.pkl']"
      ]
     },
     "execution_count": 192,
     "metadata": {},
     "output_type": "execute_result"
    }
   ],
   "source": [
    "joblib.dump(ads_model,\"ADS_Avocado_model.pkl\")"
   ]
  },
  {
   "cell_type": "markdown",
   "id": "3854e096",
   "metadata": {},
   "source": [
    "# 2nd angle where Target is Region"
   ]
  },
  {
   "cell_type": "code",
   "execution_count": 193,
   "id": "04be9754",
   "metadata": {},
   "outputs": [
    {
     "data": {
      "text/html": [
       "<div>\n",
       "<style scoped>\n",
       "    .dataframe tbody tr th:only-of-type {\n",
       "        vertical-align: middle;\n",
       "    }\n",
       "\n",
       "    .dataframe tbody tr th {\n",
       "        vertical-align: top;\n",
       "    }\n",
       "\n",
       "    .dataframe thead th {\n",
       "        text-align: right;\n",
       "    }\n",
       "</style>\n",
       "<table border=\"1\" class=\"dataframe\">\n",
       "  <thead>\n",
       "    <tr style=\"text-align: right;\">\n",
       "      <th></th>\n",
       "      <th>AveragePrice</th>\n",
       "      <th>4046</th>\n",
       "      <th>4225</th>\n",
       "      <th>4770</th>\n",
       "      <th>Small Bags</th>\n",
       "      <th>Large Bags</th>\n",
       "      <th>XLarge Bags</th>\n",
       "      <th>year</th>\n",
       "      <th>region</th>\n",
       "      <th>Day</th>\n",
       "      <th>Month</th>\n",
       "      <th>type_conventional</th>\n",
       "      <th>type_organic</th>\n",
       "    </tr>\n",
       "  </thead>\n",
       "  <tbody>\n",
       "    <tr>\n",
       "      <th>0</th>\n",
       "      <td>1.33</td>\n",
       "      <td>-0.653168</td>\n",
       "      <td>0.348247</td>\n",
       "      <td>-0.211458</td>\n",
       "      <td>-0.345468</td>\n",
       "      <td>-0.789832</td>\n",
       "      <td>-0.688181</td>\n",
       "      <td>2015</td>\n",
       "      <td>0</td>\n",
       "      <td>27</td>\n",
       "      <td>12</td>\n",
       "      <td>1</td>\n",
       "      <td>0</td>\n",
       "    </tr>\n",
       "    <tr>\n",
       "      <th>1</th>\n",
       "      <td>1.35</td>\n",
       "      <td>-0.772216</td>\n",
       "      <td>0.265547</td>\n",
       "      <td>-0.163999</td>\n",
       "      <td>-0.309714</td>\n",
       "      <td>-0.780450</td>\n",
       "      <td>-0.688181</td>\n",
       "      <td>2015</td>\n",
       "      <td>0</td>\n",
       "      <td>20</td>\n",
       "      <td>12</td>\n",
       "      <td>1</td>\n",
       "      <td>0</td>\n",
       "    </tr>\n",
       "    <tr>\n",
       "      <th>2</th>\n",
       "      <td>0.93</td>\n",
       "      <td>-0.727091</td>\n",
       "      <td>0.650156</td>\n",
       "      <td>0.035375</td>\n",
       "      <td>-0.372226</td>\n",
       "      <td>-0.768495</td>\n",
       "      <td>-0.688181</td>\n",
       "      <td>2015</td>\n",
       "      <td>0</td>\n",
       "      <td>13</td>\n",
       "      <td>12</td>\n",
       "      <td>1</td>\n",
       "      <td>0</td>\n",
       "    </tr>\n",
       "    <tr>\n",
       "      <th>3</th>\n",
       "      <td>1.08</td>\n",
       "      <td>-0.628477</td>\n",
       "      <td>0.466989</td>\n",
       "      <td>-0.109835</td>\n",
       "      <td>-0.507188</td>\n",
       "      <td>-0.712352</td>\n",
       "      <td>-0.688181</td>\n",
       "      <td>2015</td>\n",
       "      <td>0</td>\n",
       "      <td>6</td>\n",
       "      <td>12</td>\n",
       "      <td>1</td>\n",
       "      <td>0</td>\n",
       "    </tr>\n",
       "    <tr>\n",
       "      <th>4</th>\n",
       "      <td>1.28</td>\n",
       "      <td>-0.680097</td>\n",
       "      <td>0.258097</td>\n",
       "      <td>-0.099145</td>\n",
       "      <td>-0.486987</td>\n",
       "      <td>-0.624897</td>\n",
       "      <td>-0.688181</td>\n",
       "      <td>2015</td>\n",
       "      <td>0</td>\n",
       "      <td>29</td>\n",
       "      <td>11</td>\n",
       "      <td>1</td>\n",
       "      <td>0</td>\n",
       "    </tr>\n",
       "    <tr>\n",
       "      <th>...</th>\n",
       "      <td>...</td>\n",
       "      <td>...</td>\n",
       "      <td>...</td>\n",
       "      <td>...</td>\n",
       "      <td>...</td>\n",
       "      <td>...</td>\n",
       "      <td>...</td>\n",
       "      <td>...</td>\n",
       "      <td>...</td>\n",
       "      <td>...</td>\n",
       "      <td>...</td>\n",
       "      <td>...</td>\n",
       "      <td>...</td>\n",
       "    </tr>\n",
       "    <tr>\n",
       "      <th>17777</th>\n",
       "      <td>1.63</td>\n",
       "      <td>-0.458796</td>\n",
       "      <td>-0.923266</td>\n",
       "      <td>-1.225582</td>\n",
       "      <td>-0.175213</td>\n",
       "      <td>-0.438299</td>\n",
       "      <td>-0.688181</td>\n",
       "      <td>2018</td>\n",
       "      <td>53</td>\n",
       "      <td>4</td>\n",
       "      <td>2</td>\n",
       "      <td>0</td>\n",
       "      <td>1</td>\n",
       "    </tr>\n",
       "    <tr>\n",
       "      <th>17778</th>\n",
       "      <td>1.71</td>\n",
       "      <td>-0.613983</td>\n",
       "      <td>-0.671633</td>\n",
       "      <td>-1.225582</td>\n",
       "      <td>-0.330168</td>\n",
       "      <td>-0.508192</td>\n",
       "      <td>-0.688181</td>\n",
       "      <td>2018</td>\n",
       "      <td>53</td>\n",
       "      <td>28</td>\n",
       "      <td>1</td>\n",
       "      <td>0</td>\n",
       "      <td>1</td>\n",
       "    </tr>\n",
       "    <tr>\n",
       "      <th>17779</th>\n",
       "      <td>1.87</td>\n",
       "      <td>-0.613931</td>\n",
       "      <td>-0.778430</td>\n",
       "      <td>0.456238</td>\n",
       "      <td>-0.312125</td>\n",
       "      <td>-0.948869</td>\n",
       "      <td>-0.688181</td>\n",
       "      <td>2018</td>\n",
       "      <td>53</td>\n",
       "      <td>21</td>\n",
       "      <td>1</td>\n",
       "      <td>0</td>\n",
       "      <td>1</td>\n",
       "    </tr>\n",
       "    <tr>\n",
       "      <th>17780</th>\n",
       "      <td>1.93</td>\n",
       "      <td>-0.543343</td>\n",
       "      <td>-0.716793</td>\n",
       "      <td>0.455928</td>\n",
       "      <td>-0.249325</td>\n",
       "      <td>-0.916472</td>\n",
       "      <td>-0.688181</td>\n",
       "      <td>2018</td>\n",
       "      <td>53</td>\n",
       "      <td>14</td>\n",
       "      <td>1</td>\n",
       "      <td>0</td>\n",
       "      <td>1</td>\n",
       "    </tr>\n",
       "    <tr>\n",
       "      <th>17781</th>\n",
       "      <td>1.62</td>\n",
       "      <td>-0.356812</td>\n",
       "      <td>-0.790999</td>\n",
       "      <td>0.169130</td>\n",
       "      <td>-0.210968</td>\n",
       "      <td>-1.039535</td>\n",
       "      <td>-0.688181</td>\n",
       "      <td>2018</td>\n",
       "      <td>53</td>\n",
       "      <td>7</td>\n",
       "      <td>1</td>\n",
       "      <td>0</td>\n",
       "      <td>1</td>\n",
       "    </tr>\n",
       "  </tbody>\n",
       "</table>\n",
       "<p>17782 rows × 13 columns</p>\n",
       "</div>"
      ],
      "text/plain": [
       "       AveragePrice      4046      4225      4770  Small Bags  Large Bags  \\\n",
       "0              1.33 -0.653168  0.348247 -0.211458   -0.345468   -0.789832   \n",
       "1              1.35 -0.772216  0.265547 -0.163999   -0.309714   -0.780450   \n",
       "2              0.93 -0.727091  0.650156  0.035375   -0.372226   -0.768495   \n",
       "3              1.08 -0.628477  0.466989 -0.109835   -0.507188   -0.712352   \n",
       "4              1.28 -0.680097  0.258097 -0.099145   -0.486987   -0.624897   \n",
       "...             ...       ...       ...       ...         ...         ...   \n",
       "17777          1.63 -0.458796 -0.923266 -1.225582   -0.175213   -0.438299   \n",
       "17778          1.71 -0.613983 -0.671633 -1.225582   -0.330168   -0.508192   \n",
       "17779          1.87 -0.613931 -0.778430  0.456238   -0.312125   -0.948869   \n",
       "17780          1.93 -0.543343 -0.716793  0.455928   -0.249325   -0.916472   \n",
       "17781          1.62 -0.356812 -0.790999  0.169130   -0.210968   -1.039535   \n",
       "\n",
       "       XLarge Bags  year  region  Day  Month  type_conventional  type_organic  \n",
       "0        -0.688181  2015       0   27     12                  1             0  \n",
       "1        -0.688181  2015       0   20     12                  1             0  \n",
       "2        -0.688181  2015       0   13     12                  1             0  \n",
       "3        -0.688181  2015       0    6     12                  1             0  \n",
       "4        -0.688181  2015       0   29     11                  1             0  \n",
       "...            ...   ...     ...  ...    ...                ...           ...  \n",
       "17777    -0.688181  2018      53    4      2                  0             1  \n",
       "17778    -0.688181  2018      53   28      1                  0             1  \n",
       "17779    -0.688181  2018      53   21      1                  0             1  \n",
       "17780    -0.688181  2018      53   14      1                  0             1  \n",
       "17781    -0.688181  2018      53    7      1                  0             1  \n",
       "\n",
       "[17782 rows x 13 columns]"
      ]
     },
     "execution_count": 193,
     "metadata": {},
     "output_type": "execute_result"
    }
   ],
   "source": [
    "df"
   ]
  },
  {
   "cell_type": "markdown",
   "id": "e595e442",
   "metadata": {},
   "source": [
    "# This is Classification problem,Since the Target variable is categorical type of Data"
   ]
  },
  {
   "cell_type": "code",
   "execution_count": 194,
   "id": "5e4e0f5a",
   "metadata": {},
   "outputs": [
    {
     "data": {
      "text/plain": [
       "(17782, 13)"
      ]
     },
     "execution_count": 194,
     "metadata": {},
     "output_type": "execute_result"
    }
   ],
   "source": [
    "df.shape"
   ]
  },
  {
   "cell_type": "code",
   "execution_count": 195,
   "id": "aecd52a4",
   "metadata": {},
   "outputs": [
    {
     "data": {
      "text/plain": [
       "array([ 0,  1,  2,  3,  4,  5,  6,  7,  8,  9, 10, 11, 12, 13, 14, 15, 16,\n",
       "       17, 18, 19, 20, 21, 22, 23, 24, 25, 26, 27, 28, 29, 30, 31, 32, 33,\n",
       "       34, 35, 36, 37, 38, 39, 40, 41, 42, 43, 44, 45, 46, 47, 48, 49, 50,\n",
       "       52, 53, 51])"
      ]
     },
     "execution_count": 195,
     "metadata": {},
     "output_type": "execute_result"
    }
   ],
   "source": [
    "df['region'].unique()"
   ]
  },
  {
   "cell_type": "code",
   "execution_count": 196,
   "id": "fb003998",
   "metadata": {},
   "outputs": [
    {
     "data": {
      "text/plain": [
       "0     338\n",
       "42    338\n",
       "23    338\n",
       "39    338\n",
       "8     338\n",
       "24    338\n",
       "40    338\n",
       "9     338\n",
       "41    338\n",
       "10    338\n",
       "26    338\n",
       "11    338\n",
       "38    338\n",
       "27    338\n",
       "43    338\n",
       "12    338\n",
       "28    338\n",
       "44    338\n",
       "13    338\n",
       "14    338\n",
       "30    338\n",
       "31    338\n",
       "16    338\n",
       "7     338\n",
       "50    338\n",
       "19    338\n",
       "32    338\n",
       "48    338\n",
       "1     338\n",
       "17    338\n",
       "33    338\n",
       "49    338\n",
       "2     338\n",
       "18    338\n",
       "34    338\n",
       "3     338\n",
       "47    338\n",
       "35    338\n",
       "20    338\n",
       "37    338\n",
       "21    338\n",
       "36    338\n",
       "5     338\n",
       "4     338\n",
       "53    335\n",
       "25    333\n",
       "22    331\n",
       "29    325\n",
       "46    307\n",
       "45    292\n",
       "6     290\n",
       "15    272\n",
       "52    256\n",
       "51    169\n",
       "Name: region, dtype: int64"
      ]
     },
     "execution_count": 196,
     "metadata": {},
     "output_type": "execute_result"
    }
   ],
   "source": [
    "df['region'].value_counts()"
   ]
  },
  {
   "cell_type": "code",
   "execution_count": 197,
   "id": "c41b341f",
   "metadata": {},
   "outputs": [
    {
     "data": {
      "text/plain": [
       "dtype('int32')"
      ]
     },
     "execution_count": 197,
     "metadata": {},
     "output_type": "execute_result"
    }
   ],
   "source": [
    "df['region'].dtype"
   ]
  },
  {
   "cell_type": "code",
   "execution_count": 201,
   "id": "8768b595",
   "metadata": {},
   "outputs": [
    {
     "data": {
      "image/png": "[encoded data removed]",
      "text/plain": [
       "<Figure size 1152x576 with 1 Axes>"
      ]
     },
     "metadata": {
      "needs_background": "light"
     },
     "output_type": "display_data"
    }
   ],
   "source": [
    "#visualize\n",
    "plt.figure(figsize=(16,8))\n",
    "sns.countplot(df['region'])\n",
    "plt.show()"
   ]
  },
  {
   "cell_type": "code",
   "execution_count": 202,
   "id": "cfaf0410",
   "metadata": {},
   "outputs": [
    {
     "data": {
      "text/html": [
       "<div>\n",
       "<style scoped>\n",
       "    .dataframe tbody tr th:only-of-type {\n",
       "        vertical-align: middle;\n",
       "    }\n",
       "\n",
       "    .dataframe tbody tr th {\n",
       "        vertical-align: top;\n",
       "    }\n",
       "\n",
       "    .dataframe thead th {\n",
       "        text-align: right;\n",
       "    }\n",
       "</style>\n",
       "<table border=\"1\" class=\"dataframe\">\n",
       "  <thead>\n",
       "    <tr style=\"text-align: right;\">\n",
       "      <th></th>\n",
       "      <th>AveragePrice</th>\n",
       "      <th>4046</th>\n",
       "      <th>4225</th>\n",
       "      <th>4770</th>\n",
       "      <th>Small Bags</th>\n",
       "      <th>Large Bags</th>\n",
       "      <th>XLarge Bags</th>\n",
       "      <th>year</th>\n",
       "      <th>region</th>\n",
       "      <th>Day</th>\n",
       "      <th>Month</th>\n",
       "      <th>type_conventional</th>\n",
       "      <th>type_organic</th>\n",
       "    </tr>\n",
       "  </thead>\n",
       "  <tbody>\n",
       "    <tr>\n",
       "      <th>count</th>\n",
       "      <td>17782.000000</td>\n",
       "      <td>1.778200e+04</td>\n",
       "      <td>1.778200e+04</td>\n",
       "      <td>1.778200e+04</td>\n",
       "      <td>1.778200e+04</td>\n",
       "      <td>1.778200e+04</td>\n",
       "      <td>1.778200e+04</td>\n",
       "      <td>17782.000000</td>\n",
       "      <td>17782.000000</td>\n",
       "      <td>17782.000000</td>\n",
       "      <td>17782.000000</td>\n",
       "      <td>17782.000000</td>\n",
       "      <td>17782.000000</td>\n",
       "    </tr>\n",
       "    <tr>\n",
       "      <th>mean</th>\n",
       "      <td>1.415546</td>\n",
       "      <td>2.831659e-15</td>\n",
       "      <td>-1.649513e-15</td>\n",
       "      <td>-2.508275e-14</td>\n",
       "      <td>7.314286e-16</td>\n",
       "      <td>-1.330395e-15</td>\n",
       "      <td>-2.392268e-15</td>\n",
       "      <td>2016.141098</td>\n",
       "      <td>26.161624</td>\n",
       "      <td>15.683613</td>\n",
       "      <td>6.194298</td>\n",
       "      <td>0.486953</td>\n",
       "      <td>0.513047</td>\n",
       "    </tr>\n",
       "    <tr>\n",
       "      <th>std</th>\n",
       "      <td>0.402278</td>\n",
       "      <td>1.000028e+00</td>\n",
       "      <td>1.000028e+00</td>\n",
       "      <td>1.000028e+00</td>\n",
       "      <td>1.000028e+00</td>\n",
       "      <td>1.000028e+00</td>\n",
       "      <td>1.000028e+00</td>\n",
       "      <td>0.939273</td>\n",
       "      <td>15.402194</td>\n",
       "      <td>8.777845</td>\n",
       "      <td>3.537070</td>\n",
       "      <td>0.499844</td>\n",
       "      <td>0.499844</td>\n",
       "    </tr>\n",
       "    <tr>\n",
       "      <th>min</th>\n",
       "      <td>0.440000</td>\n",
       "      <td>-2.268391e+00</td>\n",
       "      <td>-2.542472e+00</td>\n",
       "      <td>-1.225582e+00</td>\n",
       "      <td>-2.658507e+00</td>\n",
       "      <td>-1.568037e+00</td>\n",
       "      <td>-6.881813e-01</td>\n",
       "      <td>2015.000000</td>\n",
       "      <td>0.000000</td>\n",
       "      <td>1.000000</td>\n",
       "      <td>1.000000</td>\n",
       "      <td>0.000000</td>\n",
       "      <td>0.000000</td>\n",
       "    </tr>\n",
       "    <tr>\n",
       "      <th>25%</th>\n",
       "      <td>1.110000</td>\n",
       "      <td>-7.237719e-01</td>\n",
       "      <td>-7.280161e-01</td>\n",
       "      <td>-1.225582e+00</td>\n",
       "      <td>-7.869861e-01</td>\n",
       "      <td>-7.566665e-01</td>\n",
       "      <td>-6.881813e-01</td>\n",
       "      <td>2015.000000</td>\n",
       "      <td>13.000000</td>\n",
       "      <td>8.000000</td>\n",
       "      <td>3.000000</td>\n",
       "      <td>0.000000</td>\n",
       "      <td>0.000000</td>\n",
       "    </tr>\n",
       "    <tr>\n",
       "      <th>50%</th>\n",
       "      <td>1.380000</td>\n",
       "      <td>-6.524856e-02</td>\n",
       "      <td>4.906980e-02</td>\n",
       "      <td>8.303015e-02</td>\n",
       "      <td>8.637182e-02</td>\n",
       "      <td>3.418380e-02</td>\n",
       "      <td>-6.881813e-01</td>\n",
       "      <td>2016.000000</td>\n",
       "      <td>26.000000</td>\n",
       "      <td>16.000000</td>\n",
       "      <td>6.000000</td>\n",
       "      <td>0.000000</td>\n",
       "      <td>1.000000</td>\n",
       "    </tr>\n",
       "    <tr>\n",
       "      <th>75%</th>\n",
       "      <td>1.670000</td>\n",
       "      <td>8.021915e-01</td>\n",
       "      <td>7.192297e-01</td>\n",
       "      <td>9.247680e-01</td>\n",
       "      <td>6.490198e-01</td>\n",
       "      <td>7.413220e-01</td>\n",
       "      <td>1.426907e+00</td>\n",
       "      <td>2017.000000</td>\n",
       "      <td>39.000000</td>\n",
       "      <td>23.000000</td>\n",
       "      <td>9.000000</td>\n",
       "      <td>1.000000</td>\n",
       "      <td>1.000000</td>\n",
       "    </tr>\n",
       "    <tr>\n",
       "      <th>max</th>\n",
       "      <td>3.250000</td>\n",
       "      <td>2.320455e+00</td>\n",
       "      <td>2.550726e+00</td>\n",
       "      <td>1.883078e+00</td>\n",
       "      <td>2.753092e+00</td>\n",
       "      <td>2.511572e+00</td>\n",
       "      <td>1.527256e+00</td>\n",
       "      <td>2018.000000</td>\n",
       "      <td>53.000000</td>\n",
       "      <td>31.000000</td>\n",
       "      <td>12.000000</td>\n",
       "      <td>1.000000</td>\n",
       "      <td>1.000000</td>\n",
       "    </tr>\n",
       "  </tbody>\n",
       "</table>\n",
       "</div>"
      ],
      "text/plain": [
       "       AveragePrice          4046          4225          4770    Small Bags  \\\n",
       "count  17782.000000  1.778200e+04  1.778200e+04  1.778200e+04  1.778200e+04   \n",
       "mean       1.415546  2.831659e-15 -1.649513e-15 -2.508275e-14  7.314286e-16   \n",
       "std        0.402278  1.000028e+00  1.000028e+00  1.000028e+00  1.000028e+00   \n",
       "min        0.440000 -2.268391e+00 -2.542472e+00 -1.225582e+00 -2.658507e+00   \n",
       "25%        1.110000 -7.237719e-01 -7.280161e-01 -1.225582e+00 -7.869861e-01   \n",
       "50%        1.380000 -6.524856e-02  4.906980e-02  8.303015e-02  8.637182e-02   \n",
       "75%        1.670000  8.021915e-01  7.192297e-01  9.247680e-01  6.490198e-01   \n",
       "max        3.250000  2.320455e+00  2.550726e+00  1.883078e+00  2.753092e+00   \n",
       "\n",
       "         Large Bags   XLarge Bags          year        region           Day  \\\n",
       "count  1.778200e+04  1.778200e+04  17782.000000  17782.000000  17782.000000   \n",
       "mean  -1.330395e-15 -2.392268e-15   2016.141098     26.161624     15.683613   \n",
       "std    1.000028e+00  1.000028e+00      0.939273     15.402194      8.777845   \n",
       "min   -1.568037e+00 -6.881813e-01   2015.000000      0.000000      1.000000   \n",
       "25%   -7.566665e-01 -6.881813e-01   2015.000000     13.000000      8.000000   \n",
       "50%    3.418380e-02 -6.881813e-01   2016.000000     26.000000     16.000000   \n",
       "75%    7.413220e-01  1.426907e+00   2017.000000     39.000000     23.000000   \n",
       "max    2.511572e+00  1.527256e+00   2018.000000     53.000000     31.000000   \n",
       "\n",
       "              Month  type_conventional  type_organic  \n",
       "count  17782.000000       17782.000000  17782.000000  \n",
       "mean       6.194298           0.486953      0.513047  \n",
       "std        3.537070           0.499844      0.499844  \n",
       "min        1.000000           0.000000      0.000000  \n",
       "25%        3.000000           0.000000      0.000000  \n",
       "50%        6.000000           0.000000      1.000000  \n",
       "75%        9.000000           1.000000      1.000000  \n",
       "max       12.000000           1.000000      1.000000  "
      ]
     },
     "execution_count": 202,
     "metadata": {},
     "output_type": "execute_result"
    }
   ],
   "source": [
    "df.describe()"
   ]
  },
  {
   "cell_type": "markdown",
   "id": "fab12553",
   "metadata": {},
   "source": [
    "# Correlation:"
   ]
  },
  {
   "cell_type": "code",
   "execution_count": 203,
   "id": "0750e25c",
   "metadata": {},
   "outputs": [
    {
     "data": {
      "text/html": [
       "<div>\n",
       "<style scoped>\n",
       "    .dataframe tbody tr th:only-of-type {\n",
       "        vertical-align: middle;\n",
       "    }\n",
       "\n",
       "    .dataframe tbody tr th {\n",
       "        vertical-align: top;\n",
       "    }\n",
       "\n",
       "    .dataframe thead th {\n",
       "        text-align: right;\n",
       "    }\n",
       "</style>\n",
       "<table border=\"1\" class=\"dataframe\">\n",
       "  <thead>\n",
       "    <tr style=\"text-align: right;\">\n",
       "      <th></th>\n",
       "      <th>AveragePrice</th>\n",
       "      <th>4046</th>\n",
       "      <th>4225</th>\n",
       "      <th>4770</th>\n",
       "      <th>Small Bags</th>\n",
       "      <th>Large Bags</th>\n",
       "      <th>XLarge Bags</th>\n",
       "      <th>year</th>\n",
       "      <th>region</th>\n",
       "      <th>Day</th>\n",
       "      <th>Month</th>\n",
       "      <th>type_conventional</th>\n",
       "      <th>type_organic</th>\n",
       "    </tr>\n",
       "  </thead>\n",
       "  <tbody>\n",
       "    <tr>\n",
       "      <th>AveragePrice</th>\n",
       "      <td>1.000000</td>\n",
       "      <td>-0.549381</td>\n",
       "      <td>-0.449289</td>\n",
       "      <td>-0.491253</td>\n",
       "      <td>-0.493478</td>\n",
       "      <td>-0.478812</td>\n",
       "      <td>-0.393183</td>\n",
       "      <td>0.099910</td>\n",
       "      <td>0.010428</td>\n",
       "      <td>0.024742</td>\n",
       "      <td>0.157900</td>\n",
       "      <td>-0.608447</td>\n",
       "      <td>0.608447</td>\n",
       "    </tr>\n",
       "    <tr>\n",
       "      <th>4046</th>\n",
       "      <td>-0.549381</td>\n",
       "      <td>1.000000</td>\n",
       "      <td>0.765481</td>\n",
       "      <td>0.736882</td>\n",
       "      <td>0.781315</td>\n",
       "      <td>0.610040</td>\n",
       "      <td>0.575155</td>\n",
       "      <td>-0.002437</td>\n",
       "      <td>0.159477</td>\n",
       "      <td>-0.004601</td>\n",
       "      <td>-0.025892</td>\n",
       "      <td>0.726093</td>\n",
       "      <td>-0.726093</td>\n",
       "    </tr>\n",
       "    <tr>\n",
       "      <th>4225</th>\n",
       "      <td>-0.449289</td>\n",
       "      <td>0.765481</td>\n",
       "      <td>1.000000</td>\n",
       "      <td>0.797414</td>\n",
       "      <td>0.789730</td>\n",
       "      <td>0.619739</td>\n",
       "      <td>0.583027</td>\n",
       "      <td>-0.005237</td>\n",
       "      <td>0.031981</td>\n",
       "      <td>-0.006019</td>\n",
       "      <td>-0.024771</td>\n",
       "      <td>0.747733</td>\n",
       "      <td>-0.747733</td>\n",
       "    </tr>\n",
       "    <tr>\n",
       "      <th>4770</th>\n",
       "      <td>-0.491253</td>\n",
       "      <td>0.736882</td>\n",
       "      <td>0.797414</td>\n",
       "      <td>1.000000</td>\n",
       "      <td>0.754806</td>\n",
       "      <td>0.551455</td>\n",
       "      <td>0.615959</td>\n",
       "      <td>-0.051580</td>\n",
       "      <td>0.037908</td>\n",
       "      <td>0.001389</td>\n",
       "      <td>-0.017353</td>\n",
       "      <td>0.781037</td>\n",
       "      <td>-0.781037</td>\n",
       "    </tr>\n",
       "    <tr>\n",
       "      <th>Small Bags</th>\n",
       "      <td>-0.493478</td>\n",
       "      <td>0.781315</td>\n",
       "      <td>0.789730</td>\n",
       "      <td>0.754806</td>\n",
       "      <td>1.000000</td>\n",
       "      <td>0.576183</td>\n",
       "      <td>0.600891</td>\n",
       "      <td>0.184804</td>\n",
       "      <td>0.052880</td>\n",
       "      <td>-0.000422</td>\n",
       "      <td>-0.010396</td>\n",
       "      <td>0.719922</td>\n",
       "      <td>-0.719922</td>\n",
       "    </tr>\n",
       "    <tr>\n",
       "      <th>Large Bags</th>\n",
       "      <td>-0.478812</td>\n",
       "      <td>0.610040</td>\n",
       "      <td>0.619739</td>\n",
       "      <td>0.551455</td>\n",
       "      <td>0.576183</td>\n",
       "      <td>1.000000</td>\n",
       "      <td>0.453637</td>\n",
       "      <td>0.189696</td>\n",
       "      <td>0.089791</td>\n",
       "      <td>-0.001218</td>\n",
       "      <td>-0.017231</td>\n",
       "      <td>0.501890</td>\n",
       "      <td>-0.501890</td>\n",
       "    </tr>\n",
       "    <tr>\n",
       "      <th>XLarge Bags</th>\n",
       "      <td>-0.393183</td>\n",
       "      <td>0.575155</td>\n",
       "      <td>0.583027</td>\n",
       "      <td>0.615959</td>\n",
       "      <td>0.600891</td>\n",
       "      <td>0.453637</td>\n",
       "      <td>1.000000</td>\n",
       "      <td>0.154530</td>\n",
       "      <td>-0.016357</td>\n",
       "      <td>0.011273</td>\n",
       "      <td>0.021642</td>\n",
       "      <td>0.673459</td>\n",
       "      <td>-0.673459</td>\n",
       "    </tr>\n",
       "    <tr>\n",
       "      <th>year</th>\n",
       "      <td>0.099910</td>\n",
       "      <td>-0.002437</td>\n",
       "      <td>-0.005237</td>\n",
       "      <td>-0.051580</td>\n",
       "      <td>0.184804</td>\n",
       "      <td>0.189696</td>\n",
       "      <td>0.154530</td>\n",
       "      <td>1.000000</td>\n",
       "      <td>-0.003610</td>\n",
       "      <td>0.004044</td>\n",
       "      <td>-0.173166</td>\n",
       "      <td>-0.007399</td>\n",
       "      <td>0.007399</td>\n",
       "    </tr>\n",
       "    <tr>\n",
       "      <th>region</th>\n",
       "      <td>0.010428</td>\n",
       "      <td>0.159477</td>\n",
       "      <td>0.031981</td>\n",
       "      <td>0.037908</td>\n",
       "      <td>0.052880</td>\n",
       "      <td>0.089791</td>\n",
       "      <td>-0.016357</td>\n",
       "      <td>-0.003610</td>\n",
       "      <td>1.000000</td>\n",
       "      <td>0.000751</td>\n",
       "      <td>0.002175</td>\n",
       "      <td>-0.021970</td>\n",
       "      <td>0.021970</td>\n",
       "    </tr>\n",
       "    <tr>\n",
       "      <th>Day</th>\n",
       "      <td>0.024742</td>\n",
       "      <td>-0.004601</td>\n",
       "      <td>-0.006019</td>\n",
       "      <td>0.001389</td>\n",
       "      <td>-0.000422</td>\n",
       "      <td>-0.001218</td>\n",
       "      <td>0.011273</td>\n",
       "      <td>0.004044</td>\n",
       "      <td>0.000751</td>\n",
       "      <td>1.000000</td>\n",
       "      <td>0.010456</td>\n",
       "      <td>0.002469</td>\n",
       "      <td>-0.002469</td>\n",
       "    </tr>\n",
       "    <tr>\n",
       "      <th>Month</th>\n",
       "      <td>0.157900</td>\n",
       "      <td>-0.025892</td>\n",
       "      <td>-0.024771</td>\n",
       "      <td>-0.017353</td>\n",
       "      <td>-0.010396</td>\n",
       "      <td>-0.017231</td>\n",
       "      <td>0.021642</td>\n",
       "      <td>-0.173166</td>\n",
       "      <td>0.002175</td>\n",
       "      <td>0.010456</td>\n",
       "      <td>1.000000</td>\n",
       "      <td>0.005044</td>\n",
       "      <td>-0.005044</td>\n",
       "    </tr>\n",
       "    <tr>\n",
       "      <th>type_conventional</th>\n",
       "      <td>-0.608447</td>\n",
       "      <td>0.726093</td>\n",
       "      <td>0.747733</td>\n",
       "      <td>0.781037</td>\n",
       "      <td>0.719922</td>\n",
       "      <td>0.501890</td>\n",
       "      <td>0.673459</td>\n",
       "      <td>-0.007399</td>\n",
       "      <td>-0.021970</td>\n",
       "      <td>0.002469</td>\n",
       "      <td>0.005044</td>\n",
       "      <td>1.000000</td>\n",
       "      <td>-1.000000</td>\n",
       "    </tr>\n",
       "    <tr>\n",
       "      <th>type_organic</th>\n",
       "      <td>0.608447</td>\n",
       "      <td>-0.726093</td>\n",
       "      <td>-0.747733</td>\n",
       "      <td>-0.781037</td>\n",
       "      <td>-0.719922</td>\n",
       "      <td>-0.501890</td>\n",
       "      <td>-0.673459</td>\n",
       "      <td>0.007399</td>\n",
       "      <td>0.021970</td>\n",
       "      <td>-0.002469</td>\n",
       "      <td>-0.005044</td>\n",
       "      <td>-1.000000</td>\n",
       "      <td>1.000000</td>\n",
       "    </tr>\n",
       "  </tbody>\n",
       "</table>\n",
       "</div>"
      ],
      "text/plain": [
       "                   AveragePrice      4046      4225      4770  Small Bags  \\\n",
       "AveragePrice           1.000000 -0.549381 -0.449289 -0.491253   -0.493478   \n",
       "4046                  -0.549381  1.000000  0.765481  0.736882    0.781315   \n",
       "4225                  -0.449289  0.765481  1.000000  0.797414    0.789730   \n",
       "4770                  -0.491253  0.736882  0.797414  1.000000    0.754806   \n",
       "Small Bags            -0.493478  0.781315  0.789730  0.754806    1.000000   \n",
       "Large Bags            -0.478812  0.610040  0.619739  0.551455    0.576183   \n",
       "XLarge Bags           -0.393183  0.575155  0.583027  0.615959    0.600891   \n",
       "year                   0.099910 -0.002437 -0.005237 -0.051580    0.184804   \n",
       "region                 0.010428  0.159477  0.031981  0.037908    0.052880   \n",
       "Day                    0.024742 -0.004601 -0.006019  0.001389   -0.000422   \n",
       "Month                  0.157900 -0.025892 -0.024771 -0.017353   -0.010396   \n",
       "type_conventional     -0.608447  0.726093  0.747733  0.781037    0.719922   \n",
       "type_organic           0.608447 -0.726093 -0.747733 -0.781037   -0.719922   \n",
       "\n",
       "                   Large Bags  XLarge Bags      year    region       Day  \\\n",
       "AveragePrice        -0.478812    -0.393183  0.099910  0.010428  0.024742   \n",
       "4046                 0.610040     0.575155 -0.002437  0.159477 -0.004601   \n",
       "4225                 0.619739     0.583027 -0.005237  0.031981 -0.006019   \n",
       "4770                 0.551455     0.615959 -0.051580  0.037908  0.001389   \n",
       "Small Bags           0.576183     0.600891  0.184804  0.052880 -0.000422   \n",
       "Large Bags           1.000000     0.453637  0.189696  0.089791 -0.001218   \n",
       "XLarge Bags          0.453637     1.000000  0.154530 -0.016357  0.011273   \n",
       "year                 0.189696     0.154530  1.000000 -0.003610  0.004044   \n",
       "region               0.089791    -0.016357 -0.003610  1.000000  0.000751   \n",
       "Day                 -0.001218     0.011273  0.004044  0.000751  1.000000   \n",
       "Month               -0.017231     0.021642 -0.173166  0.002175  0.010456   \n",
       "type_conventional    0.501890     0.673459 -0.007399 -0.021970  0.002469   \n",
       "type_organic        -0.501890    -0.673459  0.007399  0.021970 -0.002469   \n",
       "\n",
       "                      Month  type_conventional  type_organic  \n",
       "AveragePrice       0.157900          -0.608447      0.608447  \n",
       "4046              -0.025892           0.726093     -0.726093  \n",
       "4225              -0.024771           0.747733     -0.747733  \n",
       "4770              -0.017353           0.781037     -0.781037  \n",
       "Small Bags        -0.010396           0.719922     -0.719922  \n",
       "Large Bags        -0.017231           0.501890     -0.501890  \n",
       "XLarge Bags        0.021642           0.673459     -0.673459  \n",
       "year              -0.173166          -0.007399      0.007399  \n",
       "region             0.002175          -0.021970      0.021970  \n",
       "Day                0.010456           0.002469     -0.002469  \n",
       "Month              1.000000           0.005044     -0.005044  \n",
       "type_conventional  0.005044           1.000000     -1.000000  \n",
       "type_organic      -0.005044          -1.000000      1.000000  "
      ]
     },
     "execution_count": 203,
     "metadata": {},
     "output_type": "execute_result"
    }
   ],
   "source": [
    "df.corr()"
   ]
  },
  {
   "cell_type": "code",
   "execution_count": 205,
   "id": "0c741f9a",
   "metadata": {},
   "outputs": [
    {
     "data": {
      "image/png": "[encoded data removed]",
      "text/plain": [
       "<Figure size 1080x864 with 2 Axes>"
      ]
     },
     "metadata": {
      "needs_background": "light"
     },
     "output_type": "display_data"
    }
   ],
   "source": [
    "plt.figure(figsize=(15,12))\n",
    "sns.heatmap(df.corr(),annot=True,linewidth=1)\n",
    "plt.show()"
   ]
  },
  {
   "cell_type": "markdown",
   "id": "2bfe4998",
   "metadata": {},
   "source": [
    "### from the above graph ,column '4046','Large bags','Small bags' is highly correlated with region \n",
    "### columns 'Xlarge bags', 'type_conventional' are highly negative correlation with region"
   ]
  },
  {
   "cell_type": "code",
   "execution_count": 207,
   "id": "d9e340f0",
   "metadata": {},
   "outputs": [
    {
     "data": {
      "text/html": [
       "<div>\n",
       "<style scoped>\n",
       "    .dataframe tbody tr th:only-of-type {\n",
       "        vertical-align: middle;\n",
       "    }\n",
       "\n",
       "    .dataframe tbody tr th {\n",
       "        vertical-align: top;\n",
       "    }\n",
       "\n",
       "    .dataframe thead th {\n",
       "        text-align: right;\n",
       "    }\n",
       "</style>\n",
       "<table border=\"1\" class=\"dataframe\">\n",
       "  <thead>\n",
       "    <tr style=\"text-align: right;\">\n",
       "      <th></th>\n",
       "      <th>AveragePrice</th>\n",
       "      <th>4046</th>\n",
       "      <th>4225</th>\n",
       "      <th>4770</th>\n",
       "      <th>Small Bags</th>\n",
       "      <th>Large Bags</th>\n",
       "      <th>XLarge Bags</th>\n",
       "      <th>year</th>\n",
       "      <th>region</th>\n",
       "      <th>Day</th>\n",
       "      <th>Month</th>\n",
       "      <th>type_conventional</th>\n",
       "      <th>type_organic</th>\n",
       "    </tr>\n",
       "  </thead>\n",
       "  <tbody>\n",
       "    <tr>\n",
       "      <th>0</th>\n",
       "      <td>1.33</td>\n",
       "      <td>-0.653168</td>\n",
       "      <td>0.348247</td>\n",
       "      <td>-0.211458</td>\n",
       "      <td>-0.345468</td>\n",
       "      <td>-0.789832</td>\n",
       "      <td>-0.688181</td>\n",
       "      <td>2015</td>\n",
       "      <td>0</td>\n",
       "      <td>27</td>\n",
       "      <td>12</td>\n",
       "      <td>1</td>\n",
       "      <td>0</td>\n",
       "    </tr>\n",
       "    <tr>\n",
       "      <th>1</th>\n",
       "      <td>1.35</td>\n",
       "      <td>-0.772216</td>\n",
       "      <td>0.265547</td>\n",
       "      <td>-0.163999</td>\n",
       "      <td>-0.309714</td>\n",
       "      <td>-0.780450</td>\n",
       "      <td>-0.688181</td>\n",
       "      <td>2015</td>\n",
       "      <td>0</td>\n",
       "      <td>20</td>\n",
       "      <td>12</td>\n",
       "      <td>1</td>\n",
       "      <td>0</td>\n",
       "    </tr>\n",
       "    <tr>\n",
       "      <th>2</th>\n",
       "      <td>0.93</td>\n",
       "      <td>-0.727091</td>\n",
       "      <td>0.650156</td>\n",
       "      <td>0.035375</td>\n",
       "      <td>-0.372226</td>\n",
       "      <td>-0.768495</td>\n",
       "      <td>-0.688181</td>\n",
       "      <td>2015</td>\n",
       "      <td>0</td>\n",
       "      <td>13</td>\n",
       "      <td>12</td>\n",
       "      <td>1</td>\n",
       "      <td>0</td>\n",
       "    </tr>\n",
       "    <tr>\n",
       "      <th>3</th>\n",
       "      <td>1.08</td>\n",
       "      <td>-0.628477</td>\n",
       "      <td>0.466989</td>\n",
       "      <td>-0.109835</td>\n",
       "      <td>-0.507188</td>\n",
       "      <td>-0.712352</td>\n",
       "      <td>-0.688181</td>\n",
       "      <td>2015</td>\n",
       "      <td>0</td>\n",
       "      <td>6</td>\n",
       "      <td>12</td>\n",
       "      <td>1</td>\n",
       "      <td>0</td>\n",
       "    </tr>\n",
       "    <tr>\n",
       "      <th>4</th>\n",
       "      <td>1.28</td>\n",
       "      <td>-0.680097</td>\n",
       "      <td>0.258097</td>\n",
       "      <td>-0.099145</td>\n",
       "      <td>-0.486987</td>\n",
       "      <td>-0.624897</td>\n",
       "      <td>-0.688181</td>\n",
       "      <td>2015</td>\n",
       "      <td>0</td>\n",
       "      <td>29</td>\n",
       "      <td>11</td>\n",
       "      <td>1</td>\n",
       "      <td>0</td>\n",
       "    </tr>\n",
       "    <tr>\n",
       "      <th>...</th>\n",
       "      <td>...</td>\n",
       "      <td>...</td>\n",
       "      <td>...</td>\n",
       "      <td>...</td>\n",
       "      <td>...</td>\n",
       "      <td>...</td>\n",
       "      <td>...</td>\n",
       "      <td>...</td>\n",
       "      <td>...</td>\n",
       "      <td>...</td>\n",
       "      <td>...</td>\n",
       "      <td>...</td>\n",
       "      <td>...</td>\n",
       "    </tr>\n",
       "    <tr>\n",
       "      <th>17777</th>\n",
       "      <td>1.63</td>\n",
       "      <td>-0.458796</td>\n",
       "      <td>-0.923266</td>\n",
       "      <td>-1.225582</td>\n",
       "      <td>-0.175213</td>\n",
       "      <td>-0.438299</td>\n",
       "      <td>-0.688181</td>\n",
       "      <td>2018</td>\n",
       "      <td>53</td>\n",
       "      <td>4</td>\n",
       "      <td>2</td>\n",
       "      <td>0</td>\n",
       "      <td>1</td>\n",
       "    </tr>\n",
       "    <tr>\n",
       "      <th>17778</th>\n",
       "      <td>1.71</td>\n",
       "      <td>-0.613983</td>\n",
       "      <td>-0.671633</td>\n",
       "      <td>-1.225582</td>\n",
       "      <td>-0.330168</td>\n",
       "      <td>-0.508192</td>\n",
       "      <td>-0.688181</td>\n",
       "      <td>2018</td>\n",
       "      <td>53</td>\n",
       "      <td>28</td>\n",
       "      <td>1</td>\n",
       "      <td>0</td>\n",
       "      <td>1</td>\n",
       "    </tr>\n",
       "    <tr>\n",
       "      <th>17779</th>\n",
       "      <td>1.87</td>\n",
       "      <td>-0.613931</td>\n",
       "      <td>-0.778430</td>\n",
       "      <td>0.456238</td>\n",
       "      <td>-0.312125</td>\n",
       "      <td>-0.948869</td>\n",
       "      <td>-0.688181</td>\n",
       "      <td>2018</td>\n",
       "      <td>53</td>\n",
       "      <td>21</td>\n",
       "      <td>1</td>\n",
       "      <td>0</td>\n",
       "      <td>1</td>\n",
       "    </tr>\n",
       "    <tr>\n",
       "      <th>17780</th>\n",
       "      <td>1.93</td>\n",
       "      <td>-0.543343</td>\n",
       "      <td>-0.716793</td>\n",
       "      <td>0.455928</td>\n",
       "      <td>-0.249325</td>\n",
       "      <td>-0.916472</td>\n",
       "      <td>-0.688181</td>\n",
       "      <td>2018</td>\n",
       "      <td>53</td>\n",
       "      <td>14</td>\n",
       "      <td>1</td>\n",
       "      <td>0</td>\n",
       "      <td>1</td>\n",
       "    </tr>\n",
       "    <tr>\n",
       "      <th>17781</th>\n",
       "      <td>1.62</td>\n",
       "      <td>-0.356812</td>\n",
       "      <td>-0.790999</td>\n",
       "      <td>0.169130</td>\n",
       "      <td>-0.210968</td>\n",
       "      <td>-1.039535</td>\n",
       "      <td>-0.688181</td>\n",
       "      <td>2018</td>\n",
       "      <td>53</td>\n",
       "      <td>7</td>\n",
       "      <td>1</td>\n",
       "      <td>0</td>\n",
       "      <td>1</td>\n",
       "    </tr>\n",
       "  </tbody>\n",
       "</table>\n",
       "<p>17782 rows × 13 columns</p>\n",
       "</div>"
      ],
      "text/plain": [
       "       AveragePrice      4046      4225      4770  Small Bags  Large Bags  \\\n",
       "0              1.33 -0.653168  0.348247 -0.211458   -0.345468   -0.789832   \n",
       "1              1.35 -0.772216  0.265547 -0.163999   -0.309714   -0.780450   \n",
       "2              0.93 -0.727091  0.650156  0.035375   -0.372226   -0.768495   \n",
       "3              1.08 -0.628477  0.466989 -0.109835   -0.507188   -0.712352   \n",
       "4              1.28 -0.680097  0.258097 -0.099145   -0.486987   -0.624897   \n",
       "...             ...       ...       ...       ...         ...         ...   \n",
       "17777          1.63 -0.458796 -0.923266 -1.225582   -0.175213   -0.438299   \n",
       "17778          1.71 -0.613983 -0.671633 -1.225582   -0.330168   -0.508192   \n",
       "17779          1.87 -0.613931 -0.778430  0.456238   -0.312125   -0.948869   \n",
       "17780          1.93 -0.543343 -0.716793  0.455928   -0.249325   -0.916472   \n",
       "17781          1.62 -0.356812 -0.790999  0.169130   -0.210968   -1.039535   \n",
       "\n",
       "       XLarge Bags  year  region  Day  Month  type_conventional  type_organic  \n",
       "0        -0.688181  2015       0   27     12                  1             0  \n",
       "1        -0.688181  2015       0   20     12                  1             0  \n",
       "2        -0.688181  2015       0   13     12                  1             0  \n",
       "3        -0.688181  2015       0    6     12                  1             0  \n",
       "4        -0.688181  2015       0   29     11                  1             0  \n",
       "...            ...   ...     ...  ...    ...                ...           ...  \n",
       "17777    -0.688181  2018      53    4      2                  0             1  \n",
       "17778    -0.688181  2018      53   28      1                  0             1  \n",
       "17779    -0.688181  2018      53   21      1                  0             1  \n",
       "17780    -0.688181  2018      53   14      1                  0             1  \n",
       "17781    -0.688181  2018      53    7      1                  0             1  \n",
       "\n",
       "[17782 rows x 13 columns]"
      ]
     },
     "execution_count": 207,
     "metadata": {},
     "output_type": "execute_result"
    }
   ],
   "source": [
    "df"
   ]
  },
  {
   "cell_type": "code",
   "execution_count": 208,
   "id": "e0c5dda1",
   "metadata": {},
   "outputs": [],
   "source": [
    "X = df.drop(columns = ['region'])\n",
    "y = df['region']"
   ]
  },
  {
   "cell_type": "markdown",
   "id": "a38e2517",
   "metadata": {},
   "source": [
    "# scaling:"
   ]
  },
  {
   "cell_type": "code",
   "execution_count": 209,
   "id": "22c2db3c",
   "metadata": {},
   "outputs": [],
   "source": [
    "from sklearn.preprocessing import StandardScaler"
   ]
  },
  {
   "cell_type": "code",
   "execution_count": 210,
   "id": "79873eac",
   "metadata": {},
   "outputs": [],
   "source": [
    "scaler = StandardScaler()"
   ]
  },
  {
   "cell_type": "code",
   "execution_count": 211,
   "id": "8fa3abed",
   "metadata": {},
   "outputs": [],
   "source": [
    "scaled_x = scaler.fit_transform(X)"
   ]
  },
  {
   "cell_type": "code",
   "execution_count": 212,
   "id": "0ed31b90",
   "metadata": {},
   "outputs": [
    {
     "data": {
      "text/plain": [
       "array([[-0.21266011, -0.65316815,  0.34824745, ...,  1.64143354,\n",
       "         1.02644331, -1.02644331],\n",
       "       [-0.16294184, -0.77221574,  0.26554691, ...,  1.64143354,\n",
       "         1.02644331, -1.02644331],\n",
       "       [-1.20702555, -0.72709129,  0.65015553, ...,  1.64143354,\n",
       "         1.02644331, -1.02644331],\n",
       "       ...,\n",
       "       [ 1.12973323, -0.61393125, -0.77842993, ..., -1.4685724 ,\n",
       "        -0.97423793,  0.97423793],\n",
       "       [ 1.27888805, -0.54334343, -0.71679326, ..., -1.4685724 ,\n",
       "        -0.97423793,  0.97423793],\n",
       "       [ 0.50825483, -0.35681235, -0.79099921, ..., -1.4685724 ,\n",
       "        -0.97423793,  0.97423793]])"
      ]
     },
     "execution_count": 212,
     "metadata": {},
     "output_type": "execute_result"
    }
   ],
   "source": [
    "scaled_x"
   ]
  },
  {
   "cell_type": "markdown",
   "id": "7878e2e1",
   "metadata": {},
   "source": [
    "# Principle Component Analysis"
   ]
  },
  {
   "cell_type": "code",
   "execution_count": 213,
   "id": "6ded0010",
   "metadata": {},
   "outputs": [],
   "source": [
    "from sklearn.decomposition import PCA"
   ]
  },
  {
   "cell_type": "code",
   "execution_count": 214,
   "id": "5fe63a73",
   "metadata": {},
   "outputs": [],
   "source": [
    "pca = PCA()"
   ]
  },
  {
   "cell_type": "code",
   "execution_count": 215,
   "id": "a9cb9ffa",
   "metadata": {},
   "outputs": [],
   "source": [
    "pca_df = pca.fit_transform(scaled_x)"
   ]
  },
  {
   "cell_type": "code",
   "execution_count": 216,
   "id": "12957cf0",
   "metadata": {},
   "outputs": [
    {
     "data": {
      "text/plain": [
       "array([[ 3.26338924e-02, -2.30772404e+00, -1.12544742e+00, ...,\n",
       "         6.35676567e-01,  1.08033630e-01, -6.85711613e-17],\n",
       "       [-1.86909943e-02, -2.29377047e+00, -5.42242062e-01, ...,\n",
       "         5.98069162e-01, -2.07264852e-03, -9.95712032e-17],\n",
       "       [ 4.63626701e-01, -2.36873784e+00,  3.80847756e-01, ...,\n",
       "         7.32530310e-01,  5.09357467e-01, -1.08222110e-16],\n",
       "       ...,\n",
       "       [-1.86164179e+00,  2.32840309e+00, -5.11816510e-01, ...,\n",
       "        -9.62284637e-01,  2.53720794e-01, -1.59023439e-17],\n",
       "       [-1.82340747e+00,  2.34963640e+00,  3.55646777e-02, ...,\n",
       "        -9.48816152e-01,  2.14942341e-01,  1.95856625e-17],\n",
       "       [-1.70035961e+00,  2.32491628e+00,  8.87463988e-01, ...,\n",
       "        -8.12921378e-01,  3.51356854e-01,  2.63987617e-17]])"
      ]
     },
     "execution_count": 216,
     "metadata": {},
     "output_type": "execute_result"
    }
   ],
   "source": [
    "pca_df"
   ]
  },
  {
   "cell_type": "code",
   "execution_count": 218,
   "id": "e1d6a5e2",
   "metadata": {},
   "outputs": [
    {
     "data": {
      "image/png": "[encoded data removed]",
      "text/plain": [
       "<Figure size 432x288 with 1 Axes>"
      ]
     },
     "metadata": {
      "needs_background": "light"
     },
     "output_type": "display_data"
    }
   ],
   "source": [
    "#visualize PCA\n",
    "plt.plot()\n",
    "plt.plot(np.cumsum(pca.explained_variance_ratio_))\n",
    "plt.xlabel('No.of Components')\n",
    "plt.ylabel('% of Variance')\n",
    "plt.show()"
   ]
  },
  {
   "cell_type": "markdown",
   "id": "9486de51",
   "metadata": {},
   "source": [
    "# 95% data is explained by 10 components"
   ]
  },
  {
   "cell_type": "code",
   "execution_count": 219,
   "id": "3c95de83",
   "metadata": {},
   "outputs": [],
   "source": [
    "#creating pca data\n",
    "pca = PCA(n_components=10)"
   ]
  },
  {
   "cell_type": "code",
   "execution_count": 220,
   "id": "910f870e",
   "metadata": {},
   "outputs": [],
   "source": [
    "new_pca = pca.fit_transform(scaled_X)\n",
    "pca_x = pd.DataFrame(new_pca,columns=np.arange(10))"
   ]
  },
  {
   "cell_type": "code",
   "execution_count": 221,
   "id": "89800dcc",
   "metadata": {},
   "outputs": [
    {
     "data": {
      "text/html": [
       "<div>\n",
       "<style scoped>\n",
       "    .dataframe tbody tr th:only-of-type {\n",
       "        vertical-align: middle;\n",
       "    }\n",
       "\n",
       "    .dataframe tbody tr th {\n",
       "        vertical-align: top;\n",
       "    }\n",
       "\n",
       "    .dataframe thead th {\n",
       "        text-align: right;\n",
       "    }\n",
       "</style>\n",
       "<table border=\"1\" class=\"dataframe\">\n",
       "  <thead>\n",
       "    <tr style=\"text-align: right;\">\n",
       "      <th></th>\n",
       "      <th>0</th>\n",
       "      <th>1</th>\n",
       "      <th>2</th>\n",
       "      <th>3</th>\n",
       "      <th>4</th>\n",
       "      <th>5</th>\n",
       "      <th>6</th>\n",
       "      <th>7</th>\n",
       "      <th>8</th>\n",
       "      <th>9</th>\n",
       "    </tr>\n",
       "  </thead>\n",
       "  <tbody>\n",
       "    <tr>\n",
       "      <th>0</th>\n",
       "      <td>-0.062805</td>\n",
       "      <td>-2.444997</td>\n",
       "      <td>-1.797009</td>\n",
       "      <td>1.218627</td>\n",
       "      <td>-0.226829</td>\n",
       "      <td>0.085112</td>\n",
       "      <td>0.670042</td>\n",
       "      <td>-1.035613</td>\n",
       "      <td>-0.119909</td>\n",
       "      <td>-0.585658</td>\n",
       "    </tr>\n",
       "    <tr>\n",
       "      <th>1</th>\n",
       "      <td>-0.103461</td>\n",
       "      <td>-2.428608</td>\n",
       "      <td>-1.787422</td>\n",
       "      <td>0.429926</td>\n",
       "      <td>-0.332252</td>\n",
       "      <td>0.131375</td>\n",
       "      <td>0.645462</td>\n",
       "      <td>-1.056399</td>\n",
       "      <td>-0.204782</td>\n",
       "      <td>-0.528077</td>\n",
       "    </tr>\n",
       "    <tr>\n",
       "      <th>2</th>\n",
       "      <td>0.108562</td>\n",
       "      <td>-2.455745</td>\n",
       "      <td>-1.742808</td>\n",
       "      <td>-0.371711</td>\n",
       "      <td>-0.368876</td>\n",
       "      <td>0.047095</td>\n",
       "      <td>0.699430</td>\n",
       "      <td>-0.970865</td>\n",
       "      <td>-0.424731</td>\n",
       "      <td>-0.647190</td>\n",
       "    </tr>\n",
       "    <tr>\n",
       "      <th>3</th>\n",
       "      <td>-0.009963</td>\n",
       "      <td>-2.428846</td>\n",
       "      <td>-1.694995</td>\n",
       "      <td>-1.158489</td>\n",
       "      <td>-0.482770</td>\n",
       "      <td>0.074223</td>\n",
       "      <td>0.571966</td>\n",
       "      <td>-1.070242</td>\n",
       "      <td>-0.227182</td>\n",
       "      <td>-0.573554</td>\n",
       "    </tr>\n",
       "    <tr>\n",
       "      <th>4</th>\n",
       "      <td>-0.066768</td>\n",
       "      <td>-2.272498</td>\n",
       "      <td>-1.815567</td>\n",
       "      <td>1.422707</td>\n",
       "      <td>0.009597</td>\n",
       "      <td>0.004485</td>\n",
       "      <td>0.491768</td>\n",
       "      <td>-1.134193</td>\n",
       "      <td>-0.190895</td>\n",
       "      <td>-0.447252</td>\n",
       "    </tr>\n",
       "    <tr>\n",
       "      <th>...</th>\n",
       "      <td>...</td>\n",
       "      <td>...</td>\n",
       "      <td>...</td>\n",
       "      <td>...</td>\n",
       "      <td>...</td>\n",
       "      <td>...</td>\n",
       "      <td>...</td>\n",
       "      <td>...</td>\n",
       "      <td>...</td>\n",
       "      <td>...</td>\n",
       "    </tr>\n",
       "    <tr>\n",
       "      <th>17777</th>\n",
       "      <td>-1.992379</td>\n",
       "      <td>2.551912</td>\n",
       "      <td>1.589794</td>\n",
       "      <td>-1.203513</td>\n",
       "      <td>-0.277558</td>\n",
       "      <td>0.682081</td>\n",
       "      <td>0.445655</td>\n",
       "      <td>-0.067452</td>\n",
       "      <td>0.242882</td>\n",
       "      <td>-0.120954</td>\n",
       "    </tr>\n",
       "    <tr>\n",
       "      <th>17778</th>\n",
       "      <td>-2.029449</td>\n",
       "      <td>2.644054</td>\n",
       "      <td>1.428538</td>\n",
       "      <td>1.478883</td>\n",
       "      <td>0.296970</td>\n",
       "      <td>0.636484</td>\n",
       "      <td>0.434672</td>\n",
       "      <td>-0.073722</td>\n",
       "      <td>0.051541</td>\n",
       "      <td>-0.346065</td>\n",
       "    </tr>\n",
       "    <tr>\n",
       "      <th>17779</th>\n",
       "      <td>-1.571137</td>\n",
       "      <td>2.411589</td>\n",
       "      <td>1.387208</td>\n",
       "      <td>0.659312</td>\n",
       "      <td>0.474186</td>\n",
       "      <td>0.909725</td>\n",
       "      <td>0.817173</td>\n",
       "      <td>0.298998</td>\n",
       "      <td>-0.928258</td>\n",
       "      <td>0.799830</td>\n",
       "    </tr>\n",
       "    <tr>\n",
       "      <th>17780</th>\n",
       "      <td>-1.491109</td>\n",
       "      <td>2.431424</td>\n",
       "      <td>1.436490</td>\n",
       "      <td>-0.132574</td>\n",
       "      <td>0.379288</td>\n",
       "      <td>0.879811</td>\n",
       "      <td>0.840157</td>\n",
       "      <td>0.334764</td>\n",
       "      <td>-0.893920</td>\n",
       "      <td>0.776189</td>\n",
       "    </tr>\n",
       "    <tr>\n",
       "      <th>17781</th>\n",
       "      <td>-1.578282</td>\n",
       "      <td>2.448226</td>\n",
       "      <td>1.479886</td>\n",
       "      <td>-0.922434</td>\n",
       "      <td>0.282097</td>\n",
       "      <td>0.978863</td>\n",
       "      <td>0.892530</td>\n",
       "      <td>0.366314</td>\n",
       "      <td>-0.561248</td>\n",
       "      <td>0.687659</td>\n",
       "    </tr>\n",
       "  </tbody>\n",
       "</table>\n",
       "<p>17782 rows × 10 columns</p>\n",
       "</div>"
      ],
      "text/plain": [
       "              0         1         2         3         4         5         6  \\\n",
       "0     -0.062805 -2.444997 -1.797009  1.218627 -0.226829  0.085112  0.670042   \n",
       "1     -0.103461 -2.428608 -1.787422  0.429926 -0.332252  0.131375  0.645462   \n",
       "2      0.108562 -2.455745 -1.742808 -0.371711 -0.368876  0.047095  0.699430   \n",
       "3     -0.009963 -2.428846 -1.694995 -1.158489 -0.482770  0.074223  0.571966   \n",
       "4     -0.066768 -2.272498 -1.815567  1.422707  0.009597  0.004485  0.491768   \n",
       "...         ...       ...       ...       ...       ...       ...       ...   \n",
       "17777 -1.992379  2.551912  1.589794 -1.203513 -0.277558  0.682081  0.445655   \n",
       "17778 -2.029449  2.644054  1.428538  1.478883  0.296970  0.636484  0.434672   \n",
       "17779 -1.571137  2.411589  1.387208  0.659312  0.474186  0.909725  0.817173   \n",
       "17780 -1.491109  2.431424  1.436490 -0.132574  0.379288  0.879811  0.840157   \n",
       "17781 -1.578282  2.448226  1.479886 -0.922434  0.282097  0.978863  0.892530   \n",
       "\n",
       "              7         8         9  \n",
       "0     -1.035613 -0.119909 -0.585658  \n",
       "1     -1.056399 -0.204782 -0.528077  \n",
       "2     -0.970865 -0.424731 -0.647190  \n",
       "3     -1.070242 -0.227182 -0.573554  \n",
       "4     -1.134193 -0.190895 -0.447252  \n",
       "...         ...       ...       ...  \n",
       "17777 -0.067452  0.242882 -0.120954  \n",
       "17778 -0.073722  0.051541 -0.346065  \n",
       "17779  0.298998 -0.928258  0.799830  \n",
       "17780  0.334764 -0.893920  0.776189  \n",
       "17781  0.366314 -0.561248  0.687659  \n",
       "\n",
       "[17782 rows x 10 columns]"
      ]
     },
     "execution_count": 221,
     "metadata": {},
     "output_type": "execute_result"
    }
   ],
   "source": [
    "pca_x"
   ]
  },
  {
   "cell_type": "markdown",
   "id": "eb557eee",
   "metadata": {},
   "source": [
    "# Selecting Best Features:"
   ]
  },
  {
   "cell_type": "code",
   "execution_count": 222,
   "id": "4e2b6cc7",
   "metadata": {},
   "outputs": [],
   "source": [
    "from sklearn.feature_selection import SelectKBest, f_classif"
   ]
  },
  {
   "cell_type": "code",
   "execution_count": 223,
   "id": "7d5e5b8c",
   "metadata": {},
   "outputs": [],
   "source": [
    "sb = SelectKBest()"
   ]
  },
  {
   "cell_type": "code",
   "execution_count": 225,
   "id": "b9bf8f59",
   "metadata": {},
   "outputs": [
    {
     "name": "stdout",
     "output_type": "stream",
     "text": [
      "              Feature      Score\n",
      "11       type_organic  49.966168\n",
      "10  type_conventional  49.966168\n",
      "0        AveragePrice  36.646433\n",
      "2                4225  27.640618\n",
      "3                4770  25.029697\n",
      "4          Small Bags  23.501094\n",
      "1                4046  21.804561\n",
      "5          Large Bags  15.770087\n",
      "6         XLarge Bags   3.163539\n",
      "9               Month   2.850599\n",
      "7                year   1.291093\n"
     ]
    }
   ],
   "source": [
    "fea_sb = sb.fit(X,y)\n",
    "scores = pd.DataFrame(fit.scores_)\n",
    "columns = pd.DataFrame(X.columns)\n",
    "dfcolumns.head()\n",
    "featureScores = pd.concat([columns,scores],axis = 1)\n",
    "featureScores.columns = ['Feature', 'Score']\n",
    "print(featureScores.nlargest(11,'Score'))"
   ]
  },
  {
   "cell_type": "markdown",
   "id": "b67f5a41",
   "metadata": {},
   "source": [
    "# Dropping columns 'Month' and 'year'"
   ]
  },
  {
   "cell_type": "code",
   "execution_count": 226,
   "id": "5e2e4b94",
   "metadata": {},
   "outputs": [],
   "source": [
    "x_df = df.drop(columns=['year','Month'])"
   ]
  },
  {
   "cell_type": "code",
   "execution_count": 227,
   "id": "3aa55dde",
   "metadata": {},
   "outputs": [
    {
     "data": {
      "text/html": [
       "<div>\n",
       "<style scoped>\n",
       "    .dataframe tbody tr th:only-of-type {\n",
       "        vertical-align: middle;\n",
       "    }\n",
       "\n",
       "    .dataframe tbody tr th {\n",
       "        vertical-align: top;\n",
       "    }\n",
       "\n",
       "    .dataframe thead th {\n",
       "        text-align: right;\n",
       "    }\n",
       "</style>\n",
       "<table border=\"1\" class=\"dataframe\">\n",
       "  <thead>\n",
       "    <tr style=\"text-align: right;\">\n",
       "      <th></th>\n",
       "      <th>AveragePrice</th>\n",
       "      <th>4046</th>\n",
       "      <th>4225</th>\n",
       "      <th>4770</th>\n",
       "      <th>Small Bags</th>\n",
       "      <th>Large Bags</th>\n",
       "      <th>XLarge Bags</th>\n",
       "      <th>region</th>\n",
       "      <th>Day</th>\n",
       "      <th>type_conventional</th>\n",
       "      <th>type_organic</th>\n",
       "    </tr>\n",
       "  </thead>\n",
       "  <tbody>\n",
       "    <tr>\n",
       "      <th>0</th>\n",
       "      <td>1.33</td>\n",
       "      <td>-0.653168</td>\n",
       "      <td>0.348247</td>\n",
       "      <td>-0.211458</td>\n",
       "      <td>-0.345468</td>\n",
       "      <td>-0.789832</td>\n",
       "      <td>-0.688181</td>\n",
       "      <td>0</td>\n",
       "      <td>27</td>\n",
       "      <td>1</td>\n",
       "      <td>0</td>\n",
       "    </tr>\n",
       "    <tr>\n",
       "      <th>1</th>\n",
       "      <td>1.35</td>\n",
       "      <td>-0.772216</td>\n",
       "      <td>0.265547</td>\n",
       "      <td>-0.163999</td>\n",
       "      <td>-0.309714</td>\n",
       "      <td>-0.780450</td>\n",
       "      <td>-0.688181</td>\n",
       "      <td>0</td>\n",
       "      <td>20</td>\n",
       "      <td>1</td>\n",
       "      <td>0</td>\n",
       "    </tr>\n",
       "    <tr>\n",
       "      <th>2</th>\n",
       "      <td>0.93</td>\n",
       "      <td>-0.727091</td>\n",
       "      <td>0.650156</td>\n",
       "      <td>0.035375</td>\n",
       "      <td>-0.372226</td>\n",
       "      <td>-0.768495</td>\n",
       "      <td>-0.688181</td>\n",
       "      <td>0</td>\n",
       "      <td>13</td>\n",
       "      <td>1</td>\n",
       "      <td>0</td>\n",
       "    </tr>\n",
       "    <tr>\n",
       "      <th>3</th>\n",
       "      <td>1.08</td>\n",
       "      <td>-0.628477</td>\n",
       "      <td>0.466989</td>\n",
       "      <td>-0.109835</td>\n",
       "      <td>-0.507188</td>\n",
       "      <td>-0.712352</td>\n",
       "      <td>-0.688181</td>\n",
       "      <td>0</td>\n",
       "      <td>6</td>\n",
       "      <td>1</td>\n",
       "      <td>0</td>\n",
       "    </tr>\n",
       "    <tr>\n",
       "      <th>4</th>\n",
       "      <td>1.28</td>\n",
       "      <td>-0.680097</td>\n",
       "      <td>0.258097</td>\n",
       "      <td>-0.099145</td>\n",
       "      <td>-0.486987</td>\n",
       "      <td>-0.624897</td>\n",
       "      <td>-0.688181</td>\n",
       "      <td>0</td>\n",
       "      <td>29</td>\n",
       "      <td>1</td>\n",
       "      <td>0</td>\n",
       "    </tr>\n",
       "    <tr>\n",
       "      <th>...</th>\n",
       "      <td>...</td>\n",
       "      <td>...</td>\n",
       "      <td>...</td>\n",
       "      <td>...</td>\n",
       "      <td>...</td>\n",
       "      <td>...</td>\n",
       "      <td>...</td>\n",
       "      <td>...</td>\n",
       "      <td>...</td>\n",
       "      <td>...</td>\n",
       "      <td>...</td>\n",
       "    </tr>\n",
       "    <tr>\n",
       "      <th>17777</th>\n",
       "      <td>1.63</td>\n",
       "      <td>-0.458796</td>\n",
       "      <td>-0.923266</td>\n",
       "      <td>-1.225582</td>\n",
       "      <td>-0.175213</td>\n",
       "      <td>-0.438299</td>\n",
       "      <td>-0.688181</td>\n",
       "      <td>53</td>\n",
       "      <td>4</td>\n",
       "      <td>0</td>\n",
       "      <td>1</td>\n",
       "    </tr>\n",
       "    <tr>\n",
       "      <th>17778</th>\n",
       "      <td>1.71</td>\n",
       "      <td>-0.613983</td>\n",
       "      <td>-0.671633</td>\n",
       "      <td>-1.225582</td>\n",
       "      <td>-0.330168</td>\n",
       "      <td>-0.508192</td>\n",
       "      <td>-0.688181</td>\n",
       "      <td>53</td>\n",
       "      <td>28</td>\n",
       "      <td>0</td>\n",
       "      <td>1</td>\n",
       "    </tr>\n",
       "    <tr>\n",
       "      <th>17779</th>\n",
       "      <td>1.87</td>\n",
       "      <td>-0.613931</td>\n",
       "      <td>-0.778430</td>\n",
       "      <td>0.456238</td>\n",
       "      <td>-0.312125</td>\n",
       "      <td>-0.948869</td>\n",
       "      <td>-0.688181</td>\n",
       "      <td>53</td>\n",
       "      <td>21</td>\n",
       "      <td>0</td>\n",
       "      <td>1</td>\n",
       "    </tr>\n",
       "    <tr>\n",
       "      <th>17780</th>\n",
       "      <td>1.93</td>\n",
       "      <td>-0.543343</td>\n",
       "      <td>-0.716793</td>\n",
       "      <td>0.455928</td>\n",
       "      <td>-0.249325</td>\n",
       "      <td>-0.916472</td>\n",
       "      <td>-0.688181</td>\n",
       "      <td>53</td>\n",
       "      <td>14</td>\n",
       "      <td>0</td>\n",
       "      <td>1</td>\n",
       "    </tr>\n",
       "    <tr>\n",
       "      <th>17781</th>\n",
       "      <td>1.62</td>\n",
       "      <td>-0.356812</td>\n",
       "      <td>-0.790999</td>\n",
       "      <td>0.169130</td>\n",
       "      <td>-0.210968</td>\n",
       "      <td>-1.039535</td>\n",
       "      <td>-0.688181</td>\n",
       "      <td>53</td>\n",
       "      <td>7</td>\n",
       "      <td>0</td>\n",
       "      <td>1</td>\n",
       "    </tr>\n",
       "  </tbody>\n",
       "</table>\n",
       "<p>17782 rows × 11 columns</p>\n",
       "</div>"
      ],
      "text/plain": [
       "       AveragePrice      4046      4225      4770  Small Bags  Large Bags  \\\n",
       "0              1.33 -0.653168  0.348247 -0.211458   -0.345468   -0.789832   \n",
       "1              1.35 -0.772216  0.265547 -0.163999   -0.309714   -0.780450   \n",
       "2              0.93 -0.727091  0.650156  0.035375   -0.372226   -0.768495   \n",
       "3              1.08 -0.628477  0.466989 -0.109835   -0.507188   -0.712352   \n",
       "4              1.28 -0.680097  0.258097 -0.099145   -0.486987   -0.624897   \n",
       "...             ...       ...       ...       ...         ...         ...   \n",
       "17777          1.63 -0.458796 -0.923266 -1.225582   -0.175213   -0.438299   \n",
       "17778          1.71 -0.613983 -0.671633 -1.225582   -0.330168   -0.508192   \n",
       "17779          1.87 -0.613931 -0.778430  0.456238   -0.312125   -0.948869   \n",
       "17780          1.93 -0.543343 -0.716793  0.455928   -0.249325   -0.916472   \n",
       "17781          1.62 -0.356812 -0.790999  0.169130   -0.210968   -1.039535   \n",
       "\n",
       "       XLarge Bags  region  Day  type_conventional  type_organic  \n",
       "0        -0.688181       0   27                  1             0  \n",
       "1        -0.688181       0   20                  1             0  \n",
       "2        -0.688181       0   13                  1             0  \n",
       "3        -0.688181       0    6                  1             0  \n",
       "4        -0.688181       0   29                  1             0  \n",
       "...            ...     ...  ...                ...           ...  \n",
       "17777    -0.688181      53    4                  0             1  \n",
       "17778    -0.688181      53   28                  0             1  \n",
       "17779    -0.688181      53   21                  0             1  \n",
       "17780    -0.688181      53   14                  0             1  \n",
       "17781    -0.688181      53    7                  0             1  \n",
       "\n",
       "[17782 rows x 11 columns]"
      ]
     },
     "execution_count": 227,
     "metadata": {},
     "output_type": "execute_result"
    }
   ],
   "source": [
    "x_df"
   ]
  },
  {
   "cell_type": "code",
   "execution_count": 229,
   "id": "f986e0af",
   "metadata": {},
   "outputs": [],
   "source": [
    "x_scaled = scaler.fit_transform(x_df)"
   ]
  },
  {
   "cell_type": "markdown",
   "id": "8c83c44a",
   "metadata": {},
   "source": [
    "# Model Building:"
   ]
  },
  {
   "cell_type": "code",
   "execution_count": 295,
   "id": "edf2f382",
   "metadata": {},
   "outputs": [],
   "source": [
    "from sklearn.ensemble import AdaBoostClassifier, RandomForestClassifier\n",
    "from sklearn.model_selection import train_test_split\n",
    "from sklearn.metrics import accuracy_score, confusion_matrix, roc_curve, roc_auc_score\n",
    "from sklearn.metrics import classification_report\n",
    "from sklearn.metrics import plot_roc_curve\n",
    "from sklearn.model_selection import train_test_split\n",
    "from sklearn.metrics import accuracy_score\n",
    "from sklearn.tree import DecisionTreeClassifier\n",
    "from sklearn.neighbors import KNeighborsClassifier\n",
    "from sklearn.model_selection import cross_val_score \n",
    "from sklearn.metrics import auc"
   ]
  },
  {
   "cell_type": "code",
   "execution_count": 296,
   "id": "b024dce9",
   "metadata": {},
   "outputs": [],
   "source": [
    "x_train,x_test,y_train,y_test  =train_test_split(x_scaled,y,test_size=.22,random_state=27)"
   ]
  },
  {
   "cell_type": "code",
   "execution_count": 297,
   "id": "fe2d4f41",
   "metadata": {},
   "outputs": [],
   "source": [
    "dtc = DecisionTreeClassifier()\n",
    "rf = RandomForestClassifier()\n",
    "ab = AdaBoostClassifier()\n",
    "knn = KNeighborsClassifier()\n",
    "lr = LogisticRegression()"
   ]
  },
  {
   "cell_type": "code",
   "execution_count": 298,
   "id": "4b7af0fe",
   "metadata": {},
   "outputs": [],
   "source": [
    "models = [dtc,rf,ab,knn,lr]"
   ]
  },
  {
   "cell_type": "code",
   "execution_count": 299,
   "id": "6ab1515a",
   "metadata": {},
   "outputs": [],
   "source": [
    "Model = []\n",
    "score = []\n",
    "cvs = []\n",
    "rocscore = []"
   ]
  },
  {
   "cell_type": "markdown",
   "id": "4edbc02b",
   "metadata": {},
   "source": [
    "## DecisionTreeClassifier()"
   ]
  },
  {
   "cell_type": "code",
   "execution_count": 301,
   "id": "ca1b6cf6",
   "metadata": {},
   "outputs": [
    {
     "name": "stdout",
     "output_type": "stream",
     "text": [
      "****************** DecisionTreeClassifier() *********************\n",
      "\n",
      "\n",
      "DecisionTreeClassifier()\n",
      "\n",
      "\n",
      "Accuracy score:  1.0\n",
      "\n",
      "\n",
      "cross val score:  1.0\n",
      "\n",
      "\n",
      "roc auc score:  0.02456232035536976\n",
      "\n",
      "\n",
      "classification report:                precision    recall  f1-score   support\n",
      "\n",
      "           0       1.00      1.00      1.00        94\n",
      "           1       1.00      1.00      1.00        86\n",
      "           2       1.00      1.00      1.00        73\n",
      "           3       1.00      1.00      1.00        69\n",
      "           4       1.00      1.00      1.00        92\n",
      "           5       1.00      1.00      1.00        76\n",
      "           6       1.00      1.00      1.00        61\n",
      "           7       1.00      1.00      1.00        79\n",
      "           8       1.00      1.00      1.00        74\n",
      "           9       1.00      1.00      1.00        63\n",
      "          10       1.00      1.00      1.00        70\n",
      "          11       1.00      1.00      1.00        72\n",
      "          12       1.00      1.00      1.00        80\n",
      "          13       1.00      1.00      1.00        75\n",
      "          14       1.00      1.00      1.00        82\n",
      "          15       1.00      1.00      1.00        64\n",
      "          16       1.00      1.00      1.00        83\n",
      "          17       1.00      1.00      1.00        73\n",
      "          18       1.00      1.00      1.00        64\n",
      "          19       1.00      1.00      1.00        88\n",
      "          20       1.00      1.00      1.00        77\n",
      "          21       1.00      1.00      1.00        69\n",
      "          22       1.00      1.00      1.00        66\n",
      "          23       1.00      1.00      1.00        75\n",
      "          24       1.00      1.00      1.00        78\n",
      "          25       1.00      1.00      1.00        75\n",
      "          26       1.00      1.00      1.00        72\n",
      "          27       1.00      1.00      1.00        68\n",
      "          28       1.00      1.00      1.00        84\n",
      "          29       1.00      1.00      1.00        66\n",
      "          30       1.00      1.00      1.00        74\n",
      "          31       1.00      1.00      1.00        59\n",
      "          32       1.00      1.00      1.00        64\n",
      "          33       1.00      1.00      1.00        76\n",
      "          34       1.00      1.00      1.00        81\n",
      "          35       1.00      1.00      1.00        77\n",
      "          36       1.00      1.00      1.00        65\n",
      "          37       1.00      1.00      1.00        66\n",
      "          38       1.00      1.00      1.00        71\n",
      "          39       1.00      1.00      1.00        66\n",
      "          40       1.00      1.00      1.00        67\n",
      "          41       1.00      1.00      1.00        83\n",
      "          42       1.00      1.00      1.00        78\n",
      "          43       1.00      1.00      1.00        79\n",
      "          44       1.00      1.00      1.00        76\n",
      "          45       1.00      1.00      1.00        63\n",
      "          46       1.00      1.00      1.00        70\n",
      "          47       1.00      1.00      1.00        78\n",
      "          48       1.00      1.00      1.00        60\n",
      "          49       1.00      1.00      1.00        77\n",
      "          50       1.00      1.00      1.00        61\n",
      "          51       1.00      1.00      1.00        37\n",
      "          52       1.00      1.00      1.00        57\n",
      "          53       1.00      1.00      1.00        80\n",
      "\n",
      "    accuracy                           1.00      3913\n",
      "   macro avg       1.00      1.00      1.00      3913\n",
      "weighted avg       1.00      1.00      1.00      3913\n",
      "\n",
      "\n",
      "\n",
      "[[94  0  0 ...  0  0  0]\n",
      " [ 0 86  0 ...  0  0  0]\n",
      " [ 0  0 73 ...  0  0  0]\n",
      " ...\n",
      " [ 0  0  0 ... 37  0  0]\n",
      " [ 0  0  0 ...  0 57  0]\n",
      " [ 0  0  0 ...  0  0 80]]\n",
      "\n",
      "\n",
      "****************** RandomForestClassifier() *********************\n",
      "\n",
      "\n",
      "RandomForestClassifier()\n",
      "\n",
      "\n",
      "Accuracy score:  0.9959110656785075\n",
      "\n",
      "\n",
      "cross val score:  0.9880769014328521\n",
      "\n",
      "\n",
      "roc auc score:  0.02456232035536976\n",
      "\n",
      "\n",
      "classification report:                precision    recall  f1-score   support\n",
      "\n",
      "           0       1.00      1.00      1.00        94\n",
      "           1       1.00      1.00      1.00        86\n",
      "           2       1.00      1.00      1.00        73\n",
      "           3       1.00      1.00      1.00        69\n",
      "           4       1.00      1.00      1.00        92\n",
      "           5       1.00      1.00      1.00        76\n",
      "           6       0.98      1.00      0.99        61\n",
      "           7       1.00      1.00      1.00        79\n",
      "           8       1.00      1.00      1.00        74\n",
      "           9       1.00      1.00      1.00        63\n",
      "          10       1.00      1.00      1.00        70\n",
      "          11       1.00      1.00      1.00        72\n",
      "          12       0.99      1.00      0.99        80\n",
      "          13       1.00      0.99      0.99        75\n",
      "          14       1.00      1.00      1.00        82\n",
      "          15       0.98      0.98      0.98        64\n",
      "          16       0.99      0.99      0.99        83\n",
      "          17       0.99      0.97      0.98        73\n",
      "          18       0.98      1.00      0.99        64\n",
      "          19       0.98      1.00      0.99        88\n",
      "          20       1.00      0.94      0.97        77\n",
      "          21       0.99      1.00      0.99        69\n",
      "          22       1.00      1.00      1.00        66\n",
      "          23       1.00      1.00      1.00        75\n",
      "          24       0.97      1.00      0.99        78\n",
      "          25       1.00      1.00      1.00        75\n",
      "          26       1.00      1.00      1.00        72\n",
      "          27       1.00      1.00      1.00        68\n",
      "          28       1.00      1.00      1.00        84\n",
      "          29       1.00      1.00      1.00        66\n",
      "          30       1.00      1.00      1.00        74\n",
      "          31       0.97      0.97      0.97        59\n",
      "          32       1.00      1.00      1.00        64\n",
      "          33       1.00      1.00      1.00        76\n",
      "          34       1.00      1.00      1.00        81\n",
      "          35       1.00      1.00      1.00        77\n",
      "          36       1.00      1.00      1.00        65\n",
      "          37       1.00      1.00      1.00        66\n",
      "          38       1.00      1.00      1.00        71\n",
      "          39       1.00      1.00      1.00        66\n",
      "          40       1.00      1.00      1.00        67\n",
      "          41       0.99      1.00      0.99        83\n",
      "          42       1.00      1.00      1.00        78\n",
      "          43       1.00      0.96      0.98        79\n",
      "          44       1.00      1.00      1.00        76\n",
      "          45       1.00      1.00      1.00        63\n",
      "          46       0.97      1.00      0.99        70\n",
      "          47       1.00      1.00      1.00        78\n",
      "          48       1.00      0.98      0.99        60\n",
      "          49       1.00      1.00      1.00        77\n",
      "          50       1.00      1.00      1.00        61\n",
      "          51       1.00      1.00      1.00        37\n",
      "          52       1.00      1.00      1.00        57\n",
      "          53       1.00      1.00      1.00        80\n",
      "\n",
      "    accuracy                           1.00      3913\n",
      "   macro avg       1.00      1.00      1.00      3913\n",
      "weighted avg       1.00      1.00      1.00      3913\n",
      "\n",
      "\n",
      "\n",
      "[[94  0  0 ...  0  0  0]\n",
      " [ 0 86  0 ...  0  0  0]\n",
      " [ 0  0 73 ...  0  0  0]\n",
      " ...\n",
      " [ 0  0  0 ... 37  0  0]\n",
      " [ 0  0  0 ...  0 57  0]\n",
      " [ 0  0  0 ...  0  0 80]]\n",
      "\n",
      "\n",
      "****************** AdaBoostClassifier() *********************\n",
      "\n",
      "\n",
      "AdaBoostClassifier()\n",
      "\n",
      "\n",
      "Accuracy score:  0.2412471249680552\n",
      "\n",
      "\n",
      "cross val score:  0.13806384446463588\n",
      "\n",
      "\n",
      "roc auc score:  0.043114711262085215\n",
      "\n",
      "\n",
      "classification report:                precision    recall  f1-score   support\n",
      "\n",
      "           0       1.00      1.00      1.00        94\n",
      "           1       0.00      0.00      0.00        86\n",
      "           2       0.00      0.00      0.00        73\n",
      "           3       0.30      1.00      0.46        69\n",
      "           4       0.00      0.00      0.00        92\n",
      "           5       0.00      0.00      0.00        76\n",
      "           6       0.00      0.00      0.00        61\n",
      "           7       0.00      0.00      0.00        79\n",
      "           8       0.00      0.00      0.00        74\n",
      "           9       0.08      1.00      0.16        63\n",
      "          10       0.00      0.00      0.00        70\n",
      "          11       0.00      0.00      0.00        72\n",
      "          12       0.00      0.00      0.00        80\n",
      "          13       0.00      0.00      0.00        75\n",
      "          14       1.00      1.00      1.00        82\n",
      "          15       1.00      1.00      1.00        64\n",
      "          16       0.00      0.00      0.00        83\n",
      "          17       0.00      0.00      0.00        73\n",
      "          18       0.00      0.00      0.00        64\n",
      "          19       0.00      0.00      0.00        88\n",
      "          20       0.00      0.00      0.00        77\n",
      "          21       0.00      0.00      0.00        69\n",
      "          22       0.00      0.00      0.00        66\n",
      "          23       0.00      0.00      0.00        75\n",
      "          24       0.00      0.00      0.00        78\n",
      "          25       0.00      0.00      0.00        75\n",
      "          26       0.00      0.00      0.00        72\n",
      "          27       0.00      0.00      0.00        68\n",
      "          28       0.00      0.00      0.00        84\n",
      "          29       0.00      0.00      0.00        66\n",
      "          30       0.00      0.00      0.00        74\n",
      "          31       0.03      1.00      0.05        59\n",
      "          32       0.00      0.00      0.00        64\n",
      "          33       0.00      0.00      0.00        76\n",
      "          34       0.00      0.00      0.00        81\n",
      "          35       0.00      0.00      0.00        77\n",
      "          36       0.00      0.00      0.00        65\n",
      "          37       0.00      0.00      0.00        66\n",
      "          38       0.00      0.00      0.00        71\n",
      "          39       0.00      0.00      0.00        66\n",
      "          40       0.00      0.00      0.00        67\n",
      "          41       0.00      0.00      0.00        83\n",
      "          42       0.00      0.00      0.00        78\n",
      "          43       0.00      0.00      0.00        79\n",
      "          44       0.00      0.00      0.00        76\n",
      "          45       1.00      1.00      1.00        63\n",
      "          46       0.00      0.00      0.00        70\n",
      "          47       0.53      1.00      0.69        78\n",
      "          48       1.00      1.00      1.00        60\n",
      "          49       1.00      1.00      1.00        77\n",
      "          50       1.00      1.00      1.00        61\n",
      "          51       1.00      1.00      1.00        37\n",
      "          52       1.00      1.00      1.00        57\n",
      "          53       1.00      1.00      1.00        80\n",
      "\n",
      "    accuracy                           0.24      3913\n",
      "   macro avg       0.20      0.26      0.21      3913\n",
      "weighted avg       0.19      0.24      0.20      3913\n",
      "\n",
      "\n",
      "\n",
      "[[94  0  0 ...  0  0  0]\n",
      " [ 0  0  0 ...  0  0  0]\n",
      " [ 0  0  0 ...  0  0  0]\n",
      " ...\n",
      " [ 0  0  0 ... 37  0  0]\n",
      " [ 0  0  0 ...  0 57  0]\n",
      " [ 0  0  0 ...  0  0 80]]\n",
      "\n",
      "\n",
      "****************** KNeighborsClassifier() *********************\n",
      "\n",
      "\n",
      "KNeighborsClassifier()\n",
      "\n",
      "\n",
      "Accuracy score:  0.8913876820853565\n",
      "\n",
      "\n",
      "cross val score:  0.8282456366647255\n",
      "\n",
      "\n",
      "roc auc score:  0.03230109199628102\n",
      "\n",
      "\n",
      "classification report:                precision    recall  f1-score   support\n",
      "\n",
      "           0       0.92      0.95      0.93        94\n",
      "           1       0.98      0.95      0.96        86\n",
      "           2       0.92      0.99      0.95        73\n",
      "           3       0.88      0.97      0.92        69\n",
      "           4       0.99      0.93      0.96        92\n",
      "           5       0.89      0.86      0.87        76\n",
      "           6       0.98      1.00      0.99        61\n",
      "           7       0.91      0.94      0.92        79\n",
      "           8       0.97      0.93      0.95        74\n",
      "           9       0.61      0.84      0.71        63\n",
      "          10       0.84      0.73      0.78        70\n",
      "          11       0.88      0.97      0.92        72\n",
      "          12       0.97      0.97      0.97        80\n",
      "          13       0.85      0.67      0.75        75\n",
      "          14       0.92      0.93      0.92        82\n",
      "          15       0.95      0.98      0.97        64\n",
      "          16       0.96      0.95      0.96        83\n",
      "          17       0.81      0.90      0.86        73\n",
      "          18       0.90      0.84      0.87        64\n",
      "          19       0.88      0.93      0.91        88\n",
      "          20       0.91      0.79      0.85        77\n",
      "          21       0.95      0.87      0.91        69\n",
      "          22       0.97      0.95      0.96        66\n",
      "          23       0.95      0.97      0.96        75\n",
      "          24       0.86      0.71      0.77        78\n",
      "          25       0.96      0.96      0.96        75\n",
      "          26       0.95      0.85      0.90        72\n",
      "          27       0.75      0.87      0.80        68\n",
      "          28       0.96      0.92      0.94        84\n",
      "          29       0.88      0.92      0.90        66\n",
      "          30       0.97      0.99      0.98        74\n",
      "          31       0.75      0.81      0.78        59\n",
      "          32       0.93      0.86      0.89        64\n",
      "          33       0.88      0.93      0.90        76\n",
      "          34       0.97      0.95      0.96        81\n",
      "          35       0.99      1.00      0.99        77\n",
      "          36       0.81      0.72      0.76        65\n",
      "          37       0.68      0.88      0.77        66\n",
      "          38       0.76      0.68      0.72        71\n",
      "          39       0.89      0.95      0.92        66\n",
      "          40       0.66      0.93      0.77        67\n",
      "          41       0.76      0.75      0.75        83\n",
      "          42       0.94      0.82      0.88        78\n",
      "          43       0.95      0.77      0.85        79\n",
      "          44       0.92      0.91      0.91        76\n",
      "          45       0.98      0.92      0.95        63\n",
      "          46       0.83      0.99      0.90        70\n",
      "          47       0.85      0.85      0.85        78\n",
      "          48       0.83      0.75      0.79        60\n",
      "          49       0.97      0.94      0.95        77\n",
      "          50       0.83      0.85      0.84        61\n",
      "          51       1.00      1.00      1.00        37\n",
      "          52       1.00      0.93      0.96        57\n",
      "          53       1.00      0.90      0.95        80\n",
      "\n",
      "    accuracy                           0.89      3913\n",
      "   macro avg       0.89      0.89      0.89      3913\n",
      "weighted avg       0.90      0.89      0.89      3913\n",
      "\n",
      "\n",
      "\n",
      "[[89  0  0 ...  0  0  0]\n",
      " [ 0 82  0 ...  0  0  0]\n",
      " [ 0  0 72 ...  0  0  0]\n",
      " ...\n",
      " [ 0  0  0 ... 37  0  0]\n",
      " [ 0  0  0 ...  0 53  0]\n",
      " [ 0  0  0 ...  0  0 72]]\n",
      "\n",
      "\n",
      "****************** LogisticRegression() *********************\n",
      "\n",
      "\n",
      "LogisticRegression()\n",
      "\n",
      "\n",
      "Accuracy score:  0.8144646051622796\n",
      "\n",
      "\n",
      "cross val score:  0.7545738275127075\n",
      "\n",
      "\n",
      "roc auc score:  0.026812245914888694\n",
      "\n",
      "\n",
      "classification report:                precision    recall  f1-score   support\n",
      "\n",
      "           0       0.92      0.98      0.95        94\n",
      "           1       1.00      0.98      0.99        86\n",
      "           2       0.96      0.95      0.95        73\n",
      "           3       0.89      0.90      0.89        69\n",
      "           4       0.87      0.91      0.89        92\n",
      "           5       0.92      0.75      0.83        76\n",
      "           6       1.00      1.00      1.00        61\n",
      "           7       0.91      0.94      0.92        79\n",
      "           8       0.91      0.91      0.91        74\n",
      "           9       0.63      0.87      0.73        63\n",
      "          10       0.69      0.80      0.74        70\n",
      "          11       0.91      0.96      0.93        72\n",
      "          12       0.86      0.84      0.85        80\n",
      "          13       0.65      0.55      0.59        75\n",
      "          14       0.84      0.78      0.81        82\n",
      "          15       0.98      1.00      0.99        64\n",
      "          16       0.81      0.81      0.81        83\n",
      "          17       0.82      0.92      0.86        73\n",
      "          18       0.75      0.77      0.76        64\n",
      "          19       0.84      0.86      0.85        88\n",
      "          20       0.68      0.70      0.69        77\n",
      "          21       0.84      0.74      0.78        69\n",
      "          22       0.93      0.95      0.94        66\n",
      "          23       0.85      1.00      0.92        75\n",
      "          24       0.53      0.31      0.39        78\n",
      "          25       0.94      0.88      0.91        75\n",
      "          26       0.73      0.44      0.55        72\n",
      "          27       0.55      0.76      0.64        68\n",
      "          28       0.89      0.90      0.90        84\n",
      "          29       0.80      0.85      0.82        66\n",
      "          30       0.88      0.77      0.82        74\n",
      "          31       0.66      0.75      0.70        59\n",
      "          32       0.61      0.73      0.67        64\n",
      "          33       0.81      0.83      0.82        76\n",
      "          34       0.82      0.62      0.70        81\n",
      "          35       0.97      0.87      0.92        77\n",
      "          36       0.73      0.69      0.71        65\n",
      "          37       0.73      0.83      0.78        66\n",
      "          38       0.73      0.72      0.72        71\n",
      "          39       0.83      0.94      0.88        66\n",
      "          40       0.59      0.87      0.70        67\n",
      "          41       0.67      0.52      0.59        83\n",
      "          42       0.88      0.76      0.81        78\n",
      "          43       0.69      0.62      0.65        79\n",
      "          44       0.88      0.91      0.90        76\n",
      "          45       0.94      0.94      0.94        63\n",
      "          46       0.89      0.89      0.89        70\n",
      "          47       0.87      0.78      0.82        78\n",
      "          48       0.55      0.47      0.50        60\n",
      "          49       0.92      0.84      0.88        77\n",
      "          50       0.60      0.77      0.68        61\n",
      "          51       1.00      1.00      1.00        37\n",
      "          52       0.92      0.98      0.95        57\n",
      "          53       0.96      0.99      0.98        80\n",
      "\n",
      "    accuracy                           0.81      3913\n",
      "   macro avg       0.82      0.82      0.81      3913\n",
      "weighted avg       0.82      0.81      0.81      3913\n",
      "\n",
      "\n",
      "\n",
      "[[92  0  0 ...  0  0  0]\n",
      " [ 0 84  1 ...  0  0  0]\n",
      " [ 0  0 69 ...  0  0  0]\n",
      " ...\n",
      " [ 0  0  0 ... 37  0  0]\n",
      " [ 0  0  0 ...  0 56  0]\n",
      " [ 0  0  0 ...  0  0 79]]\n",
      "\n",
      "\n"
     ]
    }
   ],
   "source": [
    "for model in models:\n",
    "    print ('******************', model , '*********************')\n",
    "    print (\"\\n\")\n",
    "    \n",
    "    \n",
    "    \n",
    "    \n",
    "    Model.append(model)\n",
    "    model.fit (x_train, y_train)\n",
    "    print (model)\n",
    "    \n",
    "    pre = model.predict(x_test)\n",
    "    print ('\\n')\n",
    "    \n",
    "    AS = accuracy_score(y_test, pre)\n",
    "    print (\"Accuracy score: \", AS)\n",
    "    score.append (AS*100)\n",
    "    print ('\\n')\n",
    "    \n",
    "    sc = cross_val_score(model, x_scaled, y, cv =10, scoring='accuracy').mean()\n",
    "    print (\"cross val score: \", sc)    \n",
    "    cvs.append(sc*100)\n",
    "    print ('\\n')\n",
    "    \n",
    "    fpr, tpr, thresholds = roc_curve(y_test, pre, pos_label=1)\n",
    "    roc_auc = auc(fpr, tpr)\n",
    "    print (\"roc auc score: \", roc_auc)\n",
    "    rocscore.append(roc_auc * 100)\n",
    "    print ('\\n')\n",
    "    \n",
    "    print (\"classification report: \", classification_report (y_test, pre) )\n",
    "    print ('\\n')\n",
    "    \n",
    "    cm = confusion_matrix(y_test, pre)\n",
    "    print (cm)\n",
    "    print ('\\n')"
   ]
  },
  {
   "cell_type": "markdown",
   "id": "be0649dc",
   "metadata": {},
   "source": [
    "# RandomForestClassifier is best model for this Dataset"
   ]
  },
  {
   "cell_type": "markdown",
   "id": "91a81800",
   "metadata": {},
   "source": [
    "# Hyper Parameter Tuning:"
   ]
  },
  {
   "cell_type": "markdown",
   "id": "5fbfbea2",
   "metadata": {},
   "source": [
    "#### RandomForestClassifier"
   ]
  },
  {
   "cell_type": "code",
   "execution_count": 307,
   "id": "f3462582",
   "metadata": {},
   "outputs": [],
   "source": [
    "parameters = { 'n_estimators': [100,200,300,500,1000], 'criterion': ['gini', 'entropy'], 'max_features':\n",
    "              ['auto', 'sqrt', 'log2']}"
   ]
  },
  {
   "cell_type": "code",
   "execution_count": 309,
   "id": "e33bd738",
   "metadata": {},
   "outputs": [],
   "source": [
    "GridCV = GridSearchCV(estimator = rf, param_grid = parameters, cv=2)"
   ]
  },
  {
   "cell_type": "code",
   "execution_count": 311,
   "id": "d5042455",
   "metadata": {},
   "outputs": [
    {
     "data": {
      "text/plain": [
       "GridSearchCV(cv=2, estimator=RandomForestClassifier(),\n",
       "             param_grid={'criterion': ['gini', 'entropy'],\n",
       "                         'max_features': ['auto', 'sqrt', 'log2'],\n",
       "                         'n_estimators': [100, 200, 300, 500, 1000]})"
      ]
     },
     "execution_count": 311,
     "metadata": {},
     "output_type": "execute_result"
    }
   ],
   "source": [
    "GridCV.fit(x_scaled,y)"
   ]
  },
  {
   "cell_type": "code",
   "execution_count": 312,
   "id": "069a71bd",
   "metadata": {},
   "outputs": [
    {
     "data": {
      "text/plain": [
       "{'criterion': 'entropy', 'max_features': 'auto', 'n_estimators': 100}"
      ]
     },
     "execution_count": 312,
     "metadata": {},
     "output_type": "execute_result"
    }
   ],
   "source": [
    "GridCV.best_params_"
   ]
  },
  {
   "cell_type": "code",
   "execution_count": 313,
   "id": "7fecb8a2",
   "metadata": {},
   "outputs": [
    {
     "name": "stdout",
     "output_type": "stream",
     "text": [
      "[20 10  5 ... 36 50 12]\n"
     ]
    }
   ],
   "source": [
    "x_train, x_test, y_train, y_test = train_test_split(x_scaled, y, random_state=79, test_size = 0.20)\n",
    "rf = RandomForestClassifier(criterion= 'gini', max_features='log2', n_estimators= 100)\n",
    "rf.fit(x_train, y_train)\n",
    "y_pred =  rf.predict(x_test)\n",
    "print (y_pred)"
   ]
  },
  {
   "cell_type": "code",
   "execution_count": 314,
   "id": "24842fd8",
   "metadata": {},
   "outputs": [
    {
     "name": "stdout",
     "output_type": "stream",
     "text": [
      "accuracy score:  0.9966263705369693\n",
      "Classification Report : \n",
      "               precision    recall  f1-score   support\n",
      "\n",
      "           0       1.00      1.00      1.00        74\n",
      "           1       1.00      1.00      1.00        57\n",
      "           2       1.00      1.00      1.00        79\n",
      "           3       1.00      1.00      1.00        69\n",
      "           4       1.00      1.00      1.00        74\n",
      "           5       1.00      1.00      1.00        76\n",
      "           6       1.00      1.00      1.00        51\n",
      "           7       0.99      1.00      0.99        76\n",
      "           8       1.00      1.00      1.00        75\n",
      "           9       1.00      0.99      0.99        68\n",
      "          10       1.00      1.00      1.00        62\n",
      "          11       1.00      1.00      1.00        71\n",
      "          12       1.00      1.00      1.00        72\n",
      "          13       1.00      1.00      1.00        75\n",
      "          14       0.99      1.00      0.99        76\n",
      "          15       1.00      1.00      1.00        52\n",
      "          16       1.00      0.98      0.99        62\n",
      "          17       1.00      1.00      1.00        65\n",
      "          18       0.98      1.00      0.99        65\n",
      "          19       1.00      1.00      1.00        56\n",
      "          20       1.00      1.00      1.00        64\n",
      "          21       0.98      1.00      0.99        63\n",
      "          22       1.00      1.00      1.00        72\n",
      "          23       1.00      1.00      1.00        66\n",
      "          24       0.98      0.98      0.98        60\n",
      "          25       1.00      1.00      1.00        55\n",
      "          26       1.00      0.99      0.99        67\n",
      "          27       1.00      0.99      0.99        67\n",
      "          28       1.00      1.00      1.00        65\n",
      "          29       1.00      1.00      1.00        77\n",
      "          30       1.00      1.00      1.00        61\n",
      "          31       1.00      1.00      1.00        75\n",
      "          32       1.00      0.98      0.99        66\n",
      "          33       0.98      1.00      0.99        57\n",
      "          34       1.00      0.99      0.99        70\n",
      "          35       1.00      1.00      1.00        63\n",
      "          36       1.00      1.00      1.00        58\n",
      "          37       1.00      1.00      1.00        54\n",
      "          38       0.98      1.00      0.99        64\n",
      "          39       1.00      0.98      0.99        64\n",
      "          40       1.00      1.00      1.00        66\n",
      "          41       0.97      1.00      0.99        71\n",
      "          42       1.00      1.00      1.00        80\n",
      "          43       1.00      0.97      0.99        80\n",
      "          44       1.00      1.00      1.00        58\n",
      "          45       1.00      1.00      1.00        57\n",
      "          46       1.00      1.00      1.00        66\n",
      "          47       0.97      0.99      0.98        70\n",
      "          48       0.99      0.99      0.99        72\n",
      "          49       1.00      1.00      1.00        65\n",
      "          50       1.00      1.00      1.00        66\n",
      "          51       1.00      1.00      1.00        32\n",
      "          52       1.00      1.00      1.00        63\n",
      "          53       1.00      1.00      1.00        68\n",
      "\n",
      "    accuracy                           1.00      3557\n",
      "   macro avg       1.00      1.00      1.00      3557\n",
      "weighted avg       1.00      1.00      1.00      3557\n",
      "\n",
      "Confusion_matrix:  [[74  0  0 ...  0  0  0]\n",
      " [ 0 57  0 ...  0  0  0]\n",
      " [ 0  0 79 ...  0  0  0]\n",
      " ...\n",
      " [ 0  0  0 ... 32  0  0]\n",
      " [ 0  0  0 ...  0 63  0]\n",
      " [ 0  0  0 ...  0  0 68]]\n"
     ]
    }
   ],
   "source": [
    "print (\"accuracy score: \", accuracy_score(y_test, y_pred))\n",
    "print (\"Classification Report : \\n\", classification_report (y_test, y_pred))\n",
    "print (\"Confusion_matrix: \", confusion_matrix(y_test, y_pred))\n",
    "cm = confusion_matrix(y_test, y_pred)"
   ]
  },
  {
   "cell_type": "markdown",
   "id": "23c3af6e",
   "metadata": {},
   "source": [
    "# saving"
   ]
  },
  {
   "cell_type": "code",
   "execution_count": 323,
   "id": "b20d3ced",
   "metadata": {},
   "outputs": [
    {
     "data": {
      "text/plain": [
       "['ADS_projectavocado.pkl']"
      ]
     },
     "execution_count": 323,
     "metadata": {},
     "output_type": "execute_result"
    }
   ],
   "source": [
    "import joblib\n",
    "joblib.dump(rf, 'ADS_projectavocado.pkl')"
   ]
  },
  {
   "cell_type": "code",
   "execution_count": null,
   "id": "1330a0be",
   "metadata": {},
   "outputs": [],
   "source": []
  }
 ],
 "metadata": {
  "kernelspec": {
   "display_name": "Python 3",
   "language": "python",
   "name": "python3"
  },
  "language_info": {
   "codemirror_mode": {
    "name": "ipython",
    "version": 3
   },
   "file_extension": ".py",
   "mimetype": "text/x-python",
   "name": "python",
   "nbconvert_exporter": "python",
   "pygments_lexer": "ipython3",
   "version": "3.8.8"
  }
 },
 "nbformat": 4,
 "nbformat_minor": 5
}
